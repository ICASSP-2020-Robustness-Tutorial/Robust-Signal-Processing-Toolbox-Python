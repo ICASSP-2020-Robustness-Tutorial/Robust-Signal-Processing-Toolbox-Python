{
 "cells": [
  {
   "cell_type": "code",
   "execution_count": null,
   "metadata": {},
   "outputs": [],
   "source": [
    "% fix seed of random number generator for reproducibility\n",
    "rng(2);\n",
    "% number of measurements\n",
    "N = 10;    \n",
    "% DC voltage in AWGN\n",
    "x_N_minus1 = randn(N-1,1); \n",
    "x_N_minus2 = x_N_minus1+5"
   ]
  },
  {
   "cell_type": "code",
   "execution_count": null,
   "metadata": {},
   "outputs": [],
   "source": [
    "1/3"
   ]
  },
  {
   "cell_type": "code",
   "execution_count": null,
   "metadata": {},
   "outputs": [],
   "source": [
    "absx = [3 2 5 6 4 7 8 9]'\n",
    "c = 4\n",
    "d = 1.*(absx<=c)\n",
    "wx = 1.*(absx<=c) + (c*(1./absx)).*(absx>c)\n",
    "wx(absx ==5) =1"
   ]
  },
  {
   "cell_type": "code",
   "execution_count": null,
   "metadata": {},
   "outputs": [],
   "source": [
    "disp(x_N_minus1)"
   ]
  },
  {
   "cell_type": "code",
   "execution_count": null,
   "metadata": {},
   "outputs": [],
   "source": [
    "x_N_minus2"
   ]
  },
  {
   "cell_type": "code",
   "execution_count": null,
   "metadata": {},
   "outputs": [],
   "source": [
    "linspace(0,10,1000)"
   ]
  },
  {
   "cell_type": "code",
   "execution_count": null,
   "metadata": {},
   "outputs": [],
   "source": [
    "% fix seed of random number generator for reproducibility\n",
    "rng(2);\n",
    "% number of measurements\n",
    "N = 10;    \n",
    "% DC voltage in AWGN\n",
    "x_N_minus1 = randn(N-1,1)+5;    \n",
    "% outlier values\n",
    "delta_x = linspace(0,10,1000);\n",
    "\n",
    "% sensitivity curve for mean\n",
    "SC_mean = zeros(size(delta_x));\n",
    "mu_hat = mean(x_N_minus1);\n",
    "for ii = 1:length(delta_x)\n",
    "    SC_mean(ii) = N*(mean([x_N_minus1; delta_x(ii)])-mu_hat);\n",
    "end\n",
    "\n",
    "% sensitivity curve for median\n",
    "SC_med = zeros(size(delta_x));\n",
    "mu_hat = median(x_N_minus1);\n",
    "for ii = 1:length(delta_x)\n",
    "    SC_med(ii) = N*(median([x_N_minus1; delta_x(ii)])-mu_hat);\n",
    "end\n",
    "SC_med"
   ]
  },
  {
   "cell_type": "code",
   "execution_count": null,
   "metadata": {},
   "outputs": [],
   "source": [
    "a=3^2/3"
   ]
  },
  {
   "cell_type": "code",
   "execution_count": 1,
   "metadata": {},
   "outputs": [
    {
     "name": "stderr",
     "output_type": "stream",
     "text": [
      "\u001b[1;31mError: Function definitions are not permitted in this context.\n",
      "\n",
      "\u001b[0m"
     ]
    }
   ],
   "source": [
    "x=[5 2 5 4 2 7 6 8 9 52 1 0]'\n",
    "c=4\n",
    "r1 = (c^2/3) % Tukey \n",
    "r2 = (1-(1-(abs(x)/c).^2).^3).*(abs(x)<=c) \n",
    "r3 = r1*(r2+ (abs(x)>c) )\n"
   ]
  },
  {
   "cell_type": "code",
   "execution_count": null,
   "metadata": {},
   "outputs": [],
   "source": []
  }
 ],
 "metadata": {
  "kernelspec": {
   "display_name": "Matlab",
   "language": "matlab",
   "name": "matlab"
  },
  "language_info": {
   "codemirror_mode": "octave",
   "file_extension": ".m",
   "help_links": [
    {
     "text": "MetaKernel Magics",
     "url": "https://github.com/calysto/metakernel/blob/master/metakernel/magics/README.md"
    }
   ],
   "mimetype": "text/x-octave",
   "name": "matlab",
   "version": "0.16.1"
  }
 },
 "nbformat": 4,
 "nbformat_minor": 2
}
