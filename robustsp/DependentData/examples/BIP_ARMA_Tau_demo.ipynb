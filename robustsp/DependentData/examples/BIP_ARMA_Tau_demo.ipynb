{
 "cells": [
  {
   "cell_type": "markdown",
   "metadata": {},
   "source": [
    "# Examples for Bounded Innovation Propagation (BIP) MM ARMA parameter estimation"
   ]
  },
  {
   "cell_type": "code",
   "execution_count": 1,
   "metadata": {},
   "outputs": [],
   "source": [
    "import numpy as np\n",
    "import scipy.signal as sps\n",
    "import robustsp as rsp\n",
    "import matplotlib.pyplot as plt\n",
    "import matplotlib\n",
    "\n",
    "# Fix random number generator for reproducibility\n",
    "np.random.seed(1) "
   ]
  },
  {
   "cell_type": "markdown",
   "metadata": {
    "toc-hr-collapsed": true
   },
   "source": [
    "## Example 1: AR(1) with 30 percent isolated outliers"
   ]
  },
  {
   "cell_type": "code",
   "execution_count": 2,
   "metadata": {},
   "outputs": [],
   "source": [
    "# Generate AR(1) observations\n",
    "N = 300\n",
    "a = np.random.randn(N)\n",
    "x = sps.lfilter([1],[1,-.8],a)\n",
    "p = 1\n",
    "q = 0"
   ]
  },
  {
   "cell_type": "markdown",
   "metadata": {},
   "source": [
    "### Generate isolated Outliers"
   ]
  },
  {
   "cell_type": "code",
   "execution_count": 3,
   "metadata": {},
   "outputs": [],
   "source": [
    "cont_prob = 0.3 # outlier contamination probability\n",
    "outlier_ind =  np.where(np.sign(np.random.rand(N)-cont_prob)<0)# outlier index\n",
    "outlier = 100*np.random.randn(N) # contaminating process\n",
    "v = np.zeros(N) # additive outlier signal\n",
    "v[outlier_ind] = outlier[outlier_ind]\n",
    "v[0] = 0 # first sample should not be an outlier\n",
    "\n",
    "x_ao = x+v # 30% of isolated additive outliers"
   ]
  },
  {
   "cell_type": "markdown",
   "metadata": {},
   "source": [
    "### BIP MM Estimation"
   ]
  },
  {
   "cell_type": "code",
   "execution_count": 4,
   "metadata": {},
   "outputs": [
    {
     "ename": "TypeError",
     "evalue": "ufunc 'isfinite' not supported for the input types, and the inputs could not be safely coerced to any supported types according to the casting rule ''safe''",
     "output_type": "error",
     "traceback": [
      "\u001b[1;31m---------------------------------------------------------------------------\u001b[0m",
      "\u001b[1;31mTypeError\u001b[0m                                 Traceback (most recent call last)",
      "\u001b[1;32m<ipython-input-4-f1bb2df5272d>\u001b[0m in \u001b[0;36m<module>\u001b[1;34m\u001b[0m\n\u001b[1;32m----> 1\u001b[1;33m \u001b[0mresult\u001b[0m \u001b[1;33m=\u001b[0m \u001b[0mrsp\u001b[0m\u001b[1;33m.\u001b[0m\u001b[0marma_est_bip_tau\u001b[0m\u001b[1;33m(\u001b[0m\u001b[0mx_ao\u001b[0m\u001b[1;33m,\u001b[0m\u001b[0mp\u001b[0m\u001b[1;33m,\u001b[0m\u001b[0mq\u001b[0m\u001b[1;33m)\u001b[0m\u001b[1;33m\u001b[0m\u001b[1;33m\u001b[0m\u001b[0m\n\u001b[0m",
      "\u001b[1;32mc:\\users\\computer\\desktop\\robustsp\\robustsp\\DependentData\\arma_est_bip_tau.py\u001b[0m in \u001b[0;36marma_est_bip_tau\u001b[1;34m(x, p, q)\u001b[0m\n\u001b[0;32m     42\u001b[0m     \u001b[0mF_bip\u001b[0m \u001b[1;33m=\u001b[0m \u001b[1;32mlambda\u001b[0m \u001b[0mbeta\u001b[0m\u001b[1;33m:\u001b[0m \u001b[0mrsp\u001b[0m\u001b[1;33m.\u001b[0m\u001b[0mbip_tau_resid_sc\u001b[0m\u001b[1;33m(\u001b[0m\u001b[0mx\u001b[0m\u001b[1;33m,\u001b[0m\u001b[0mbeta\u001b[0m\u001b[1;33m,\u001b[0m\u001b[0mp\u001b[0m\u001b[1;33m,\u001b[0m\u001b[0mq\u001b[0m\u001b[1;33m)\u001b[0m\u001b[1;33m[\u001b[0m\u001b[1;36m0\u001b[0m\u001b[1;33m]\u001b[0m\u001b[1;33m\u001b[0m\u001b[1;33m\u001b[0m\u001b[0m\n\u001b[0;32m     43\u001b[0m \u001b[1;33m\u001b[0m\u001b[0m\n\u001b[1;32m---> 44\u001b[1;33m     \u001b[0mbeta_arma\u001b[0m \u001b[1;33m=\u001b[0m \u001b[0mlsq\u001b[0m\u001b[1;33m(\u001b[0m\u001b[0mF\u001b[0m\u001b[1;33m,\u001b[0m \u001b[0mbeta_initial\u001b[0m\u001b[1;33m,\u001b[0m\u001b[0mxtol\u001b[0m\u001b[1;33m=\u001b[0m\u001b[1;36m5\u001b[0m\u001b[1;33m*\u001b[0m\u001b[1;36m1e-7\u001b[0m\u001b[1;33m,\u001b[0m\u001b[0mftol\u001b[0m\u001b[1;33m=\u001b[0m\u001b[1;36m5\u001b[0m\u001b[1;33m*\u001b[0m\u001b[1;36m1e-7\u001b[0m\u001b[1;33m,\u001b[0m\u001b[0mmethod\u001b[0m\u001b[1;33m=\u001b[0m\u001b[1;34m'lm'\u001b[0m\u001b[1;33m)\u001b[0m\u001b[1;33m[\u001b[0m\u001b[1;34m'x'\u001b[0m\u001b[1;33m]\u001b[0m\u001b[1;33m\u001b[0m\u001b[1;33m\u001b[0m\u001b[0m\n\u001b[0m\u001b[0;32m     45\u001b[0m \u001b[1;33m\u001b[0m\u001b[0m\n\u001b[0;32m     46\u001b[0m     \u001b[0mbeta_bip\u001b[0m \u001b[1;33m=\u001b[0m \u001b[0mlsq\u001b[0m\u001b[1;33m(\u001b[0m\u001b[0mF_bip\u001b[0m\u001b[1;33m,\u001b[0m \u001b[0mbeta_initial\u001b[0m\u001b[1;33m,\u001b[0m \u001b[0mxtol\u001b[0m\u001b[1;33m=\u001b[0m\u001b[1;36m5\u001b[0m\u001b[1;33m*\u001b[0m\u001b[1;36m1e-7\u001b[0m\u001b[1;33m,\u001b[0m\u001b[0mftol\u001b[0m\u001b[1;33m=\u001b[0m\u001b[1;36m5\u001b[0m\u001b[1;33m*\u001b[0m\u001b[1;36m1e-7\u001b[0m\u001b[1;33m,\u001b[0m\u001b[0mmethod\u001b[0m\u001b[1;33m=\u001b[0m\u001b[1;34m'lm'\u001b[0m\u001b[1;33m)\u001b[0m\u001b[1;33m[\u001b[0m\u001b[1;34m'x'\u001b[0m\u001b[1;33m]\u001b[0m\u001b[1;33m\u001b[0m\u001b[1;33m\u001b[0m\u001b[0m\n",
      "\u001b[1;32mc:\\users\\computer\\appdata\\local\\programs\\python\\python36\\lib\\site-packages\\scipy\\optimize\\_lsq\\least_squares.py\u001b[0m in \u001b[0;36mleast_squares\u001b[1;34m(fun, x0, jac, bounds, method, ftol, xtol, gtol, x_scale, loss, f_scale, diff_step, tr_solver, tr_options, jac_sparsity, max_nfev, verbose, args, kwargs)\u001b[0m\n\u001b[0;32m    801\u001b[0m         \u001b[1;32mraise\u001b[0m \u001b[0mValueError\u001b[0m\u001b[1;33m(\u001b[0m\u001b[1;34m\"`fun` must return at most 1-d array_like.\"\u001b[0m\u001b[1;33m)\u001b[0m\u001b[1;33m\u001b[0m\u001b[1;33m\u001b[0m\u001b[0m\n\u001b[0;32m    802\u001b[0m \u001b[1;33m\u001b[0m\u001b[0m\n\u001b[1;32m--> 803\u001b[1;33m     \u001b[1;32mif\u001b[0m \u001b[1;32mnot\u001b[0m \u001b[0mnp\u001b[0m\u001b[1;33m.\u001b[0m\u001b[0mall\u001b[0m\u001b[1;33m(\u001b[0m\u001b[0mnp\u001b[0m\u001b[1;33m.\u001b[0m\u001b[0misfinite\u001b[0m\u001b[1;33m(\u001b[0m\u001b[0mf0\u001b[0m\u001b[1;33m)\u001b[0m\u001b[1;33m)\u001b[0m\u001b[1;33m:\u001b[0m\u001b[1;33m\u001b[0m\u001b[1;33m\u001b[0m\u001b[0m\n\u001b[0m\u001b[0;32m    804\u001b[0m         \u001b[1;32mraise\u001b[0m \u001b[0mValueError\u001b[0m\u001b[1;33m(\u001b[0m\u001b[1;34m\"Residuals are not finite in the initial point.\"\u001b[0m\u001b[1;33m)\u001b[0m\u001b[1;33m\u001b[0m\u001b[1;33m\u001b[0m\u001b[0m\n\u001b[0;32m    805\u001b[0m \u001b[1;33m\u001b[0m\u001b[0m\n",
      "\u001b[1;31mTypeError\u001b[0m: ufunc 'isfinite' not supported for the input types, and the inputs could not be safely coerced to any supported types according to the casting rule ''safe''"
     ]
    }
   ],
   "source": [
    "result = rsp.arma_est_bip_tau(x_ao,p,q)"
   ]
  },
  {
   "cell_type": "code",
   "execution_count": null,
   "metadata": {},
   "outputs": [],
   "source": [
    "print('Example: AR(1) with ar_coeff = -0.8')\n",
    "print('30% of isolated additive outliers')\n",
    "print('estimaed coefficients: %.3f' % result['ar_coeffs'])\n",
    "\n",
    "%matplotlib inline\n",
    "matplotlib.rcParams['figure.figsize'] = [10, 10]\n",
    "\n",
    "plt.subplot(2,1,1)\n",
    "plt.plot(x_ao,'-',lw=2,label='outlier contaminated AR(1)')\n",
    "plt.plot(result['cleaned_signal'],'-.',c='y',label='cleaned')\n",
    "\n",
    "plt.xlabel('samples')\n",
    "plt.ylabel('Amplitude')\n",
    "plt.title('BIP-AR(1) cleaned signal')\n",
    "plt.legend()\n",
    "\n",
    "plt.subplot(2,1,2)\n",
    "plt.plot(x,lw=2,label='original AR(1)')\n",
    "plt.plot(result['cleaned_signal'],'-.',label='cleaned')\n",
    "\n",
    "plt.xlabel('samples')\n",
    "plt.ylabel('Amplitude')\n",
    "plt.title('BIP-AR(1) cleaned signal')\n",
    "plt.legend()\n",
    "plt.show()"
   ]
  },
  {
   "cell_type": "markdown",
   "metadata": {},
   "source": [
    "# Example 2: ARMA(1,1) with 10% patchy outliers"
   ]
  },
  {
   "cell_type": "markdown",
   "metadata": {},
   "source": [
    "## Generate ARMA(1,1) observations"
   ]
  },
  {
   "cell_type": "code",
   "execution_count": null,
   "metadata": {},
   "outputs": [],
   "source": [
    "N = 1000\n",
    "a = np.random.randn(N)\n",
    "x = sps.lfilter([1, 0.2],[1, -.8],a)\n",
    "p = 1\n",
    "q = 1"
   ]
  },
  {
   "cell_type": "markdown",
   "metadata": {},
   "source": [
    "## Generate a patch of outliers of length 101 samples"
   ]
  },
  {
   "cell_type": "code",
   "execution_count": null,
   "metadata": {},
   "outputs": [],
   "source": [
    "v = 1000*np.random.randn(101)"
   ]
  },
  {
   "cell_type": "markdown",
   "metadata": {},
   "source": [
    "## 10% of patch additive outliers"
   ]
  },
  {
   "cell_type": "code",
   "execution_count": null,
   "metadata": {},
   "outputs": [],
   "source": [
    "x_ao = np.array(x)\n",
    "x_ao[99:200] += v"
   ]
  },
  {
   "cell_type": "markdown",
   "metadata": {},
   "source": [
    "### BIP-MM estimation"
   ]
  },
  {
   "cell_type": "code",
   "execution_count": null,
   "metadata": {},
   "outputs": [],
   "source": [
    "result = rsp.arma_est_bip_tau(x_ao,p,q)\n",
    "\n",
    "print('''Example 2: ARMA(1,1) with ar_coeff = -0.8, ma_coeff 0.2' \\n\n",
    "10 percent patchy additive outliers \\n\n",
    "estimated coefficients: \\n\n",
    "ar_coeff_est = %.3f \\n\n",
    "ma_coeff_est = %.3f''' %(result['ar_coeffs'],result['ma_coeffs']))"
   ]
  },
  {
   "cell_type": "code",
   "execution_count": null,
   "metadata": {},
   "outputs": [],
   "source": [
    "plt.subplot(2,1,1)\n",
    "plt.plot(x_ao,'-',lw=2,label='outlier contaminated AR(1)')\n",
    "plt.plot(result['cleaned_signal'],label='cleaned')\n",
    "\n",
    "plt.xlabel('samples')\n",
    "plt.ylabel('Amplitude')\n",
    "plt.title('BIP-ARMA(1,1) cleaned signal')\n",
    "plt.legend()\n",
    "\n",
    "plt.subplot(2,1,2)\n",
    "plt.plot(x,lw=2,label='original ARMA(1,1)')\n",
    "plt.plot(result['cleaned_signal'],label='cleaned')\n",
    "\n",
    "plt.xlabel('samples')\n",
    "plt.ylabel('Amplitude')\n",
    "plt.title('BIP-ARMA(1,1) cleaned signal')\n",
    "plt.legend()\n",
    "plt.show()"
   ]
  },
  {
   "cell_type": "markdown",
   "metadata": {},
   "source": [
    "# Example 3: MA(2) with 20 % isolated Outliers"
   ]
  },
  {
   "cell_type": "markdown",
   "metadata": {},
   "source": [
    "## Generate MA(2) observations"
   ]
  },
  {
   "cell_type": "code",
   "execution_count": null,
   "metadata": {},
   "outputs": [],
   "source": [
    "N = 500\n",
    "a = np.random.randn(N)\n",
    "x = sps.lfilter([1,-.7,.5],[1],a)\n",
    "p=0\n",
    "q=2"
   ]
  },
  {
   "cell_type": "markdown",
   "metadata": {},
   "source": [
    "## Generate isolated Outliers"
   ]
  },
  {
   "cell_type": "code",
   "execution_count": null,
   "metadata": {},
   "outputs": [],
   "source": [
    "cont_prob = 0.2\n",
    "outlier_ind = np.where(np.sign(np.random.rand(N)-(cont_prob))<0)\n",
    "outlier = 100*np.random.randn(N)\n",
    "v = np.zeros(N)\n",
    "v[outlier_ind] = outlier[outlier_ind]\n",
    "v[:2] = 0"
   ]
  },
  {
   "cell_type": "markdown",
   "metadata": {},
   "source": [
    "## 20 % of isolated additive Outliers"
   ]
  },
  {
   "cell_type": "code",
   "execution_count": null,
   "metadata": {},
   "outputs": [],
   "source": [
    "x_ao = x+v"
   ]
  },
  {
   "cell_type": "markdown",
   "metadata": {},
   "source": [
    "## BIP MM estimation"
   ]
  },
  {
   "cell_type": "code",
   "execution_count": null,
   "metadata": {},
   "outputs": [],
   "source": [
    "result = rsp.arma_est_bip_tau(x_ao,p,q)"
   ]
  },
  {
   "cell_type": "code",
   "execution_count": null,
   "metadata": {},
   "outputs": [],
   "source": [
    "print('''Example 3: MA(2) ma_coeff [-0.7 0.5]' \\n\n",
    "20 % of isolated additive Outliers \\n\n",
    "estimated coefficients: \\n\n",
    "ma_coeff_est = ''',result['ma_coeffs'])"
   ]
  },
  {
   "cell_type": "code",
   "execution_count": null,
   "metadata": {},
   "outputs": [],
   "source": [
    "plt.subplot(2,1,1)\n",
    "plt.plot(x_ao,'-',lw=2,label='outlier contaminated AR(1)')\n",
    "plt.plot(result['cleaned_signal'],label='cleaned')\n",
    "\n",
    "plt.xlabel('samples')\n",
    "plt.ylabel('Amplitude')\n",
    "plt.title('BIP-MA(2) cleaned signal')\n",
    "plt.legend()\n",
    "\n",
    "plt.subplot(2,1,2)\n",
    "plt.plot(x,lw=2,label='original MA(2)')\n",
    "plt.plot(result['cleaned_signal'],label='cleaned')\n",
    "\n",
    "plt.xlabel('samples')\n",
    "plt.ylabel('Amplitude')\n",
    "plt.title('BIP-MA(2) cleaned signal')\n",
    "plt.legend()\n",
    "plt.show()"
   ]
  }
 ],
 "metadata": {
  "kernelspec": {
   "display_name": "Python 3",
   "language": "python",
   "name": "python3"
  },
  "language_info": {
   "codemirror_mode": {
    "name": "ipython",
    "version": 3
   },
   "file_extension": ".py",
   "mimetype": "text/x-python",
   "name": "python",
   "nbconvert_exporter": "python",
   "pygments_lexer": "ipython3",
   "version": "3.6.8"
  }
 },
 "nbformat": 4,
 "nbformat_minor": 2
}
