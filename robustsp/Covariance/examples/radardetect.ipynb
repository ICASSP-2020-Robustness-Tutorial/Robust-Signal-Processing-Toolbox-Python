{
 "cells": [
  {
   "cell_type": "code",
   "execution_count": 21,
   "metadata": {},
   "outputs": [
    {
     "data": {
      "text/plain": [
       "array([0.001, 0.003, 0.005, 0.007, 0.009, 0.011, 0.013, 0.015, 0.017,\n",
       "       0.019, 0.021, 0.023, 0.025, 0.027, 0.029, 0.031, 0.033, 0.035,\n",
       "       0.037, 0.039, 0.04 ])"
      ]
     },
     "execution_count": 21,
     "metadata": {},
     "output_type": "execute_result"
    }
   ],
   "source": [
    "import numpy as np\n",
    "import robustsp as rsp\n",
    "import scipy\n",
    "\n",
    "NR_ITER = 10000\n",
    "p = 8 # dimension\n",
    "\n",
    "# Matlab-like exp function for complex numbers\n",
    "mExp = lambda c: np.exp(np.real(c))*\\\n",
    "        (np.cos(np.imag(c))\\\n",
    "         +1j*np.sin(np.imag(c)))\n",
    "\n",
    "s = np.array([mExp(x) for x in 1j*np.arange(1,p+1)*np.pi]) # pulse of || p ||^2 = m\n",
    "\n",
    "alpha = np.append(np.arange(0.001,0.04,0.002),0.04)\n",
    "\n",
    "lam = 1 - alpha ** (1/(p-1))\n",
    "nu = 0.5\n",
    "nlist = [4*p,8*p,12*p] # number of secondary data\n",
    "ntest = 10 # number of primary data\n",
    "\n",
    "Pfa1 = np.zeros((len(nlist),len(alpha)))\n",
    "Pfa2 = np.copy(Pfa1)\n",
    "\n",
    "Lambda1 = np.zeros((NR_ITER,ntest))\n",
    "Lambda2 = np.copy(Lambda1)\n",
    "\n",
    "np.random.seed(1) # for reproducibility\n",
    "\n",
    "for kk in range(len(nlist)):\n",
    "    n = nlist[kk]\n",
    "    for it in range(NR_ITER):\n",
    "        # Generate Covariance matrix\n",
    "        l = np.random.uniform(0.1,1,p) \n",
    "        # samples p number uniformly from [0.1,1[\n",
    "        P = np.linalg.qr(np.random.rand(p,p)+\n",
    "                        np.random.rand(p,p)*1j)[0] # the Q-matrix from QR decomposition\n",
    "        sig = p*P*np.diag(1/np.sum(l,axis=0))*P.T\n",
    "        sig[np.arange(1,p**2 +1,p+1)] = np.real(sig[np.arange(1,p**2 +1,p+1)])\n",
    "        sqrsig = scipy.linalg.sqrtm(sig)\n",
    "        \n",
    "        # Generate the secondary data and compute the covariance\n",
    "        x0 = sqrsig*np.sqrt(0.5)*(np.random.randn(p,n)+\n",
    "                                 1j*np.random.randn(p,n)) # ~ N_p(0,I)\n",
    "        x = np.sqrt(np.random.gamma(nu,1/nu,n))[:,None] * x0\n",
    "        hsig1 = rsp.Mscat(x.T,'t-loss',0) # Tylers M-estimator\n",
    "        hsig2 = rsp.Mscat(x.T,'Huber',0.8) # Hubers M-estimator\n",
    "        B1 = scipy.linalg.sqrtm(np.linalg.pinv(hsig1))\n",
    "        B1 = scipy.linalg.sqrtm(np.linalg.pinv(hsig2))\n",
    "        \n",
    "        # Generate primary data from C K_v(0,sig)\n",
    "        z0 = sqrsig * np.sqrt(0.5)*(np.random.randn(p,ntest)+\n",
    "                                   1j*np.randn(p,ntest))\n",
    "        z = np.sqrt(np.random.gamma(nu,1/nu,ntest))[:,None] * z0\n",
    "        \n",
    "        # Compute the ADAPTIVE DETECTOR\n",
    "        v1 = B1@z\n",
    "        q1 = B1@s[:,None] / scipy.linalg.norm(B1@s[:,None])\n",
    "        \n",
    "        v2 = B2@z\n",
    "        q2 = B2@s[:,None] / scipy.linalg.norm(B2@s[:,None])\n",
    "        \n",
    "        v1 /= np.sqrt(np.sum(v1*np.conj(v1),axis=0))[:,None]\n",
    "        v2 /= np.sqrt(np.sum(v2*np.conj(v2),axis=0))[:,None]\n",
    "        \n",
    "        Lambda1[it,:] = np.abs(v1.T@q1)**2\n",
    "        Lambda2[it,:] = np.abs(v2.T@q2)**2\n",
    "        \n",
    "        if (it+1)%250 == 0: print(' . ')\n",
    "        \n",
    "    print('\\n')\n",
    "    \n",
    "        \n",
    "        \n",
    "        "
   ]
  }
 ],
 "metadata": {
  "kernelspec": {
   "display_name": "Python 3",
   "language": "python",
   "name": "python3"
  },
  "language_info": {
   "codemirror_mode": {
    "name": "ipython",
    "version": 3
   },
   "file_extension": ".py",
   "mimetype": "text/x-python",
   "name": "python",
   "nbconvert_exporter": "python",
   "pygments_lexer": "ipython3",
   "version": "3.6.8"
  }
 },
 "nbformat": 4,
 "nbformat_minor": 2
}
