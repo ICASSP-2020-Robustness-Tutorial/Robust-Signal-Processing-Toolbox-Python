{
 "cells": [
  {
   "cell_type": "code",
   "execution_count": 17,
   "metadata": {},
   "outputs": [
    {
     "ename": "FileNotFoundError",
     "evalue": "[Errno 2] No such file or directory: 'l.mat'",
     "output_type": "error",
     "traceback": [
      "\u001b[1;31m---------------------------------------------------------------------------\u001b[0m",
      "\u001b[1;31mFileNotFoundError\u001b[0m                         Traceback (most recent call last)",
      "\u001b[1;32mc:\\users\\computer\\appdata\\local\\programs\\python\\python36\\lib\\site-packages\\scipy\\io\\matlab\\mio.py\u001b[0m in \u001b[0;36m_open_file\u001b[1;34m(file_like, appendmat)\u001b[0m\n\u001b[0;32m     30\u001b[0m     \u001b[1;32mtry\u001b[0m\u001b[1;33m:\u001b[0m\u001b[1;33m\u001b[0m\u001b[1;33m\u001b[0m\u001b[0m\n\u001b[1;32m---> 31\u001b[1;33m         \u001b[1;32mreturn\u001b[0m \u001b[0mopen\u001b[0m\u001b[1;33m(\u001b[0m\u001b[0mfile_like\u001b[0m\u001b[1;33m,\u001b[0m \u001b[1;34m'rb'\u001b[0m\u001b[1;33m)\u001b[0m\u001b[1;33m,\u001b[0m \u001b[1;32mTrue\u001b[0m\u001b[1;33m\u001b[0m\u001b[1;33m\u001b[0m\u001b[0m\n\u001b[0m\u001b[0;32m     32\u001b[0m     \u001b[1;32mexcept\u001b[0m \u001b[0mIOError\u001b[0m\u001b[1;33m:\u001b[0m\u001b[1;33m\u001b[0m\u001b[1;33m\u001b[0m\u001b[0m\n",
      "\u001b[1;31mFileNotFoundError\u001b[0m: [Errno 2] No such file or directory: 'l.mat'",
      "\nDuring handling of the above exception, another exception occurred:\n",
      "\u001b[1;31mFileNotFoundError\u001b[0m                         Traceback (most recent call last)",
      "\u001b[1;32m<ipython-input-17-d814c745e76d>\u001b[0m in \u001b[0;36m<module>\u001b[1;34m\u001b[0m\n\u001b[0;32m     39\u001b[0m \u001b[1;31m# Generate Covariance matrix\u001b[0m\u001b[1;33m\u001b[0m\u001b[1;33m\u001b[0m\u001b[1;33m\u001b[0m\u001b[0m\n\u001b[0;32m     40\u001b[0m \u001b[1;31m#l = np.random.uniform(0.1,1,p)\u001b[0m\u001b[1;33m\u001b[0m\u001b[1;33m\u001b[0m\u001b[1;33m\u001b[0m\u001b[0m\n\u001b[1;32m---> 41\u001b[1;33m \u001b[0ml\u001b[0m \u001b[1;33m=\u001b[0m \u001b[0mloadmat\u001b[0m\u001b[1;33m(\u001b[0m\u001b[1;34m'l.mat'\u001b[0m\u001b[1;33m,\u001b[0m\u001b[0mstruct_as_record\u001b[0m\u001b[1;33m=\u001b[0m\u001b[1;32mFalse\u001b[0m\u001b[1;33m)\u001b[0m\u001b[1;33m[\u001b[0m\u001b[0ml\u001b[0m\u001b[1;33m]\u001b[0m\u001b[1;33m\u001b[0m\u001b[1;33m\u001b[0m\u001b[0m\n\u001b[0m\u001b[0;32m     42\u001b[0m \u001b[1;31m# samples p number uniformly from [0.1,1[\u001b[0m\u001b[1;33m\u001b[0m\u001b[1;33m\u001b[0m\u001b[1;33m\u001b[0m\u001b[0m\n\u001b[0;32m     43\u001b[0m P = np.linalg.qr(np.random.rand(p,p)+\n",
      "\u001b[1;32mc:\\users\\computer\\appdata\\local\\programs\\python\\python36\\lib\\site-packages\\scipy\\io\\matlab\\mio.py\u001b[0m in \u001b[0;36mloadmat\u001b[1;34m(file_name, mdict, appendmat, **kwargs)\u001b[0m\n\u001b[0;32m    205\u001b[0m     \"\"\"\n\u001b[0;32m    206\u001b[0m     \u001b[0mvariable_names\u001b[0m \u001b[1;33m=\u001b[0m \u001b[0mkwargs\u001b[0m\u001b[1;33m.\u001b[0m\u001b[0mpop\u001b[0m\u001b[1;33m(\u001b[0m\u001b[1;34m'variable_names'\u001b[0m\u001b[1;33m,\u001b[0m \u001b[1;32mNone\u001b[0m\u001b[1;33m)\u001b[0m\u001b[1;33m\u001b[0m\u001b[1;33m\u001b[0m\u001b[0m\n\u001b[1;32m--> 207\u001b[1;33m     \u001b[0mMR\u001b[0m\u001b[1;33m,\u001b[0m \u001b[0mfile_opened\u001b[0m \u001b[1;33m=\u001b[0m \u001b[0mmat_reader_factory\u001b[0m\u001b[1;33m(\u001b[0m\u001b[0mfile_name\u001b[0m\u001b[1;33m,\u001b[0m \u001b[0mappendmat\u001b[0m\u001b[1;33m,\u001b[0m \u001b[1;33m**\u001b[0m\u001b[0mkwargs\u001b[0m\u001b[1;33m)\u001b[0m\u001b[1;33m\u001b[0m\u001b[1;33m\u001b[0m\u001b[0m\n\u001b[0m\u001b[0;32m    208\u001b[0m     \u001b[0mmatfile_dict\u001b[0m \u001b[1;33m=\u001b[0m \u001b[0mMR\u001b[0m\u001b[1;33m.\u001b[0m\u001b[0mget_variables\u001b[0m\u001b[1;33m(\u001b[0m\u001b[0mvariable_names\u001b[0m\u001b[1;33m)\u001b[0m\u001b[1;33m\u001b[0m\u001b[1;33m\u001b[0m\u001b[0m\n\u001b[0;32m    209\u001b[0m     \u001b[1;32mif\u001b[0m \u001b[0mmdict\u001b[0m \u001b[1;32mis\u001b[0m \u001b[1;32mnot\u001b[0m \u001b[1;32mNone\u001b[0m\u001b[1;33m:\u001b[0m\u001b[1;33m\u001b[0m\u001b[1;33m\u001b[0m\u001b[0m\n",
      "\u001b[1;32mc:\\users\\computer\\appdata\\local\\programs\\python\\python36\\lib\\site-packages\\scipy\\io\\matlab\\mio.py\u001b[0m in \u001b[0;36mmat_reader_factory\u001b[1;34m(file_name, appendmat, **kwargs)\u001b[0m\n\u001b[0;32m     60\u001b[0m \u001b[1;33m\u001b[0m\u001b[0m\n\u001b[0;32m     61\u001b[0m     \"\"\"\n\u001b[1;32m---> 62\u001b[1;33m     \u001b[0mbyte_stream\u001b[0m\u001b[1;33m,\u001b[0m \u001b[0mfile_opened\u001b[0m \u001b[1;33m=\u001b[0m \u001b[0m_open_file\u001b[0m\u001b[1;33m(\u001b[0m\u001b[0mfile_name\u001b[0m\u001b[1;33m,\u001b[0m \u001b[0mappendmat\u001b[0m\u001b[1;33m)\u001b[0m\u001b[1;33m\u001b[0m\u001b[1;33m\u001b[0m\u001b[0m\n\u001b[0m\u001b[0;32m     63\u001b[0m     \u001b[0mmjv\u001b[0m\u001b[1;33m,\u001b[0m \u001b[0mmnv\u001b[0m \u001b[1;33m=\u001b[0m \u001b[0mget_matfile_version\u001b[0m\u001b[1;33m(\u001b[0m\u001b[0mbyte_stream\u001b[0m\u001b[1;33m)\u001b[0m\u001b[1;33m\u001b[0m\u001b[1;33m\u001b[0m\u001b[0m\n\u001b[0;32m     64\u001b[0m     \u001b[1;32mif\u001b[0m \u001b[0mmjv\u001b[0m \u001b[1;33m==\u001b[0m \u001b[1;36m0\u001b[0m\u001b[1;33m:\u001b[0m\u001b[1;33m\u001b[0m\u001b[1;33m\u001b[0m\u001b[0m\n",
      "\u001b[1;32mc:\\users\\computer\\appdata\\local\\programs\\python\\python36\\lib\\site-packages\\scipy\\io\\matlab\\mio.py\u001b[0m in \u001b[0;36m_open_file\u001b[1;34m(file_like, appendmat)\u001b[0m\n\u001b[0;32m     35\u001b[0m             \u001b[1;32mif\u001b[0m \u001b[0mappendmat\u001b[0m \u001b[1;32mand\u001b[0m \u001b[1;32mnot\u001b[0m \u001b[0mfile_like\u001b[0m\u001b[1;33m.\u001b[0m\u001b[0mendswith\u001b[0m\u001b[1;33m(\u001b[0m\u001b[1;34m'.mat'\u001b[0m\u001b[1;33m)\u001b[0m\u001b[1;33m:\u001b[0m\u001b[1;33m\u001b[0m\u001b[1;33m\u001b[0m\u001b[0m\n\u001b[0;32m     36\u001b[0m                 \u001b[0mfile_like\u001b[0m \u001b[1;33m+=\u001b[0m \u001b[1;34m'.mat'\u001b[0m\u001b[1;33m\u001b[0m\u001b[1;33m\u001b[0m\u001b[0m\n\u001b[1;32m---> 37\u001b[1;33m             \u001b[1;32mreturn\u001b[0m \u001b[0mopen\u001b[0m\u001b[1;33m(\u001b[0m\u001b[0mfile_like\u001b[0m\u001b[1;33m,\u001b[0m \u001b[1;34m'rb'\u001b[0m\u001b[1;33m)\u001b[0m\u001b[1;33m,\u001b[0m \u001b[1;32mTrue\u001b[0m\u001b[1;33m\u001b[0m\u001b[1;33m\u001b[0m\u001b[0m\n\u001b[0m\u001b[0;32m     38\u001b[0m         \u001b[1;32melse\u001b[0m\u001b[1;33m:\u001b[0m\u001b[1;33m\u001b[0m\u001b[1;33m\u001b[0m\u001b[0m\n\u001b[0;32m     39\u001b[0m             \u001b[1;32mraise\u001b[0m \u001b[0mIOError\u001b[0m\u001b[1;33m(\u001b[0m\u001b[1;34m'Reader needs file name or open file-like object'\u001b[0m\u001b[1;33m)\u001b[0m\u001b[1;33m\u001b[0m\u001b[1;33m\u001b[0m\u001b[0m\n",
      "\u001b[1;31mFileNotFoundError\u001b[0m: [Errno 2] No such file or directory: 'l.mat'"
     ]
    }
   ],
   "source": [
    "import numpy as np\n",
    "import robustsp as rsp\n",
    "import scipy\n",
    "from scipy.stats.distributions import chi2\n",
    "\n",
    "NR_ITER = 10000\n",
    "p = 8 # dimension\n",
    "\n",
    "# Matlab-like exp function for complex numbers\n",
    "mExp = lambda c: np.exp(np.real(c))*\\\n",
    "        (np.cos(np.imag(c))\\\n",
    "         +1j*np.sin(np.imag(c)))\n",
    "\n",
    "s = np.array([mExp(x) for x in 1j*np.arange(1,p+1)*np.pi]) # pulse of || p ||^2 = m\n",
    "\n",
    "alpha = np.append(np.arange(0.001,0.04,0.002),0.04)\n",
    "\n",
    "lam = 1 - alpha ** (1/(p-1)) # 1x21\n",
    "nu = 0.5\n",
    "nlist = [4*p,8*p,12*p] # number of secondary data\n",
    "ntest = 10 # number of primary data\n",
    "\n",
    "Pfa1 = np.zeros((len(nlist),len(alpha))) # 3 x 21\n",
    "Pfa2 = np.zeros((len(nlist),len(alpha)))\n",
    "\n",
    "Lambda1 = np.zeros((NR_ITER,ntest)) # 10_000 x 10\n",
    "Lambda2 = np.zeros((NR_ITER,ntest))\n",
    "\n",
    "np.random.seed(1) # for reproducibility\n",
    "\n",
    "####################\n",
    "kk = 0\n",
    "it = 0\n",
    "#for kk in range(1):#len(nlist)):\n",
    "n = nlist[kk]\n",
    "#    for it in range(1):#NR_ITER):\n",
    "\n",
    "# Generate Covariance matrix\n",
    "l = np.random.uniform(0.1,1,p)\n",
    "\n",
    "# samples p number uniformly from [0.1,1[\n",
    "P = np.linalg.qr(np.random.rand(p,p)+\n",
    "                np.random.rand(p,p)*1j)[0] # the Q-matrix from QR decomposition\n",
    "# P is 8 x 8\n",
    "sig = p*P@np.diag(l/np.sum(l,axis=0))@P.T # 8 x 8\n",
    "sig.ravel()[np.arange(0,p**2,p+1)] = \\\n",
    "                    np.real(sig.ravel()[np.arange(0,p**2,p+1)])\n",
    "sqrsig = scipy.linalg.sqrtm(sig) # 8 x 8\n",
    "\n",
    "# Generate the secondary data and compute the covariance\n",
    "x0 = sqrsig*np.sqrt(0.5)@(np.random.randn(p,n)+\n",
    "                         1j*np.random.randn(p,n)) # ~ N_p(0,I)\n",
    "# 8 x 32\n",
    "x = np.sqrt(np.random.gamma(nu,1/nu,n)) * x0 # 8 x 32\n",
    "hsig1,_,_,_ = rsp.Mscat(x.T,'t-loss',0) # Tylers M-estimator, 8x8\n",
    "hsig2,_,_,_ = rsp.Mscat(x.T,'Huber',0.8) # Hubers M-estimator, 8x8\n",
    "B1 = scipy.linalg.sqrtm(np.linalg.pinv(hsig1)) #8x8\n",
    "B2 = scipy.linalg.sqrtm(np.linalg.pinv(hsig2)) #8x8\n",
    "\n",
    "# Generate primary data from C K_v(0,sig)\n",
    "z0 = sqrsig * np.sqrt(0.5)@(np.random.randn(p,ntest)+\n",
    "                           1j*np.random.randn(p,ntest)) # 8x10\n",
    "z = np.sqrt(np.random.gamma(nu,1/nu,ntest)) * z0 # 8x10\n",
    "\n",
    "# Compute the ADAPTIVE DETECTOR\n",
    "v1 = B1@z # 8x10\n",
    "q1 = B1@s[:,None] / scipy.linalg.norm(B1@s[:,None]) # 8x1\n",
    "\n",
    "v2 = B2@z\n",
    "q2 = B2@s[:,None] / scipy.linalg.norm(B2@s[:,None])\n",
    "\n",
    "v1 /= np.sqrt(np.sum(v1*np.conj(v1),axis=0))\n",
    "v2 /= np.sqrt(np.sum(v2*np.conj(v2),axis=0))\n",
    "\n",
    "Lambda1[it,:] = np.abs((v1.T@q1).ravel())**2 # wrong\n",
    "Lambda2[it,:] = np.abs((v2.T@q2).ravel())**2\n",
    "\n",
    "if (it+1)%250 == 0: print(' . ')\n",
    "\n",
    "print('\\n')\n",
    "\n",
    "for al in range(len(alpha)):\n",
    "    Pfa1[kk,al] = np.sum(Lambda1[:]>lam[al])/(NR_ITER*ntest)\n",
    "    Pfa2[kk,al] = np.sum(Lambda2[:]>lam[al])/(NR_ITER*ntest)\n"
   ]
  },
  {
   "cell_type": "code",
   "execution_count": 18,
   "metadata": {},
   "outputs": [
    {
     "data": {
      "text/plain": [
       "0"
      ]
     },
     "execution_count": 18,
     "metadata": {},
     "output_type": "execute_result"
    }
   ],
   "source": [
    "sig.ravel()[range(64)]=0\n",
    "sig\n",
    "np.sum(Lambda1[:]>lam[al])"
   ]
  }
 ],
 "metadata": {
  "kernelspec": {
   "display_name": "Python 3",
   "language": "python",
   "name": "python3"
  },
  "language_info": {
   "codemirror_mode": {
    "name": "ipython",
    "version": 3
   },
   "file_extension": ".py",
   "mimetype": "text/x-python",
   "name": "python",
   "nbconvert_exporter": "python",
   "pygments_lexer": "ipython3",
   "version": "3.6.8"
  }
 },
 "nbformat": 4,
 "nbformat_minor": 2
}
