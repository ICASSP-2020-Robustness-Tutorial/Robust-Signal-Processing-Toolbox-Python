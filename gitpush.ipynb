{
 "cells": [
  {
   "cell_type": "code",
   "execution_count": 1,
   "metadata": {},
   "outputs": [
    {
     "name": "stderr",
     "output_type": "stream",
     "text": [
      "warning: LF will be replaced by CRLF in robustsp/Regression/.ipynb_checkpoints/hublasso-checkpoint.py.\n",
      "The file will have its original line endings in your working directory\n",
      "warning: LF will be replaced by CRLF in robustsp/Regression/.ipynb_checkpoints/hublassopath-checkpoint.py.\n",
      "The file will have its original line endings in your working directory\n",
      "warning: LF will be replaced by CRLF in robustsp/Regression/hublasso.py.\n",
      "The file will have its original line endings in your working directory\n",
      "warning: LF will be replaced by CRLF in robustsp/Regression/hublassopath.py.\n",
      "The file will have its original line endings in your working directory\n",
      "warning: LF will be replaced by CRLF in tests/Reg/ex/.ipynb_checkpoints/prost_an-checkpoint.ipynb.\n",
      "The file will have its original line endings in your working directory\n",
      "warning: LF will be replaced by CRLF in tests/Reg/ex/prost_an.ipynb.\n",
      "The file will have its original line endings in your working directory\n",
      "warning: LF will be replaced by CRLF in Untitled.ipynb.\n",
      "The file will have its original line endings in your working directory\n",
      "warning: LF will be replaced by CRLF in tests/Reg/.ipynb_checkpoints/hublasso-checkpoint.ipynb.\n",
      "The file will have its original line endings in your working directory\n",
      "warning: LF will be replaced by CRLF in tests/Reg/.ipynb_checkpoints/hublassopath-checkpoint.ipynb.\n",
      "The file will have its original line endings in your working directory\n",
      "warning: LF will be replaced by CRLF in tests/Reg/hublasso.ipynb.\n",
      "The file will have its original line endings in your working directory\n",
      "warning: LF will be replaced by CRLF in tests/Reg/hublassopath.ipynb.\n",
      "The file will have its original line endings in your working directory\n"
     ]
    },
    {
     "name": "stdout",
     "output_type": "stream",
     "text": [
      "[master 69c439d] latest\n",
      " 16 files changed, 895 insertions(+), 530 deletions(-)\n",
      " create mode 100644 Untitled.ipynb\n",
      " create mode 100644 robustsp/Regression/.ipynb_checkpoints/noOutlier-checkpoint.jpg\n",
      " create mode 100644 robustsp/Regression/noOutlier.jpg\n",
      " create mode 100644 tests/Reg/.ipynb_checkpoints/hublasso-checkpoint.ipynb\n",
      " create mode 100644 tests/Reg/.ipynb_checkpoints/hublassopath-checkpoint.ipynb\n",
      " copy tests/Reg/ex/{prost_an.ipynb => .ipynb_checkpoints/prost_an-checkpoint.ipynb} (84%)\n",
      " create mode 100644 tests/Reg/ex/Bhub.mat\n",
      " rewrite tests/Reg/ex/prost_an.ipynb (76%)\n",
      " create mode 100644 tests/Reg/hublasso.ipynb\n",
      " create mode 100644 tests/Reg/hublassopath.ipynb\n"
     ]
    },
    {
     "name": "stderr",
     "output_type": "stream",
     "text": [
      "To https://github.com/Mufabo/robustsp.git\n",
      "   30e946c..69c439d  master -> master\n"
     ]
    }
   ],
   "source": [
    "!git add .\n",
    "!git commit -m \"latest\"\n",
    "!git push"
   ]
  }
 ],
 "metadata": {
  "kernelspec": {
   "display_name": "Python 3",
   "language": "python",
   "name": "python3"
  },
  "language_info": {
   "codemirror_mode": {
    "name": "ipython",
    "version": 3
   },
   "file_extension": ".py",
   "mimetype": "text/x-python",
   "name": "python",
   "nbconvert_exporter": "python",
   "pygments_lexer": "ipython3",
   "version": "3.6.8"
  }
 },
 "nbformat": 4,
 "nbformat_minor": 2
}
