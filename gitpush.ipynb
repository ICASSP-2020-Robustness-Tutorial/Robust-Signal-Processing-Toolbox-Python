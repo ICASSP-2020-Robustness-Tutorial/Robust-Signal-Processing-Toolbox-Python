{
 "cells": [
  {
   "cell_type": "code",
   "execution_count": 1,
   "metadata": {},
   "outputs": [
    {
     "name": "stderr",
     "output_type": "stream",
     "text": [
      "warning: LF will be replaced by CRLF in robustsp/Regression/.ipynb_checkpoints/enet-checkpoint.py.\n",
      "The file will have its original line endings in your working directory\n",
      "warning: LF will be replaced by CRLF in robustsp/Regression/.ipynb_checkpoints/enetpath-checkpoint.py.\n",
      "The file will have its original line endings in your working directory\n",
      "warning: LF will be replaced by CRLF in robustsp/Regression/.ipynb_checkpoints/hublasso-checkpoint.py.\n",
      "The file will have its original line endings in your working directory\n",
      "warning: LF will be replaced by CRLF in robustsp/Regression/.ipynb_checkpoints/hublassopath-checkpoint.py.\n",
      "The file will have its original line endings in your working directory\n",
      "warning: LF will be replaced by CRLF in robustsp/Regression/enet.py.\n",
      "The file will have its original line endings in your working directory\n",
      "warning: LF will be replaced by CRLF in robustsp/Regression/enetpath.py.\n",
      "The file will have its original line endings in your working directory\n",
      "warning: LF will be replaced by CRLF in robustsp/Regression/examples/.ipynb_checkpoints/prost_analysis-checkpoint.py.\n",
      "The file will have its original line endings in your working directory\n",
      "warning: LF will be replaced by CRLF in robustsp/Regression/examples/prost_analysis.py.\n",
      "The file will have its original line endings in your working directory\n",
      "warning: LF will be replaced by CRLF in robustsp/Regression/examples/prostate_plot_setup.py.\n",
      "The file will have its original line endings in your working directory\n",
      "warning: LF will be replaced by CRLF in robustsp/Regression/hublasso.py.\n",
      "The file will have its original line endings in your working directory\n",
      "warning: LF will be replaced by CRLF in robustsp/Regression/hublassopath.py.\n",
      "The file will have its original line endings in your working directory\n",
      "warning: LF will be replaced by CRLF in tests/Reg/enetpath.ipynb.\n",
      "The file will have its original line endings in your working directory\n",
      "warning: LF will be replaced by CRLF in tests/Reg/ex/.ipynb_checkpoints/prost_an-checkpoint.ipynb.\n",
      "The file will have its original line endings in your working directory\n",
      "warning: LF will be replaced by CRLF in tests/Reg/ex/prost_an.ipynb.\n",
      "The file will have its original line endings in your working directory\n",
      "warning: LF will be replaced by CRLF in tests/Reg/hublasso.ipynb.\n",
      "The file will have its original line endings in your working directory\n",
      "warning: LF will be replaced by CRLF in tests/Reg/hublassopath.ipynb.\n",
      "The file will have its original line endings in your working directory\n",
      "warning: LF will be replaced by CRLF in .ipynb_checkpoints/gitpush-checkpoint.ipynb.\n",
      "The file will have its original line endings in your working directory\n",
      "warning: LF will be replaced by CRLF in gitpush.ipynb.\n",
      "The file will have its original line endings in your working directory\n"
     ]
    },
    {
     "name": "stdout",
     "output_type": "stream",
     "text": [
      "[master a968865] practically done with chapter 02_Regression\n",
      " 33 files changed, 2316 insertions(+), 1109 deletions(-)\n",
      " rename .ipynb_checkpoints/{Untitled-checkpoint.ipynb => gitpush-checkpoint.ipynb} (100%)\n",
      " delete mode 100644 Untitled.ipynb\n",
      " create mode 100644 gitpush.ipynb\n",
      " create mode 100644 tests/Reg/Bout.mat\n",
      " create mode 100644 tests/Reg/ex/.ipynb_checkpoints/img1-checkpoint.jpg\n",
      " create mode 100644 tests/Reg/ex/.ipynb_checkpoints/img2-checkpoint.jpg\n",
      " rename {robustsp/Regression => tests/Reg/ex}/.ipynb_checkpoints/noOutlier-checkpoint.jpg (100%)\n",
      " rewrite tests/Reg/ex/.ipynb_checkpoints/prost_an-checkpoint.ipynb (74%)\n",
      " create mode 100644 tests/Reg/ex/Bhub2.mat\n",
      " create mode 100644 tests/Reg/ex/Blad2.mat\n",
      " create mode 100644 tests/Reg/ex/Bout.mat\n",
      " create mode 100644 tests/Reg/ex/Brlad2.mat\n",
      " rename {robustsp/Regression => tests/Reg/ex}/noOutlier.jpg (100%)\n",
      " rewrite tests/Reg/ex/prost_an.ipynb (85%)\n"
     ]
    },
    {
     "name": "stderr",
     "output_type": "stream",
     "text": [
      "To https://github.com/Mufabo/robustsp.git\n",
      "   69c439d..a968865  master -> master\n"
     ]
    }
   ],
   "source": [
    "!git add .\n",
    "!git commit -m \"practically done with chapter 02_Regression\"\n",
    "!git push"
   ]
  }
 ],
 "metadata": {
  "kernelspec": {
   "display_name": "Python 3",
   "language": "python",
   "name": "python3"
  },
  "language_info": {
   "codemirror_mode": {
    "name": "ipython",
    "version": 3
   },
   "file_extension": ".py",
   "mimetype": "text/x-python",
   "name": "python",
   "nbconvert_exporter": "python",
   "pygments_lexer": "ipython3",
   "version": "3.6.8"
  }
 },
 "nbformat": 4,
 "nbformat_minor": 2
}
