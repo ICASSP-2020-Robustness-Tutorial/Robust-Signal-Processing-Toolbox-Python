{
 "cells": [
  {
   "cell_type": "code",
   "execution_count": 3,
   "metadata": {},
   "outputs": [
    {
     "name": "stderr",
     "output_type": "stream",
     "text": [
      "warning: LF will be replaced by CRLF in .ipynb_checkpoints/setup-checkpoint.py.\n",
      "The file will have its original line endings in your working directory\n",
      "warning: LF will be replaced by CRLF in gitpush.ipynb.\n",
      "The file will have its original line endings in your working directory\n",
      "warning: LF will be replaced by CRLF in robustsp/.ipynb_checkpoints/__init__-checkpoint.py.\n",
      "The file will have its original line endings in your working directory\n",
      "warning: LF will be replaced by CRLF in robustsp/__init__.py.\n",
      "The file will have its original line endings in your working directory\n",
      "warning: LF will be replaced by CRLF in setup.py.\n",
      "The file will have its original line endings in your working directory\n"
     ]
    },
    {
     "name": "stdout",
     "output_type": "stream",
     "text": [
      "[master bb87977] practically done with chapter 02_Regression\n",
      " 5 files changed, 71 insertions(+), 113 deletions(-)\n",
      " rewrite gitpush.ipynb (79%)\n"
     ]
    },
    {
     "name": "stderr",
     "output_type": "stream",
     "text": [
      "To https://github.com/Mufabo/robustsp.git\n",
      "   decae8f..bb87977  master -> master\n"
     ]
    }
   ],
   "source": [
    "!git add .\n",
    "!git commit -m \"practically done with chapter 02_Regression\"\n",
    "!git push"
   ]
  },
  {
   "cell_type": "code",
   "execution_count": 4,
   "metadata": {},
   "outputs": [
    {
     "name": "stdout",
     "output_type": "stream",
     "text": [
      "Collecting git+https://github.com/Mufabo/robustsp.git\n",
      "  Cloning https://github.com/Mufabo/robustsp.git to c:\\users\\computer\\appdata\\local\\temp\\pip-req-build-68xrymgn\n",
      "Requirement already satisfied (use --upgrade to upgrade): robustsp==0.1 from git+https://github.com/Mufabo/robustsp.git in c:\\users\\computer\\desktop\\robustsp\n",
      "Requirement already satisfied: numpy in c:\\users\\computer\\appdata\\local\\programs\\python\\python36\\lib\\site-packages (from robustsp==0.1) (1.16.2)\n",
      "Requirement already satisfied: matplotlib in c:\\users\\computer\\appdata\\local\\programs\\python\\python36\\lib\\site-packages (from robustsp==0.1) (3.0.3)\n",
      "Requirement already satisfied: scipy in c:\\users\\computer\\appdata\\local\\programs\\python\\python36\\lib\\site-packages (from robustsp==0.1) (1.2.1)\n",
      "Collecting pkg_resources (from robustsp==0.1)\n"
     ]
    },
    {
     "name": "stderr",
     "output_type": "stream",
     "text": [
      "  Running command git clone -q https://github.com/Mufabo/robustsp.git 'C:\\Users\\Computer\\AppData\\Local\\Temp\\pip-req-build-68xrymgn'\n",
      "  ERROR: Could not find a version that satisfies the requirement pkg_resources (from robustsp==0.1) (from versions: none)\n",
      "ERROR: No matching distribution found for pkg_resources (from robustsp==0.1)\n"
     ]
    }
   ],
   "source": [
    "!pip install git+https://github.com/Mufabo/robustsp.git"
   ]
  }
 ],
 "metadata": {
  "kernelspec": {
   "display_name": "Python 3",
   "language": "python",
   "name": "python3"
  },
  "language_info": {
   "codemirror_mode": {
    "name": "ipython",
    "version": 3
   },
   "file_extension": ".py",
   "mimetype": "text/x-python",
   "name": "python",
   "nbconvert_exporter": "python",
   "pygments_lexer": "ipython3",
   "version": "3.6.8"
  }
 },
 "nbformat": 4,
 "nbformat_minor": 2
}
