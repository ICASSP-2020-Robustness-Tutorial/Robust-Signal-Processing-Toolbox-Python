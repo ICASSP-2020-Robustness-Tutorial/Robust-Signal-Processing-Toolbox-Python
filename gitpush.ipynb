{
 "cells": [
  {
   "cell_type": "code",
   "execution_count": 1,
   "metadata": {},
   "outputs": [
    {
     "name": "stderr",
     "output_type": "stream",
     "text": [
      "warning: LF will be replaced by CRLF in gitpush.ipynb.\n",
      "The file will have its original line endings in your working directory\n",
      "warning: LF will be replaced by CRLF in robustsp/DependentData/.ipynb_checkpoints/ar_est_bip_s-checkpoint.py.\n",
      "The file will have its original line endings in your working directory\n",
      "warning: LF will be replaced by CRLF in robustsp/DependentData/.ipynb_checkpoints/arma_est_bip_s-checkpoint.py.\n",
      "The file will have its original line endings in your working directory\n",
      "warning: LF will be replaced by CRLF in robustsp/DependentData/.ipynb_checkpoints/robust_starting_point-checkpoint.py.\n",
      "The file will have its original line endings in your working directory\n",
      "warning: LF will be replaced by CRLF in robustsp/DependentData/Auxiliary/.ipynb_checkpoints/bip_s_resid_sc-checkpoint.py.\n",
      "The file will have its original line endings in your working directory\n",
      "warning: LF will be replaced by CRLF in robustsp/DependentData/Auxiliary/.ipynb_checkpoints/helper-checkpoint.py.\n",
      "The file will have its original line endings in your working directory\n",
      "warning: LF will be replaced by CRLF in robustsp/DependentData/Auxiliary/bip_s_resid_sc.py.\n",
      "The file will have its original line endings in your working directory\n",
      "warning: LF will be replaced by CRLF in robustsp/DependentData/Auxiliary/helper.py.\n",
      "The file will have its original line endings in your working directory\n",
      "warning: LF will be replaced by CRLF in robustsp/DependentData/ar_est_bip_s.py.\n",
      "The file will have its original line endings in your working directory\n",
      "warning: LF will be replaced by CRLF in robustsp/DependentData/arma_est_bip_s.py.\n",
      "The file will have its original line endings in your working directory\n",
      "warning: LF will be replaced by CRLF in robustsp/DependentData/robust_starting_point.py.\n",
      "The file will have its original line endings in your working directory\n",
      "warning: LF will be replaced by CRLF in tests/DepData/.ipynb_checkpoints/ar_est_bip_s-checkpoint.ipynb.\n",
      "The file will have its original line endings in your working directory\n",
      "warning: LF will be replaced by CRLF in tests/DepData/ar_est_bip_s.ipynb.\n",
      "The file will have its original line endings in your working directory\n",
      "warning: LF will be replaced by CRLF in tests/DepData/examples/.ipynb_checkpoints/BIP_ARMA_MM_demo-checkpoint.ipynb.\n",
      "The file will have its original line endings in your working directory\n",
      "warning: LF will be replaced by CRLF in tests/DepData/examples/BIP_ARMA_MM_demo.ipynb.\n",
      "The file will have its original line endings in your working directory\n",
      "warning: LF will be replaced by CRLF in tests/DepData/examples/.ipynb_checkpoints/Untitled-checkpoint.ipynb.\n",
      "The file will have its original line endings in your working directory\n",
      "warning: LF will be replaced by CRLF in tests/DepData/examples/Untitled.ipynb.\n",
      "The file will have its original line endings in your working directory\n"
     ]
    },
    {
     "name": "stdout",
     "output_type": "stream",
     "text": [
      "[master f7e5b39] debugging: Bip-MA(2), cleaned signal just 0\n",
      " 25 files changed, 1811 insertions(+), 397 deletions(-)\n",
      " rewrite robustsp/DependentData/Auxiliary/__pycache__/bip_s_resid_sc.cpython-36.pyc (63%)\n",
      " rewrite robustsp/DependentData/__pycache__/arma_est_bip_s.cpython-36.pyc (62%)\n",
      " rewrite robustsp/DependentData/__pycache__/robust_starting_point.cpython-36.pyc (60%)\n",
      " create mode 100644 tests/DepData/examples/.ipynb_checkpoints/Untitled-checkpoint.ipynb\n",
      " rewrite tests/DepData/examples/BIP_ARMA_MM_demo.ipynb (91%)\n",
      " create mode 100644 tests/DepData/examples/Untitled.ipynb\n",
      " create mode 100644 tests/DepData/examples/x.mat\n",
      " create mode 100644 tests/DepData/examples/x_ao.mat\n",
      " rewrite tests/DepData/x_Ao.mat (100%)\n"
     ]
    },
    {
     "name": "stderr",
     "output_type": "stream",
     "text": [
      "To https://github.com/Mufabo/robustsp.git\n",
      "   b1d9f46..f7e5b39  master -> master\n"
     ]
    }
   ],
   "source": [
    "!git add .\n",
    "!git commit -m \"debugging: Bip-MA(2), cleaned signal just 0\"\n",
    "!git push"
   ]
  },
  {
   "cell_type": "code",
   "execution_count": 2,
   "metadata": {},
   "outputs": [
    {
     "name": "stdout",
     "output_type": "stream",
     "text": [
      "Collecting git+https://github.com/Mufabo/robustsp.git\n",
      "  Cloning https://github.com/Mufabo/robustsp.git to c:\\users\\computer\\appdata\\local\\temp\\pip-req-build-g03ah_u9\n",
      "Requirement already satisfied (use --upgrade to upgrade): robustsp==0.1 from git+https://github.com/Mufabo/robustsp.git in c:\\users\\computer\\desktop\\robustsp\n",
      "Requirement already satisfied: numpy in c:\\users\\computer\\appdata\\local\\programs\\python\\python36\\lib\\site-packages (from robustsp==0.1) (1.16.2)\n",
      "Requirement already satisfied: matplotlib in c:\\users\\computer\\appdata\\local\\programs\\python\\python36\\lib\\site-packages (from robustsp==0.1) (3.0.3)\n",
      "Requirement already satisfied: scipy in c:\\users\\computer\\appdata\\local\\programs\\python\\python36\\lib\\site-packages (from robustsp==0.1) (1.2.1)\n",
      "Requirement already satisfied: setuptools in c:\\users\\computer\\appdata\\local\\programs\\python\\python36\\lib\\site-packages (from robustsp==0.1) (40.6.2)\n",
      "Requirement already satisfied: pyparsing!=2.0.4,!=2.1.2,!=2.1.6,>=2.0.1 in c:\\users\\computer\\appdata\\local\\programs\\python\\python36\\lib\\site-packages (from matplotlib->robustsp==0.1) (2.3.1)\n",
      "Requirement already satisfied: kiwisolver>=1.0.1 in c:\\users\\computer\\appdata\\local\\programs\\python\\python36\\lib\\site-packages (from matplotlib->robustsp==0.1) (1.0.1)\n",
      "Requirement already satisfied: python-dateutil>=2.1 in c:\\users\\computer\\appdata\\local\\programs\\python\\python36\\lib\\site-packages (from matplotlib->robustsp==0.1) (2.8.0)\n",
      "Requirement already satisfied: cycler>=0.10 in c:\\users\\computer\\appdata\\local\\programs\\python\\python36\\lib\\site-packages (from matplotlib->robustsp==0.1) (0.10.0)\n",
      "Requirement already satisfied: six>=1.5 in c:\\users\\computer\\appdata\\local\\programs\\python\\python36\\lib\\site-packages (from python-dateutil>=2.1->matplotlib->robustsp==0.1) (1.12.0)\n",
      "Building wheels for collected packages: robustsp\n",
      "  Building wheel for robustsp (setup.py): started\n",
      "  Building wheel for robustsp (setup.py): finished with status 'done'\n",
      "  Stored in directory: C:\\Users\\Computer\\AppData\\Local\\Temp\\pip-ephem-wheel-cache-rb2fkxkf\\wheels\\48\\96\\b5\\4d5d942e5221f34f243097e38298402e7dc702de10a8e6d448\n",
      "Successfully built robustsp\n"
     ]
    },
    {
     "name": "stderr",
     "output_type": "stream",
     "text": [
      "  Running command git clone -q https://github.com/Mufabo/robustsp.git 'C:\\Users\\Computer\\AppData\\Local\\Temp\\pip-req-build-g03ah_u9'\n",
      "WARNING: You are using pip version 19.1.1, however version 19.2.3 is available.\n",
      "You should consider upgrading via the 'python -m pip install --upgrade pip' command.\n"
     ]
    }
   ],
   "source": [
    "!pip install git+https://github.com/Mufabo/robustsp.git"
   ]
  },
  {
   "cell_type": "code",
   "execution_count": 3,
   "metadata": {},
   "outputs": [
    {
     "name": "stdout",
     "output_type": "stream",
     "text": [
      "Collecting pip\n",
      "  Downloading https://files.pythonhosted.org/packages/30/db/9e38760b32e3e7f40cce46dd5fb107b8c73840df38f0046d8e6514e675a1/pip-19.2.3-py2.py3-none-any.whl (1.4MB)\n",
      "Installing collected packages: pip\n",
      "  Found existing installation: pip 19.1.1\n",
      "    Uninstalling pip-19.1.1:\n",
      "      Successfully uninstalled pip-19.1.1\n",
      "Successfully installed pip-19.2.3\n"
     ]
    }
   ],
   "source": [
    "!python -m pip install --upgrade pip"
   ]
  }
 ],
 "metadata": {
  "kernelspec": {
   "display_name": "Python 3",
   "language": "python",
   "name": "python3"
  },
  "language_info": {
   "codemirror_mode": {
    "name": "ipython",
    "version": 3
   },
   "file_extension": ".py",
   "mimetype": "text/x-python",
   "name": "python",
   "nbconvert_exporter": "python",
   "pygments_lexer": "ipython3",
   "version": "3.6.8"
  }
 },
 "nbformat": 4,
 "nbformat_minor": 2
}
