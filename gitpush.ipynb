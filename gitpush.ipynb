{
 "cells": [
  {
   "cell_type": "code",
   "execution_count": 1,
   "metadata": {},
   "outputs": [
    {
     "name": "stderr",
     "output_type": "stream",
     "text": [
      "warning: LF will be replaced by CRLF in gitpush.ipynb.\n",
      "The file will have its original line endings in your working directory\n",
      "warning: LF will be replaced by CRLF in robustsp/.ipynb_checkpoints/__init__-checkpoint.py.\n",
      "The file will have its original line endings in your working directory\n",
      "warning: LF will be replaced by CRLF in robustsp/AuxiliaryFunctions/.ipynb_checkpoints/SoftThresh-checkpoint.py.\n",
      "The file will have its original line endings in your working directory\n",
      "warning: LF will be replaced by CRLF in robustsp/AuxiliaryFunctions/SoftThresh.py.\n",
      "The file will have its original line endings in your working directory\n",
      "warning: LF will be replaced by CRLF in robustsp/Regression/.ipynb_checkpoints/enet-checkpoint.py.\n",
      "The file will have its original line endings in your working directory\n",
      "warning: LF will be replaced by CRLF in robustsp/Regression/.ipynb_checkpoints/rankflasso-checkpoint.py.\n",
      "The file will have its original line endings in your working directory\n",
      "warning: LF will be replaced by CRLF in robustsp/Regression/enet.py.\n",
      "The file will have its original line endings in your working directory\n",
      "warning: LF will be replaced by CRLF in robustsp/Regression/rankflasso.py.\n",
      "The file will have its original line endings in your working directory\n",
      "warning: LF will be replaced by CRLF in robustsp/__init__.py.\n",
      "The file will have its original line endings in your working directory\n",
      "warning: LF will be replaced by CRLF in tests/Reg/ex/img_ex.ipynb.\n",
      "The file will have its original line endings in your working directory\n",
      "warning: LF will be replaced by CRLF in robustsp/Regression/.ipynb_checkpoints/rankflassopath-checkpoint.py.\n",
      "The file will have its original line endings in your working directory\n",
      "warning: LF will be replaced by CRLF in robustsp/Regression/rankflassopath.py.\n",
      "The file will have its original line endings in your working directory\n",
      "warning: LF will be replaced by CRLF in tests/Reg/.ipynb_checkpoints/rankflasso-checkpoint.ipynb.\n",
      "The file will have its original line endings in your working directory\n",
      "warning: LF will be replaced by CRLF in tests/Reg/.ipynb_checkpoints/rankflassopath-checkpoint.ipynb.\n",
      "The file will have its original line endings in your working directory\n",
      "warning: LF will be replaced by CRLF in tests/Reg/rankflasso.ipynb.\n",
      "The file will have its original line endings in your working directory\n",
      "warning: LF will be replaced by CRLF in tests/Reg/rankflassopath.ipynb.\n",
      "The file will have its original line endings in your working directory\n"
     ]
    },
    {
     "name": "stdout",
     "output_type": "stream",
     "text": [
      "[master 75f6168] rankflassopath done, simple unit test pass, 02/img_ex progress, refactored SoftThresh\n",
      " 22 files changed, 1013 insertions(+), 251 deletions(-)\n",
      " rewrite robustsp/AuxiliaryFunctions/__pycache__/SoftThresh.cpython-36.pyc (98%)\n",
      " create mode 100644 robustsp/Regression/.ipynb_checkpoints/rankflassopath-checkpoint.py\n",
      " create mode 100644 robustsp/Regression/__pycache__/rankflasso.cpython-36.pyc\n",
      " create mode 100644 robustsp/Regression/__pycache__/rankflassopath.cpython-36.pyc\n",
      " create mode 100644 robustsp/Regression/rankflassopath.py\n",
      " create mode 100644 tests/Reg/.ipynb_checkpoints/rankflasso-checkpoint.ipynb\n",
      " create mode 100644 tests/Reg/.ipynb_checkpoints/rankflassopath-checkpoint.ipynb\n",
      " create mode 100644 tests/Reg/ex/Blas20n.mat\n",
      " rewrite tests/Reg/ex/img_ex.ipynb (66%)\n",
      " create mode 100644 tests/Reg/rankflasso.ipynb\n",
      " create mode 100644 tests/Reg/rankflassopath.ipynb\n"
     ]
    },
    {
     "name": "stderr",
     "output_type": "stream",
     "text": [
      "To https://github.com/Mufabo/robustsp.git\n",
      "   e05ac8c..75f6168  master -> master\n"
     ]
    }
   ],
   "source": [
    "!git add .\n",
    "!git commit -m \"rankflassopath done, simple unit test pass, 02/img_ex progress, refactored SoftThresh\"\n",
    "!git push"
   ]
  },
  {
   "cell_type": "code",
   "execution_count": 6,
   "metadata": {},
   "outputs": [
    {
     "name": "stdout",
     "output_type": "stream",
     "text": [
      "Collecting git+https://github.com/Mufabo/robustsp.git\n",
      "  Cloning https://github.com/Mufabo/robustsp.git to c:\\users\\computer\\appdata\\local\\temp\\pip-req-build-ikr9xifc\n",
      "Requirement already satisfied (use --upgrade to upgrade): robustsp==0.1 from git+https://github.com/Mufabo/robustsp.git in c:\\users\\computer\\desktop\\robustsp\n",
      "Requirement already satisfied: numpy in c:\\users\\computer\\appdata\\local\\programs\\python\\python36\\lib\\site-packages (from robustsp==0.1) (1.16.2)\n",
      "Requirement already satisfied: matplotlib in c:\\users\\computer\\appdata\\local\\programs\\python\\python36\\lib\\site-packages (from robustsp==0.1) (3.0.3)\n",
      "Requirement already satisfied: scipy in c:\\users\\computer\\appdata\\local\\programs\\python\\python36\\lib\\site-packages (from robustsp==0.1) (1.2.1)\n",
      "Requirement already satisfied: setuptools in c:\\users\\computer\\appdata\\local\\programs\\python\\python36\\lib\\site-packages (from robustsp==0.1) (40.6.2)\n",
      "Requirement already satisfied: kiwisolver>=1.0.1 in c:\\users\\computer\\appdata\\local\\programs\\python\\python36\\lib\\site-packages (from matplotlib->robustsp==0.1) (1.0.1)\n",
      "Requirement already satisfied: cycler>=0.10 in c:\\users\\computer\\appdata\\local\\programs\\python\\python36\\lib\\site-packages (from matplotlib->robustsp==0.1) (0.10.0)\n",
      "Requirement already satisfied: python-dateutil>=2.1 in c:\\users\\computer\\appdata\\local\\programs\\python\\python36\\lib\\site-packages (from matplotlib->robustsp==0.1) (2.8.0)\n",
      "Requirement already satisfied: pyparsing!=2.0.4,!=2.1.2,!=2.1.6,>=2.0.1 in c:\\users\\computer\\appdata\\local\\programs\\python\\python36\\lib\\site-packages (from matplotlib->robustsp==0.1) (2.3.1)\n",
      "Requirement already satisfied: six in c:\\users\\computer\\appdata\\local\\programs\\python\\python36\\lib\\site-packages (from cycler>=0.10->matplotlib->robustsp==0.1) (1.12.0)\n",
      "Building wheels for collected packages: robustsp\n",
      "  Building wheel for robustsp (setup.py): started\n",
      "  Building wheel for robustsp (setup.py): finished with status 'done'\n",
      "  Stored in directory: C:\\Users\\Computer\\AppData\\Local\\Temp\\pip-ephem-wheel-cache-3v04dhfc\\wheels\\48\\96\\b5\\4d5d942e5221f34f243097e38298402e7dc702de10a8e6d448\n",
      "Successfully built robustsp\n"
     ]
    },
    {
     "name": "stderr",
     "output_type": "stream",
     "text": [
      "  Running command git clone -q https://github.com/Mufabo/robustsp.git 'C:\\Users\\Computer\\AppData\\Local\\Temp\\pip-req-build-ikr9xifc'\n"
     ]
    }
   ],
   "source": [
    "!pip install git+https://github.com/Mufabo/robustsp.git"
   ]
  }
 ],
 "metadata": {
  "kernelspec": {
   "display_name": "Python 3",
   "language": "python",
   "name": "python3"
  },
  "language_info": {
   "codemirror_mode": {
    "name": "ipython",
    "version": 3
   },
   "file_extension": ".py",
   "mimetype": "text/x-python",
   "name": "python",
   "nbconvert_exporter": "python",
   "pygments_lexer": "ipython3",
   "version": "3.6.8"
  }
 },
 "nbformat": 4,
 "nbformat_minor": 2
}
