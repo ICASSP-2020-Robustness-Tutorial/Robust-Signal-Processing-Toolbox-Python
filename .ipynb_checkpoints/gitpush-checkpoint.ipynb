{
 "cells": [
  {
   "cell_type": "code",
   "execution_count": null,
   "metadata": {},
   "outputs": [],
   "source": [
    "import random\n",
    "import numpy as np\n",
    "import matplotlib.pyplot as plt\n",
    "\n",
    "from robustsp.LocationScale.MLocTuk import *\n",
    "from robustsp.LocationScale.MLocHub import *\n",
    "\n",
    "# fix seed of random number generator for reproducibility\n",
    "random.seed(2)\n",
    "\n",
    "# Number of measurements\n",
    "N = 100\n",
    "\n",
    "# DC voltage in AWGN\n",
    "x_N_minus1 = np.random.randn(N-1,1)+5\n",
    "\n",
    "# outlier values\n",
    "delta_x = np.linspace(0,10,1000)\n",
    "\n",
    "# sensitivity curve for mean\n",
    "SC_mean = np.zeros(delta_x.shape)\n",
    "mu_hat = np.mean(x_N_minus1)\n",
    "for ii in range(len(delta_x)):\n",
    "    SC_mean[ii] = N*(np.mean(np.append(x_N_minus1,delta_x[ii])) \n",
    "                     - mu_hat)\n",
    "\n",
    "# sensitivity curve for median\n",
    "SC_med = np.zeros(delta_x.shape)\n",
    "mu_hat = np.median(x_N_minus1)\n",
    "for ii in range(len(delta_x)):\n",
    "    SC_med[ii] = N*(np.median(np.append(x_N_minus1,delta_x[ii])) \n",
    "                     - mu_hat)    \n",
    "\n",
    "# sensitivity curve for Huber's location estimator\n",
    "c = 1.3415\n",
    "SC_hub = np.zeros(len(delta_x))\n",
    "mu_hat = MLocHUB(x_N_minus1,c)\n",
    "for ii in range(len(delta_x)):\n",
    "    SC_hub[ii] = N*(MLocHUB(np.append(x_N_minus1,delta_x[ii])) \n",
    "                     - mu_hat)  \n",
    "    \n",
    "# sensitivity curve for Tukey's location estimator\n",
    "c = 4.68\n",
    "SC_tuk = np.zeros(len(delta_x))\n",
    "mu_hat = MLocTUK(x_N_minus1,c)\n",
    "for ii in range(len(delta_x)):\n",
    "    SC_tuk[ii] = N*(MLocTUK(np.append(x_N_minus1,delta_x[ii])) \n",
    "                     - mu_hat)    \n",
    "    \n",
    "\n",
    "plt.rcParams.update({'font.size': 18})\n",
    "\n",
    "plt.plot(delta_x,SC_mean-np.mean(SC_mean), label ='mean', linewidth=2.0)\n",
    "plt.plot(delta_x,SC_med-np.mean(SC_med), label='median', linewidth=2)\n",
    "plt.plot(delta_x,SC_hub-np.mean(SC_hub), label='Huber M', linewidth=2)\n",
    "plt.plot(delta_x,SC_tuk-np.mean(SC_tuk), label ='Tukey M', linewidth=2)\n",
    "\n",
    "plt.grid(True)\n",
    "\n",
    "plt.xlabel('Outlier value')\n",
    "plt.ylabel('Sensitivity curve')\n",
    "plt.legend()\n",
    "\n",
    "plt.show()"
   ]
  },
  {
   "cell_type": "code",
   "execution_count": 1,
   "metadata": {},
   "outputs": [
    {
     "name": "stderr",
     "output_type": "stream",
     "text": [
      "C:\\Users\\Computer\\Desktop\\RobustSP\\robustsp\\AuxiliaryFunctions\\whub.py:8: RuntimeWarning: divide by zero encountered in true_divide\n",
      "  wx = 1.*(absx<=cl) + (cl*(1./absx))*(absx>cl)\n",
      "C:\\Users\\Computer\\Desktop\\RobustSP\\robustsp\\AuxiliaryFunctions\\whub.py:8: RuntimeWarning: invalid value encountered in multiply\n",
      "  wx = 1.*(absx<=cl) + (cl*(1./absx))*(absx>cl)\n"
     ]
    },
    {
     "data": {
      "text/plain": [
       "<Figure size 640x480 with 1 Axes>"
      ]
     },
     "metadata": {},
     "output_type": "display_data"
    }
   ],
   "source": [
    "import robustsp.LocationScale.examples.sensitivity_curve_scale"
   ]
  },
  {
   "cell_type": "code",
   "execution_count": 2,
   "metadata": {},
   "outputs": [
    {
     "data": {
      "text/plain": [
       "0.3333333333333333"
      ]
     },
     "execution_count": 2,
     "metadata": {},
     "output_type": "execute_result"
    }
   ],
   "source": [
    "1/3"
   ]
  },
  {
   "cell_type": "code",
   "execution_count": 27,
   "metadata": {},
   "outputs": [
    {
     "name": "stdout",
     "output_type": "stream",
     "text": [
      "[-1.77978516e-01  4.21875000e-01 -1.77978516e-01  0.00000000e+00\n",
      "  4.21875000e-01 -8.77368164e+00 -1.95312500e+00 -2.70000000e+01\n",
      " -6.70471191e+01 -4.74163200e+06  8.23974609e-01  1.00000000e+00]\n"
     ]
    }
   ],
   "source": [
    "'''\n",
    "SOLL\n",
    "\n",
    "rhotuk([5 2 5 4 2 7 6 8 9 52 1 0]',4)\n",
    "\n",
    "ans =\n",
    "\n",
    "    5.3333\n",
    "    3.0833\n",
    "    5.3333\n",
    "    5.3333\n",
    "    3.0833\n",
    "    5.3333\n",
    "    5.3333\n",
    "    5.3333\n",
    "    5.3333\n",
    "    5.3333\n",
    "    0.9388\n",
    "         0\n",
    "'''\n",
    "from robustsp.AuxiliaryFunctions.rhotuk import rhotuk\n",
    "import numpy as np\n",
    "\n",
    "x=np.asarray([5, 2 ,5, 4, 2 ,7 ,6, 8, 9, 52, 1, 0])\n",
    "c=4\n",
    "\n",
    "\n",
    "r2 = 1-(1-(np.abs(x)/c)**2)**3  \n",
    "\n",
    "\n",
    "a=np.abs(x)/c\n",
    "b=a**2 # stimmt\n",
    "c=1-b # stimmt\n",
    "d=c**3;\n",
    "e=1-d\n",
    "print(d)\n"
   ]
  },
  {
   "cell_type": "code",
   "execution_count": 6,
   "metadata": {},
   "outputs": [
    {
     "name": "stdout",
     "output_type": "stream",
     "text": [
      "[  25    4   25   16    4   49   36   64   81 2704    1    0]\n",
      "[  25    4   25   16    4   49   36   64   81 2704    1    0]\n",
      "[   125      8    125     64      8    343    216    512    729 140608\n",
      "      1      0]\n",
      "[   125      8    125     64      8    343    216    512    729 140608\n",
      "      1      0]\n"
     ]
    }
   ],
   "source": [
    "import numpy as np\n",
    "\n",
    "a=np.asarray([5, 2 ,5, 4, 2 ,7 ,6, 8, 9, 52, 1, 0])\n",
    "print(np.square(a))\n",
    "print(a**2)\n",
    "print(a**3)\n",
    "print(np.power(a,3))"
   ]
  },
  {
   "cell_type": "code",
   "execution_count": 23,
   "metadata": {},
   "outputs": [
    {
     "data": {
      "text/plain": [
       "array([False,  True, False,  True,  True, False, False, False, False,\n",
       "       False,  True,  True])"
      ]
     },
     "execution_count": 23,
     "metadata": {},
     "output_type": "execute_result"
    }
   ],
   "source": [
    "import numpy as np\n",
    "x=np.asarray([5, 2 ,5, 4, 2 ,7 ,6, 8, 9, 52, 1, 0])\n",
    "c=4\n",
    "(np.abs(x)<=4)"
   ]
  },
  {
   "cell_type": "code",
   "execution_count": 13,
   "metadata": {},
   "outputs": [
    {
     "data": {
      "text/plain": [
       "5.333333333333333"
      ]
     },
     "execution_count": 13,
     "metadata": {},
     "output_type": "execute_result"
    }
   ],
   "source": [
    "4**2/3"
   ]
  },
  {
   "cell_type": "code",
   "execution_count": 14,
   "metadata": {},
   "outputs": [
    {
     "data": {
      "text/plain": [
       "array([  -0.5625,    0.75  ,   -0.5625,    0.    ,    0.75  ,   -2.0625,\n",
       "         -1.25  ,   -3.    ,   -4.0625, -168.    ,    0.9375,    1.    ])"
      ]
     },
     "execution_count": 14,
     "metadata": {},
     "output_type": "execute_result"
    }
   ],
   "source": [
    "c"
   ]
  },
  {
   "cell_type": "code",
   "execution_count": 30,
   "metadata": {},
   "outputs": [
    {
     "data": {
      "text/plain": [
       "array([5.33333333, 3.08333333, 5.33333333, 5.33333333, 3.08333333,\n",
       "       5.33333333, 5.33333333, 5.33333333, 5.33333333, 5.33333333,\n",
       "       0.93880208, 0.        ])"
      ]
     },
     "execution_count": 30,
     "metadata": {},
     "output_type": "execute_result"
    }
   ],
   "source": [
    "'''\n",
    "soll\n",
    "\n",
    "    1.0000\n",
    "    0.5781\n",
    "    1.0000\n",
    "    1.0000\n",
    "    0.5781\n",
    "    1.0000\n",
    "    1.0000\n",
    "    1.0000\n",
    "    1.0000\n",
    "    1.0000\n",
    "    0.1760\n",
    "         0\n",
    "'''\n",
    "import numpy as np\n",
    "x=np.asarray([5, 2 ,5, 4, 2 ,7 ,6, 8, 9, 52, 1, 0])\n",
    "c=4\n",
    "d = ((1-(1-(np.abs(x)/c)**2)**3) * (np.abs(x) <= c) + (np.abs(x) > c) ) # stimmt\n",
    "(c**2/3) * d"
   ]
  },
  {
   "cell_type": "code",
   "execution_count": 1,
   "metadata": {},
   "outputs": [
    {
     "data": {
      "text/plain": [
       "array([5.33333333, 3.08333333, 5.33333333, 5.33333333, 3.08333333,\n",
       "       5.33333333, 5.33333333, 5.33333333, 5.33333333, 5.33333333,\n",
       "       0.93880208, 0.        ])"
      ]
     },
     "execution_count": 1,
     "metadata": {},
     "output_type": "execute_result"
    }
   ],
   "source": [
    "'''SOll\n",
    "ans =\n",
    "\n",
    "    5.3333\n",
    "    3.0833\n",
    "    5.3333\n",
    "    5.3333\n",
    "    3.0833\n",
    "    5.3333\n",
    "    5.3333\n",
    "    5.3333\n",
    "    5.3333\n",
    "    5.3333\n",
    "    0.9388\n",
    "         0\n",
    "'''\n",
    "\n",
    "from robustsp.AuxiliaryFunctions.rhotuk import rhotuk\n",
    "import numpy as np\n",
    "\n",
    "x=np.asarray([5, 2 ,5, 4, 2 ,7 ,6, 8, 9, 52, 1, 0])\n",
    "c=4\n",
    "rhotuk(x,c)"
   ]
  },
  {
   "cell_type": "code",
   "execution_count": null,
   "metadata": {},
   "outputs": [],
   "source": []
  }
 ],
 "metadata": {
  "kernelspec": {
   "display_name": "Python 3",
   "language": "python",
   "name": "python3"
  },
  "language_info": {
   "codemirror_mode": {
    "name": "ipython",
    "version": 3
   },
   "file_extension": ".py",
   "mimetype": "text/x-python",
   "name": "python",
   "nbconvert_exporter": "python",
   "pygments_lexer": "ipython3",
   "version": "3.6.8"
  }
 },
 "nbformat": 4,
 "nbformat_minor": 2
}
