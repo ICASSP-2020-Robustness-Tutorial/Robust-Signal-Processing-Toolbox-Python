{
 "cells": [
  {
   "cell_type": "code",
   "execution_count": 1,
   "metadata": {},
   "outputs": [],
   "source": [
    "import robustsp as rsp\n",
    "import numpy as np\n",
    "import matplotlib\n",
    "%matplotlib inline\n",
    "import matplotlib.pyplot as plt\n",
    "import scipy.io\n",
    "import pkg_resources\n",
    "\n",
    "path = pkg_resources.resource_filename('robustsp', 'data/prostate.mat')\n",
    "names = scipy.io.loadmat(path,struct_as_record=False)['names'][0]\n",
    "names = [i for i in zip(*names)][0]\n",
    "\n",
    "X = scipy.io.loadmat(path,struct_as_record=False)['X']\n",
    "y = scipy.io.loadmat(path,struct_as_record=False)['y']\n",
    "n,p = X.shape\n",
    "Xone = np.hstack((np.ones((n,1)),X))\n",
    "#LSE = np.linalg.lstsq(X)\n",
    "GRlen = 120\n",
    "\n",
    "Xcheck = scipy.io.loadmat(path,struct_as_record=False)['X']\n",
    "ycheck = scipy.io.loadmat(path,struct_as_record=False)['y']\n",
    "\n",
    "#############   LASSO   ############\n",
    "\n",
    "B,stats = rsp.enetpath(y,X,1)\n",
    "\n",
    "k = np.nanargmin(stats['BIC']) # ,29 , 30 in matlab\n",
    "blas = np.copy(B[:,k]) # LASSO BIC solution \n",
    "bmaxlas = np.sum(np.abs(B[1:,-1])) # largest value of || \\beta ||_1, 2.0733\n",
    "\n",
    "# plot LASSO\n",
    "\n",
    "locs = np.copy(B[1:,-1])\n",
    "locs[2] = locs[2] - 0.025 # 'age' is too close, so put it down\n",
    "locs[6] = locs[6] + 0.01\n",
    "loc_x = np.sum(np.abs(blas[1:-1])) / bmaxlas\n",
    "xx = np.sum(np.abs(B[1:,:]),axis=0)/bmaxlas # slightly different from Matlab version\n",
    "Y = B[1:,:]\n",
    "fig1 = plt.figure(0)\n",
    "plt.subplot(221)\n",
    "rsp.prostate_plot_setup(xx,Y,locs,loc_x,names)\n",
    "fig1.show()\n",
    "\n",
    "###############   LAD-LASSO   ################\n",
    "\n",
    "Blad,statslad = rsp.ladlassopath(y,X,reltol=1e-7)\n",
    "ladind = np.nanargmin(statslad['gBIC'])\n",
    "blad = Blad[:,ladind] # LAD-Lasso BIC solution\n",
    "bmaxlad = np.max(np.sum(np.abs(Blad[1:,:]),axis=0)) # largest solution || \\beta ||_1\n",
    "\n",
    "# Plot LAD-LASSO\n",
    "plt.subplot(223)\n",
    "locs = Blad[1:,-1] # stellenweise andars als matlab \n",
    "locs[1] = locs[1] + 0.02 # lweight up\n",
    "locs[6] = locs[6] + 0.02 # gleason up\n",
    "locs[3] = locs[3] - 0.02 # age down\n",
    "loc_x = np.sum(np.abs(blad[1:])) / bmaxlad\n",
    "xx = np.sum(np.abs(Blad[1:,:]),axis=0)/bmaxlad \n",
    "Y = Blad[1:,:]\n",
    "rsp.prostate_plot_setup(xx,Y,locs,loc_x,names)\n",
    "fig1.show()\n",
    "\n",
    "############   Rank-LASSO   ############\n",
    "\n",
    "Brlad, _, statsrlad = rsp.ranklassopath(y,X)\n",
    "rladind = np.nanargmin(statsrlad['gBIC'])\n",
    "brlad = Brlad[:,rladind]\n",
    "bmaxrlad = np.max(np.sum(np.abs(Brlad),axis=0))\n",
    "\n",
    "# Plot Rank-LASSO\n",
    "plt.subplot(224)\n",
    "locs = Brlad[:,-1] # stellenweise andars als matlab \n",
    "locs[6] = locs[6] + 0.02 # gleason up\n",
    "locs[2] = locs[2] - 0.02 # age down\n",
    "loc_x = np.sum(np.abs(brlad)) / bmaxrlad\n",
    "xx = np.sum(np.abs(Brlad),axis=0)/bmaxrlad \n",
    "rsp.prostate_plot_setup(xx,Brlad,locs,loc_x,names)\n",
    "fig1.show()"
   ]
  },
  {
   "cell_type": "code",
   "execution_count": 1,
   "metadata": {},
   "outputs": [
    {
     "ename": "ValueError",
     "evalue": "matmul: Input operand 1 does not have enough dimensions (has 0, gufunc core with signature (n?,k),(k,m?)->(n?,m?) requires 1)",
     "output_type": "error",
     "traceback": [
      "\u001b[1;31m---------------------------------------------------------------------------\u001b[0m",
      "\u001b[1;31mValueError\u001b[0m                                Traceback (most recent call last)",
      "\u001b[1;32m<ipython-input-1-fb0c333b725b>\u001b[0m in \u001b[0;36m<module>\u001b[1;34m\u001b[0m\n\u001b[0;32m     20\u001b[0m \u001b[1;31m############   M-LASSO   ############\u001b[0m\u001b[1;33m\u001b[0m\u001b[1;33m\u001b[0m\u001b[1;33m\u001b[0m\u001b[0m\n\u001b[0;32m     21\u001b[0m \u001b[1;33m\u001b[0m\u001b[0m\n\u001b[1;32m---> 22\u001b[1;33m \u001b[0mBhub\u001b[0m\u001b[1;33m,\u001b[0m \u001b[0m_\u001b[0m\u001b[1;33m,\u001b[0m \u001b[0mstatshub\u001b[0m \u001b[1;33m=\u001b[0m \u001b[0mrsp\u001b[0m\u001b[1;33m.\u001b[0m\u001b[0mhublassopath\u001b[0m\u001b[1;33m(\u001b[0m\u001b[0my\u001b[0m\u001b[1;33m,\u001b[0m\u001b[0mX\u001b[0m\u001b[1;33m)\u001b[0m\u001b[1;33m\u001b[0m\u001b[1;33m\u001b[0m\u001b[0m\n\u001b[0m\u001b[0;32m     23\u001b[0m \u001b[0mhubind\u001b[0m \u001b[1;33m=\u001b[0m \u001b[0mnp\u001b[0m\u001b[1;33m.\u001b[0m\u001b[0mnanargmin\u001b[0m\u001b[1;33m(\u001b[0m\u001b[0mstatshub\u001b[0m\u001b[1;33m[\u001b[0m\u001b[1;34m'gBIC'\u001b[0m\u001b[1;33m]\u001b[0m\u001b[1;33m)\u001b[0m\u001b[1;33m\u001b[0m\u001b[1;33m\u001b[0m\u001b[0m\n\u001b[0;32m     24\u001b[0m \u001b[0mbhub\u001b[0m \u001b[1;33m=\u001b[0m \u001b[0mBhub\u001b[0m\u001b[1;33m[\u001b[0m\u001b[1;33m:\u001b[0m\u001b[1;33m,\u001b[0m\u001b[0mhubind\u001b[0m\u001b[1;33m]\u001b[0m\u001b[1;33m\u001b[0m\u001b[1;33m\u001b[0m\u001b[0m\n",
      "\u001b[1;32mc:\\users\\computer\\desktop\\robustsp\\robustsp\\Regression\\hublassopath.py\u001b[0m in \u001b[0;36mhublassopath\u001b[1;34m(yx, Xx, c, intcpt, eps, L, reltol, printitn)\u001b[0m\n\u001b[0;32m     70\u001b[0m \u001b[1;33m\u001b[0m\u001b[0m\n\u001b[0;32m     71\u001b[0m     \u001b[1;32mfor\u001b[0m \u001b[0mjj\u001b[0m \u001b[1;32min\u001b[0m \u001b[0mrange\u001b[0m\u001b[1;33m(\u001b[0m\u001b[0mL\u001b[0m\u001b[1;33m)\u001b[0m\u001b[1;33m:\u001b[0m\u001b[1;33m\u001b[0m\u001b[1;33m\u001b[0m\u001b[0m\n\u001b[1;32m---> 72\u001b[1;33m         \u001b[0mB\u001b[0m\u001b[1;33m[\u001b[0m\u001b[1;33m:\u001b[0m\u001b[1;33m,\u001b[0m\u001b[0mjj\u001b[0m\u001b[1;33m+\u001b[0m\u001b[1;36m1\u001b[0m\u001b[1;33m]\u001b[0m\u001b[1;33m,\u001b[0m \u001b[0msig\u001b[0m\u001b[1;33m[\u001b[0m\u001b[0mjj\u001b[0m\u001b[1;33m+\u001b[0m\u001b[1;36m1\u001b[0m\u001b[1;33m]\u001b[0m \u001b[1;33m=\u001b[0m \u001b[0mrsp\u001b[0m\u001b[1;33m.\u001b[0m\u001b[0mhublasso\u001b[0m\u001b[1;33m(\u001b[0m\u001b[0my\u001b[0m\u001b[1;33m,\u001b[0m\u001b[0mX\u001b[0m\u001b[1;33m,\u001b[0m\u001b[0mc\u001b[0m\u001b[1;33m,\u001b[0m\u001b[0mlamgrid\u001b[0m\u001b[1;33m[\u001b[0m\u001b[0mjj\u001b[0m\u001b[1;33m+\u001b[0m\u001b[1;36m1\u001b[0m\u001b[1;33m]\u001b[0m\u001b[1;33m,\u001b[0m\u001b[0mB\u001b[0m\u001b[1;33m[\u001b[0m\u001b[1;33m:\u001b[0m\u001b[1;33m,\u001b[0m\u001b[0mjj\u001b[0m\u001b[1;33m]\u001b[0m\u001b[1;33m,\u001b[0m\u001b[0msig\u001b[0m\u001b[1;33m[\u001b[0m\u001b[0mjj\u001b[0m\u001b[1;33m]\u001b[0m\u001b[1;33m,\u001b[0m\u001b[0mreltol\u001b[0m\u001b[1;33m,\u001b[0m\u001b[0mprintitn\u001b[0m\u001b[1;33m)\u001b[0m\u001b[1;33m\u001b[0m\u001b[1;33m\u001b[0m\u001b[0m\n\u001b[0m\u001b[0;32m     73\u001b[0m \u001b[1;33m\u001b[0m\u001b[0m\n\u001b[0;32m     74\u001b[0m     \u001b[0mB\u001b[0m\u001b[1;33m[\u001b[0m\u001b[0mnp\u001b[0m\u001b[1;33m.\u001b[0m\u001b[0mabs\u001b[0m\u001b[1;33m(\u001b[0m\u001b[0mB\u001b[0m\u001b[1;33m)\u001b[0m\u001b[1;33m<\u001b[0m\u001b[1;36m5e-8\u001b[0m\u001b[1;33m]\u001b[0m\u001b[1;33m=\u001b[0m\u001b[1;36m0\u001b[0m\u001b[1;33m\u001b[0m\u001b[1;33m\u001b[0m\u001b[0m\n",
      "\u001b[1;32mc:\\users\\computer\\desktop\\robustsp\\robustsp\\Regression\\hublasso.py\u001b[0m in \u001b[0;36mhublasso\u001b[1;34m(yx, Xx, lambd, b0, sig0, c, reltol, printitn, iterMAX)\u001b[0m\n\u001b[0;32m     53\u001b[0m     \u001b[0mi\u001b[0m \u001b[1;33m=\u001b[0m \u001b[1;36m0\u001b[0m\u001b[1;33m\u001b[0m\u001b[1;33m\u001b[0m\u001b[0m\n\u001b[0;32m     54\u001b[0m     \u001b[1;32mfor\u001b[0m \u001b[0m_\u001b[0m \u001b[1;32min\u001b[0m \u001b[0mrange\u001b[0m\u001b[1;33m(\u001b[0m\u001b[0miterMAX\u001b[0m\u001b[1;33m)\u001b[0m\u001b[1;33m:\u001b[0m\u001b[1;33m\u001b[0m\u001b[1;33m\u001b[0m\u001b[0m\n\u001b[1;32m---> 55\u001b[1;33m         \u001b[0mr\u001b[0m \u001b[1;33m=\u001b[0m \u001b[0my\u001b[0m\u001b[1;33m-\u001b[0m\u001b[0mX\u001b[0m\u001b[1;33m@\u001b[0m\u001b[0mb0\u001b[0m\u001b[1;33m\u001b[0m\u001b[1;33m\u001b[0m\u001b[0m\n\u001b[0m\u001b[0;32m     56\u001b[0m         \u001b[0mpsires\u001b[0m \u001b[1;33m=\u001b[0m \u001b[0mrsp\u001b[0m\u001b[1;33m.\u001b[0m\u001b[0mpsihub\u001b[0m\u001b[1;33m(\u001b[0m\u001b[0mr\u001b[0m\u001b[1;33m/\u001b[0m\u001b[0msig0\u001b[0m\u001b[1;33m,\u001b[0m\u001b[0mc\u001b[0m\u001b[1;33m)\u001b[0m\u001b[1;33m*\u001b[0m\u001b[0msig0\u001b[0m\u001b[1;33m\u001b[0m\u001b[1;33m\u001b[0m\u001b[0m\n\u001b[0;32m     57\u001b[0m         \u001b[0msig1\u001b[0m \u001b[1;33m=\u001b[0m \u001b[0mnp\u001b[0m\u001b[1;33m.\u001b[0m\u001b[0mlinalg\u001b[0m\u001b[1;33m.\u001b[0m\u001b[0mnorm\u001b[0m\u001b[1;33m(\u001b[0m\u001b[0mpsires\u001b[0m\u001b[1;33m)\u001b[0m\u001b[1;33m/\u001b[0m\u001b[0mcon\u001b[0m\u001b[1;33m\u001b[0m\u001b[1;33m\u001b[0m\u001b[0m\n",
      "\u001b[1;31mValueError\u001b[0m: matmul: Input operand 1 does not have enough dimensions (has 0, gufunc core with signature (n?,k),(k,m?)->(n?,m?) requires 1)"
     ]
    }
   ],
   "source": [
    "import robustsp as rsp\n",
    "import numpy as np\n",
    "import matplotlib\n",
    "%matplotlib inline\n",
    "import matplotlib.pyplot as plt\n",
    "import scipy.io\n",
    "import pkg_resources\n",
    "\n",
    "path = pkg_resources.resource_filename('robustsp', 'data/prostate.mat')\n",
    "names = scipy.io.loadmat(path,struct_as_record=False)['names'][0]\n",
    "names = [i for i in zip(*names)][0]\n",
    "\n",
    "X = scipy.io.loadmat(path,struct_as_record=False)['X']\n",
    "y = scipy.io.loadmat(path,struct_as_record=False)['y']\n",
    "n,p = X.shape\n",
    "Xone = np.hstack((np.ones((n,1)),X))\n",
    "#LSE = np.linalg.lstsq(X)\n",
    "GRlen = 120\n",
    "\n",
    "############   M-LASSO   ############\n",
    "\n",
    "Bhub, _, statshub = rsp.hublassopath(y,X)\n",
    "hubind = np.nanargmin(statshub['gBIC'])\n",
    "bhub = Bhub[:,hubind]\n",
    "bmaxhub = np.max(np.sum(np.abs(Bhub),axis=0))\n",
    "\n",
    "# Plot Rank-LASSO\n",
    "plt.subplot(222)\n",
    "locs = Brlad[:,-1] # stellenweise andars als matlab \n",
    "locs[6] = locs[6] + 0.02 # gleason up\n",
    "locs[2] = locs[2] - 0.03 # age down\n",
    "loc_x = np.sum(np.abs(bhub)) / bmaxhub\n",
    "xx = np.sum(np.abs(Bhub),axis=0)/bmaxhub \n",
    "rsp.prostate_plot_setup(xx,Bhub,locs,loc_x,names)\n",
    "plt.show()#fig1.show()"
   ]
  },
  {
   "cell_type": "code",
   "execution_count": 2,
   "metadata": {},
   "outputs": [
    {
     "name": "stderr",
     "output_type": "stream",
     "text": [
      "c:\\users\\computer\\desktop\\robustsp\\robustsp\\Regression\\ladlasso.py:86: RuntimeWarning: divide by zero encountered in double_scalars\n",
      "  crit = np.linalg.norm(b1-b0)/np.linalg.norm(b0);\n"
     ]
    },
    {
     "data": {
      "image/png": "[encoded data removed]",
      "text/plain": [
       "<Figure size 432x288 with 1 Axes>"
      ]
     },
     "metadata": {
      "needs_background": "light"
     },
     "output_type": "display_data"
    }
   ],
   "source": [
    "import robustsp as rsp\n",
    "import numpy as np\n",
    "import matplotlib\n",
    "%matplotlib inline\n",
    "import matplotlib.pyplot as plt\n",
    "import scipy.io\n",
    "import pkg_resources\n",
    "\n",
    "fig1 = plt.figure(0)\n",
    "path = pkg_resources.resource_filename('robustsp', 'data/prostate.mat')\n",
    "names = scipy.io.loadmat(path,struct_as_record=False)['names'][0]\n",
    "names = [i for i in zip(*names)][0]\n",
    "\n",
    "X = scipy.io.loadmat(path,struct_as_record=False)['X']\n",
    "y = scipy.io.loadmat(path,struct_as_record=False)['y']\n",
    "n,p = X.shape\n",
    "Xone = np.hstack((np.ones((n,1)),X))\n",
    "#LSE = np.linalg.lstsq(X)\n",
    "GRlen = 120\n",
    "\n",
    "Xcheck = scipy.io.loadmat(path,struct_as_record=False)['X']\n",
    "ycheck = scipy.io.loadmat(path,struct_as_record=False)['y']\n",
    "\n"
   ]
  },
  {
   "cell_type": "code",
   "execution_count": null,
   "metadata": {},
   "outputs": [],
   "source": []
  },
  {
   "cell_type": "code",
   "execution_count": 18,
   "metadata": {},
   "outputs": [
    {
     "data": {
      "text/plain": [
       "array([[ True,  True],\n",
       "       [ True,  True],\n",
       "       [ True,  True]])"
      ]
     },
     "execution_count": 18,
     "metadata": {},
     "output_type": "execute_result"
    }
   ],
   "source": [
    "a = np.array([[1,2],[3,4]])\n",
    "b = np.array([4,5,6])\n",
    "c= np.ones([3,3])\n",
    "\n",
    "\n",
    "stats = {}\n",
    "stats['d'] = np.vstack((a,c[1:,:-2].T))\n",
    "stats['d'] != 0\n"
   ]
  },
  {
   "cell_type": "code",
   "execution_count": 4,
   "metadata": {},
   "outputs": [
    {
     "data": {
      "text/plain": [
       "array([1, 1, 1, 2, 2, 2, 3, 3, 3])"
      ]
     },
     "execution_count": 4,
     "metadata": {},
     "output_type": "execute_result"
    }
   ],
   "source": [
    "np.hstack((np.ones((3,1)),np.eye(3)))\n",
    "np.repeat(np.arange(1,4)[:,None],3,axis=1)\n",
    "np.repeat(np.arange(1,4),3,axis=0)"
   ]
  },
  {
   "cell_type": "code",
   "execution_count": 24,
   "metadata": {},
   "outputs": [
    {
     "data": {
      "text/plain": [
       "(array([[2., 1., 1.],\n",
       "        [1., 2., 1.],\n",
       "        [1., 1., 2.]]), array([[2., 1., 1.],\n",
       "        [1., 2., 1.],\n",
       "        [1., 1., 2.]]), array([[1., 0., 0.],\n",
       "        [0., 1., 0.],\n",
       "        [0., 0., 1.]]))"
      ]
     },
     "execution_count": 24,
     "metadata": {},
     "output_type": "execute_result"
    }
   ],
   "source": [
    "A = np.eye(3)\n",
    "B = A.T\n",
    "C = np.copy(A.T)\n",
    "\n",
    "\n",
    "B+=1\n",
    "A,B,C"
   ]
  },
  {
   "cell_type": "code",
   "execution_count": 9,
   "metadata": {},
   "outputs": [
    {
     "data": {
      "text/plain": [
       "(array([2, 3, 4]), array([2, 3, 4]))"
      ]
     },
     "execution_count": 9,
     "metadata": {},
     "output_type": "execute_result"
    }
   ],
   "source": [
    "a = [1,2,3]\n",
    "b = np.asarray(a)\n",
    "c= np.asarray(b)\n",
    "b+=1\n",
    "c, b"
   ]
  },
  {
   "cell_type": "code",
   "execution_count": 7,
   "metadata": {},
   "outputs": [
    {
     "data": {
      "text/plain": [
       "array([2., 2., 2.])"
      ]
     },
     "execution_count": 7,
     "metadata": {},
     "output_type": "execute_result"
    }
   ],
   "source": [
    "a = np.eye(3)*2\n",
    "b = np.ones(3)\n",
    "a@b"
   ]
  },
  {
   "cell_type": "code",
   "execution_count": 14,
   "metadata": {},
   "outputs": [
    {
     "data": {
      "text/plain": [
       "array([0.68268949, 0.84270079, 0.91673548])"
      ]
     },
     "execution_count": 14,
     "metadata": {},
     "output_type": "execute_result"
    }
   ],
   "source": [
    "from scipy.stats import chi2\n",
    "\n",
    "m,v,s,k = chi2.stats(1, moments='mvsk')\n",
    "m,v,s,k\n",
    "\n",
    "chi2.cdf([1,2,3],1)"
   ]
  },
  {
   "cell_type": "code",
   "execution_count": 25,
   "metadata": {},
   "outputs": [
    {
     "data": {
      "text/plain": [
       "array([2, 5, 8])"
      ]
     },
     "execution_count": 25,
     "metadata": {},
     "output_type": "execute_result"
    }
   ],
   "source": [
    "X = np.array([[1,2,3],[4,5,6],[7,8,9]])\n",
    "\n",
    "X[:,1]"
   ]
  },
  {
   "cell_type": "code",
   "execution_count": 18,
   "metadata": {},
   "outputs": [
    {
     "data": {
      "text/plain": [
       "array([[ 4],\n",
       "       [ 8],\n",
       "       [12]])"
      ]
     },
     "execution_count": 18,
     "metadata": {},
     "output_type": "execute_result"
    }
   ],
   "source": [
    "np.array([[1],[2],[3]]) @np.array([4])[:,np.newaxis]"
   ]
  },
  {
   "cell_type": "code",
   "execution_count": 2,
   "metadata": {},
   "outputs": [
    {
     "data": {
      "text/plain": [
       "array([[ 0.66666667, -0.33333333, -0.33333333],\n",
       "       [-0.33333333,  0.66666667, -0.33333333],\n",
       "       [-0.33333333, -0.33333333,  0.66666667]])"
      ]
     },
     "execution_count": 2,
     "metadata": {},
     "output_type": "execute_result"
    }
   ],
   "source": [
    "np.eye(3)-np.mean(np.eye(3),axis=0)"
   ]
  }
 ],
 "metadata": {
  "kernelspec": {
   "display_name": "Python 3",
   "language": "python",
   "name": "python3"
  },
  "language_info": {
   "codemirror_mode": {
    "name": "ipython",
    "version": 3
   },
   "file_extension": ".py",
   "mimetype": "text/x-python",
   "name": "python",
   "nbconvert_exporter": "python",
   "pygments_lexer": "ipython3",
   "version": "3.6.8"
  },
  "latex_envs": {
   "LaTeX_envs_menu_present": true,
   "autoclose": false,
   "autocomplete": true,
   "bibliofile": "biblio.bib",
   "cite_by": "apalike",
   "current_citInitial": 1,
   "eqLabelWithNumbers": true,
   "eqNumInitial": 1,
   "hotkeys": {
    "equation": "Ctrl-E",
    "itemize": "Ctrl-I"
   },
   "labels_anchors": false,
   "latex_user_defs": false,
   "report_style_numbering": false,
   "user_envs_cfg": false
  },
  "toc": {
   "base_numbering": 1,
   "nav_menu": {},
   "number_sections": true,
   "sideBar": true,
   "skip_h1_title": false,
   "title_cell": "Table of Contents",
   "title_sidebar": "Contents",
   "toc_cell": false,
   "toc_position": {},
   "toc_section_display": true,
   "toc_window_display": false
  }
 },
 "nbformat": 4,
 "nbformat_minor": 2
}
