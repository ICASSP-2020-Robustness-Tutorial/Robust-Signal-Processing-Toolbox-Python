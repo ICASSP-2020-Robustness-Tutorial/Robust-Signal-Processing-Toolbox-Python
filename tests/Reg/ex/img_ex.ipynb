{
 "cells": [
  {
   "cell_type": "code",
   "execution_count": 26,
   "metadata": {},
   "outputs": [
    {
     "data": {
      "text/plain": [
       "'\\nn =\\n\\n   400\\n\\n\\nMSElasso =\\n\\n   83.5977\\n\\nrankflasso: starting iterations\\n\\nMSE_rank1 =\\n\\n  105.8938\\n\\nrankflasso: starting iterations\\n\\nMSE_rank2 =\\n\\n   21.8556\\n'"
      ]
     },
     "execution_count": 26,
     "metadata": {},
     "output_type": "execute_result"
    }
   ],
   "source": [
    "from robustsp import *\n",
    "import numpy as np\n",
    "import matplotlib\n",
    "%matplotlib inline\n",
    "import matplotlib.pyplot as plt\n",
    "import scipy.io\n",
    "import pkg_resources\n",
    "\n",
    "'''\n",
    "n =\n",
    "\n",
    "   400\n",
    "\n",
    "\n",
    "MSElasso =\n",
    "\n",
    "   83.5977\n",
    "\n",
    "rankflasso: starting iterations\n",
    "\n",
    "MSE_rank1 =\n",
    "\n",
    "  105.8938\n",
    "\n",
    "rankflasso: starting iterations\n",
    "\n",
    "MSE_rank2 =\n",
    "\n",
    "   21.8556\n",
    "'''"
   ]
  },
  {
   "cell_type": "code",
   "execution_count": 27,
   "metadata": {},
   "outputs": [],
   "source": [
    "# Read image of sqares (20 x 20 pixels)\n",
    "path = pkg_resources.resource_filename('robustsp', 'data/images.mat')\n",
    "# contains the vectors y20 (clean data) and y20n (noisy data)\n",
    "img = scipy.io.loadmat(path,struct_as_record=False)\n",
    "y20 = img['y20']\n",
    "y20n = img['y20n']\n",
    "n = y20.size\n",
    "scaledata = lambda x: 3*(x-np.min(x)) / (np.max(x) - np.min(x))"
   ]
  },
  {
   "cell_type": "code",
   "execution_count": 30,
   "metadata": {},
   "outputs": [],
   "source": [
    "# Plot the image\n",
    "#plt.figure(0)\n",
    "ax0 = fig1.add_subplot(2,2,1)\n",
    "#plt.subplot(221)\n",
    "fig1.add_subplot(2,2,1)\n",
    "ax0.set_title('original image')\n",
    "#plt.title('original image')\n",
    "ax0.imshow(np.reshape(y20,(int(np.sqrt(n)),int(np.sqrt(n))),order=\"F\"),\n",
    "              interpolation='none', cmap=plt.cm.gray)\n",
    "#plt.imshow(np.reshape(y20,(int(np.sqrt(n)),int(np.sqrt(n))),order=\"F\"),\n",
    "#              interpolation='none', cmap=plt.cm.gray)\n",
    "fig1.show()"
   ]
  },
  {
   "cell_type": "code",
   "execution_count": 5,
   "metadata": {},
   "outputs": [
    {
     "data": {
      "text/plain": [
       "[<matplotlib.lines.Line2D at 0x2786281f828>]"
      ]
     },
     "execution_count": 5,
     "metadata": {},
     "output_type": "execute_result"
    },
    {
     "data": {
      "image/png": "[encoded data removed]",
      "text/plain": [
       "<Figure size 432x288 with 1 Axes>"
      ]
     },
     "metadata": {
      "needs_background": "light"
     },
     "output_type": "display_data"
    }
   ],
   "source": [
    "# Plot the signal\n",
    "fig2 = plt.figure(1)\n",
    "#ax02 = plt.subplot(2,2,1) # ,aspect='equal'\n",
    "plt.subplot(2,2,1)\n",
    "#plt.axis('tight')\n",
    "#plt.autoscale(axis='both')\n",
    "#ax02.set_title('original signal')\n",
    "plt.title('original signal')\n",
    "#ax02.plot(range(1,n+1),y20,'*',markersize=14)\n",
    "plt.plot(range(1,n+1),y20,'*',markersize=14)"
   ]
  },
  {
   "cell_type": "code",
   "execution_count": 24,
   "metadata": {},
   "outputs": [
    {
     "data": {
      "image/png": "[encoded data removed]",
      "text/plain": [
       "<Figure size 432x288 with 1 Axes>"
      ]
     },
     "metadata": {
      "needs_background": "light"
     },
     "output_type": "display_data"
    }
   ],
   "source": [
    "# Plot the image + noise\n",
    "plt.figure(0)\n",
    "#ax2 = plt.subplot(2,2,2)\n",
    "\n",
    "#ax2.set_title('image + noise')\n",
    "#ax2.imshow(np.reshape(y20n,(int(np.sqrt(n)),int(np.sqrt(n))),order=\"F\"),interpolation='none', cmap=plt.cm.gray)\n",
    "fig1.add_subplot(2,2,2)\n",
    "plt.imshow(np.reshape(y20n,(int(np.sqrt(n)),int(np.sqrt(n))),order=\"F\"),interpolation='none', cmap=plt.cm.gray)\n",
    "fig1.show()"
   ]
  },
  {
   "cell_type": "code",
   "execution_count": 69,
   "metadata": {},
   "outputs": [
    {
     "data": {
      "text/plain": [
       "[<matplotlib.lines.Line2D at 0x181fd59a7f0>]"
      ]
     },
     "execution_count": 69,
     "metadata": {},
     "output_type": "execute_result"
    },
    {
     "data": {
      "image/png": "[encoded data removed]",
      "text/plain": [
       "<Figure size 432x288 with 1 Axes>"
      ]
     },
     "metadata": {
      "needs_background": "light"
     },
     "output_type": "display_data"
    }
   ],
   "source": [
    "# Plot the noisy (measured) signal\n",
    "fig2\n",
    "ax12 = plt.subplot(2,2,2) # ,aspect='equal'\n",
    "ax12.set_title('measured signal')\n",
    "ax12.set_xlabel(r\"$i$\",fontsize=16)\n",
    "ax12.set_ylabel(r\"$y_{i}$\",fontsize=20)\n",
    "ax12.plot(range(1,n+1),y20n,'*',markersize=14)\n"
   ]
  },
  {
   "cell_type": "code",
   "execution_count": 71,
   "metadata": {},
   "outputs": [],
   "source": [
    "# Compute the Lasso solution\n",
    "L = 20\n"
   ]
  }
 ],
 "metadata": {
  "kernelspec": {
   "display_name": "Python 3",
   "language": "python",
   "name": "python3"
  },
  "language_info": {
   "codemirror_mode": {
    "name": "ipython",
    "version": 3
   },
   "file_extension": ".py",
   "mimetype": "text/x-python",
   "name": "python",
   "nbconvert_exporter": "python",
   "pygments_lexer": "ipython3",
   "version": "3.6.8"
  }
 },
 "nbformat": 4,
 "nbformat_minor": 2
}
