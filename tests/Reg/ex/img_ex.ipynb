{
 "cells": [
  {
   "cell_type": "code",
   "execution_count": 19,
   "metadata": {},
   "outputs": [
    {
     "data": {
      "text/plain": [
       "True"
      ]
     },
     "execution_count": 19,
     "metadata": {},
     "output_type": "execute_result"
    },
    {
     "data": {
      "image/png": "[encoded data removed]",
      "text/plain": [
       "<Figure size 432x288 with 2 Axes>"
      ]
     },
     "metadata": {
      "needs_background": "light"
     },
     "output_type": "display_data"
    },
    {
     "data": {
      "image/png": "[encoded data removed]",
      "text/plain": [
       "<Figure size 432x288 with 1 Axes>"
      ]
     },
     "metadata": {
      "needs_background": "light"
     },
     "output_type": "display_data"
    }
   ],
   "source": [
    "import robustsp as rsp\n",
    "import numpy as np\n",
    "import matplotlib\n",
    "%matplotlib inline\n",
    "import matplotlib.pyplot as plt\n",
    "import scipy.io\n",
    "import pkg_resources\n",
    "\n",
    "'''\n",
    "n =\n",
    "\n",
    "   400\n",
    "\n",
    "\n",
    "MSElasso =\n",
    "\n",
    "   83.5977\n",
    "\n",
    "rankflasso: starting iterations\n",
    "\n",
    "MSE_rank1 =\n",
    "\n",
    "  105.8938\n",
    "\n",
    "rankflasso: starting iterations\n",
    "\n",
    "MSE_rank2 =\n",
    "\n",
    "   21.8556\n",
    "'''\n",
    "\n",
    "# Read image of sqares (20 x 20 pixels)\n",
    "path = pkg_resources.resource_filename('robustsp', 'data/images.mat')\n",
    "# contains the vectors y20 (clean data) and y20n (noisy data)\n",
    "img = scipy.io.loadmat(path,struct_as_record=False)\n",
    "y20 = img['y20']\n",
    "y20n = img['y20n']\n",
    "n = len(y20)\n",
    "scaledata = lambda x: 3*(x-np.min(x)) / (np.max(x) - np.min(x))\n",
    "\n",
    "# Plot the image\n",
    "fig1 = plt.figure(0)\n",
    "ax0 = fig1.add_subplot(2,2,1)\n",
    "#plt.subplot(221)\n",
    "fig1.add_subplot(2,2,1)\n",
    "ax0.set_title('original image')\n",
    "#plt.title('original image')\n",
    "ax0.imshow(np.reshape(y20,(int(np.sqrt(n)),int(np.sqrt(n))),order=\"F\"),\n",
    "              interpolation='none', cmap=plt.cm.gray)\n",
    "#plt.imshow(np.reshape(y20,(int(np.sqrt(n)),int(np.sqrt(n))),order=\"F\"),\n",
    "#              interpolation='none', cmap=plt.cm.gray)\n",
    "fig1.show()\n",
    "\n",
    "# Plot the signal\n",
    "fig2 = plt.figure(1)\n",
    "#ax02 = plt.subplot(2,2,1) # ,aspect='equal'\n",
    "plt.subplot(2,2,1)\n",
    "#plt.axis('tight')\n",
    "#plt.autoscale(axis='both')\n",
    "#ax02.set_title('original signal')\n",
    "plt.title('original signal')\n",
    "#ax02.plot(range(1,n+1),y20,'*',markersize=14)\n",
    "plt.plot(range(1,n+1),y20,'*',markersize=14)\n",
    "\n",
    "# Plot the image + noise\n",
    "plt.figure(0)\n",
    "#ax2 = plt.subplot(2,2,2)\n",
    "\n",
    "#ax2.set_title('image + noise')\n",
    "#ax2.imshow(np.reshape(y20n,(int(np.sqrt(n)),int(np.sqrt(n))),order=\"F\"),interpolation='none', cmap=plt.cm.gray)\n",
    "fig1.add_subplot(2,2,2)\n",
    "plt.imshow(np.reshape(y20n,(int(np.sqrt(n)),int(np.sqrt(n))),order=\"F\"),interpolation='none', cmap=plt.cm.gray)\n",
    "fig1.show()\n",
    "\n",
    "# Plot the noisy (measured) signal\n",
    "fig2\n",
    "ax12 = plt.subplot(2,2,2) # ,aspect='equal'\n",
    "ax12.set_title('measured signal')\n",
    "ax12.set_xlabel(r\"$i$\",fontsize=16)\n",
    "ax12.set_ylabel(r\"$y_{i}$\",fontsize=20)\n",
    "ax12.plot(range(1,n+1),y20n,'*',markersize=14)\n",
    "\n",
    "\n",
    "# Compute the Lasso solution\n",
    "L = 20 # grid size\n",
    "Blas20n, stats = rsp.enetpath(y20n,np.eye(n),1,L,1e-3,False)\n",
    "\n",
    "Blas20n = Blas20n[:,1:] # get rid of all zeros\n",
    "# Choose the best Lasso solution\n",
    "ero = scaledata(Blas20n - y20)\n",
    "MSElasso = np.min(np.sum(ero**2,axis=1))\n",
    "indx = np.nanargmin(np.sum(ero**2,axis=0))\n",
    "\n",
    "Blas20nMat = scipy.io.loadmat('Blas20n.mat',struct_as_record=False)['Blas20n']\n",
    "np.array_equal(np.around(Blas20n,4),Blas20nMat) # False\n",
    "np.isclose(np.around(Blas20n,4),Blas20nMat).all() # False\n",
    "np.isclose(np.around(Blas20n,4),np.around(Blas20nMat,4)).all() # True\n",
    "np.array_equal(np.around(Blas20n,4),np.around(Blas20nMat,4)) # True"
   ]
  },
  {
   "cell_type": "code",
   "execution_count": null,
   "metadata": {},
   "outputs": [],
   "source": [
    "n = np.zeros((3,3))\n",
    "y = np.ones(3)\n"
   ]
  },
  {
   "cell_type": "code",
   "execution_count": null,
   "metadata": {},
   "outputs": [],
   "source": [
    "lam0 = np.max(np.abs(np.eye(n).T @ y20n))\n",
    "lamgrid = 1e-3 ** (np.arange(L+1)/L)*lam0\n",
    "rsp.enet(y20n, np.eye(n), np.zeros(21), lamgrid[0])"
   ]
  },
  {
   "cell_type": "code",
   "execution_count": null,
   "metadata": {},
   "outputs": [],
   "source": [
    "X = np.array([(1,2,3),(4,5,6),(7,8,9)])\n",
    "np.array([1,2,3]) + X[:,1].T @ np.array([6,7,8])"
   ]
  },
  {
   "cell_type": "code",
   "execution_count": 4,
   "metadata": {},
   "outputs": [
    {
     "data": {
      "text/plain": [
       "array([ 1.15444902e+00,  8.35459355e-01,  9.53596658e-01,  1.00499670e+00,\n",
       "        9.02064205e-02,  2.45434521e-02, -1.23986948e-02,  2.99668893e+00,\n",
       "       -2.30837894e-01, -1.93926720e-02, -5.15012993e-02, -8.02150303e-02,\n",
       "        3.17160325e+00,  3.11167167e+00,  3.29062722e+00,  2.01996891e+00,\n",
       "        1.57290337e+00,  2.03564506e+00,  2.14577386e+00,  2.37199998e+00,\n",
       "        8.71230792e-01,  1.08317907e+00,  1.00551903e+00,  2.99668893e+00,\n",
       "        8.78621298e-02, -1.18630726e-01, -1.69006185e-02, -1.53700647e-01,\n",
       "        3.40319606e-01, -5.60895851e-02,  0.00000000e+00,  1.09418010e-01,\n",
       "        3.21077619e+00,  2.90527309e+00,  2.88746698e+00,  2.25963894e+00,\n",
       "        1.80745895e+00,  2.27330493e+00,  2.08230275e+00,  2.16833816e+00,\n",
       "        8.63756797e-01,  0.00000000e+00,  7.53904238e-01,  1.17103208e+00,\n",
       "        2.16370032e-02, -7.23896964e-02, -4.78144808e-02,  1.84849719e-01,\n",
       "       -4.89781328e-02, -2.49823037e-01, -1.35419654e-01, -2.92204768e-01,\n",
       "        1.02353289e+00,  7.99256110e-01,  1.00553941e+00,  7.94632019e-01,\n",
       "        1.11747403e+00,  9.45630178e-01,  1.15063562e+00,  6.94926861e-01,\n",
       "        1.03636672e+00,  1.28935842e+00,  9.06565864e-01,  1.20457612e+00,\n",
       "       -2.14662032e-01, -2.62788528e-01, -1.15107893e-01,  2.60217742e-01,\n",
       "       -2.66427336e-01, -9.91050432e-02,  7.63276740e-01, -1.27987322e-01,\n",
       "        9.96052852e-01,  9.07387563e-01,  1.06875588e+00,  1.30938468e+00,\n",
       "        1.11558299e+00,  1.06575943e+00,  8.07425875e-01,  7.71762589e-01,\n",
       "        5.77307487e-01,  9.06271462e-01,  1.14612455e+00,  1.41847365e+00,\n",
       "       -4.00280560e-01,  1.47912931e-01,  4.61273599e-02,  2.08952589e-02,\n",
       "       -1.09759155e-01,  1.49689805e-01, -9.96230122e-02,  2.99668893e+00,\n",
       "        1.06286011e+00,  8.66628221e-01,  1.03811827e+00,  1.03929689e+00,\n",
       "        1.06279631e+00,  8.47316667e-01,  1.05272972e+00,  8.38345121e-01,\n",
       "        1.01256262e+00,  1.04708693e+00,  1.07478632e+00,  1.07084908e+00,\n",
       "        1.92963718e-01, -4.30517970e-01, -7.65128875e-02,  1.22719806e-01,\n",
       "       -7.79680272e-02,  2.50363936e-01,  7.14784428e-02, -2.48901615e-01,\n",
       "        7.39043429e-01,  5.55023162e-01,  8.74243612e-01,  1.00319202e+00,\n",
       "        9.79931516e-01,  1.08294882e+00,  1.02998677e+00,  1.00037175e+00,\n",
       "        7.44429900e-01,  8.53777241e-01,  9.47566053e-01,  2.99668893e+00,\n",
       "        1.18018658e-01, -7.48699022e-02,  5.34420117e-02,  4.26339596e-01,\n",
       "        0.00000000e+00,  2.86399910e-01,  1.53858948e-01,  2.37649959e-01,\n",
       "        7.90722839e-01,  1.14307727e+00,  1.22594923e+00,  8.28144671e-01,\n",
       "        7.99437210e-01,  1.11342437e+00,  1.09202986e+00,  1.05931444e+00,\n",
       "        1.10870724e+00,  1.06443066e+00,  1.19928262e+00,  8.98318529e-01,\n",
       "       -2.91991925e-02, -1.27386325e-01, -3.26605081e-01, -2.39352916e-01,\n",
       "        1.70594269e-01, -6.29277064e-02, -1.02476769e-02,  2.99668893e+00,\n",
       "        2.99668893e+00,  1.17992684e+00,  2.99668893e+00,  1.20697695e+00,\n",
       "        9.91945452e-01,  1.48719707e+00,  0.00000000e+00,  1.00925678e+00,\n",
       "        8.45943475e-01,  0.00000000e+00,  2.99668893e+00,  1.06320888e+00,\n",
       "        3.06916433e+00,  3.30775459e+00,  2.85289570e+00,  2.78885138e+00,\n",
       "        3.02285882e+00,  2.34147164e+00,  1.62504888e+00,  2.18697577e+00,\n",
       "        6.37763419e-01,  1.00450439e+00,  8.53170006e-01,  1.08900666e+00,\n",
       "        8.87186201e-01,  1.26145201e+00,  8.12805586e-01,  1.00534327e+00,\n",
       "        1.21119007e+00,  1.27615618e+00,  9.28160708e-01,  9.71502154e-01,\n",
       "        2.98513847e+00,  2.82268689e+00,  2.81168169e+00,  3.00970658e+00,\n",
       "        3.09402524e+00,  1.95560173e+00,  1.93846545e+00,  1.90484668e+00,\n",
       "        2.99668893e+00,  1.04837469e+00,  8.82062626e-01,  1.37651585e+00,\n",
       "        1.05444277e+00,  8.75772332e-01,  1.07268038e+00,  1.06562443e+00,\n",
       "       -1.82676133e-01, -3.73867730e-01, -1.00145740e-01, -1.99274209e-01,\n",
       "        2.73696800e+00,  3.17246621e+00,  2.84527806e+00,  0.00000000e+00,\n",
       "        3.09815244e+00,  2.01132172e+00,  1.90026473e+00,  1.94280523e+00,\n",
       "        5.62826928e-01,  1.20495465e+00,  1.18331120e+00,  8.89080079e-01,\n",
       "        1.02466217e+00,  8.30318096e-01,  1.03489268e+00,  0.00000000e+00,\n",
       "        6.24007182e-02,  1.81269782e-01,  2.39050195e-02,  3.88355861e-01,\n",
       "        3.13028907e+00,  2.82524873e+00,  3.15741250e+00,  2.85289410e+00,\n",
       "        3.05378576e+00,  6.70555386e-02,  1.18702715e-01, -4.57211199e-02,\n",
       "       -2.01619262e-02, -3.46753132e-03,  4.06245716e-02, -1.51060593e-01,\n",
       "       -6.16677032e-01,  1.29316551e-01,  2.13367970e-03,  0.00000000e+00,\n",
       "       -2.12635720e-01,  2.99668893e+00, -3.41137240e-02, -3.40134867e-02,\n",
       "        2.70777425e+00,  3.27510734e+00,  2.82320662e+00,  2.94958659e+00,\n",
       "        2.91717143e+00, -1.56293908e-01,  2.12741365e-01,  0.00000000e+00,\n",
       "        9.81883199e-02, -3.27118138e-02, -3.73213502e-02,  0.00000000e+00,\n",
       "       -1.55744411e-01,  6.59522375e-03,  5.47477211e-02, -4.07345861e-01,\n",
       "        2.16018756e+00,  2.13749646e+00,  2.08036609e+00,  1.98141442e+00,\n",
       "        1.75595219e+00,  2.14881022e+00,  1.85363844e+00,  1.97474317e+00,\n",
       "        1.56338768e+00, -7.72897446e-02,  1.91601235e-01,  1.59025955e-01,\n",
       "       -6.61108912e-02,  1.96601581e-01, -4.81868677e-03,  2.11366705e-02,\n",
       "        4.39107609e-02,  6.38657719e-02,  4.42171616e-02,  7.44384446e-02,\n",
       "        2.00075070e+00,  2.08815888e+00,  2.00277397e+00,  2.03968564e+00,\n",
       "        2.33353018e+00,  2.14976488e+00,  1.92027612e+00,  2.03213414e+00,\n",
       "        1.80677125e+00, -1.04241195e-01,  1.37223566e-01,  6.65347756e-02,\n",
       "       -4.24891896e-01,  2.14463668e-02, -1.49148450e-02,  2.22035690e-01,\n",
       "       -9.00667433e-02, -2.63248348e-01, -6.05902988e-03,  4.06778877e-01,\n",
       "        2.24415967e+00,  2.02129078e+00,  2.05961628e+00,  2.11903933e+00,\n",
       "        2.99668893e+00,  1.31310071e+00,  2.01343346e+00,  1.49914010e+00,\n",
       "        1.97716219e+00, -1.38051991e-01,  1.27467947e-01,  4.50341097e-02,\n",
       "       -4.11681076e-01,  2.06638310e-01,  1.12892932e-01,  2.24484779e-01,\n",
       "        1.11173720e-01, -4.53340510e-02, -6.70054771e-02,  0.00000000e+00,\n",
       "        2.02266140e+00,  2.11594424e+00,  2.12317854e+00,  1.99032594e+00,\n",
       "        2.13670742e+00,  1.98508078e+00,  1.85977498e+00,  2.02880820e+00,\n",
       "        2.06592878e+00,  7.05835141e-02,  2.76384780e-01,  1.17603944e-01,\n",
       "        9.99410153e-02,  1.83519645e-01,  4.66260139e-01,  0.00000000e+00,\n",
       "        4.95185162e-02,  1.30762151e-01, -1.73019299e-02,  6.43949520e-03,\n",
       "        1.83916673e+00,  1.80718042e+00,  1.86941058e+00,  1.78291288e+00,\n",
       "        1.81633919e+00,  1.97943357e+00,  2.12805978e+00,  1.90276993e+00,\n",
       "        1.87289033e+00,  2.26686150e-01, -4.87547084e-01,  3.25645637e-02,\n",
       "        1.35761002e-02,  6.01454965e-02, -7.50998355e-02, -1.16866873e-01,\n",
       "       -3.05842332e-02, -8.19913829e-02,  6.86114601e-02,  0.00000000e+00,\n",
       "        1.93175911e+00,  2.02200837e+00,  1.79638918e+00,  1.83743096e+00,\n",
       "        1.90169420e+00,  2.01951337e+00,  1.99092300e+00,  2.29591492e+00,\n",
       "        1.87693927e+00, -5.23076689e-03,  7.30786177e-03,  1.30829371e-01,\n",
       "       -1.39747369e-01,  2.27565544e-01,  2.43945976e-01, -4.27605755e-01,\n",
       "        1.16141577e-01,  2.85674414e-01,  1.43852272e-01,  2.46244680e-01,\n",
       "        1.85743160e+00,  2.06944586e+00,  2.25099078e+00,  1.93205574e+00,\n",
       "        2.03494599e+00,  2.04373256e+00,  1.42786350e+00,  2.39668202e+00,\n",
       "        2.21587155e+00,  7.79931300e-02, -2.09457052e-02,  8.19062978e-02,\n",
       "        4.13003690e-02, -8.14731732e-02,  1.74964819e-01, -2.03663677e-01,\n",
       "       -8.54706908e-02, -2.19281122e-01, -3.82999331e-02, -6.60129590e-02])"
      ]
     },
     "execution_count": 4,
     "metadata": {},
     "output_type": "execute_result"
    }
   ],
   "source": [
    "# Read image of sqares (20 x 20 pixels)\n",
    "path = pkg_resources.resource_filename('robustsp', 'data/images.mat')\n",
    "# contains the vectors y20 (clean data) and y20n (noisy data)\n",
    "img = scipy.io.loadmat(path,struct_as_record=False)\n",
    "y20 = img['y20']\n",
    "y20n = img['y20n']\n",
    "n = len(y20)\n",
    "# Compute the Lasso solution\n",
    "L = 20 # grid size\n",
    "Blas20n, stats = rsp.enetpath(y20n,np.eye(n),1,L,1e-3,False)\n",
    "Blas20n[:,-1]"
   ]
  },
  {
   "cell_type": "code",
   "execution_count": null,
   "metadata": {},
   "outputs": [],
   "source": [
    "\"\"\"\n",
    "ans\n",
    " 0.0\n",
    "\n",
    " lam1 \n",
    " 2.344054971563103\n",
    "\"\"\"\n",
    "import robustsp as rsp\n",
    "rsp.SoftThresh(0,2.344054971563103)"
   ]
  }
 ],
 "metadata": {
  "kernelspec": {
   "display_name": "Python 3",
   "language": "python",
   "name": "python3"
  },
  "language_info": {
   "codemirror_mode": {
    "name": "ipython",
    "version": 3
   },
   "file_extension": ".py",
   "mimetype": "text/x-python",
   "name": "python",
   "nbconvert_exporter": "python",
   "pygments_lexer": "ipython3",
   "version": "3.6.8"
  }
 },
 "nbformat": 4,
 "nbformat_minor": 2
}
