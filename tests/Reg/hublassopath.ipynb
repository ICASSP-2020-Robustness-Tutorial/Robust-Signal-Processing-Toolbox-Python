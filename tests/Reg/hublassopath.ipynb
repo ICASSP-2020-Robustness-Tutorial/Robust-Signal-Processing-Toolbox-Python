{
 "cells": [
  {
   "cell_type": "markdown",
   "metadata": {},
   "source": [
    "# Inputs and desired Output"
   ]
  },
  {
   "cell_type": "markdown",
   "metadata": {},
   "source": [
    "* L= 5\n",
    "* eps =10**-3\n",
    "* intcpt = True\n",
    "* reltol = 1e-5\n",
    "* printitn = 0\n",
    "* c = None\n",
    "* yx = np.array([5.5, 2, 4 ,5])\n",
    "* Xx = np.eye(4)\n",
    "\n",
    "->\n",
    "\n",
    "         0    0.4662    0.8775    0.9800    1.0057    1.0122\n",
    "         0   -1.9662   -2.3543   -2.4527   -2.4774   -2.4836\n",
    "         0         0   -0.3543   -0.4527   -0.4774   -0.4836\n",
    "         0         0    0.3775    0.4800    0.5057    0.5122"
   ]
  },
  {
   "cell_type": "code",
   "execution_count": 10,
   "metadata": {},
   "outputs": [
    {
     "data": {
      "text/plain": [
       "(array([ 0.4037636, -1.7027995, -0.       ,  0.       ], dtype=float64),\n",
       " 0.6143870113855225,\n",
       " array([ 0.53377459, -0.53377587, -0.49999936,  0.50000064]),\n",
       " 7)"
      ]
     },
     "execution_count": 10,
     "metadata": {},
     "output_type": "execute_result"
    }
   ],
   "source": [
    "import numpy as np\n",
    "import robustsp as rsp\n",
    "\n",
    "L= 5\n",
    "eps =10**-3\n",
    "intcpt = True\n",
    "reltol = 1e-5\n",
    "printitn = 0\n",
    "c = None\n",
    "yx = np.array([5.5, 2, 4 ,5])\n",
    "Xx = np.eye(4)\n",
    "\n",
    "# def hublassopath(yx,Xx,c=None,intcpt=True,eps=10**-3,L=120,reltol=1e-5,printitn=0):\n",
    "# ensure that y is Nx1 and not just N and proper formats\n",
    "y = np.copy(np.asarray(yx))\n",
    "X = np.copy(np.asarray(Xx))\n",
    "y = y if not len(y.shape)==2 else y.flatten()\n",
    "\n",
    "n,p = X.shape\n",
    "\n",
    "realdata = np.isrealobj(y)\n",
    "\n",
    "if c is None:\n",
    "    c = 1.3415 if realdata else 1.215\n",
    "\n",
    "locy, sig0,_ = rsp.hubreg(y,np.ones((n,1)),c)\n",
    "\n",
    "if intcpt: \n",
    "    # center data\n",
    "    ync = np.copy(y)\n",
    "    Xnc = np.copy(X)\n",
    "    meanX = np.mean(X,axis=0)\n",
    "    X -= meanX\n",
    "    y -= locy\n",
    "\n",
    "# standardize the predictors to unit norm columns\n",
    "sdX= np.sqrt(np.sum(X*np.conj(X),axis=0))\n",
    "X /= sdX\n",
    "\n",
    "# compute the smallest penalty value yielding a zero solution\n",
    "yc = rsp.psihub(y/sig0,c)*sig0 # ok\n",
    "lam0 = np.max(np.abs(X.T@yc)) \n",
    "\n",
    "lamgrid = eps**(np.arange(L+1)/L)*lam0 # ok\n",
    "B = np.zeros((p,L+1))\n",
    "sig = np.zeros(L+1)\n",
    "sig[0] = sig0 # ok\n",
    "\n",
    "rsp.hublasso(y,X,lamgrid[0+1],B[:,0],sig[0],c,reltol,printitn)"
   ]
  },
  {
   "cell_type": "code",
   "execution_count": 7,
   "metadata": {},
   "outputs": [
    {
     "data": {
      "text/plain": [
       "(array([ 0.4037636 , -1.70279951, -0.        ,  0.        ], dtype=float64),\n",
       " 0.6143870137430529,\n",
       " array([ 0.5337746 , -0.53377587, -0.49999936,  0.50000064]),\n",
       " 7)"
      ]
     },
     "execution_count": 7,
     "metadata": {},
     "output_type": "execute_result"
    }
   ],
   "source": [
    "yx = np.array([ 1.375, -2.125, -0.125, 0.875])\n",
    "\n",
    "Xx = np.array([[ 0.8660254 , -0.28867513, -0.28867513, -0.28867513],\n",
    "  [-0.28867513,  0.8660254 , -0.28867513, -0.28867513],\n",
    "  [-0.28867513, -0.28867513,  0.8660254 , -0.28867513],\n",
    "  [-0.28867513, -0.28867513, -0.28867513,  0.8660254 ]])\n",
    "\n",
    "lambd = 0.6163512806474756\n",
    "\n",
    "b0 = np.array([0., 0., 0., 0.])\n",
    "\n",
    "sig0 = 1.812638977729619\n",
    "\n",
    "c = 1.3415\n",
    "\n",
    "rsp.hublasso(yx,Xx,lambd,b0,sig0,c)"
   ]
  },
  {
   "cell_type": "markdown",
   "metadata": {},
   "source": [
    "## Iteration 0"
   ]
  },
  {
   "cell_type": "markdown",
   "metadata": {},
   "source": [
    "* y = [ 1.375, -2.125, -0.125,  0.875]\n",
    "\n",
    "* X = \n",
    "       [[ 0.8660254 , -0.28867513, -0.28867513, -0.28867513],\n",
    "        [-0.28867513,  0.8660254 , -0.28867513, -0.28867513],\n",
    "        [-0.28867513, -0.28867513,  0.8660254 , -0.28867513],\n",
    "        [-0.28867513, -0.28867513, -0.28867513,  0.8660254 ]]\n",
    "        \n",
    "* lamgrid[1] =  0.6163512806474756\n",
    "\n",
    "* B[:,0] = [0., 0., 0., 0.]\n",
    "\n",
    "* c = 1.3415\n",
    "\n",
    "* sig[0] = 1.812638977729619\n",
    "\n",
    "* reltol = 1e-5\n",
    "\n",
    "* printitn = 0"
   ]
  },
  {
   "cell_type": "code",
   "execution_count": 2,
   "metadata": {},
   "outputs": [
    {
     "data": {
      "text/plain": [
       "(array([[ 0.       ,  0.4037636,  0.       ,  0.       ,  0.       ,\n",
       "          0.       ],\n",
       "        [ 0.       , -1.7027995,  0.       ,  0.       ,  0.       ,\n",
       "          0.       ],\n",
       "        [ 0.       , -0.       ,  0.       ,  0.       ,  0.       ,\n",
       "          0.       ],\n",
       "        [ 0.       ,  0.       ,  0.       ,  0.       ,  0.       ,\n",
       "          0.       ]]),\n",
       " array([1.81263898, 0.55127531, 0.        , 0.        , 0.        ,\n",
       "        0.        ]),\n",
       " array([ 0.53377459, -0.53377587, -0.49999936,  0.50000064]),\n",
       " 14)"
      ]
     },
     "execution_count": 2,
     "metadata": {},
     "output_type": "execute_result"
    }
   ],
   "source": [
    "B[:,0+1], sig[0+1], psi ,i=\\\n",
    "rsp.hublasso(y,X,lamgrid[0+1],B[:,0],c,sig[0],reltol,printitn)\n",
    "B,sig,psi,i # sig ist hier falsch"
   ]
  },
  {
   "cell_type": "code",
   "execution_count": 5,
   "metadata": {},
   "outputs": [
    {
     "data": {
      "text/plain": [
       "(array([ 1.375, -2.125, -0.125,  0.875]),\n",
       " array([[ 0.8660254 , -0.28867513, -0.28867513, -0.28867513],\n",
       "        [-0.28867513,  0.8660254 , -0.28867513, -0.28867513],\n",
       "        [-0.28867513, -0.28867513,  0.8660254 , -0.28867513],\n",
       "        [-0.28867513, -0.28867513, -0.28867513,  0.8660254 ]]),\n",
       " 0.6163512806474756,\n",
       " array([0., 0., 0., 0.]),\n",
       " 1.3415,\n",
       " 1.812638977729619,\n",
       " 1e-05,\n",
       " 0)"
      ]
     },
     "execution_count": 5,
     "metadata": {},
     "output_type": "execute_result"
    }
   ],
   "source": [
    "y,X,lamgrid[1],B[:,0],sig[0],c,reltol,printitn"
   ]
  },
  {
   "cell_type": "code",
   "execution_count": 2,
   "metadata": {},
   "outputs": [
    {
     "data": {
      "text/plain": [
       "(array([ 0.4037636, -1.7027995, -0.       ,  0.       ], dtype=float64),\n",
       " 0.5512753081137836,\n",
       " array([ 0.53377459, -0.53377587, -0.49999936,  0.50000064]),\n",
       " 7)"
      ]
     },
     "execution_count": 2,
     "metadata": {},
     "output_type": "execute_result"
    }
   ],
   "source": [
    "rsp.hublasso(y,X,lamgrid[0+1],B[:,0],c,sig[0],reltol,printitn)"
   ]
  },
  {
   "cell_type": "markdown",
   "metadata": {},
   "source": [
    "* B = \n",
    "         0    0.4038         0         0         0         0\n",
    "         0   -1.7028         0         0         0         0\n",
    "         0         0         0         0         0         0\n",
    "         0         0         0         0         0         0\n",
    "\n",
    "* sig =\n",
    "\n",
    "         1.8126    0.6144         0         0         0         0\n",
    "\n",
    "* psi =\n",
    "\n",
    "         0.5338\n",
    "        -0.5338\n",
    "        -0.5000\n",
    "         0.5000\n",
    "    \n",
    "* iter = 8"
   ]
  },
  {
   "cell_type": "markdown",
   "metadata": {},
   "source": [
    "## Iteration 1"
   ]
  },
  {
   "cell_type": "code",
   "execution_count": 6,
   "metadata": {},
   "outputs": [],
   "source": [
    "B[:,1+1], sig[1+1],_ ,i= \\\n",
    "rsp.hublasso(y,X,lamgrid[1+1],B[:,1],c,sig[1],reltol,printitn)\n",
    "sig"
   ]
  },
  {
   "cell_type": "markdown",
   "metadata": {},
   "source": [
    "## Iteration 2"
   ]
  },
  {
   "cell_type": "code",
   "execution_count": 3,
   "metadata": {},
   "outputs": [],
   "source": [
    "B[:,2+1], sig[2+1],_ ,i=\\\n",
    "rsp.hublasso(y,X,lamgrid[2+1],B[:,2],c,sig[2],reltol,printitn)"
   ]
  },
  {
   "cell_type": "markdown",
   "metadata": {},
   "source": [
    "## Iteration 3"
   ]
  },
  {
   "cell_type": "code",
   "execution_count": 3,
   "metadata": {},
   "outputs": [],
   "source": [
    "B[:,3+1], sig[3+1],_ ,i=\\\n",
    "rsp.hublasso(y,X,lamgrid[3+1],B[:,3],c,sig[3],reltol,printitn)"
   ]
  },
  {
   "cell_type": "markdown",
   "metadata": {},
   "source": [
    "## Iteration 4"
   ]
  },
  {
   "cell_type": "code",
   "execution_count": 3,
   "metadata": {},
   "outputs": [],
   "source": [
    "B[:,4+1], sig[4+1],_ ,i=\\\n",
    "rsp.hublasso(y,X,lamgrid[4+1],B[:,4],c,sig[4],reltol,printitn)"
   ]
  },
  {
   "cell_type": "markdown",
   "metadata": {},
   "source": [
    "## Rest"
   ]
  },
  {
   "cell_type": "code",
   "execution_count": null,
   "metadata": {},
   "outputs": [],
   "source": [
    "B[np.abs(B)<5e-8]=0\n",
    "DF = np.sum(np.abs(B)!=0,axis=0)\n",
    "con = np.sqrt((n/(n-DF-1)))\n",
    "\n",
    "stats = {}\n",
    "stats['gBIC'] = 2*n*np.log(sig*con) + DF *np.log(n) if n>p else None\n",
    "\n",
    "B = B / sdX[:,None]\n",
    "\n",
    "B0 = locy-meanX@B if intcpt else None\n",
    "stats['sigma'] = sig\n",
    "stats['Lambda'] = lamgrid\n",
    "\n",
    "#return B,B0,stats"
   ]
  }
 ],
 "metadata": {
  "kernelspec": {
   "display_name": "Python 3",
   "language": "python",
   "name": "python3"
  },
  "language_info": {
   "codemirror_mode": {
    "name": "ipython",
    "version": 3
   },
   "file_extension": ".py",
   "mimetype": "text/x-python",
   "name": "python",
   "nbconvert_exporter": "python",
   "pygments_lexer": "ipython3",
   "version": "3.6.8"
  }
 },
 "nbformat": 4,
 "nbformat_minor": 2
}
