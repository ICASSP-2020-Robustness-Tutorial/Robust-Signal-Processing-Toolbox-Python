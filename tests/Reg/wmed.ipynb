{
 "cells": [
  {
   "cell_type": "markdown",
   "metadata": {},
   "source": [
    "wmed computes the weighted median for data vector y and weights w, i.e. \n",
    "it solves the optimization problem:\n",
    "\n",
    "$$\\beta=argmin_{b} \\sum_{i} |y_{i}-b|*w_{i}$$\n",
    "inputs: \n",
    "   * y : (numeric) data given (real or complex) \n",
    "   * w : (nubmer) positive real-valued weights. Inputs need to be of\n",
    "       same length\n",
    "   * verbose: (logical) true of false (default). Set as true if you wish  to see convergence as iterations evolve\n",
    "   \n",
    "   \n",
    "outputs:\n",
    "   * beta: (numeric) weighted median\n",
    "   * converged: (logical) flag of convergence (in the complex-valued data case)\n",
    "   * iter: (numeric) the number of iterations (complex-valued case)\n",
    "   \n",
    "testcases\n",
    "* y real\n",
    "* y complex\n",
    "\n",
    "beta =\n",
    "\n",
    "   4.0000 + 0.0000i\n",
    "\n",
    "\n",
    "iter =\n",
    "\n",
    "     2\n",
    "\n",
    "\n",
    "converged =\n",
    "\n",
    "  logical\n",
    "\n",
    "   1"
   ]
  },
  {
   "cell_type": "code",
   "execution_count": 14,
   "metadata": {},
   "outputs": [
    {
     "data": {
      "text/plain": [
       "((4.000000999995303+0j), 1, True)"
      ]
     },
     "execution_count": 14,
     "metadata": {},
     "output_type": "execute_result"
    }
   ],
   "source": [
    "import numpy as np\n",
    "\n",
    "y = np.asarray([1, 4 ,5 ,6 ,1])\n",
    "w = np.asarray([3,2,4,6,5])\n",
    "verbose = False\n",
    "\n",
    "import numpy as np\n",
    "def wmed(y,w,verbose=False):\n",
    "\n",
    "    y= np.asarray(y)\n",
    "    w= np.asarray(w)\n",
    "\n",
    "    converged = []\n",
    "    iter = []\n",
    "\n",
    "    N = len(y)\n",
    "\n",
    "    if not np.isrealobj(w) or all(w<0):\n",
    "        raise ValueError('input w needs to be a non-negative weight vector')\n",
    "\n",
    "    if len(w) != N or sum(w >=0) != N:\n",
    "        raise ValueError('wmed: nr of elements of y and w are not equal or w is not non-neg.')   \n",
    "\n",
    "    # real value case\n",
    "    if np.isrealobj(y):\n",
    "        y = np.sort(y)\n",
    "        w = w[np.argsort(y)]\n",
    "        wcum = np.cumsum(w)#\n",
    "        i = np.nonzero(wcum[::-1]<0.5*np.sum(w))[0][0]\n",
    "        beta = y[i] # due to equation (2.21) of the book  \n",
    "    else: # complex valued\n",
    "        beta0 = np.median(np.real(y)+1j*np.median(np.imag(y))) # initial guess\n",
    "        abs0 = np.abs(beta0)\n",
    "        TOL = 1.0e-7 \n",
    "        iterMAX = 2000\n",
    "        for itr in range(iterMAX):\n",
    "            wy = np.abs(y-beta0)\n",
    "            wy[wy<=10**-6] = 10**-6\n",
    "            update = np.sum(w * np.sign(y-beta0))/np.sum(w/wy)\n",
    "            beta = beta0 + update\n",
    "            delta = np.abs(update)/abs0\n",
    "            if verbose and (iter+1) % 10 == 0:\n",
    "                print('At iter = %3d, delta=%.8f\\n' % (iter,delta))\n",
    "            if delta <= TOL:\n",
    "                break\n",
    "            beta0 = beta\n",
    "            abs0 = np.abs(beta)\n",
    "\n",
    "        converged = False if itr+1 == iterMAX else True\n",
    "\n",
    "    return beta, itr+1, converged"
   ]
  },
  {
   "cell_type": "code",
   "execution_count": 1,
   "metadata": {},
   "outputs": [
    {
     "data": {
      "text/plain": [
       "((4.000000999995303+0j), 2, True)"
      ]
     },
     "execution_count": 1,
     "metadata": {},
     "output_type": "execute_result"
    }
   ],
   "source": [
    "from robustsp import *\n",
    "y = [1j, 4 ,5 ,6 ,1]\n",
    "w = [3,2,4,6,5]\n",
    "\n",
    "beta,itr,con = wmed(y,w)\n",
    "beta,itr,con"
   ]
  },
  {
   "cell_type": "code",
   "execution_count": 2,
   "metadata": {},
   "outputs": [
    {
     "data": {
      "text/plain": [
       "4"
      ]
     },
     "execution_count": 2,
     "metadata": {},
     "output_type": "execute_result"
    }
   ],
   "source": [
    "from robustsp import *\n",
    "y = [1, 4 ,5 ,6 ,1]\n",
    "w = [3,2,4,6,5]\n",
    "\n",
    "beta ,_,_= wmed(y,w)\n",
    "beta"
   ]
  }
 ],
 "metadata": {
  "kernelspec": {
   "display_name": "Python 3",
   "language": "python",
   "name": "python3"
  },
  "language_info": {
   "codemirror_mode": {
    "name": "ipython",
    "version": 3
   },
   "file_extension": ".py",
   "mimetype": "text/x-python",
   "name": "python",
   "nbconvert_exporter": "python",
   "pygments_lexer": "ipython3",
   "version": "3.6.8"
  }
 },
 "nbformat": 4,
 "nbformat_minor": 2
}
