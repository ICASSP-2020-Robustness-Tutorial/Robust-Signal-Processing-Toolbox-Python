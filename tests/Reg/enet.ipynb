{
 "cells": [
  {
   "cell_type": "markdown",
   "metadata": {},
   "source": [
    "# enet"
   ]
  },
  {
   "cell_type": "code",
   "execution_count": 5,
   "metadata": {},
   "outputs": [],
   "source": [
    "import numpy as np\n",
    "from robustsp import *\n",
    "import cmath\n",
    "\n",
    "\n",
    "X = np.eye(10, 5)\n",
    "y = [1.0, 2.555555, 3.2342342, 4.73567256, 5.13131, 6, 7, 8, 9, 10]\n",
    "alpha = 1\n",
    "L = 10\n",
    "eps = 10**-3\n",
    "intcpt = True\n",
    "lambd = 2.4648666648211974\n",
    "printitn = 0\n",
    "iterMAX = 1000\n",
    "beta = np.zeros((5,1))"
   ]
  },
  {
   "cell_type": "code",
   "execution_count": 12,
   "metadata": {},
   "outputs": [
    {
     "data": {
      "text/plain": [
       "(array([0.        , 0.09068834, 0.76936754, 2.2708059 , 2.66644334]), 1)"
      ]
     },
     "execution_count": 12,
     "metadata": {},
     "output_type": "execute_result"
    }
   ],
   "source": [
    "y = np.asarray(y, dtype=np.float64)\n",
    "X = np.asarray(X)\n",
    "\n",
    "_, p = X.shape\n",
    "\n",
    "# Make sure that beta and y have correct shape, namely 1d-array and not 2d-array\n",
    "if len(beta.shape) == 2:\n",
    "    beta = beta.flatten()\n",
    "\n",
    "if len(y.shape) == 2:\n",
    "    y = y.flatten()\n",
    "\n",
    "betaold = beta\n",
    "normb0 = np.linalg.norm(beta)\n",
    "r = y - np.dot(X, beta)\n",
    "\n",
    "# Check for correct arguments\n",
    "if lambd <= 0:\n",
    "    raise TypeError('lambda has to be positive. You entered %.3f' % lambd)\n",
    "\n",
    "lam1 = alpha*lambd\n",
    "lam2 = (1-alpha)*lambd\n",
    "const = 1/(1+lam2)\n",
    "\n",
    "if printitn > 0:\n",
    "    print('enet : using penalty lambda = %.5f \\n' % lambd)\n",
    "\n",
    "it = 0\n",
    "for _ in range(iterMAX):\n",
    "    it += 1\n",
    "    for jj in range(p):\n",
    "\n",
    "        beta[jj] = const * SoftThresh(beta[jj] + X[:, jj].T @ r, lam1)\n",
    "\n",
    "        r = r + X[:, jj] * (betaold[jj]-beta[jj])\n",
    "\n",
    "    normb = np.linalg.norm(beta)\n",
    "\n",
    "    crit = cmath.sqrt(normb0**2 + normb**2 - 2 *\n",
    "                      np.real(betaold.T @ beta))/normb if normb != 0 else np.inf\n",
    "\n",
    "    if printitn != 0 and iter % printitn == 0:\n",
    "        print('enet: %4d crit = %.8f\\n' % (iter, crit))\n",
    "\n",
    "    if np.real(crit) < 1e-4:\n",
    "        break\n",
    "\n",
    "    betaold = beta\n",
    "    normb0 = normb\n",
    "    \n",
    "beta,it"
   ]
  },
  {
   "cell_type": "code",
   "execution_count": 8,
   "metadata": {},
   "outputs": [
    {
     "data": {
      "text/plain": [
       "(array([0.        , 0.09068834, 0.76936754, 2.2708059 , 2.66644334]), 0)"
      ]
     },
     "execution_count": 8,
     "metadata": {},
     "output_type": "execute_result"
    }
   ],
   "source": [
    "enet(y,X,beta,lambd)"
   ]
  }
 ],
 "metadata": {
  "kernelspec": {
   "display_name": "Python 3",
   "language": "python",
   "name": "python3"
  },
  "language_info": {
   "codemirror_mode": {
    "name": "ipython",
    "version": 3
   },
   "file_extension": ".py",
   "mimetype": "text/x-python",
   "name": "python",
   "nbconvert_exporter": "python",
   "pygments_lexer": "ipython3",
   "version": "3.6.8"
  },
  "latex_envs": {
   "LaTeX_envs_menu_present": true,
   "autoclose": false,
   "autocomplete": true,
   "bibliofile": "biblio.bib",
   "cite_by": "apalike",
   "current_citInitial": 1,
   "eqLabelWithNumbers": true,
   "eqNumInitial": 1,
   "hotkeys": {
    "equation": "Ctrl-E",
    "itemize": "Ctrl-I"
   },
   "labels_anchors": false,
   "latex_user_defs": false,
   "report_style_numbering": false,
   "user_envs_cfg": false
  },
  "toc": {
   "base_numbering": 1,
   "nav_menu": {},
   "number_sections": true,
   "sideBar": true,
   "skip_h1_title": false,
   "title_cell": "Table of Contents",
   "title_sidebar": "Contents",
   "toc_cell": false,
   "toc_position": {},
   "toc_section_display": true,
   "toc_window_display": false
  }
 },
 "nbformat": 4,
 "nbformat_minor": 2
}
