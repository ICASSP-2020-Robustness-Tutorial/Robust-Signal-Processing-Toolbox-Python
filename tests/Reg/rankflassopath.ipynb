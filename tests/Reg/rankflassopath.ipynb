{
 "cells": [
  {
   "cell_type": "code",
   "execution_count": 12,
   "metadata": {},
   "outputs": [],
   "source": [
    "'''\n",
    "b =\n",
    "\n",
    "    0.0000    0.2000    0.2000    0.2000    0.2000    0.2000\n",
    "    0.0000    0.2000    0.2000    0.2000    0.2000    0.2000\n",
    "\n",
    "\n",
    "b0 =\n",
    "\n",
    "     0     0     0     0     0     0\n",
    "\n",
    "\n",
    "lamgrid =\n",
    "\n",
    "   10.0000    2.5119    0.6310    0.1585    0.0398    0.0100\n",
    "'''\n",
    "import robustsp as rsp\n",
    "import numpy as np\n",
    "\n",
    "y = np.array([1,2,3])\n",
    "X = np.array(([1,2],[4,5],[6,7]))\n",
    "lambda2 = 0.2\n",
    "L = 5\n",
    "eps=1e-3\n",
    "printitn = 0"
   ]
  },
  {
   "cell_type": "code",
   "execution_count": 21,
   "metadata": {},
   "outputs": [
    {
     "data": {
      "text/plain": [
       "(array([[0.00000000e+00, 1.99999930e-01, 1.99999967e-01, 1.99999977e-01,\n",
       "         1.99999979e-01, 1.99999980e-01],\n",
       "        [1.00000000e-07, 1.99999930e-01, 1.99999967e-01, 1.99999977e-01,\n",
       "         1.99999979e-01, 1.99999980e-01]]), array([[0., 0., 0., 0., 0., 0.],\n",
       "        [0., 0., 0., 0., 0., 0.]]), array([10.        ,  2.51188643,  0.63095734,  0.15848932,  0.03981072,\n",
       "         0.01      ]))"
      ]
     },
     "execution_count": 21,
     "metadata": {},
     "output_type": "execute_result"
    }
   ],
   "source": [
    "# rankflassopath(y,X,lambda2,L=120,eps=1e-3,printitn=0)\n",
    "intcpt = False\n",
    "n,p = X.shape\n",
    "\n",
    "B = np.repeat(np.arange(1,n+1)[:,None],n,axis=1)\n",
    "A = np.copy(B.T)\n",
    "a = A[A<B]\n",
    "b = B[A<B]\n",
    "\n",
    "D = -1*np.eye(p-1)\n",
    "D[p:p:(p-1)**2]=1\n",
    "onev = np.append(np.zeros(p-2),1)\n",
    "D = np.hstack((D,onev[:,np.newaxis]))\n",
    "\n",
    "ytilde = np.append(y[a-1]-y[b-1],\n",
    "                    np.zeros(p-1)\n",
    "                   )\n",
    "\n",
    "Xtilde = np.vstack((X[a-1,:]-X[b-1,:],lambda2*D))\n",
    "\n",
    "lam0 = np.max(np.abs(Xtilde.T @ np.sign(ytilde)))\n",
    "\n",
    "lamgrid = eps**(np.arange(L+1)/L)*lam0\n",
    "\n",
    "B = np.zeros((p,L+1))\n",
    "B0= np.zeros((p,L+1))\n",
    "binit = np.zeros(p)\n",
    "\n",
    "if printitn > 0:\n",
    "    print(\"rankflassopath: starting iterations\\n\")\n",
    "\n",
    "for jj in range(L+1):\n",
    "    B[:,jj],_ = rsp.ladlasso(ytilde,Xtilde, lamgrid[jj],binit,intcpt,printitn)\n",
    "    binit = B[:,jj];\n",
    "    if printitn > 0:\n",
    "        print(\" . \")\n",
    "        \n",
    "B[np.abs(B)<1e-7]=0\n",
    "return B, B0, lamgrid"
   ]
  },
  {
   "cell_type": "code",
   "execution_count": 11,
   "metadata": {},
   "outputs": [
    {
     "data": {
      "text/plain": [
       "0.001"
      ]
     },
     "execution_count": 11,
     "metadata": {},
     "output_type": "execute_result"
    }
   ],
   "source": [
    "1e-3 == 0.001\n",
    "10**-3"
   ]
  }
 ],
 "metadata": {
  "kernelspec": {
   "display_name": "Python 3",
   "language": "python",
   "name": "python3"
  },
  "language_info": {
   "codemirror_mode": {
    "name": "ipython",
    "version": 3
   },
   "file_extension": ".py",
   "mimetype": "text/x-python",
   "name": "python",
   "nbconvert_exporter": "python",
   "pygments_lexer": "ipython3",
   "version": "3.6.8"
  }
 },
 "nbformat": 4,
 "nbformat_minor": 2
}
