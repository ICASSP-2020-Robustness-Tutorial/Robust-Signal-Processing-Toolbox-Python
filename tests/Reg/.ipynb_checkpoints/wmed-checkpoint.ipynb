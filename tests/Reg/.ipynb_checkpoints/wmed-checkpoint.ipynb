{
 "cells": [
  {
   "cell_type": "markdown",
   "metadata": {},
   "source": [
    "% [beta, iter, converged] = wmed(y,w,...)\n",
    "% wmed computes the weighted median for data vector y and weights w, i.e. \n",
    "% it solves the optimization problem:\n",
    "%\n",
    "% beta = arg min_b  SUM_i | y_i - b | * w_i  \n",
    "%\n",
    "% inputs: \n",
    "%       y : (numeric) data given (real or complex) \n",
    "%       w : (nubmer) positive real-valued weights. Inputs need to be of\n",
    "%           same length\n",
    "%       verbose: (logical) true of false (default). Set as true if you wish  \n",
    "%       to see convergence as iterations evolve\n",
    "% outputs:\n",
    "%       beta: (numeric) weighted median\n",
    "%       converged: (logical) flag of convergence (in the complex-valued \n",
    "%       data case)\n",
    "%       iter: (numeric) the number of iterations (complex-valued case)"
   ]
  }
 ],
 "metadata": {
  "kernelspec": {
   "display_name": "Python 3",
   "language": "python",
   "name": "python3"
  },
  "language_info": {
   "codemirror_mode": {
    "name": "ipython",
    "version": 3
   },
   "file_extension": ".py",
   "mimetype": "text/x-python",
   "name": "python",
   "nbconvert_exporter": "python",
   "pygments_lexer": "ipython3",
   "version": "3.6.8"
  }
 },
 "nbformat": 4,
 "nbformat_minor": 2
}
