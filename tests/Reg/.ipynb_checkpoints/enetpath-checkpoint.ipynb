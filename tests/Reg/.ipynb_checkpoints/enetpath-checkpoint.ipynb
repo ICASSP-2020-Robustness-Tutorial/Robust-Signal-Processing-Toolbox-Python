{
 "cells": [
  {
   "cell_type": "code",
   "execution_count": 4,
   "metadata": {},
   "outputs": [
    {
     "data": {
      "text/plain": [
       "array([-2.4531889 , -0.81348996, -0.09809927, -0.        , -0.        ])"
      ]
     },
     "execution_count": 4,
     "metadata": {},
     "output_type": "execute_result"
    }
   ],
   "source": [
    "import numpy as np\n",
    "from robustsp import *\n",
    "\n",
    "import scipy.io\n",
    "\n",
    "X = np.eye(10, 5)\n",
    "y = [1.0, 2.555555, 3.2342342, 4.73567256, 5.13131, 6, 7, 8, 9, 10]\n",
    "alpha = 1\n",
    "L = 10\n",
    "eps = 10**-3\n",
    "intcpt = True\n",
    "printitn = 0\n",
    "\n",
    "# def enetpath(y,X,alpha=1,L=120,eps=10**-3,intcpt=True,printitn=0):\n",
    "\n",
    "X = np.asarray(X)\n",
    "y = np.asarray(y)\n",
    "\n",
    "n, p = X.shape\n",
    "\n",
    "# if intercept is in the model, center the data\n",
    "if intcpt:\n",
    "    meanX = np.mean(X, axis=0)\n",
    "    meany = np.mean(y)\n",
    "    X -= meanX\n",
    "    y -= meany\n",
    "\n",
    "if printitn > 0:\n",
    "    print('enetpath: using alpha = %.1f \\n' % alpha)\n",
    "\n",
    "sdX = np.sqrt(np.sum(X*np.conj(X), axis=0))\n",
    "X /= sdX\n",
    "\n",
    "# smallest penalty value giving zero solution\n",
    "lam0 = np.linalg.norm(X.T @ y, np.inf)/alpha\n",
    "\n",
    "lamgrid = eps**(np.arange(0, L+1, 1)/L) * lam0  # grid of penalty values\n",
    "\n",
    "B = np.zeros([p, L+1])\n",
    "# bis hierhin alles richtig\n",
    "first, _ = enet(y, X, np.zeros((p,1)), lamgrid[0+1], alpha, printitn)\n",
    "first  # -2.6405   -1.1648   -0.5209         0         0\n"
   ]
  },
  {
   "cell_type": "code",
   "execution_count": 11,
   "metadata": {},
   "outputs": [
    {
     "name": "stdout",
     "output_type": "stream",
     "text": [
      "0.0 [-4.66567718 -3.11012218 -2.43144298 -0.93000462 -0.53436718  0.33432282\n",
      "  1.33432282  2.33432282  3.33432282  4.33432282]\n"
     ]
    },
    {
     "data": {
      "text/plain": [
       "(array([-2.4531889 , -0.81348996, -0.09809927, -0.        , -0.        ]), 1)"
      ]
     },
     "execution_count": 11,
     "metadata": {},
     "output_type": "execute_result"
    }
   ],
   "source": [
    "import cmath\n",
    "y = np.asarray(y, dtype=np.float64)\n",
    "X = np.asarray(X)\n",
    "beta = np.zeros((p, 1))\n",
    "lambd = 2.4648666648211974 # lamgrid[0+1]\n",
    "iterMAX = 1000\n",
    "alpha = 1\n",
    "\n",
    "# inputs stimmen\n",
    "\n",
    "_, p = X.shape\n",
    "\n",
    "# Make sure that beta and y have correct shape, namely 1d-array and not 2d-array\n",
    "if len(beta.shape) == 2:\n",
    "    beta = beta.flatten()\n",
    "\n",
    "if len(y.shape) == 2:\n",
    "    y = y.flatten()\n",
    "\n",
    "betaold = beta\n",
    "normb0 = np.linalg.norm(beta)\n",
    "r = y - np.dot(X, beta)\n",
    "# print(normb0,r) correct\n",
    "\n",
    "# Check for correct arguments\n",
    "if lambd <= 0:\n",
    "    raise TypeError('lambda has to be positive. You entered %.3f' % lambd)\n",
    "\n",
    "lam1 = alpha*lambd\n",
    "lam2 = (1-alpha)*lambd\n",
    "const = 1/(1+lam2)\n",
    "\n",
    "if printitn > 0:\n",
    "    print('enet : using penalty lambda = %.5f \\n' % lambd)\n",
    "\n",
    "it = 0\n",
    "for _ in range(iterMAX):\n",
    "    it += 1\n",
    "    for jj in range(p):\n",
    "        beta[jj] = const * SoftThresh(beta[jj] + X[:, jj].T @ r, lam1)\n",
    "        r = r + X[:, jj] * (betaold[jj]-beta[jj])\n",
    "        \n",
    "    normb = np.linalg.norm(beta)\n",
    "\n",
    "    crit = cmath.sqrt(normb0**2 + normb**2 - 2 *\n",
    "                      np.real(betaold.T @ beta))/normb if normb != 0 else np.inf\n",
    "\n",
    "    if printitn != 0 and iter % printitn == 0:\n",
    "        print('enet: %4d crit = %.8f\\n' % (iter, crit))\n",
    "\n",
    "    if np.real(crit) < 1e-4:\n",
    "        break\n",
    "\n",
    "    betaold = beta\n",
    "    normb0 = normb\n",
    "\n",
    "beta, it"
   ]
  },
  {
   "cell_type": "code",
   "execution_count": 9,
   "metadata": {},
   "outputs": [
    {
     "ename": "IndexError",
     "evalue": "index 11 is out of bounds for axis 1 with size 11",
     "output_type": "error",
     "traceback": [
      "\u001b[1;31m---------------------------------------------------------------------------\u001b[0m",
      "\u001b[1;31mIndexError\u001b[0m                                Traceback (most recent call last)",
      "\u001b[1;32m<ipython-input-9-a646a3686c58>\u001b[0m in \u001b[0;36m<module>\u001b[1;34m\u001b[0m\n\u001b[0;32m     41\u001b[0m \u001b[1;33m\u001b[0m\u001b[0m\n\u001b[0;32m     42\u001b[0m \u001b[1;32mfor\u001b[0m \u001b[0mjj\u001b[0m \u001b[1;32min\u001b[0m \u001b[0mrange\u001b[0m\u001b[1;33m(\u001b[0m\u001b[1;36m1\u001b[0m\u001b[1;33m,\u001b[0m\u001b[0mL\u001b[0m\u001b[1;33m+\u001b[0m\u001b[1;36m1\u001b[0m\u001b[1;33m)\u001b[0m\u001b[1;33m:\u001b[0m\u001b[1;33m\u001b[0m\u001b[1;33m\u001b[0m\u001b[0m\n\u001b[1;32m---> 43\u001b[1;33m     \u001b[0mB\u001b[0m\u001b[1;33m[\u001b[0m\u001b[1;33m:\u001b[0m\u001b[1;33m,\u001b[0m\u001b[0mjj\u001b[0m\u001b[1;33m+\u001b[0m\u001b[1;36m1\u001b[0m\u001b[1;33m]\u001b[0m\u001b[1;33m,\u001b[0m \u001b[0mb\u001b[0m \u001b[1;33m=\u001b[0m \u001b[0menet\u001b[0m\u001b[1;33m(\u001b[0m\u001b[0my\u001b[0m\u001b[1;33m,\u001b[0m\u001b[0mX\u001b[0m\u001b[1;33m,\u001b[0m\u001b[0mB\u001b[0m\u001b[1;33m[\u001b[0m\u001b[1;33m:\u001b[0m\u001b[1;33m,\u001b[0m\u001b[0mjj\u001b[0m\u001b[1;33m]\u001b[0m\u001b[1;33m,\u001b[0m \u001b[0mlamgrid\u001b[0m\u001b[1;33m[\u001b[0m\u001b[0mjj\u001b[0m\u001b[1;33m]\u001b[0m\u001b[1;33m,\u001b[0m \u001b[0malpha\u001b[0m\u001b[1;33m,\u001b[0m \u001b[0mprintitn\u001b[0m\u001b[1;33m)\u001b[0m\u001b[1;33m\u001b[0m\u001b[1;33m\u001b[0m\u001b[0m\n\u001b[0m\u001b[0;32m     44\u001b[0m \u001b[0mfirst\u001b[0m\u001b[1;33m\u001b[0m\u001b[1;33m\u001b[0m\u001b[0m\n",
      "\u001b[1;31mIndexError\u001b[0m: index 11 is out of bounds for axis 1 with size 11"
     ]
    }
   ],
   "source": [
    "for jj in range(1,L+1):\n",
    "    B[:,jj+1], b = enet(y,X,B[:,jj], lamgrid[jj], alpha, printitn)\n",
    "first"
   ]
  },
  {
   "cell_type": "code",
   "execution_count": 1,
   "metadata": {},
   "outputs": [
    {
     "data": {
      "text/plain": [
       "array([[ 5.66567718,  6.02035594,  6.50050193,  7.00723756,  7.39522541,\n",
       "         7.64924371,  7.80302722,  7.89186723,  7.94162189,  7.96888238,\n",
       "         7.96888238],\n",
       "       [ 0.        , -2.58588808, -3.98866882, -5.01584558, -5.79029845,\n",
       "        -6.29850426, -6.60605247, -6.78373457, -6.88324367, -6.93776467,\n",
       "        -6.93776467],\n",
       "       [ 0.        , -0.85749378, -2.45231834, -3.45815689, -4.23498068,\n",
       "        -4.74292305, -5.05050053, -5.22817938, -5.32768884, -5.3822098 ,\n",
       "        -5.3822098 ],\n",
       "       [ 0.        , -0.10340575, -1.78201786, -2.77854669, -3.55640489,\n",
       "        -4.06423233, -4.37182257, -4.54950001, -4.64900963, -4.70353057,\n",
       "        -4.70353057],\n",
       "       [ 0.        ,  0.        , -0.12524253, -1.29436798, -2.05304877,\n",
       "        -2.56300703, -2.87036052, -3.04806426, -3.14757096, -3.20209223,\n",
       "        -3.20209223],\n",
       "       [ 0.        ,  0.        ,  0.        , -0.86868671, -1.66074958,\n",
       "        -2.16699872, -2.47476434, -2.65242229, -2.75193407, -2.80645478,\n",
       "        -2.80645478]])"
      ]
     },
     "execution_count": 1,
     "metadata": {},
     "output_type": "execute_result"
    }
   ],
   "source": [
    "B[np.abs(B) < 5e-8] = 0\n",
    "\n",
    "\n",
    "DF = np.sum([np.abs(B)!=0],axis=0) # non-zero values in each column\n",
    "\n",
    "if n > p:\n",
    "\n",
    "    MSE = np.sum(np.abs(np.repeat(y[:,np.newaxis],L+1,axis=1)\n",
    "                        -X@B)**2) *(1/(n-DF-1))\n",
    "    BIC = n * np.log(MSE) + DF * np.log(n)\n",
    "else:\n",
    "    MSE = []\n",
    "    BIC = []\n",
    "\n",
    "B = B / sdX[:,None]\n",
    "if intcpt:\n",
    "    B = np.vstack([meany - meanX @ B, B])\n",
    "\n",
    "stats = {'MSE':MSE,'BIC':BIC,'Lambda':lamgrid}\n",
    "\n",
    "'''\n",
    "Bmat = scipy.io.loadmat('enetpath.mat',struct_as_record=False)['ans']\n",
    "np.array_equal(np.round(B,4),np.round(Bmat,4))\n",
    "'''\n",
    "\n",
    "B"
   ]
  }
 ],
 "metadata": {
  "kernelspec": {
   "display_name": "Python 3",
   "language": "python",
   "name": "python3"
  },
  "language_info": {
   "codemirror_mode": {
    "name": "ipython",
    "version": 3
   },
   "file_extension": ".py",
   "mimetype": "text/x-python",
   "name": "python",
   "nbconvert_exporter": "python",
   "pygments_lexer": "ipython3",
   "version": "3.6.8"
  },
  "latex_envs": {
   "LaTeX_envs_menu_present": true,
   "autoclose": false,
   "autocomplete": true,
   "bibliofile": "biblio.bib",
   "cite_by": "apalike",
   "current_citInitial": 1,
   "eqLabelWithNumbers": true,
   "eqNumInitial": 1,
   "hotkeys": {
    "equation": "Ctrl-E",
    "itemize": "Ctrl-I"
   },
   "labels_anchors": false,
   "latex_user_defs": false,
   "report_style_numbering": false,
   "user_envs_cfg": false
  },
  "toc": {
   "base_numbering": 1,
   "nav_menu": {},
   "number_sections": true,
   "sideBar": true,
   "skip_h1_title": false,
   "title_cell": "Table of Contents",
   "title_sidebar": "Contents",
   "toc_cell": false,
   "toc_position": {},
   "toc_section_display": true,
   "toc_window_display": false
  }
 },
 "nbformat": 4,
 "nbformat_minor": 2
}
