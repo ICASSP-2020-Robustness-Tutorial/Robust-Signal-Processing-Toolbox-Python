{
 "cells": [
  {
   "cell_type": "markdown",
   "metadata": {},
   "source": [
    "Inputs:\n",
    "\n",
    "y = [1 2 3]\n",
    "\n",
    "X =\n",
    "\n",
    "     1     2\n",
    "     4     5\n",
    "     6     7\n",
    "\n",
    "lambda1 = 0.1\n",
    "\n",
    "lambda2 = 0.2\n",
    "\n",
    "Output:\n",
    "\n",
    "b =\n",
    "\n",
    "    0.2000\n",
    "    0.2000\n",
    "\n",
    "\n",
    "i =\n",
    "\n",
    "        2000\n"
   ]
  },
  {
   "cell_type": "code",
   "execution_count": 30,
   "metadata": {},
   "outputs": [
    {
     "data": {
      "text/plain": [
       "(array([0.19999998, 0.19999998]), 1999)"
      ]
     },
     "execution_count": 30,
     "metadata": {},
     "output_type": "execute_result"
    }
   ],
   "source": [
    "import robustsp as rsp\n",
    "import numpy as np\n",
    "\n",
    "y = np.array([1,2,3])\n",
    "X = np.array(([1,2],[4,5],[6,7]))\n",
    "lambda1 = 0.1\n",
    "lambda2 = 0.2\n",
    "printitn = 0\n",
    "b0 = None\n",
    "\n",
    "#######################################################################\n",
    "\n",
    "n,p = X.shape\n",
    "\n",
    "intcpt = False\n",
    "\n",
    "if b0 is None:\n",
    "    b0 = np.linalg.solve(np.hstack((np.ones((n,1)),X)),y)\n",
    "    b0 = b0[1:]\n",
    "\n",
    "\n",
    "B = np.repeat(np.arange(1,n+1)[:,None],n,axis=1)\n",
    "A = np.copy(B.T)\n",
    "a = A[A<B]\n",
    "b = B[A<B]\n",
    "\n",
    "D = -1*np.eye(p-1)\n",
    "D[p:p:(p-1)**2]=1\n",
    "onev = np.append(np.zeros(p-2),1)\n",
    "D = np.hstack((D,onev[:,np.newaxis]))\n",
    "\n",
    "ytilde = np.append(y[a-1]-y[b-1],\n",
    "                    np.zeros(p-1)\n",
    "                   )\n",
    "Xtilde = np.vstack((X[a-1,:]-X[b-1,:],lambda2*D))\n",
    "\n",
    "if printitn > 0:\n",
    "    print(\"rankflasso: starting iterations\\n\")\n",
    "\n",
    "b, iter = rsp.ladlasso(ytilde,Xtilde,lambda1,b0,intcpt,printitn)\n",
    "\n",
    "return b, iter\n"
   ]
  },
  {
   "cell_type": "code",
   "execution_count": 1,
   "metadata": {},
   "outputs": [
    {
     "data": {
      "text/plain": [
       "(array([0.19999998, 0.19999998]), 1999)"
      ]
     },
     "execution_count": 1,
     "metadata": {},
     "output_type": "execute_result"
    }
   ],
   "source": [
    "import robustsp as rsp\n",
    "import numpy as np\n",
    "y = np.array([1,2,3])\n",
    "X = np.array(([1,2],[4,5],[6,7]))\n",
    "b,i = rsp.rankflasso(y,X,0.1,0.2)\n",
    "b,i"
   ]
  }
 ],
 "metadata": {
  "kernelspec": {
   "display_name": "Python 3",
   "language": "python",
   "name": "python3"
  },
  "language_info": {
   "codemirror_mode": {
    "name": "ipython",
    "version": 3
   },
   "file_extension": ".py",
   "mimetype": "text/x-python",
   "name": "python",
   "nbconvert_exporter": "python",
   "pygments_lexer": "ipython3",
   "version": "3.6.8"
  }
 },
 "nbformat": 4,
 "nbformat_minor": 2
}
