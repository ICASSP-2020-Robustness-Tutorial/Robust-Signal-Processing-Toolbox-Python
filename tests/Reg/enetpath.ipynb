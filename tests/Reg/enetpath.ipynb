{
 "cells": [
  {
   "cell_type": "code",
   "execution_count": 4,
   "metadata": {},
   "outputs": [
    {
     "name": "stdout",
     "output_type": "stream",
     "text": [
      "True\n",
      "False\n",
      "False\n",
      "False\n",
      "False\n"
     ]
    },
    {
     "ename": "AssertionError",
     "evalue": "",
     "output_type": "error",
     "traceback": [
      "\u001b[1;31m---------------------------------------------------------------------------\u001b[0m",
      "\u001b[1;31mAssertionError\u001b[0m                            Traceback (most recent call last)",
      "\u001b[1;32m<ipython-input-4-0d84429d682b>\u001b[0m in \u001b[0;36m<module>\u001b[1;34m\u001b[0m\n\u001b[0;32m     83\u001b[0m \u001b[1;33m\u001b[0m\u001b[0m\n\u001b[0;32m     84\u001b[0m \u001b[1;32massert\u001b[0m \u001b[0mnp\u001b[0m\u001b[1;33m.\u001b[0m\u001b[0marray_equal\u001b[0m\u001b[1;33m(\u001b[0m\u001b[0mnp\u001b[0m\u001b[1;33m.\u001b[0m\u001b[0maround\u001b[0m\u001b[1;33m(\u001b[0m\u001b[0mB\u001b[0m\u001b[1;33m,\u001b[0m\u001b[1;36m3\u001b[0m\u001b[1;33m)\u001b[0m\u001b[1;33m,\u001b[0m\u001b[0mnp\u001b[0m\u001b[1;33m.\u001b[0m\u001b[0maround\u001b[0m\u001b[1;33m(\u001b[0m\u001b[0mBmat\u001b[0m\u001b[1;33m,\u001b[0m\u001b[1;36m3\u001b[0m\u001b[1;33m)\u001b[0m\u001b[1;33m)\u001b[0m\u001b[1;33m\u001b[0m\u001b[1;33m\u001b[0m\u001b[0m\n\u001b[1;32m---> 85\u001b[1;33m \u001b[1;32massert\u001b[0m \u001b[0mnp\u001b[0m\u001b[1;33m.\u001b[0m\u001b[0marray_equal\u001b[0m\u001b[1;33m(\u001b[0m\u001b[0mnp\u001b[0m\u001b[1;33m.\u001b[0m\u001b[0maround\u001b[0m\u001b[1;33m(\u001b[0m\u001b[0mstats\u001b[0m\u001b[1;33m[\u001b[0m\u001b[1;34m'BIC'\u001b[0m\u001b[1;33m]\u001b[0m\u001b[1;33m,\u001b[0m\u001b[1;36m3\u001b[0m\u001b[1;33m)\u001b[0m\u001b[1;33m,\u001b[0m\u001b[0mnp\u001b[0m\u001b[1;33m.\u001b[0m\u001b[0maround\u001b[0m\u001b[1;33m(\u001b[0m\u001b[0mBIC\u001b[0m\u001b[1;33m,\u001b[0m\u001b[1;36m3\u001b[0m\u001b[1;33m)\u001b[0m\u001b[1;33m)\u001b[0m\u001b[1;33m\u001b[0m\u001b[1;33m\u001b[0m\u001b[0m\n\u001b[0m\u001b[0;32m     86\u001b[0m \u001b[1;32massert\u001b[0m \u001b[0mnp\u001b[0m\u001b[1;33m.\u001b[0m\u001b[0marray_equal\u001b[0m\u001b[1;33m(\u001b[0m\u001b[0mnp\u001b[0m\u001b[1;33m.\u001b[0m\u001b[0maround\u001b[0m\u001b[1;33m(\u001b[0m\u001b[0mstats\u001b[0m\u001b[1;33m[\u001b[0m\u001b[1;34m'MSE'\u001b[0m\u001b[1;33m]\u001b[0m\u001b[1;33m,\u001b[0m\u001b[1;36m3\u001b[0m\u001b[1;33m)\u001b[0m\u001b[1;33m,\u001b[0m\u001b[0mnp\u001b[0m\u001b[1;33m.\u001b[0m\u001b[0maround\u001b[0m\u001b[1;33m(\u001b[0m\u001b[0mMSE\u001b[0m\u001b[1;33m,\u001b[0m\u001b[1;36m3\u001b[0m\u001b[1;33m)\u001b[0m\u001b[1;33m)\u001b[0m\u001b[1;33m\u001b[0m\u001b[1;33m\u001b[0m\u001b[0m\n",
      "\u001b[1;31mAssertionError\u001b[0m: "
     ]
    }
   ],
   "source": [
    "import numpy as np\n",
    "from robustsp import *\n",
    "\n",
    "import scipy.io\n",
    "import pkg_resources\n",
    "\n",
    "path = pkg_resources.resource_filename('robustsp', 'data/prostate.mat')\n",
    "X = scipy.io.loadmat(path,struct_as_record=False)['X']\n",
    "y = scipy.io.loadmat(path,struct_as_record=False)['y']\n",
    "alpha = 1\n",
    "L = 120\n",
    "eps = 10**-3\n",
    "intcpt = True\n",
    "printitn = 0\n",
    "\n",
    "# def enetpath(y,X,alpha=1,L=120,eps=10**-3,intcpt=True,printitn=0):\n",
    "Xcheck = np.copy(X)\n",
    "\n",
    "print(np.array_equal(X,Xcheck))\n",
    "\n",
    "X = np.asarray(X)\n",
    "y = np.asarray(y)\n",
    "if len(y.shape) == 2: y = y.flatten()\n",
    "    \n",
    "n, p = X.shape\n",
    "\n",
    "# if intercept is in the model, center the data\n",
    "if intcpt:\n",
    "    meanX = np.mean(X, axis=0)\n",
    "    meany = np.mean(y)\n",
    "    X -= meanX\n",
    "    y -= meany\n",
    "\n",
    "if printitn > 0:\n",
    "    print('enetpath: using alpha = %.1f \\n' % alpha)\n",
    "\n",
    "sdX = np.sqrt(np.sum(X*np.conj(X), axis=0))\n",
    "X /= sdX\n",
    "\n",
    "# smallest penalty value giving zero solution\n",
    "lam0 = np.linalg.norm(X.T @ y, np.inf)/alpha\n",
    "\n",
    "lamgrid = eps**(np.arange(0, L+1, 1)/L) * lam0  # grid of penalty values\n",
    "\n",
    "B = np.zeros([p, L+1])\n",
    "# bis hierhin alles richtig\n",
    "\n",
    "print(np.array_equal(X,Xcheck))\n",
    "\n",
    "for jj in range(L):\n",
    "    B[:,jj+1], b = enet(y,X,B[:,jj], lamgrid[jj], alpha, printitn)\n",
    "\n",
    "\n",
    "print(np.array_equal(X,Xcheck))\n",
    "\n",
    "B[np.abs(B) < 5e-8] = 0\n",
    "\n",
    "\n",
    "DF = np.sum([np.abs(B)!=0],axis=0) # non-zero values in each column\n",
    "\n",
    "if n > p:\n",
    "\n",
    "        MSE = np.sum(np.abs(np.repeat(y[:,np.newaxis],L+1,axis=1)\n",
    "                            -X@B)**2,axis=0) *(1/(n-DF-1))\n",
    "        BIC = n * np.log(MSE) + DF * np.log(n)\n",
    "else:\n",
    "    MSE = []\n",
    "    BIC = []\n",
    "\n",
    "\n",
    "B = B / sdX[:,None]\n",
    "\n",
    "print(np.array_equal(X,Xcheck))\n",
    "\n",
    "if intcpt:\n",
    "    B = np.vstack([meany - meanX @ B, B])\n",
    "print(np.array_equal(X,Xcheck))\n",
    "stats = {'MSE':MSE,'BIC':BIC,'Lambda':lamgrid}\n",
    "\n",
    "Bmat = scipy.io.loadmat('ex/B.mat',struct_as_record=False)['B']\n",
    "MSE = scipy.io.loadmat('MSE.mat',struct_as_record=False)['MSE']\n",
    "BIC = scipy.io.loadmat('BIC.mat',struct_as_record=False)['BIC']\n",
    "\n",
    "assert np.array_equal(np.around(B,3),np.around(Bmat,3))\n",
    "assert np.array_equal(np.around(stats['BIC'],3),np.around(BIC,3))\n",
    "assert np.array_equal(np.around(stats['MSE'],3),np.around(MSE,3))"
   ]
  },
  {
   "cell_type": "code",
   "execution_count": 1,
   "metadata": {},
   "outputs": [
    {
     "name": "stdout",
     "output_type": "stream",
     "text": [
      "True\n",
      "True\n"
     ]
    },
    {
     "data": {
      "text/plain": [
       "-0.00045401015738810637"
      ]
     },
     "execution_count": 1,
     "metadata": {},
     "output_type": "execute_result"
    }
   ],
   "source": [
    "from robustsp import *\n",
    "import scipy.io\n",
    "import pkg_resources\n",
    "\n",
    "path = pkg_resources.resource_filename('robustsp', 'data/prostate.mat')\n",
    "X = scipy.io.loadmat(path,struct_as_record=False)['X']\n",
    "y = scipy.io.loadmat(path,struct_as_record=False)['y']\n",
    "Xcheck = scipy.io.loadmat(path,struct_as_record=False)['X']\n",
    "\n",
    "print(np.array_equal(X,Xcheck))\n",
    "B,stats = enetpath(y,X,1)\n",
    "print(np.array_equal(X,Xcheck))\n",
    "\n",
    "Bmat = scipy.io.loadmat('ex/B.mat',struct_as_record=False)['B']\n",
    "MSE = scipy.io.loadmat('MSE.mat')['MSE']\n",
    "BIC = scipy.io.loadmat('BIC.mat')['BIC']\n",
    "assert np.array_equal(np.around(B,3),np.around(Bmat,3))\n",
    "assert np.array_equal(np.around(stats['BIC'],3),np.around(BIC,3))\n",
    "assert np.array_equal(np.around(stats['MSE'],3),np.around(MSE,3))\n",
    "np.sum(B-Bmat)"
   ]
  },
  {
   "cell_type": "markdown",
   "metadata": {},
   "source": [
    "# Test mit Outlier"
   ]
  },
  {
   "cell_type": "code",
   "execution_count": 7,
   "metadata": {},
   "outputs": [
    {
     "data": {
      "text/plain": [
       "True"
      ]
     },
     "execution_count": 7,
     "metadata": {},
     "output_type": "execute_result"
    }
   ],
   "source": [
    "import robustsp as rsp\n",
    "import scipy.io\n",
    "import pkg_resources\n",
    "import numpy as np\n",
    "\n",
    "path = pkg_resources.resource_filename('robustsp', 'data/prostate.mat')\n",
    "X = scipy.io.loadmat(path,struct_as_record=False)['X']\n",
    "y = scipy.io.loadmat(path,struct_as_record=False)['y']\n",
    "\n",
    "yout = np.copy(y)\n",
    "yout[0] = 55\n",
    "# inputs stimmen.\n",
    "B,stats = rsp.enetpath(yout,X,1)\n",
    "Bout2 = scipy.io.loadmat('Bout.mat',struct_as_record=False)['Bout']\n",
    "np.isclose(Bout2Bout).all()"
   ]
  }
 ],
 "metadata": {
  "kernelspec": {
   "display_name": "Python 3",
   "language": "python",
   "name": "python3"
  },
  "language_info": {
   "codemirror_mode": {
    "name": "ipython",
    "version": 3
   },
   "file_extension": ".py",
   "mimetype": "text/x-python",
   "name": "python",
   "nbconvert_exporter": "python",
   "pygments_lexer": "ipython3",
   "version": "3.6.8"
  },
  "latex_envs": {
   "LaTeX_envs_menu_present": true,
   "autoclose": false,
   "autocomplete": true,
   "bibliofile": "biblio.bib",
   "cite_by": "apalike",
   "current_citInitial": 1,
   "eqLabelWithNumbers": true,
   "eqNumInitial": 1,
   "hotkeys": {
    "equation": "Ctrl-E",
    "itemize": "Ctrl-I"
   },
   "labels_anchors": false,
   "latex_user_defs": false,
   "report_style_numbering": false,
   "user_envs_cfg": false
  },
  "toc": {
   "base_numbering": 1,
   "nav_menu": {},
   "number_sections": true,
   "sideBar": true,
   "skip_h1_title": false,
   "title_cell": "Table of Contents",
   "title_sidebar": "Contents",
   "toc_cell": false,
   "toc_position": {},
   "toc_section_display": true,
   "toc_window_display": false
  }
 },
 "nbformat": 4,
 "nbformat_minor": 2
}
