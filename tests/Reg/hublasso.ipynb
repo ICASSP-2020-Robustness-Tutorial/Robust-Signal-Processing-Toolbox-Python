{
 "cells": [
  {
   "cell_type": "markdown",
   "metadata": {},
   "source": [
    "# Test 1"
   ]
  },
  {
   "cell_type": "code",
   "execution_count": 1,
   "metadata": {},
   "outputs": [
    {
     "name": "stderr",
     "output_type": "stream",
     "text": [
      "c:\\users\\computer\\appdata\\local\\programs\\python\\python36\\lib\\site-packages\\numpy\\lib\\scimath.py:461: RuntimeWarning: overflow encountered in power\n",
      "  return nx.power(x, p)\n",
      "c:\\users\\computer\\desktop\\robustsp\\robustsp\\Regression\\hublasso.py:73: RuntimeWarning: overflow encountered in matmul\n",
      "  betaold@b0))\\\n"
     ]
    },
    {
     "data": {
      "text/plain": [
       "(array([-3.25655076e+302,  4.73680110e+302, -4.44075103e+302]),\n",
       " 9.251453164795978e+300,\n",
       " array([-3.70058127e+301, -3.70058127e+301, -3.70058127e+301]))"
      ]
     },
     "execution_count": 1,
     "metadata": {},
     "output_type": "execute_result"
    }
   ],
   "source": [
    "import numpy as np\n",
    "import robustsp as rsp\n",
    "from scipy.stats import chi2\n",
    "import math\n",
    "   \n",
    "yx = np.asarray([1.3,4,5])\n",
    "\n",
    "Xx = np.asarray([[4,5,6],[7,8,9],[0,3,0]])\n",
    "c = 4\n",
    "lambd = 3.3\n",
    "b0 = np.zeros(3)\n",
    "sig0 = 1\n",
    "reltol = 1e-5\n",
    "printitn = 0\n",
    "iterMAX = 500\n",
    "\n",
    "rsp.hublasso(yx,Xx,lambd,b0,sig0,c)"
   ]
  },
  {
   "cell_type": "markdown",
   "metadata": {},
   "source": [
    "* b0 =\n",
    "\n",
    "  1.0e+302 *\n",
    "\n",
    "   -3.2566\n",
    "    4.7368\n",
    "   -4.4408\n",
    "\n",
    "* sig0 =\n",
    "\n",
    "  9.2515e+300\n",
    "\n",
    "* psires =\n",
    "\n",
    "  1.0e+301 *\n",
    "\n",
    "   -3.7006\n",
    "   -3.7006\n",
    "   -3.7006"
   ]
  },
  {
   "cell_type": "markdown",
   "metadata": {},
   "source": [
    "# Test 2"
   ]
  },
  {
   "cell_type": "code",
   "execution_count": 12,
   "metadata": {},
   "outputs": [
    {
     "name": "stdout",
     "output_type": "stream",
     "text": [
      "(array([ 0.4037636 , -1.70279951, -0.        ,  0.        ]), 0.6143870137430529, array([ 0.5337746 , -0.53377587, -0.49999936,  0.50000064]), 8)\n"
     ]
    },
    {
     "data": {
      "text/plain": [
       "0.6143870137430529"
      ]
     },
     "execution_count": 12,
     "metadata": {},
     "output_type": "execute_result"
    }
   ],
   "source": [
    "# Sig output wrong\n",
    "\n",
    "import numpy as np\n",
    "import robustsp as rsp\n",
    "from scipy.stats import chi2\n",
    "import math\n",
    "\n",
    "yx = np.array([ 1.375, -2.125, -0.125, 0.875])\n",
    "\n",
    "Xx = np.array([[ 0.8660254 , -0.28867513, -0.28867513, -0.28867513],\n",
    "  [-0.28867513,  0.8660254 , -0.28867513, -0.28867513],\n",
    "  [-0.28867513, -0.28867513,  0.8660254 , -0.28867513],\n",
    "  [-0.28867513, -0.28867513, -0.28867513,  0.8660254 ]])\n",
    "\n",
    "lambd = 0.6163512806474756\n",
    "\n",
    "b0 = np.array([0., 0., 0., 0.])\n",
    "\n",
    "sig0 = 1.812638977729619\n",
    "\n",
    "c = 1.3415\n",
    "\n",
    "reltol = 1e-5\n",
    "\n",
    "printitn = 0\n",
    "iterMAX = 500\n",
    "print(rsp.hublasso(yx,Xx,lambd,b0,sig0,c))\n",
    "###################################################################\n",
    "\n",
    "# ensure that y is Nx1 and not just N and proper formats\n",
    "y = np.copy(np.asarray(yx))\n",
    "X = np.copy(np.asarray(Xx))\n",
    "y = y if not len(y.shape)==2 else y.flatten()\n",
    "\n",
    "n,p = X.shape\n",
    "realdata = np.isrealobj(y)\n",
    "\n",
    "if c is None: c = 1.3415 if realdata else 1.215\n",
    "# Default: approx 95 efficiency for Gaussian errors\n",
    "\n",
    "csq = c**2\n",
    "\n",
    "if realdata:\n",
    "    qn = chi2.cdf(csq,1)\n",
    "    alpha = chi2.cdf(csq,3)+csq*(1-qn) # consistency factor for scale\n",
    "else:\n",
    "    qn = chi2.cdf(2*csq,2)\n",
    "    alpha = chi2.cdf(2*csq,4)+csq*(1-qn) # consistency factor for scale\n",
    "\n",
    "con = np.sqrt(n*alpha)\n",
    "normb0 = np.linalg.norm(b0)\n",
    "b0 = b0.astype(np.longdouble)\n",
    "betaold = np.copy(b0)\n",
    "\n",
    "i = 0\n",
    "for _ in range(iterMAX):\n",
    "    r = y-X@b0[:,np.newaxis].flatten()\n",
    "\n",
    "    psires = rsp.psihub(r/sig0,c)*sig0\n",
    "    sig1 = np.linalg.norm(psires)/con\n",
    "    if sig1 == np.Inf:\n",
    "        print(r)\n",
    "        print(psires)\n",
    "        print(con)\n",
    "    crit2 = np.abs(sig0-sig1)\n",
    "    \n",
    "    for jj in range(p):\n",
    "        psires = rsp.psihub(r/sig1,c)*sig1 # Update the pseudo-residual\n",
    "        if any(map(lambda x: math.isnan(x), psires)):\n",
    "            print(r)\n",
    "            print(sig1)\n",
    "        b0[jj] = rsp.SoftThresh(b0[jj]+X[:,jj].T @ psires,lambd)\n",
    "        r+=X[:,jj]*(betaold[jj]-b0[jj])\n",
    "\n",
    "\n",
    "    normb = np.linalg.norm(b0)\n",
    "    crit = np.sqrt(normb0**2 + normb**2 -2*np.real(betaold@b0))/normb\n",
    "\n",
    "    if printitn > 0:\n",
    "        pass\n",
    "        '''\n",
    "        r = (y-X@b0)/sig1\n",
    "        objnew = (sig1)*np.sum(rsp.rhofun(r,c)+())\n",
    "        '''\n",
    "    if crit<reltol: break\n",
    "\n",
    "    sig0 = sig1\n",
    "    betaold = np.copy(b0)\n",
    "    normb0 = normb\n",
    "\n",
    "    i+=1\n",
    "    \n",
    "if printitn > 0:\n",
    "    b0[np.abs(b0)<5e-9]=0\n",
    "    r = y- X@b0\n",
    "    s = np.sign(b0)\n",
    "    ind = np.arange(p)\n",
    "    ind2 = ind[s==0]\n",
    "    psires = rsp.psihub(r/sig1,c)*sig1\n",
    "    s[ind2] = X[:,ind2]@psires/lambd\n",
    "    fpeq = -X.T@psires + lambd*s # FP equation equal to zero\n",
    "    print('lam = %.4f it = %d norm(FPeq1)= %.12f abs(FPeq2)=%.12f\\n' \\\n",
    "    % (lambd,i, np.linalg.norm(fpeq),sig1-np.linalg.norm(psires)/con))\n"
   ]
  },
  {
   "cell_type": "code",
   "execution_count": 10,
   "metadata": {},
   "outputs": [
    {
     "data": {
      "text/plain": [
       "(array([ 0.40376213, -1.7028    , -0.        ,  0.        ]),\n",
       " 0.6143870137430529,\n",
       " array([ 0.53377573, -0.53377587, -0.49999993,  0.50000007]),\n",
       " 1)"
      ]
     },
     "execution_count": 10,
     "metadata": {},
     "output_type": "execute_result"
    }
   ],
   "source": [
    "rsp.hublasso(yx,Xx,lambd,b0,sig0,c)"
   ]
  },
  {
   "cell_type": "code",
   "execution_count": 31,
   "metadata": {},
   "outputs": [
    {
     "data": {
      "text/plain": [
       "inf"
      ]
     },
     "execution_count": 31,
     "metadata": {},
     "output_type": "execute_result"
    }
   ],
   "source": [
    "1.e500*np.ones((3,3))@np.ones((3,1))*1e100 # all inf\n",
    "np.linalg.norm(1.e500*np.ones((3,3),dtype=np.longdouble)@np.ones((3,1),dtype=np.longdouble)*1e100)"
   ]
  },
  {
   "cell_type": "code",
   "execution_count": 18,
   "metadata": {},
   "outputs": [
    {
     "data": {
      "text/plain": [
       "array([41232.])"
      ]
     },
     "execution_count": 18,
     "metadata": {},
     "output_type": "execute_result"
    }
   ],
   "source": [
    "-1.0257e04+np.asarray([[6],[9],[0]]).T \\\n",
    "@ np.asarray([3.4326, 3.4326, 3.4326])*1.0e03"
   ]
  },
  {
   "cell_type": "code",
   "execution_count": 43,
   "metadata": {},
   "outputs": [
    {
     "name": "stderr",
     "output_type": "stream",
     "text": [
      "c:\\users\\computer\\appdata\\local\\programs\\python\\python36\\lib\\site-packages\\ipykernel_launcher.py:3: RuntimeWarning: invalid value encountered in multiply\n",
      "  This is separate from the ipykernel package so we can avoid doing imports until\n"
     ]
    },
    {
     "data": {
      "text/plain": [
       "inf"
      ]
     },
     "execution_count": 43,
     "metadata": {},
     "output_type": "execute_result"
    }
   ],
   "source": [
    "sig1 = np.linalg.norm([-1.14067182e+154, -1.14067182e+154 , 1.14067182e+154])/1.7319464444221777 # inf\n",
    "psihub = lambda x,c: (x * (np.abs(x)<=c) + c*np.sign(x) *(np.abs(x)>c))\n",
    "psihub(np.array([-4.92776165e+155, -7.66540701e+155,  4.38023258e+155])/sig1,c)*sig1\n",
    "np.Inf/np.Inf\n",
    "sig1"
   ]
  },
  {
   "cell_type": "code",
   "execution_count": 53,
   "metadata": {},
   "outputs": [
    {
     "data": {
      "text/plain": [
       "1.975701547002061e+154"
      ]
     },
     "execution_count": 53,
     "metadata": {},
     "output_type": "execute_result"
    }
   ],
   "source": [
    "np.sqrt(np.sum(np.array([-1.14067182e+154, -1.14067182e+154 , 1.14067182e+154])**2))/np.sqrt(3)\n",
    "# expected result: 1.14067182e+154\n",
    "# what I get: inf\n",
    "\n",
    "np.sqrt(np.sum(np.array([-1.14067182e+154, -1.14067182e+154 , 1.14067182e+154],dtype=np.longdouble)**2))/np.sqrt(3)\n",
    "\n",
    "'''\n",
    "norm([-1.14067182e+154, -1.14067182e+154 , 1.14067182e+154])\n",
    "\n",
    "ans =\n",
    "\n",
    "  1.9757e+154\n",
    "'''\n",
    "np.linalg.norm([-1.14067182e+154, -1.14067182e+154 , 1.14067182e+154]) # inf\n",
    "np.array([-1.14067182e+154, -1.14067182e+154 , 1.14067182e+154])**2 # works\n",
    "np.sum(np.array([-1.14067182e+154, -1.14067182e+154 , 1.14067182e+154])**2) # inf\n",
    "np.sum(np.abs([-1.14067182e+154, -1.14067182e+154 , 1.14067182e+154])**2) # inf, using absolute\n",
    "# changing dtype to longdouble\n",
    "np.linalg.norm(np.array([-1.14067182e+154, -1.14067182e+154 , 1.14067182e+154],dtype=np.longdouble)) # inf\n",
    "import scipy\n",
    "scipy.linalg.norm([-1.14067182e+154, -1.14067182e+154 , 1.14067182e+154])"
   ]
  },
  {
   "cell_type": "code",
   "execution_count": 2,
   "metadata": {},
   "outputs": [
    {
     "data": {
      "text/plain": [
       "6.409594777177762e+301"
      ]
     },
     "execution_count": 2,
     "metadata": {},
     "output_type": "execute_result"
    }
   ],
   "source": [
    "import scipy\n",
    "scipy.linalg.norm([-3.70058127e+301, -3.70058127e+301, -3.70058127e+301])"
   ]
  }
 ],
 "metadata": {
  "kernelspec": {
   "display_name": "Python 3",
   "language": "python",
   "name": "python3"
  },
  "language_info": {
   "codemirror_mode": {
    "name": "ipython",
    "version": 3
   },
   "file_extension": ".py",
   "mimetype": "text/x-python",
   "name": "python",
   "nbconvert_exporter": "python",
   "pygments_lexer": "ipython3",
   "version": "3.6.8"
  }
 },
 "nbformat": 4,
 "nbformat_minor": 2
}
