{
 "cells": [
  {
   "cell_type": "markdown",
   "metadata": {},
   "source": [
    "# Elemfits"
   ]
  },
  {
   "cell_type": "markdown",
   "metadata": {},
   "source": [
    "% [beta, w] = elemfits(x,y) \n",
    "% elemfits compute the Nx(N-1)/2 elemental fits, i.e., intercepts b_{0,ij}\n",
    "% and slopes b_{1,ij}, that define a line y = b_0+b_1 x that passes through \n",
    "% the data points (x_i,y_i) and (x_j,y_j), i<j, where i, j in {1, ..., N}. \n",
    "% and the respective weights | x_i - x_j | \n",
    "% INPUT: \n",
    "%    y : (numeric) N x 1 vector of real-valued outputs (response vector)\n",
    "%    x : (numeric) N x 1 vector of inputs (feature vector) \n",
    "% OUTPUT:\n",
    "%  beta: (numeric) N*(N-1)/2 matrix of elemental fits \n",
    "%     w: (numeric) N*(N-1)/2 matrix of weights\n",
    "\n",
    "beta =\n",
    "\n",
    "  Columns 1 through 5\n",
    "\n",
    "   -7.0000    4.2000    9.0000   17.0000    3.5000\n",
    "    1.0000   -0.4000   -1.0000   -2.0000   -0.1667\n",
    "\n",
    "  Columns 6 through 10\n",
    "\n",
    "    6.5000   11.0000    1.5000    1.0000   -1.0000\n",
    "   -0.5000   -1.0000    0.5000    0.6667    1.0000\n",
    "\n",
    "\n",
    "w =\n",
    "\n",
    "     1\n",
    "     5\n",
    "     3\n",
    "     2\n",
    "     6\n",
    "     4\n",
    "     3\n",
    "     2\n",
    "     3\n",
    "     1\n"
   ]
  },
  {
   "cell_type": "code",
   "execution_count": 2,
   "metadata": {},
   "outputs": [
    {
     "name": "stderr",
     "output_type": "stream",
     "text": [
      "Der Befehl \"conda\" ist entweder falsch geschrieben oder\n",
      "konnte nicht gefunden werden.\n"
     ]
    }
   ],
   "source": [
    "!conda install -c conda-forge nodejs"
   ]
  },
  {
   "cell_type": "code",
   "execution_count": 1,
   "metadata": {},
   "outputs": [
    {
     "name": "stderr",
     "output_type": "stream",
     "text": [
      "\n",
      "Errored, use --debug for full output:\n",
      "ValueError: Please install nodejs 5+ and npm before continuing installation. nodejs may be installed using conda or directly from the nodejs website.\n"
     ]
    }
   ],
   "source": [
    "!jupyter labextension install jupyterlab_vim"
   ]
  },
  {
   "cell_type": "code",
   "execution_count": 3,
   "metadata": {},
   "outputs": [
    {
     "data": {
      "text/plain": [
       "(array([[-7.        ,  4.2       ,  3.5       ,  9.        ,  6.5       ,\n",
       "          1.5       , 17.        , 11.        ,  1.        , -1.        ],\n",
       "        [ 1.        , -0.4       , -0.16666667, -1.        , -0.5       ,\n",
       "          0.5       , -2.        , -1.        ,  0.66666667,  1.        ]]),\n",
       " array([1, 5, 6, 3, 4, 2, 2, 3, 3, 1]))"
      ]
     },
     "execution_count": 3,
     "metadata": {},
     "output_type": "execute_result"
    }
   ],
   "source": [
    "y = [1,2,3,4,5]\n",
    "x = [8,9,3,5,6]\n",
    "\n",
    "##########\n",
    "import numpy as np\n",
    "#def elemfits(y,x):\n",
    "\n",
    "y = np.asarray(y)\n",
    "x = np.asarray(x)\n",
    "\n",
    "N = len(x)\n",
    "B = np.repeat(np.arange(1,N+1)[:,np.newaxis],N,axis=1)\n",
    "A = B.T\n",
    "a = A[A<B] # order of elements different from matlab\n",
    "b = B[A<B] #\n",
    "w = x[a-1] - x[b-1]\n",
    "beta = np.zeros([2,len(a)])\n",
    "beta[1,:] = (y[a-1]-y[b-1])/w\n",
    "beta[0,:] = (x[a-1]*y[b-1] - x[b-1]*y[a-1])/w\n",
    "w= np.abs(w)\n",
    "\n",
    "beta,w # return"
   ]
  }
 ],
 "metadata": {
  "kernelspec": {
   "display_name": "Python 3",
   "language": "python",
   "name": "python3"
  },
  "language_info": {
   "codemirror_mode": {
    "name": "ipython",
    "version": 3
   },
   "file_extension": ".py",
   "mimetype": "text/x-python",
   "name": "python",
   "nbconvert_exporter": "python",
   "pygments_lexer": "ipython3",
   "version": "3.6.8"
  }
 },
 "nbformat": 4,
 "nbformat_minor": 2
}
