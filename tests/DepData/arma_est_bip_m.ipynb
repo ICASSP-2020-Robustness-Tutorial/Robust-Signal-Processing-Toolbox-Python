{
 "cells": [
  {
   "cell_type": "code",
   "execution_count": null,
   "metadata": {},
   "outputs": [],
   "source": [
    "import numpy as np\n",
    "from scipy.optimize import least_squares as lsq\n",
    "import robustsp as rsp\n",
    "\n",
    "def arma_est_bip_m(x, p, q, beta_hat_s, a_sc_final):\n",
    "    N = len(x);\n",
    "    x = np.array(x)\n",
    "    F_mm = lambda beta: sp.sqrt(1/(N-p)*sp.sum(rsp.muler_rho2(rsp.arma_resid(x/a_sc_final, beta, p, q))))\n",
    "    F_bip_mm = lambda beta: sp.sqrt(1/(N-p)*sp.sum(rsp.muler_rho2(rsp.bip_resid(x/a_sc_final, beta, p, q))))\n",
    "    \n",
    "    beta_arma_mm = lsq(F_mm, beta_hat_s,xtol=5*1e-5,ftol=5*1e-5,method='lm')[0]\n",
    "    beta_bip_mm = lsq(F_bip_mm, beta_hat_s,xtol=5*1e-5,ftol=5*1e-5,method='lm')[0]\n",
    "    \n",
    "    a_rho2_mm = 1/(N-p)*np.sum(muler_rho2(rsp.arma_resid(x/a_sc_final,beta_arma_mm,p,q)))\n",
    "    a_bip_rho2_mm = 1/(N-p)*np.sum(muler_rho2(rsp.bip_resid(x/a_sc_final,beta_bip_mm,p,q)))\n",
    "    \n",
    "    beta_hat = beta_arma_mm if a_rho2_mm<a_bip_rho2 else beta_bip_mm\n",
    "    \n",
    "    # Output the results\n",
    "    phi_bip_mm = -beta_hat[:p] if p>0 else []\n",
    "    theta_bip_mm = -beta_hat[p:] if q>0 else []\n",
    "    \n",
    "    return phi_bip_mm, theta_bip_mm"
   ]
  },
  {
   "cell_type": "code",
   "execution_count": 58,
   "metadata": {},
   "outputs": [
    {
     "name": "stdout",
     "output_type": "stream",
     "text": [
      "[ 0.  0.  0. -6.]\n",
      "[0. 0. 0. 4.]\n"
     ]
    },
    {
     "data": {
      "text/plain": [
       "array([ 0.,  0.,  0., -3.])"
      ]
     },
     "execution_count": 58,
     "metadata": {},
     "output_type": "execute_result"
    }
   ],
   "source": [
    "import numpy as np\n",
    "import scipy as sp\n",
    "\n",
    "def arma_resid(xx, beta_hatx, p, q):\n",
    "    x = np.array(xx)\n",
    "    beta_hat = np.array(beta_hatx)\n",
    "    if p>0:\n",
    "        phi_hat = beta_hat[:p]\n",
    "    else:\n",
    "        phi_hat = []\n",
    "        \n",
    "    if q>0:\n",
    "        theta_hat = beta_hat[p:]\n",
    "    else:\n",
    "        theta_hat = []\n",
    "        \n",
    "    N = len(x)\n",
    "    r = max(p,q)\n",
    "    a = np.zeros(N)\n",
    "    \n",
    "    if r==0:\n",
    "        a = np.array(x)\n",
    "    elif p>=1 and q >=1:\n",
    "        for ii in range(r,N):\n",
    "            # ARMA residuals\n",
    "            xArr = x[ii-1::-1] if ii-p-1 < 0 else x[ii-1:ii-p-1:-1]\n",
    "            aArr = a[ii-1::-1] if ii-q-1 < 0 else a[ii-1:ii-q-1:-1]\n",
    "            a[ii] = x[ii]-phi_hat@xArr+theta_hat@aArr\n",
    "    elif p==0 and q>=1:\n",
    "        # MA model\n",
    "        for ii in range(r,N):\n",
    "            aArr = a[ii-1::-1] if ii-q-1 < 0 else a[ii-1:ii-q-1:-1]\n",
    "            a[ii] = x[ii] + theta_hat@aArr\n",
    "    elif p>=1 and q == 0:\n",
    "        # AR models\n",
    "        for ii in range(r,N):\n",
    "            # AR residuals\n",
    "            xArr = x[ii-1::-1] if ii-p-1 < 0 else x[ii-1:ii-p-1:-1]\n",
    "            a[ii] = x[ii]-phi_hat@xArr\n",
    "    return a\n",
    "'''\n",
    ">> arma_resid([1 2 3 4]', [1,2,3],3,0)\n",
    "\n",
    "ans =\n",
    "\n",
    "     0\n",
    "     0\n",
    "     0\n",
    "    -6\n",
    "'''\n",
    "pr(arma_resid([1, 2, 3 ,4], [1,2,3],3,0))\n",
    "\n",
    "'''\n",
    ">> arma_resid([1 2 3 4]', [1,2,3],0,3)\n",
    "\n",
    "ans =\n",
    "\n",
    "     0\n",
    "     0\n",
    "     0\n",
    "     4\n",
    "'''\n",
    "pr(arma_resid([1, 2, 3 ,4], [1,2,3],0,3))\n",
    "\n",
    "arma_resid([1, 2, 3 ,4], [1,2,1,2,3],2,3)"
   ]
  },
  {
   "cell_type": "code",
   "execution_count": 84,
   "metadata": {},
   "outputs": [
    {
     "data": {
      "text/plain": [
       "array([1, 2, 3, 4, 5])"
      ]
     },
     "execution_count": 84,
     "metadata": {},
     "output_type": "execute_result"
    }
   ],
   "source": [
    "import numpy as np\n",
    "import scipy as sp\n",
    "import robustsp as rsp\n",
    "\n",
    "def bip_resid(xx, beta_hatx, p, q):\n",
    "    x = np.array(xx)\n",
    "    beta_hat = np.array(beta_hatx)\n",
    "    \n",
    "    phi_hat = beta_hat[:p] if p>0 else []\n",
    "    theta_hat = beta_hat[p:] if q>0 else []\n",
    "    \n",
    "    N = len(x)\n",
    "    r = max(p,q)\n",
    "    a_bip = np.zeros(N)\n",
    "    x_sc = rsp.m_scale(x)\n",
    "    kap2 = 0.8724286\n",
    "    \n",
    "    if np.sum(np.abs(np.roots(np.array([1, *phi_hat*-1])))>1)\\\n",
    "    or np.sum(np.abs(np.roots(np.array([1, *theta_hat])))>1):\n",
    "        sigma_hat = x_sc\n",
    "        a_bip = np.array(x)\n",
    "    else:\n",
    "        lamb = rsp.ma_infinity(phi_hat, -theta_hat, 100)\n",
    "        sigma_hat = np.sqrt(x_sc**2 / (1+kap2*np.sum(lamb**2)))\n",
    "        \n",
    "        if r == 0:\n",
    "            a_bip = np.array(x)\n",
    "        else:\n",
    "            if p>=1 and q>=1:\n",
    "                # ARMA Models\n",
    "                #for ii in range(r,N):\n",
    "                while r+1 != N:\n",
    "                    ii = r\n",
    "                    # BIP-ARMA residuals\n",
    "                    xArr = x[ii-1::-1] if ii-p-1 < 0 else x[ii-1:ii-p-1:-1]\n",
    "                    abArr = a_bip[ii-1::-1] if ii-p-1 < 0 else a_bip[ii-1:ii-p-1:-1]\n",
    "                    aqArr = a_bip[ii-1::-1] if ii-q-1 < 0 else a_bip[ii-1:ii-q-1:-1]\n",
    "                    a_bip[ii] = x[ii]-phi_hat@(xArr-abArr+sigma_hat*rsp.eta(abArr/sigma_hat))+sigma_hat*theta_hat@rsp.eta(aqArr/sigma_hat)\n",
    "                    r +=1\n",
    "            elif p==0 and q>=1:\n",
    "                # MA models\n",
    "                for ii in range(r,N):\n",
    "                    # BIP-MA residuals\n",
    "                    aArr = a_bip[ii-1::-1] if ii-q-1 < 0 else a_bip[ii-1:ii-q-1:-1]\n",
    "                    a_bip[ii]=x[ii]+theta_init*sigma_hat*rsp.eta(aArr/sigma_hat)\n",
    "            elif p>=1 and q==0:\n",
    "                # AR models\n",
    "                for ii in range(r,N):\n",
    "                    # BIP-AR residuals\n",
    "                    xArr = x[ii-1::-1] if ii-p-1 < 0 else x[ii-1:ii-p-1:-1]\n",
    "                    aArr = a_bip[ii-1::-1] if ii-p-1 < 0 else a_bip[ii-1:ii-p-1:-1]\n",
    "                    a_bip[ii] = x[ii]+phi_hat@(xArr-aArr)+sigma_hat*rsp.eta(aArr/sigma_hat)\n",
    "\n",
    "    return a_bip[p:]\n",
    "  \n",
    "# stimmt bip_resid([1,2,3,4], [1,2,1,2,3],2,3) # 3,4\n",
    "# stimmt bip_resid([1,2,3,4,5], [1,2,1,2,3],2,3) # 3,4,5\n",
    "# stimmt bip_resid([1,2,3,4,5], [2,3],2,0)\n",
    "# stimmt bip_resid([1,2,3,4,5], [2,3],0,2)"
   ]
  },
  {
   "cell_type": "code",
   "execution_count": 1,
   "metadata": {},
   "outputs": [
    {
     "data": {
      "text/plain": [
       "[1]"
      ]
     },
     "execution_count": 1,
     "metadata": {},
     "output_type": "execute_result"
    }
   ],
   "source": [
    "a = [1,2,3,4,5]\n",
    "a[:1]"
   ]
  }
 ],
 "metadata": {
  "kernelspec": {
   "display_name": "Python 3",
   "language": "python",
   "name": "python3"
  },
  "language_info": {
   "codemirror_mode": {
    "name": "ipython",
    "version": 3
   },
   "file_extension": ".py",
   "mimetype": "text/x-python",
   "name": "python",
   "nbconvert_exporter": "python",
   "pygments_lexer": "ipython3",
   "version": "3.6.8"
  }
 },
 "nbformat": 4,
 "nbformat_minor": 2
}
