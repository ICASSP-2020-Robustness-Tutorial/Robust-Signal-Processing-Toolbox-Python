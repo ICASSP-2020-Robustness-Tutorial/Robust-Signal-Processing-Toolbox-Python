{
 "cells": [
  {
   "cell_type": "code",
   "execution_count": null,
   "metadata": {},
   "outputs": [],
   "source": [
    " >> m_scale([1 2 3 4 5]')\n",
    "\n",
    "ans =\n",
    "\n",
    "    4.3116"
   ]
  },
  {
   "cell_type": "code",
   "execution_count": 16,
   "metadata": {},
   "outputs": [
    {
     "data": {
      "text/plain": [
       "4.3116962420933636"
      ]
     },
     "execution_count": 16,
     "metadata": {},
     "output_type": "execute_result"
    }
   ],
   "source": [
    "import numpy as np\n",
    "import robustsp as rsp\n",
    "\n",
    "def m_scale(xxx):\n",
    "    x = np.array(xxx)\n",
    "    N = len(x)\n",
    "    sigma_k = np.mean(np.abs(x-np.mean(x)))\n",
    "    max_iters = 30\n",
    "    delta = 3.25/2\n",
    "    epsilon = 1e-4\n",
    "    k = 0\n",
    "    w_k = np.ones(N)\n",
    "    \n",
    "    while k<= max_iters and sigma_k<10**5:\n",
    "        w_k[x!=0] = rsp.muler_rho1(x[x!=0]/sigma_k) / (x[x!=0] / sigma_k)**2\n",
    "        w_k[x==0] = 1\n",
    "        sigma_k_plus1 = np.sqrt(1/(N*delta)*np.sum(w_k*x**2))\n",
    "        \n",
    "        if np.abs(sigma_k_plus1/sigma_k-1) > epsilon:\n",
    "            sigma_k = sigma_k_plus1\n",
    "            k += 1\n",
    "        else:\n",
    "            break\n",
    "        \n",
    "    sigma_hat = sigma_k\n",
    "    return sigma_hat\n",
    "\n",
    "m_scale([1 ,2 ,3, 4, 5])"
   ]
  },
  {
   "cell_type": "code",
   "execution_count": 9,
   "metadata": {},
   "outputs": [
    {
     "data": {
      "text/plain": [
       "array([2.90263289, 3.25      , 3.25      , 3.25      , 3.25      ])"
      ]
     },
     "execution_count": 9,
     "metadata": {},
     "output_type": "execute_result"
    }
   ],
   "source": [
    "import numpy as np\n",
    "\n",
    "def muler_rho1(xx):\n",
    "    x = np.array(xx)/0.405\n",
    "    \n",
    "    rho = np.zeros(len(x))\n",
    "    rho[np.abs(x)<=2] = 0.5*x[np.abs(x)<=2]**2\n",
    "    land = lambda x,y: np.logical_and(x,y)\n",
    "    rho[land(np.abs(x)>2,np.abs(x)<=3)] = \\\n",
    "    0.002*x[land(np.abs(x)>2,np.abs(x)<=3)]**8 \\\n",
    "    -0.052*x[land(np.abs(x)>2,np.abs(x)<=3)]**6 \\\n",
    "    +0.432*x[land(np.abs(x)>2,np.abs(x)<=3)]**4 \\\n",
    "    -0.972*x[land(np.abs(x)>2,np.abs(x)<=3)]**2 + 1.792\n",
    "    \n",
    "    rho[np.abs(x)>3] = 3.25\n",
    "    \n",
    "    return rho\n",
    "    \n",
    "muler_rho1([1, 2, 3, 4, 5])"
   ]
  },
  {
   "cell_type": "code",
   "execution_count": null,
   "metadata": {},
   "outputs": [],
   "source": [
    "a = np.array([0 3 1 2 0 5])\n",
    "b ="
   ]
  }
 ],
 "metadata": {
  "kernelspec": {
   "display_name": "Python 3",
   "language": "python",
   "name": "python3"
  },
  "language_info": {
   "codemirror_mode": {
    "name": "ipython",
    "version": 3
   },
   "file_extension": ".py",
   "mimetype": "text/x-python",
   "name": "python",
   "nbconvert_exporter": "python",
   "pygments_lexer": "ipython3",
   "version": "3.6.8"
  }
 },
 "nbformat": 4,
 "nbformat_minor": 2
}
