{
 "cells": [
  {
   "cell_type": "code",
   "execution_count": null,
   "metadata": {},
   "outputs": [],
   "source": [
    "function [a] = arma_resid(x, beta_hat, p, q) \n",
    "\n",
    "if p>0\n",
    "phi_hat = beta_hat(1:p);\n",
    "    if size(phi_hat,2)>size(phi_hat,1)\n",
    "        phi_hat = phi_hat';\n",
    "    end\n",
    "else\n",
    "    phi_hat = [];\n",
    "end\n",
    "\n",
    "if q>0\n",
    " theta_hat = beta_hat(p+1:end);\n",
    "    if size(theta_hat,2)>size(theta_hat,1)\n",
    "        theta_hat = theta_hat';\n",
    "    end\n",
    "else\n",
    " theta_hat = [];\n",
    "end\n",
    "\n",
    "N = length(x);\n",
    "r = max(p,q);\n",
    "a = zeros(size(x));\n",
    "\n",
    "\n",
    "if r == 0\n",
    "  a = x;\n",
    "else     \n",
    "    if p>=1 && q>=1 % ARMA models      \n",
    "        for ii=r+1:N \n",
    "            % ARMA residuals\n",
    "            a(ii)=x(ii)-phi_hat'*x(ii-1:-1:ii-p)+theta_hat'*a(ii-1:-1:ii-q);\n",
    "        end    \n",
    "        \n",
    "    elseif p==0 && q>=1 \n",
    "        for ii=r+1:N   % MA models  \n",
    "            % MA residuals\n",
    "            a(ii)=x(ii)+theta_hat'*a(ii-1:-1:ii-q);   \n",
    "        end\n",
    "\n",
    "    elseif p>=1 && q==0 % AR models\n",
    "        for ii=r+1:N  \n",
    "            % AR residuals\n",
    "            a(ii)=x(ii)-phi_hat'*x(ii-1:-1:ii-p);\n",
    "        end\n",
    "    end\n",
    "    \n",
    "end\n",
    "end"
   ]
  },
  {
   "cell_type": "code",
   "execution_count": null,
   "metadata": {},
   "outputs": [],
   "source": [
    "def arma_resid(x, beta_hat, p, q):\n",
    "    if p>0:\n",
    "        phi_hat = beta_hat[0:p-1]\n",
    "        if phi_hat.shape[1]>phi_hat.shape[0]:\n",
    "            phi_hat = phi_hat.T\n",
    "    else:\n",
    "        phi_hat = []\n",
    "        \n",
    "    if q>0:\n",
    "        theta_hat = beta_hat[p:]\n",
    "        "
   ]
  },
  {
   "cell_type": "code",
   "execution_count": 3,
   "metadata": {},
   "outputs": [
    {
     "ename": "NameError",
     "evalue": "name 'r' is not defined",
     "output_type": "error",
     "traceback": [
      "\u001b[1;31m---------------------------------------------------------------------------\u001b[0m",
      "\u001b[1;31mNameError\u001b[0m                                 Traceback (most recent call last)",
      "\u001b[1;32m<ipython-input-3-8c547d651f85>\u001b[0m in \u001b[0;36m<module>\u001b[1;34m\u001b[0m\n\u001b[1;32m----> 1\u001b[1;33m \u001b[0mr\u001b[0m\u001b[1;33m[\u001b[0m\u001b[1;34m'g'\u001b[0m\u001b[1;33m]\u001b[0m \u001b[1;33m=\u001b[0m \u001b[1;36m5\u001b[0m\u001b[1;33m\u001b[0m\u001b[1;33m\u001b[0m\u001b[0m\n\u001b[0m\u001b[0;32m      2\u001b[0m \u001b[0mr\u001b[0m\u001b[1;33m\u001b[0m\u001b[1;33m\u001b[0m\u001b[0m\n",
      "\u001b[1;31mNameError\u001b[0m: name 'r' is not defined"
     ]
    }
   ],
   "source": [
    "r['g'] = 5\n",
    "r"
   ]
  },
  {
   "cell_type": "code",
   "execution_count": 4,
   "metadata": {},
   "outputs": [
    {
     "data": {
      "text/plain": [
       "array([[ 4,  9],\n",
       "       [16, 25]], dtype=int32)"
      ]
     },
     "execution_count": 4,
     "metadata": {},
     "output_type": "execute_result"
    }
   ],
   "source": [
    "import numpy as np\n",
    "\n",
    "np.array([[2,3],[4,5]])**2"
   ]
  }
 ],
 "metadata": {
  "kernelspec": {
   "display_name": "Python 3",
   "language": "python",
   "name": "python3"
  },
  "language_info": {
   "codemirror_mode": {
    "name": "ipython",
    "version": 3
   },
   "file_extension": ".py",
   "mimetype": "text/x-python",
   "name": "python",
   "nbconvert_exporter": "python",
   "pygments_lexer": "ipython3",
   "version": "3.6.8"
  }
 },
 "nbformat": 4,
 "nbformat_minor": 2
}
