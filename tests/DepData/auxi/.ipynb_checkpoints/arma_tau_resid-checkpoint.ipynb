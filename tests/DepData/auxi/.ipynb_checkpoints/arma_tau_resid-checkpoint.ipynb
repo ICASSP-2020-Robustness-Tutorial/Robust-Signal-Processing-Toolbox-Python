{
 "cells": [
  {
   "cell_type": "code",
   "execution_count": 23,
   "metadata": {},
   "outputs": [
    {
     "data": {
      "text/plain": [
       "10000000000"
      ]
     },
     "execution_count": 23,
     "metadata": {},
     "output_type": "execute_result"
    }
   ],
   "source": [
    "import numpy as np\n",
    "import robustsp as rsp\n",
    "\n",
    "def arma_tau_resid_sc(x, beta_hat, p, q):\n",
    "    phi_hat = np.array(beta_hat[:p])\n",
    "    theta_hat = np.array(beta_hat[p:])\n",
    "    \n",
    "    N = len(x)\n",
    "    r = max(p,q)\n",
    "    a = np.zeros(N)\n",
    "    x_sc = rsp.tau_scale(x)\n",
    "        \n",
    "    if r == 0:\n",
    "        return x_sc\n",
    "    else:\n",
    "        if np.sum(np.abs(np.roots(-1*np.array([-1, *phi_hat])))>1) \\\n",
    "        or np.sum(np.abs(np.roots(-1*np.array([-1, *theta_hat])))>1):\n",
    "            return 10**10\n",
    "        elif p>=1 and q>=1:\n",
    "            # ARMA\n",
    "            xArr = lambda ii: x[ii-1::-1] if ii-p-1 < 0 else x[ii-1:ii-p-1:-1]\n",
    "            aArr = lambda ii: a[ii-1::-1] if ii-q-1 < 0 else a[ii-1:ii-q-1:-1]\n",
    "\n",
    "            for ii in range(r,N):\n",
    "                # Arma residuals\n",
    "                a[ii] = x[ii]-phi_hat@xArr(ii)+theta_hat@aArr(ii)\n",
    "        elif p==0 and q>=1:\n",
    "            aArr = lambda ii: a[ii-1::-1] if ii-q-1 < 0 else a[ii-1:ii-q-1:-1]\n",
    "\n",
    "            for ii in range(r,N):\n",
    "                # MA residuals\n",
    "                a[ii] = x[ii]+theta_hat@aArr(ii)\n",
    "\n",
    "        elif q==0 and p>=1:\n",
    "            xArr = lambda ii: x[ii-1::-1] if ii-p-1 < 0 else x[ii-1:ii-p-1:-1]\n",
    "\n",
    "            for ii in range(r,N):\n",
    "                # AR residuals\n",
    "                a[ii] = x[ii]-phi_hat@xArr(ii)\n",
    "\n",
    "        return rsp.tau_scale(a[p:])\n",
    "\n",
    "    \n",
    "#arma_tau_resid_sc([1, -0.5, .3 ,.4], [1,0,-1],1,2) # stimmt 0.2350\n",
    "#arma_tau_resid_sc([1, -0.5, .3 ,.4], [1,0,-1],2,1) # stimmt auch\n",
    "#arma_tau_resid_sc([1, -0.5, .3 ,.4], [],0,0) # stimmt auch\n",
    "\n",
    "arma_tau_resid_sc([1, -0.5, .3 ,.4], [1,0,-1],3,0) #stimmt\n",
    "arma_tau_resid_sc([1, -0.5, .3 ,.4], [1,0,-1],0,3) "
   ]
  },
  {
   "cell_type": "code",
   "execution_count": 2,
   "metadata": {},
   "outputs": [],
   "source": [
    "import robustsp as rsp\n",
    "import numpy as np\n",
    "p=4\n",
    "q=3\n",
    "\n",
    "beta_initial = \\\n",
    "np.array([1.3620,-1.4921,1.0972,-0.7971,-0.1240,-0.8549,-0.2356])"
   ]
  },
  {
   "cell_type": "code",
   "execution_count": 4,
   "metadata": {},
   "outputs": [
    {
     "data": {
      "text/plain": [
       "0.8956900906147875"
      ]
     },
     "execution_count": 4,
     "metadata": {},
     "output_type": "execute_result"
    }
   ],
   "source": [
    "x = np.array([ 1.11539011, -0.40604999, -0.23176049, -0.10525887, -0.39339394,-0.09834721, 0.00314261])\n",
    "rsp.arma_tau_resid_sc(x,beta_initial,p,q) # 0.8957"
   ]
  }
 ],
 "metadata": {
  "kernelspec": {
   "display_name": "Python 3",
   "language": "python",
   "name": "python3"
  },
  "language_info": {
   "codemirror_mode": {
    "name": "ipython",
    "version": 3
   },
   "file_extension": ".py",
   "mimetype": "text/x-python",
   "name": "python",
   "nbconvert_exporter": "python",
   "pygments_lexer": "ipython3",
   "version": "3.6.8"
  }
 },
 "nbformat": 4,
 "nbformat_minor": 2
}
