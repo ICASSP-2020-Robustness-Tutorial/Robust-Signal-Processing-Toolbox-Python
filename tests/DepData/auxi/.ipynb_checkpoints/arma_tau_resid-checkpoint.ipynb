{
 "cells": [
  {
   "cell_type": "code",
   "execution_count": null,
   "metadata": {},
   "outputs": [],
   "source": [
    "import numpy as np\n",
    "import robustsp as rsp\n",
    "\n",
    "def arma_tau_resid(x, beta_hat, p, q):\n",
    "    phi_hat = np.array(beta_hat[:p])\n",
    "    theta_hat = np.array(beta_hat[p:])\n",
    "    \n",
    "    iN = len(x)\n",
    "    r = max(p,q)\n",
    "    a = np.zeros(N)\n",
    "    x_sc = rsp.tau_scale(x)\n",
    "    \n",
    "    if r == 0:\n",
    "        a_sc = x_sc\n",
    "        a = np.array(x)\n",
    "    else:\n",
    "        if np.sum(np.roots(-1*np.array([-1, *phi_hat]))>1) or np.sum(np.roots(-1*np.array([-1, *theta_hat]))>1):\n",
    "            return 10**10\n",
    "        elif p>=1 and q>=1:\n",
    "            # ARMA\n",
    "            xArr = lambda ii: x[ii-1::-1] if ii-p-1 < 0 else x[ii-1:ii-p-1:-1]\n",
    "            aArr = lambda ii: a[ii-1::-1] if ii-q-1 < 0 else a[ii-1:ii-q-1:-1]\n",
    "\n",
    "            for ii in range(r,N):\n",
    "                # Arma residuals\n",
    "                a[ii] = x[ii]-phi_hat@xArr(ii)+theta_hat@aArr(ii)\n",
    "        elif p==0 and q>=1:\n",
    "            aArr = lambda ii: a[ii-1::-1] if ii-q-1 < 0 else a[ii-1:ii-q-1:-1]\n",
    "\n",
    "            for ii in range(r,N):\n",
    "                # MA residuals\n",
    "                a[ii] = x[ii]+theta_hat@aArr(ii)\n",
    "\n",
    "        elif q==0 and p>=1:\n",
    "            xArr = lambda ii: x[ii-1::-1] if ii-p-1 < 0 else x[ii-1:ii-p-1:-1]\n",
    "\n",
    "            for ii in range(r,N):\n",
    "                # AR residuals\n",
    "                a[ii] = x[ii]-phi_hat@xArr(ii)\n",
    "\n",
    "        return rsp.tau_scale(a[p:])\n",
    "    "
   ]
  }
 ],
 "metadata": {
  "kernelspec": {
   "display_name": "Python 3",
   "language": "python",
   "name": "python3"
  },
  "language_info": {
   "codemirror_mode": {
    "name": "ipython",
    "version": 3
   },
   "file_extension": ".py",
   "mimetype": "text/x-python",
   "name": "python",
   "nbconvert_exporter": "python",
   "pygments_lexer": "ipython3",
   "version": "3.6.8"
  }
 },
 "nbformat": 4,
 "nbformat_minor": 2
}
