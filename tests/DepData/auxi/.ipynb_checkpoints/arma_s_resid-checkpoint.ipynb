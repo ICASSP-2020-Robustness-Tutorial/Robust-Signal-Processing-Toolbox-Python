{
 "cells": [
  {
   "cell_type": "code",
   "execution_count": 12,
   "metadata": {},
   "outputs": [
    {
     "data": {
      "text/plain": [
       "(array([0., 0., 0., 0.]), 0.0)"
      ]
     },
     "execution_count": 12,
     "metadata": {},
     "output_type": "execute_result"
    }
   ],
   "source": [
    "import robustsp as rsp\n",
    "import numpy as np\n",
    "\n",
    "def arma_s_resid(x, beta_hat, p, q):\n",
    "    phi_hat = np.array(beta_hat[:p])\n",
    "    theta_hat = np.array(beta_hat[p:])\n",
    "    \n",
    "    N = len(x)\n",
    "    r = max(p,q)\n",
    "    a = np.zeros(N)\n",
    "    x_sc = rsp.m_scale(x)\n",
    "    \n",
    "    if r == 0:\n",
    "        a = np.array(x)\n",
    "        return a, x_sc\n",
    "    elif np.sum(np.abs(np.roots(-1*np.array([-1, *phi_hat])))>1) \\\n",
    "        or np.sum(np.abs(np.roots(-1*np.array([-1, *theta_hat])))>1):\n",
    "        \n",
    "        a_sc = 10**10\n",
    "        return a, rsp.m_scale(a[p:])\n",
    "    elif p>=1 and q>=1:\n",
    "        # ARMA residuals\n",
    "        xArr = lambda ii: x[ii-1::-1] if ii-p-1 < 0 else x[ii-1:ii-p-1:-1]\n",
    "        aArr = lambda ii: a[ii-1::-1] if ii-q-1 < 0 else a[ii-1:ii-q-1:-1]\n",
    "        \n",
    "        for ii in range(r,N):\n",
    "            a[ii] = x[ii]-phi_hat@xArr(ii)+theta_hat@aArr(ii)\n",
    "            \n",
    "        return a, rsp.m_scale(a[p:])\n",
    "    elif p==0 and q>=0:\n",
    "         # MA residuals\n",
    "        aArr = lambda ii: a[ii-1::-1] if ii-q-1 < 0 else a[ii-1:ii-q-1:-1]\n",
    "        \n",
    "        for ii in range(r,N):\n",
    "            a[ii] = x[ii]+theta_hat@aArr(ii)\n",
    "    elif q==0 and p>=0:\n",
    "        # AR residuals\n",
    "         xArr = lambda ii: x[ii-1::-1] if ii-p-1 < 0 else x[ii-1:ii-p-1:-1]\n",
    "        \n",
    "         for ii in range(r,N):\n",
    "            a[ii] = x[ii]-phi_hat@xArr(ii)\n",
    "           \n",
    "            \n",
    "    return a, rsp.m_scale(a[p:])\n",
    "\n",
    "arma_s_resid([1, 2, 3 ,4], [1,2,3],3,0) # stimmt\n",
    "arma_s_resid([1, -0.5, .3 ,.4], [1,0,-1],2,1) # stimmt\n",
    "arma_s_resid([1, -0.5, .3 ,.4], [1,0,-1],1,2) # stimmt\n",
    "arma_s_resid([1, 2, 3 ,4], [1,2,3],0,3) # stimmt"
   ]
  }
 ],
 "metadata": {
  "kernelspec": {
   "display_name": "Python 3",
   "language": "python",
   "name": "python3"
  },
  "language_info": {
   "codemirror_mode": {
    "name": "ipython",
    "version": 3
   },
   "file_extension": ".py",
   "mimetype": "text/x-python",
   "name": "python",
   "nbconvert_exporter": "python",
   "pygments_lexer": "ipython3",
   "version": "3.6.8"
  }
 },
 "nbformat": 4,
 "nbformat_minor": 2
}
