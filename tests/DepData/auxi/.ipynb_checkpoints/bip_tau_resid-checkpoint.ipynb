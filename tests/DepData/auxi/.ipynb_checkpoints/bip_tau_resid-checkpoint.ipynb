{
 "cells": [
  {
   "cell_type": "code",
   "execution_count": 16,
   "metadata": {},
   "outputs": [],
   "source": [
    "import numpy as np\n",
    "import robustsp as rsp\n",
    "\n",
    "def bip_tau_resid_sc(x, beta_hat, p, q):\n",
    "    phi_hat = np.array(beta_hat[:p])\n",
    "    theta_hat = np.array(beta_hat[p:])\n",
    "    \n",
    "    N = len(x)\n",
    "    \n",
    "    r = max(p,q)\n",
    "    \n",
    "    a_bip = np.zeros(N)\n",
    "    \n",
    "    x_sc = rsp.tau_scale(x)\n",
    "    kap2 = 0.8724286 # ap=var(eta(randn(10000,1)))\n",
    "    \n",
    "    xArr = lambda ii: x[ii-1::-1] if ii-p-1 < 0 else x[ii-1:ii-p-1:-1]\n",
    "    aqArr = lambda ii: a_bip[ii-1::-1] if ii-q-1 < 0 else a_bip[ii-1:ii-q-1:-1]\n",
    "    apArr = lambda ii: a_bip[ii-1::-1] if ii-p-1 < 0 else a_bip[ii-1:ii-p-1:-1]\n",
    "            \n",
    "    if np.sum(np.abs(np.roots(-1*np.array([-1, *phi_hat])))>1) \\\n",
    "        or np.sum(np.abs(np.roots(-1*np.array([-1, *theta_hat])))>1):\n",
    "        sigma_hat = x_sc\n",
    "        \n",
    "    else:\n",
    "        # MA infinity approximation to compute scale used in eta function\n",
    "        lamb = rsp.ma_infinity(phi_hat, -theta_hat, 100)\n",
    "        \n",
    "        # Scale used in eta function\n",
    "        sigma_hat = np.sqrt(x_sc**2 /(1+kap2*np.sum(lamb**2)))\n",
    "        \n",
    "    if r == 0:\n",
    "        a_sc_bip = x_sc\n",
    "        a_bip = np.array(x)\n",
    "        return a_sc_bip\n",
    "    else:\n",
    "        # 2 ok,print(np.sum(np.abs(np.roots(-1*np.array([-1, *phi_hat])))>1))\n",
    "        if np.sum(np.abs(np.roots(-1*np.array([-1, *phi_hat])))>1) \\\n",
    "        or np.sum(np.abs(np.roots(-1*np.array([-1, *theta_hat])))>1):\n",
    "            a_bip_sc = 10**10\n",
    "        else:    \n",
    "            if p>=1 and q>=1:\n",
    "                # ARMA model\n",
    "                for ii in range(r,N):\n",
    "                    # BIP-ARMA residuals\n",
    "                    a_bip[ii] = x[ii] -phi_hat@(xArr(ii)-apArr(ii)+sigma_hat*rsp.eta(apArr(ii)/sigma_hat))\\\n",
    "                    +theta_hat@(sigma_hat*rsp.eta(aqArr(ii)/sigma_hat))\n",
    "            elif p==0 and q>=1:\n",
    "                # MA model\n",
    "                for ii in range(r,N):\n",
    "                    # BIP-MA residuals\n",
    "                    a_bip[ii] = x[ii]+theta_hat@(sigma_hat*rsp.eta(aqArr(ii)/sigma_hat))\n",
    "            elif p>=1 and q==0:\n",
    "                # AR model\n",
    "                for ii in range(r,N):\n",
    "                    # BIP-AR residuals\n",
    "                    a_bip[ii] = x[ii] - phi_hat@(xArr(ii)-apArr(ii)+sigma_hat*rsp.eta(apArr(ii)/sigma_hat))\n",
    "\n",
    "            a_bip_sc = rsp.tau_scale(a_bip[p:])\n",
    "\n",
    "    # cleaned signal\n",
    "    x_filt = np.array(x)\n",
    "\n",
    "    for ii in range(p,N):\n",
    "        x_filt[ii] = x[ii]-a_bip[ii]+sigma_hat*rsp.eta(a_bip[ii]/sigma_hat)\n",
    "            \n",
    "    return a_bip_sc, x_filt\n",
    "    \n"
   ]
  },
  {
   "cell_type": "code",
   "execution_count": 17,
   "metadata": {},
   "outputs": [
    {
     "data": {
      "text/plain": [
       "(10000000000, array([ 1. , -0.5,  0.3,  0.4]))"
      ]
     },
     "execution_count": 17,
     "metadata": {},
     "output_type": "execute_result"
    }
   ],
   "source": [
    "bip_tau_resid_sc([1, -0.5, .3 ,.4], [1,0,-1],3,0) # ok"
   ]
  },
  {
   "cell_type": "code",
   "execution_count": 20,
   "metadata": {},
   "outputs": [
    {
     "data": {
      "text/plain": [
       "(10000000000, array([ 1. , -0.5,  0.3,  0.4]))"
      ]
     },
     "execution_count": 20,
     "metadata": {},
     "output_type": "execute_result"
    }
   ],
   "source": [
    "bip_tau_resid_sc([1, -0.5, .3 ,.4], [1,0,-1],0,3) # ok"
   ]
  },
  {
   "cell_type": "code",
   "execution_count": 21,
   "metadata": {},
   "outputs": [
    {
     "data": {
      "text/plain": [
       "(0.7786986011939636, array([ 1. , -0.5, -0.5, -0.5]))"
      ]
     },
     "execution_count": 21,
     "metadata": {},
     "output_type": "execute_result"
    }
   ],
   "source": [
    "bip_tau_resid_sc([1, -0.5, .3 ,.4], [1,0,-1],1,2) # stimmt"
   ]
  },
  {
   "cell_type": "code",
   "execution_count": 22,
   "metadata": {},
   "outputs": [
    {
     "data": {
      "text/plain": [
       "(0.9537071181721114, array([ 1. , -0.5, -0.5, -0.5]))"
      ]
     },
     "execution_count": 22,
     "metadata": {},
     "output_type": "execute_result"
    }
   ],
   "source": [
    "bip_tau_resid_sc([1, -0.5, .3 ,.4], [1,0,-1],2,1) # stimmt"
   ]
  },
  {
   "cell_type": "code",
   "execution_count": null,
   "metadata": {},
   "outputs": [],
   "source": [
    "bip_tau_resid_sc([1, -0.5, .3 ,.4], [],0,0) # matlab version returned nichts"
   ]
  },
  {
   "cell_type": "code",
   "execution_count": 23,
   "metadata": {},
   "outputs": [
    {
     "data": {
      "text/plain": [
       "(4.62167103540313e-06, array([ 1. , -0.5,  0.3,  0.4]))"
      ]
     },
     "execution_count": 23,
     "metadata": {},
     "output_type": "execute_result"
    }
   ],
   "source": [
    "bip_tau_resid_sc([1, -0.5, .3 ,.4], [.2,0.3,-.5],0,3) # stimmt praktisch"
   ]
  },
  {
   "cell_type": "code",
   "execution_count": 24,
   "metadata": {},
   "outputs": [
    {
     "name": "stderr",
     "output_type": "stream",
     "text": [
      "c:\\users\\computer\\desktop\\robustsp\\robustsp\\DependentData\\Auxiliary\\m_scale.py:15: RuntimeWarning: divide by zero encountered in true_divide\n",
      "  w_k[x!=0] = rsp.muler_rho1(x[x!=0]/sigma_k) / (x[x!=0] / sigma_k)**2\n",
      "c:\\users\\computer\\desktop\\robustsp\\robustsp\\DependentData\\Auxiliary\\tau_scale.py:7: RuntimeWarning: divide by zero encountered in true_divide\n",
      "  return np.sqrt(sigma_m**2 /len(x)  *1/b * np.sum(rsp.muler_rho2(x/sigma_m)))\n"
     ]
    },
    {
     "data": {
      "text/plain": [
       "(0.0, array([ 1. , -0.5,  0.3,  0.4]))"
      ]
     },
     "execution_count": 24,
     "metadata": {},
     "output_type": "execute_result"
    }
   ],
   "source": [
    "bip_tau_resid_sc([1, -0.5, .3 ,.4], [.2,0.3,-.5],3,0) # stimmt"
   ]
  }
 ],
 "metadata": {
  "kernelspec": {
   "display_name": "Python 3",
   "language": "python",
   "name": "python3"
  },
  "language_info": {
   "codemirror_mode": {
    "name": "ipython",
    "version": 3
   },
   "file_extension": ".py",
   "mimetype": "text/x-python",
   "name": "python",
   "nbconvert_exporter": "python",
   "pygments_lexer": "ipython3",
   "version": "3.6.8"
  }
 },
 "nbformat": 4,
 "nbformat_minor": 2
}
