{
 "cells": [
  {
   "cell_type": "code",
   "execution_count": 1,
   "metadata": {},
   "outputs": [],
   "source": [
    "import numpy as np\n",
    "import robustsp as rsp\n",
    "\n",
    "def bip_ar1_s(x, N, phi_grid, fine_grid,kap2):\n",
    "\n",
    "    a_scale_final = rsp.m_scale(x) # AR(0): residual scale equals observation scale\n",
    "    \n",
    "    # grid search for partial autocorrelations\n",
    "    a_bip_sc = np.zeros(len(phi_grid))\n",
    "    a_sc = np.zeros(len(phi_grid))\n",
    "    for mm in range(len(phi_grid)):\n",
    "        a = np.zeros(len(x)) # residuals for BIP-AR\n",
    "        a2= np.zeros(len(x)) # residuals for AR\n",
    "        \n",
    "        lambd = rsp.ma_infinity(phi_grid[mm], 0, 100)\n",
    "        sigma_hat = a_scale_final/np.sqrt(1+kap2*np.sum(lambd**2)) # sigma used for BIP-model\n",
    "        for ii in range(1,N):\n",
    "            a[ii] = x[ii]-phi_grid[mm]*\\\n",
    "            (x[ii-1]-a[ii-1]+sigma_hat*rsp.eta(a[ii-1]/sigma_hat)) # residuals for BIP-AR\n",
    "            a2[ii] = x[ii] - phi_grid[mm]*x[ii-1] # residuals for AR\n",
    "             \n",
    "        a_bip_sc[mm] = rsp.m_scale(a[1:]) # tau-scale of residuals for BIP-AR\n",
    "        a_sc[mm] = rsp.m_scale(a2[1:]) # tau-scale of residuals for AR\n",
    "        \n",
    "    poly_approx = np.polyfit(phi_grid, a_bip_sc, 5) # polynomial approximation of tau scale objective function for BIP-AR(1) tau-estimates\n",
    "    a_interp_scale = np.polyval(poly_approx,fine_grid) # interpolation of tau scale objective function for BIP-AR(1) tau-estimates to fine grid\n",
    "    poly_approx2 = np.polyfit(phi_grid,a_sc,5) # polynomial approximation of  tau scale objective function for AR(1) tau-estimates\n",
    "    a_interp_scale2 = np.polyval(poly_approx2, fine_grid)\n",
    "    \n",
    "    temp = np.min(a_interp_scale)\n",
    "    ind_max = np.argmin(a_interp_scale)\n",
    "    phi = fine_grid[ind_max] # tau-estimate unter the BIP-AR(1)\n",
    "    temp2 = np.min(a_interp_scale2)\n",
    "    ind_max2 = np.argmin(a_interp_scale2)\n",
    "    phi2 = fine_grid[ind_max2] # tau-estimate under the AR(1)\n",
    "    \n",
    "    # final estimate maximizes robust likelihood of the two\n",
    "    if temp2<temp:\n",
    "        phi_s = phi2\n",
    "        temp = temp2\n",
    "    else:\n",
    "        phi_s = phi\n",
    "        \n",
    "    phi_hat = phi_s # final BIP-tau-estimate for AR(1)\n",
    "    \n",
    "    # final AR(1) tau-scale-estimate depending on phi_hat\n",
    "    lambd = rsp.ma_infinity(phi_hat, 0, 100)\n",
    "    sigma_hat = a_scale_final/np.sqrt(1+kap2*np.sum(lambd**2))\n",
    "    a = np.zeros(len(x)) # residuals for BIP-AR\n",
    "    a2= np.zeros(len(x)) # residuals for AR\n",
    "    \n",
    "    x_filt = np.zeros(len(x))\n",
    "    \n",
    "    for ii in range(1,N):\n",
    "        a[ii] = x[ii]-phi_hat*(x[ii-1]-a[ii-1]+sigma_hat*rsp.eta(a[ii-1]/sigma_hat))\n",
    "        a2[ii] = x[ii] - phi_hat*x[ii-1]\n",
    "        x_filt[ii] = x[ii] - a[ii] + sigma_hat*rsp.eta(a[ii]/sigma_hat)\n",
    "        \n",
    "    if temp2<temp:\n",
    "        a_scale_final = [a_scale_final, rsp.m_scale(a[1:])]\n",
    "    else:\n",
    "        a_scale_final = [a_scale_final, rsp.m_scale(a2[1:])]\n",
    "        \n",
    "    return x_filt, phi_hat, a_scale_final\n"
   ]
  },
  {
   "cell_type": "code",
   "execution_count": 2,
   "metadata": {},
   "outputs": [
    {
     "data": {
      "text/plain": [
       "(array([0., 2., 3., 4., 5.]),\n",
       " 0.9900000000000018,\n",
       " [4.3116962420933636, 1.403953937948703])"
      ]
     },
     "execution_count": 2,
     "metadata": {},
     "output_type": "execute_result"
    }
   ],
   "source": [
    "'''\n",
    ">> [x_filt, phi_hat, a_scale_final]=bip_ar1_s(x,N,phi_grid, fine_grid, kap2)\n",
    "\n",
    "x_filt =\n",
    "\n",
    "     0\n",
    "     2\n",
    "     3\n",
    "     4\n",
    "     5\n",
    "\n",
    "\n",
    "phi_hat =\n",
    "\n",
    "    0.9900\n",
    "\n",
    "\n",
    "a_scale_final =\n",
    "\n",
    "    4.3116    1.4040\n",
    "'''\n",
    "\n",
    "x = np.array([1,2,3,4,5])\n",
    "N = len(x);\n",
    "kap2 = 0.8724286\n",
    "phi_grid = np.arange(-.99,.991,.05) # coarse grid search\n",
    "fine_grid= np.arange(-.99,.991,.001) # finer grid via polynomial interpolation\n",
    "bip_ar1_s(x, N, phi_grid, fine_grid,kap2)"
   ]
  }
 ],
 "metadata": {
  "kernelspec": {
   "display_name": "Python 3",
   "language": "python",
   "name": "python3"
  },
  "language_info": {
   "codemirror_mode": {
    "name": "ipython",
    "version": 3
   },
   "file_extension": ".py",
   "mimetype": "text/x-python",
   "name": "python",
   "nbconvert_exporter": "python",
   "pygments_lexer": "ipython3",
   "version": "3.6.8"
  }
 },
 "nbformat": 4,
 "nbformat_minor": 2
}
