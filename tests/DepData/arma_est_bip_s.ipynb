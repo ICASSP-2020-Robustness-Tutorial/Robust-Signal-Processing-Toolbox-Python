{
 "cells": [
  {
   "cell_type": "code",
   "execution_count": 1,
   "metadata": {},
   "outputs": [
    {
     "name": "stdout",
     "output_type": "stream",
     "text": [
      "not stationary\n"
     ]
    },
    {
     "name": "stderr",
     "output_type": "stream",
     "text": [
      "c:\\users\\computer\\desktop\\robustsp\\robustsp\\DependentData\\Auxiliary\\m_scale.py:19: RuntimeWarning: invalid value encountered in double_scalars\n",
      "  if np.abs(sigma_k_plus1/sigma_k-1) > epsilon:\n"
     ]
    },
    {
     "ename": "ValueError",
     "evalue": "Method 'lm' doesn't work when the number of residuals is less than the number of variables.",
     "output_type": "error",
     "traceback": [
      "\u001b[1;31m---------------------------------------------------------------------------\u001b[0m",
      "\u001b[1;31mValueError\u001b[0m                                Traceback (most recent call last)",
      "\u001b[1;32m<ipython-input-1-75c479ad661b>\u001b[0m in \u001b[0;36m<module>\u001b[1;34m\u001b[0m\n\u001b[0;32m     51\u001b[0m \u001b[0mx\u001b[0m \u001b[1;33m=\u001b[0m \u001b[0mnp\u001b[0m\u001b[1;33m.\u001b[0m\u001b[0marray\u001b[0m\u001b[1;33m(\u001b[0m\u001b[1;33m[\u001b[0m\u001b[1;33m-\u001b[0m\u001b[1;36m0.1242\u001b[0m\u001b[1;33m,\u001b[0m \u001b[1;33m-\u001b[0m\u001b[1;36m2.5415\u001b[0m \u001b[1;33m,\u001b[0m\u001b[1;36m0.2772\u001b[0m \u001b[1;33m,\u001b[0m\u001b[1;33m-\u001b[0m\u001b[1;36m0.1960\u001b[0m \u001b[1;33m,\u001b[0m\u001b[1;33m-\u001b[0m\u001b[1;36m0.1962\u001b[0m \u001b[1;33m,\u001b[0m\u001b[1;33m-\u001b[0m\u001b[1;36m0.3057\u001b[0m\u001b[1;33m,\u001b[0m \u001b[1;33m-\u001b[0m\u001b[1;36m1.1289\u001b[0m \u001b[1;33m,\u001b[0m\u001b[1;36m0.1942\u001b[0m \u001b[1;33m,\u001b[0m\u001b[1;33m-\u001b[0m\u001b[1;36m0.6071\u001b[0m\u001b[1;33m,\u001b[0m \u001b[1;33m-\u001b[0m\u001b[1;36m0.8284\u001b[0m \u001b[1;33m,\u001b[0m\u001b[1;36m0.5358\u001b[0m \u001b[1;33m,\u001b[0m\u001b[1;36m0.1095\u001b[0m \u001b[1;33m,\u001b[0m\u001b[1;33m-\u001b[0m\u001b[1;36m1.1221\u001b[0m\u001b[1;33m,\u001b[0m \u001b[1;36m0.0460\u001b[0m\u001b[1;33m,\u001b[0m \u001b[1;33m-\u001b[0m\u001b[1;36m1.2386\u001b[0m\u001b[1;33m,\u001b[0m \u001b[1;36m0.6382\u001b[0m\u001b[1;33m,\u001b[0m \u001b[1;36m1.1452\u001b[0m\u001b[1;33m,\u001b[0m \u001b[1;33m-\u001b[0m\u001b[1;36m0.0159\u001b[0m\u001b[1;33m,\u001b[0m \u001b[1;36m0.6610\u001b[0m \u001b[1;33m,\u001b[0m\u001b[1;33m-\u001b[0m\u001b[1;36m2.5455\u001b[0m\u001b[1;33m]\u001b[0m\u001b[1;33m)\u001b[0m\u001b[1;33m\u001b[0m\u001b[1;33m\u001b[0m\u001b[0m\n\u001b[0;32m     52\u001b[0m \u001b[1;33m\u001b[0m\u001b[0m\n\u001b[1;32m---> 53\u001b[1;33m \u001b[0marma_est_bip_s\u001b[0m\u001b[1;33m(\u001b[0m\u001b[0mx\u001b[0m\u001b[1;33m,\u001b[0m\u001b[1;36m2\u001b[0m\u001b[1;33m,\u001b[0m\u001b[1;36m1\u001b[0m\u001b[1;33m)\u001b[0m\u001b[1;33m\u001b[0m\u001b[1;33m\u001b[0m\u001b[0m\n\u001b[0m",
      "\u001b[1;32m<ipython-input-1-75c479ad661b>\u001b[0m in \u001b[0;36marma_est_bip_s\u001b[1;34m(x, p, q)\u001b[0m\n\u001b[0;32m     18\u001b[0m     \u001b[0mF_bip\u001b[0m \u001b[1;33m=\u001b[0m \u001b[1;32mlambda\u001b[0m \u001b[0mbeta\u001b[0m\u001b[1;33m:\u001b[0m \u001b[0mrsp\u001b[0m\u001b[1;33m.\u001b[0m\u001b[0mbip_s_resid_sc\u001b[0m\u001b[1;33m(\u001b[0m\u001b[0mx\u001b[0m\u001b[1;33m,\u001b[0m \u001b[0mbeta\u001b[0m\u001b[1;33m,\u001b[0m \u001b[0mp\u001b[0m\u001b[1;33m,\u001b[0m \u001b[0mq\u001b[0m\u001b[1;33m)\u001b[0m\u001b[1;33m\u001b[0m\u001b[1;33m\u001b[0m\u001b[0m\n\u001b[0;32m     19\u001b[0m \u001b[1;33m\u001b[0m\u001b[0m\n\u001b[1;32m---> 20\u001b[1;33m     \u001b[0mbeta_arma\u001b[0m \u001b[1;33m=\u001b[0m \u001b[0mlsq\u001b[0m\u001b[1;33m(\u001b[0m\u001b[0mF\u001b[0m\u001b[1;33m,\u001b[0m \u001b[0mbeta_initial\u001b[0m\u001b[1;33m,\u001b[0m\u001b[0mxtol\u001b[0m\u001b[1;33m=\u001b[0m\u001b[1;36m5\u001b[0m\u001b[1;33m*\u001b[0m\u001b[1;36m1e-5\u001b[0m\u001b[1;33m,\u001b[0m\u001b[0mftol\u001b[0m\u001b[1;33m=\u001b[0m\u001b[1;36m5\u001b[0m\u001b[1;33m*\u001b[0m\u001b[1;36m1e-5\u001b[0m\u001b[1;33m,\u001b[0m\u001b[0mmethod\u001b[0m\u001b[1;33m=\u001b[0m\u001b[1;34m'lm'\u001b[0m\u001b[1;33m)\u001b[0m\u001b[1;33m[\u001b[0m\u001b[1;36m0\u001b[0m\u001b[1;33m]\u001b[0m\u001b[1;33m\u001b[0m\u001b[1;33m\u001b[0m\u001b[0m\n\u001b[0m\u001b[0;32m     21\u001b[0m     \u001b[0mbeta_bip\u001b[0m \u001b[1;33m=\u001b[0m \u001b[0mlsq\u001b[0m\u001b[1;33m(\u001b[0m\u001b[0mF_bip\u001b[0m\u001b[1;33m,\u001b[0m \u001b[0mbeta_initial\u001b[0m\u001b[1;33m,\u001b[0m\u001b[0mxtol\u001b[0m\u001b[1;33m=\u001b[0m\u001b[1;36m5\u001b[0m\u001b[1;33m*\u001b[0m\u001b[1;36m1e-5\u001b[0m\u001b[1;33m,\u001b[0m\u001b[0mftol\u001b[0m\u001b[1;33m=\u001b[0m\u001b[1;36m5\u001b[0m\u001b[1;33m*\u001b[0m\u001b[1;36m1e-5\u001b[0m\u001b[1;33m,\u001b[0m\u001b[0mmethod\u001b[0m\u001b[1;33m=\u001b[0m\u001b[1;34m'lm'\u001b[0m\u001b[1;33m)\u001b[0m\u001b[1;33m[\u001b[0m\u001b[1;36m0\u001b[0m\u001b[1;33m]\u001b[0m\u001b[1;33m\u001b[0m\u001b[1;33m\u001b[0m\u001b[0m\n\u001b[0;32m     22\u001b[0m \u001b[1;33m\u001b[0m\u001b[0m\n",
      "\u001b[1;32mc:\\users\\computer\\appdata\\local\\programs\\python\\python36\\lib\\site-packages\\scipy\\optimize\\_lsq\\least_squares.py\u001b[0m in \u001b[0;36mleast_squares\u001b[1;34m(fun, x0, jac, bounds, method, ftol, xtol, gtol, x_scale, loss, f_scale, diff_step, tr_solver, tr_options, jac_sparsity, max_nfev, verbose, args, kwargs)\u001b[0m\n\u001b[0;32m    808\u001b[0m \u001b[1;33m\u001b[0m\u001b[0m\n\u001b[0;32m    809\u001b[0m     \u001b[1;32mif\u001b[0m \u001b[0mmethod\u001b[0m \u001b[1;33m==\u001b[0m \u001b[1;34m'lm'\u001b[0m \u001b[1;32mand\u001b[0m \u001b[0mm\u001b[0m \u001b[1;33m<\u001b[0m \u001b[0mn\u001b[0m\u001b[1;33m:\u001b[0m\u001b[1;33m\u001b[0m\u001b[1;33m\u001b[0m\u001b[0m\n\u001b[1;32m--> 810\u001b[1;33m         raise ValueError(\"Method 'lm' doesn't work when the number of \"\n\u001b[0m\u001b[0;32m    811\u001b[0m                          \"residuals is less than the number of variables.\")\n\u001b[0;32m    812\u001b[0m \u001b[1;33m\u001b[0m\u001b[0m\n",
      "\u001b[1;31mValueError\u001b[0m: Method 'lm' doesn't work when the number of residuals is less than the number of variables."
     ]
    }
   ],
   "source": [
    "import numpy as np\n",
    "import robustsp as rsp\n",
    "from scipy.optimize import least_squares as lsq\n",
    "\n",
    "def arma_est_bip_s(x,p,q):\n",
    "    \n",
    "    if p==0 and q == 0:\n",
    "        inno_scale = rsp.m_scale(x)\n",
    "        print('at least p or q has to be non-zero')\n",
    "    if len(x) <= p+q:\n",
    "        raise ValueError('There are too many parameters to estimate for chosen data size. Reduce model order or use a larger data set.')\n",
    "    \n",
    "    # Robust starting point by BIP AR-S approximation\n",
    "    beta_initial = rsp.robust_starting_point(x,p,q)[0]\n",
    "    \n",
    "    F = lambda beta: rsp.arma_s_resid_sc(x, beta, p, q)\n",
    "    \n",
    "    F_bip = lambda beta: rsp.bip_s_resid_sc(x, beta, p, q)\n",
    "    \n",
    "    beta_arma = lsq(F, beta_initial,xtol=5*1e-5,ftol=5*1e-5,method='lm')[0]\n",
    "    beta_bip = lsq(F_bip, beta_initial,xtol=5*1e-5,ftol=5*1e-5,method='lm')[0]\n",
    "    \n",
    "    a_sc = rsp.arma_s_resid_sc(x, beta_arma, p, q) # innovations m-scale for ARMA model\n",
    "    a_bip_sc, x_filt = rsp.bip_s_resid_sc(x, beta_bip, p, q) # innovations m-scale for BIP-ARMA model\n",
    "    \n",
    "    # final parameter estimate uses the model that provides smaller\n",
    "    # m-scale\n",
    "    \n",
    "    beta_hat = beta_arma if a_sc < a_bip_sc else beta_bip\n",
    "    \n",
    "    # final m-scale\n",
    "    a_m_sc = min(a_sc, a_bip_sc)\n",
    "    \n",
    "    phi_bip_s = -1*beta_hat[:p] if p>0 else []\n",
    "    \n",
    "    phi_bip_s_init = -1* beta_initial[:p] if p>0 else []\n",
    "    \n",
    "    theta_bip_s = -1*beta_hat[p:] if q>0 else []\n",
    "    \n",
    "    theta_bip_s_init = -1* beta_initial[p:] if q>0 else []\n",
    "    \n",
    "    results = {'ar_coeffs': phi_bip_s,\n",
    "              'ma_coeffs': theta_bip_s,\n",
    "              'inno_scale': a_m_sc,\n",
    "              'cleaned_signal': x_filt,\n",
    "              'ar_coeffs_init': phi_bip_s_init,\n",
    "              'ma_coeffs_init': theta_bip_s_init}\n",
    "    \n",
    "    return results\n",
    "\n",
    "x = np.array([-0.1242, -2.5415 ,0.2772 ,-0.1960 ,-0.1962 ,-0.3057, -1.1289 ,0.1942 ,-0.6071, -0.8284 ,0.5358 ,0.1095 ,-1.1221, 0.0460, -1.2386, 0.6382, 1.1452, -0.0159, 0.6610 ,-2.5455])\n",
    "\n",
    "arma_est_bip_s(x,2,1)"
   ]
  },
  {
   "cell_type": "markdown",
   "metadata": {},
   "source": [
    "   -0.1242\n",
    "   -2.5415\n",
    "    0.2772\n",
    "   -0.1960\n",
    "   -0.1962\n",
    "   -0.3057\n",
    "   -1.1289\n",
    "    0.1942\n",
    "   -0.6071\n",
    "   -0.8284\n",
    "    0.5358\n",
    "    0.1095\n",
    "   -1.1221\n",
    "    0.0460\n",
    "   -1.2386\n",
    "    0.6382\n",
    "    1.1452\n",
    "   -0.0159\n",
    "    0.6610\n",
    "   -2.5455"
   ]
  },
  {
   "cell_type": "code",
   "execution_count": 1,
   "metadata": {},
   "outputs": [
    {
     "data": {
      "text/plain": [
       "1.4478144118798"
      ]
     },
     "execution_count": 1,
     "metadata": {},
     "output_type": "execute_result"
    }
   ],
   "source": [
    "import numpy as np\n",
    "import robustsp as rsp\n",
    "#from robustsp.DependentData.Auxiliary.helper import poles as poles\n",
    "\n",
    "def arma_s_resid_sc(x, beta_hat, p, q):\n",
    "    \n",
    "    phi_hat = beta_hat[:p] if 0<p else []\n",
    "    theta_hat = beta_hat[p:] if 0<q else [] \n",
    "     \n",
    "    N = len(x)\n",
    "    r = max(p,q)\n",
    "    a = np.zeros(N)\n",
    "    x_sc = rsp.m_scale(x)\n",
    "    \n",
    "    poles = lambda x: np.sum(np.abs(np.roots(-1*np.array([-1,*x])))>1)\n",
    "\n",
    "    if r==0:\n",
    "        a_sc = np.array(x_sc)\n",
    "        a = np.array(x)\n",
    "    else:\n",
    "        if poles(phi_hat) or poles(theta_hat):\n",
    "            print('not stationary')\n",
    "            a_sc = 10**10\n",
    "        elif p>=1 and q>=1:\n",
    "            # ARMA Models\n",
    "            print('ARMA')\n",
    "            for ii in range(r,N):\n",
    "                # ARMA residuals\n",
    "                xArr = x[ii-1::-1] if ii-p-1 < 0 else x[ii-1:ii-p-1:-1]\n",
    "                aArr = a[ii-1::-1] if ii-q-1 < 0 else a[ii-1:ii-q-1:-1]\n",
    "                \n",
    "                a[ii] = x[ii]-np.sum(phi_hat*xArr)+\\\n",
    "                np.sum(theta_hat*aArr)\n",
    "\n",
    "        elif p==0 and q>=1:\n",
    "            # MA model\n",
    "            for ii in range(r,N):\n",
    "                aArr = a[ii-1::-1] if ii-q-1 < 0 else a[ii-1:ii-q-1:-1]\n",
    "                a[ii]=x[ii]+np.sum(theta_hat*aArr)\n",
    "        elif p>=1 and q==0:\n",
    "            # AR model\n",
    "            for ii in range(r,N):\n",
    "                xArr = x[ii-1::-1] if ii-p-1 < 0 else x[ii-1:ii-p-1:-1]\n",
    "                a[ii] = x[ii] - np.sum(phi_hat*xArr) # AR residuals\n",
    "    \n",
    "    a_sc = rsp.m_scale(a[p:])\n",
    "    \n",
    "    return a_sc\n",
    "\n",
    "x = np.array([.4153,-.6244,-1.8424,-1.655])\n",
    "b = np.array([1,2,3])\n",
    "p=1\n",
    "q=2\n",
    "#arma_s_resid_sc(x,b,1,2) # 1e10 not stationary, stimmt\n",
    "# arma_s_resid_sc(x,[0.5,-0.5,0.5],1,2) # 0.0429 stimmt\n",
    "# arma_s_resid_sc(x,[0.5,-0.5,0.5],2,1) stimmt\n",
    "# arma_s_resid_sc(x,[0.5],0,1) stimmt\n",
    "rsp.arma_s_resid_sc(x,[0.5],1,0)"
   ]
  },
  {
   "cell_type": "code",
   "execution_count": 43,
   "metadata": {},
   "outputs": [
    {
     "data": {
      "text/plain": [
       "32"
      ]
     },
     "execution_count": 43,
     "metadata": {},
     "output_type": "execute_result"
    }
   ],
   "source": [
    "np.array((1,2,3))@np.array((4,5,6))"
   ]
  },
  {
   "cell_type": "code",
   "execution_count": 1,
   "metadata": {},
   "outputs": [
    {
     "data": {
      "text/plain": [
       "(2.0915284912614376, array([ 0.4153, -0.6244, -1.8424, -1.655 ]))"
      ]
     },
     "execution_count": 1,
     "metadata": {},
     "output_type": "execute_result"
    }
   ],
   "source": [
    "import numpy as np\n",
    "import robustsp as rsp\n",
    "\n",
    "def bip_s_resid_sc(x, beta_hat, p, q):\n",
    "    \n",
    "    phi_hat = np.array(beta_hat[:p]) # [] if p=0, MA case\n",
    "    \n",
    "    theta_hat = np.array(beta_hat[p:]) # [] if p=length(beta_hat), AR case\n",
    "    \n",
    "    x = np.array(x)\n",
    "    N = len(x)\n",
    "    r = max(p,q)\n",
    "    \n",
    "    a_bip = np.zeros(N)\n",
    "    \n",
    "    x_sc = rsp.m_scale(x)\n",
    "    \n",
    "    kap2 = 0.8724286\n",
    "    \n",
    "    poles = lambda x: np.sum(np.abs(np.roots(-1*np.array([-1,*x])))>1)\n",
    "    \n",
    "    if poles(phi_hat) or poles(theta_hat):\n",
    "        sigma_hat = x_sc\n",
    "    \n",
    "    else:\n",
    "        lamb = rsp.ma_infinity(phi_hat, -1*theta_hat, 100) # MA infinity approximation to compute scale used in eta function\n",
    "        sigma_hat = np.sqrt(x_sc**2/(1+kap2*np.sum(lamb**2))) # scale used in eta\n",
    "        \n",
    "    if r == 0:\n",
    "        a_sc_bip = x_sc\n",
    "        a_bip = np.array(x)\n",
    "    else:\n",
    "        if poles(phi_hat) or poles(theta_hat):\n",
    "            a_bip_sc = 10**10\n",
    "        elif p>=1 and q>=1:\n",
    "            # ARMA model\n",
    "            for ii in range(r,N):\n",
    "                # BIP-ARMA residuals\n",
    "                xArr = x[ii-1::-1] if ii-p-1 < 0 else x[ii-1:ii-p-1:-1]\n",
    "                aArr = a_bip[ii-1::-1] if ii-q-1 < 0 else a_bip[ii-1:ii-q-1:-1]\n",
    "                apArr = a_bip[ii-1::-1] if ii-p-1 < 0 else a_bip[ii-1:ii-p-1:-1]\n",
    "\n",
    "                a_bip[ii] = x[ii]\\\n",
    "                -phi_hat@(xArr-apArr+sigma_hat*rsp.eta(apArr/sigma_hat))+sigma_hat*(theta_hat[None,:])@(rsp.eta(aArr/sigma_hat)[:,None])\n",
    "                \n",
    "        elif p==0 and q>=1:\n",
    "            # MA residuals\n",
    "            for ii in range(r,N):\n",
    "                # BIP-MA residuals\n",
    "                aArr = a_bip[ii-1::-1] if ii-q-1 < 0 else a_bip[ii-1:ii-q-1:-1]\n",
    "                \n",
    "                a_bip[ii] = x[ii]+theta_hat[None,:]@(sigma_hat*rsp.eta(aArr/sigma_hat)[:,None])\n",
    "\n",
    "        elif p>=1 and q==0:\n",
    "            # AR Model\n",
    "            for ii in range(r,N):\n",
    "                xArr = x[ii-1::-1] if ii-p-1 < 0 else x[ii-1:ii-p-1:-1]\n",
    "                apArr = a_bip[ii-1::-1] if ii-p-1 < 0 else a_bip[ii-1:ii-p-1:-1]\n",
    "\n",
    "                a_bip[ii] = x[ii]-phi_hat@(xArr-apArr\\\n",
    "                +sigma_hat*rsp.eta(apArr/sigma_hat))\n",
    "                print(a_bip)\n",
    "\n",
    "        a_bip_sc = rsp.m_scale(a_bip[p:])\n",
    "        x_filt = np.array(x)\n",
    "        \n",
    "        for ii in range(p,N):\n",
    "            x_filt[ii] = x[ii] - a_bip[ii] + sigma_hat * rsp.eta(a_bip[ii]/sigma_hat)\n",
    "    \n",
    "    return a_bip_sc, x_filt\n",
    "\n",
    "x = np.array([.4153,-.6244,-1.8424,-1.655])\n",
    "\n",
    "# bip_s_resid_sc(x,[0.5],1,0)\n",
    "# bip_s_resid_sc(x,[0.5],0,1)\n",
    "rsp.bip_s_resid_sc(x,[0.5,-0.5,0.5],2,1) #stimmt"
   ]
  },
  {
   "cell_type": "code",
   "execution_count": 4,
   "metadata": {},
   "outputs": [
    {
     "ename": "ValueError",
     "evalue": "matmul: Input operand 0 does not have enough dimensions (has 0, gufunc core with signature (n?,k),(k,m?)->(n?,m?) requires 1)",
     "output_type": "error",
     "traceback": [
      "\u001b[1;31m---------------------------------------------------------------------------\u001b[0m",
      "\u001b[1;31mValueError\u001b[0m                                Traceback (most recent call last)",
      "\u001b[1;32m<ipython-input-4-f1be092ddf5f>\u001b[0m in \u001b[0;36m<module>\u001b[1;34m\u001b[0m\n\u001b[0;32m      1\u001b[0m \u001b[0ma\u001b[0m \u001b[1;33m=\u001b[0m\u001b[1;33m[\u001b[0m\u001b[1;36m1\u001b[0m\u001b[1;33m,\u001b[0m\u001b[1;36m2\u001b[0m\u001b[1;33m,\u001b[0m\u001b[1;36m3\u001b[0m\u001b[1;33m]\u001b[0m\u001b[1;33m\u001b[0m\u001b[1;33m\u001b[0m\u001b[0m\n\u001b[1;32m----> 2\u001b[1;33m \u001b[1;36m1\u001b[0m\u001b[1;33m@\u001b[0m\u001b[0mnp\u001b[0m\u001b[1;33m.\u001b[0m\u001b[0marray\u001b[0m\u001b[1;33m(\u001b[0m\u001b[1;33m[\u001b[0m\u001b[1;36m0\u001b[0m\u001b[1;33m]\u001b[0m\u001b[1;33m)\u001b[0m\u001b[1;33m\u001b[0m\u001b[1;33m\u001b[0m\u001b[0m\n\u001b[0m",
      "\u001b[1;31mValueError\u001b[0m: matmul: Input operand 0 does not have enough dimensions (has 0, gufunc core with signature (n?,k),(k,m?)->(n?,m?) requires 1)"
     ]
    }
   ],
   "source": [
    "a =[1,2,3]\n",
    "1@np.array([0])"
   ]
  }
 ],
 "metadata": {
  "kernelspec": {
   "display_name": "Python 3",
   "language": "python",
   "name": "python3"
  },
  "language_info": {
   "codemirror_mode": {
    "name": "ipython",
    "version": 3
   },
   "file_extension": ".py",
   "mimetype": "text/x-python",
   "name": "python",
   "nbconvert_exporter": "python",
   "pygments_lexer": "ipython3",
   "version": "3.6.8"
  }
 },
 "nbformat": 4,
 "nbformat_minor": 2
}
