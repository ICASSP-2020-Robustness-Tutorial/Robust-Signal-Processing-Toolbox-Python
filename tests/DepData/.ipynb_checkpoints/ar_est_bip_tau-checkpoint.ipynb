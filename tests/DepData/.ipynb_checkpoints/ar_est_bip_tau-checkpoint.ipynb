{
 "cells": [
  {
   "cell_type": "code",
   "execution_count": 5,
   "metadata": {},
   "outputs": [
    {
     "data": {
      "text/plain": [
       "(0.9900000000000018,\n",
       " array([0.        , 1.9975795 , 2.99287637, 3.98400997]),\n",
       " array([3.06744407, 1.14251025]))"
      ]
     },
     "execution_count": 5,
     "metadata": {},
     "output_type": "execute_result"
    }
   ],
   "source": [
    "import numpy as np\n",
    "import robustsp as rsp\n",
    "from robustsp.DependentData.Auxiliary.helper import *\n",
    "\n",
    "def ar_est_bip_tau(xxx, P):\n",
    "    x = np.array(xxx)\n",
    "    N = len(x) # length of the observation vector\n",
    "    phi_grid = np.arange(-.99,.991,.05) # coarse grid search\n",
    "    fine_grid= np.arange(-.99,.991,.001) # finer grid via polynomial interpolation\n",
    "\n",
    "    kap2 = 0.8724286\n",
    "    phi_grid = np.arange(-.99,.991,.05) # coarse grid search\n",
    "    fine_grid= np.arange(-.99,.991,.001) # finer grid via polynomial interpolation\n",
    "    a_bip_sc = np.zeros([len(phi_grid)]) # residual scale for BIP-AR on finer grid \n",
    "    a_sc = np.zeros(len(phi_grid)) # residual scale for AR on finer grid\n",
    "\n",
    "    # The following was introduced so as not to predict based\n",
    "    # on highly contaminated data in the\n",
    "    # first few samples.\n",
    "\n",
    "    x_tran = x[:min(10,int(np.floor(N/2)))]\n",
    "    sig_x_tran = np.median(np.abs(x-np.median(x)))\n",
    "\n",
    "    x_tran[np.abs(x_tran)>3*sig_x_tran] = 3*sig_x_tran*np.sign(x_tran[np.abs(x_tran)>3*sig_x_tran])\n",
    "    x[1:min(10,int(np.floor(N/2)))] = x_tran[1:min(10,int(np.floor(N/2)))]\n",
    "    \n",
    "    if P==0:\n",
    "        return [], rsp.tau_scale(x)\n",
    "    elif P==1:\n",
    "        x_filt, phi_hat, a_scale_final = rsp.bip_ar1_tau(x,N,phi_grid,fine_grid,kap2,P)\n",
    "    elif P>1:\n",
    "        phi_hat = np.zeros((P,P))\n",
    "        x_filt, phi_hat[0,0], a_scale_final = rsp.bip_ar1_tau(x,N,phi_grid,fine_grid,kap2,P)\n",
    "\n",
    "        npa = lambda x: np.array(x)\n",
    "\n",
    "        for p in range(1,P):\n",
    "            for mm in range(len(phi_grid)):\n",
    "\n",
    "                for pp in range(p):\n",
    "                    phi_hat[p,pp] =\\\n",
    "                    phi_hat[p-1,pp]-phi_grid[mm]*phi_hat[p-1,p-pp-1]\n",
    "\n",
    "                predictor_coeffs =\\\n",
    "                np.array([*phi_hat[p,:p], phi_grid[mm]])\n",
    "\n",
    "                M = len(predictor_coeffs)\n",
    "\n",
    "                if np.mean(np.abs(np.roots([1, *predictor_coeffs]))<1)==1:\n",
    "                    lambd = rsp.ma_infinity(predictor_coeffs, 0, 100)\n",
    "                    sigma_hat = a_scale_final[0]/np.sqrt(1+kap2*np.sum(lambd**2))\n",
    "                else:\n",
    "                    sigma_hat = 1.483*np.median(np.abs(x-np.median(x)))\n",
    "\n",
    "                a = np.zeros(len(x))\n",
    "                a2= np.zeros(len(x))\n",
    "\n",
    "                for ii in range(p+1,N):\n",
    "\n",
    "                    xArr = x[ii-1::-1] if ii-M-1 <0 else x[ii-1:ii-M-1:-1]\n",
    "                    aArr = a[ii-1::-1] if ii-M-1 <0 else a[ii-1:ii-M-1:-1]\n",
    "\n",
    "                    a[ii] = compA(x[ii],predictor_coeffs,xArr,aArr,sigma_hat)\n",
    "\n",
    "                    a2[ii] = x[ii] - predictor_coeffs@xArr\n",
    "                a_bip_sc[mm] = rsp.tau_scale(a[p+1:]) # residual scale for BIP-AR\n",
    "                a_sc[mm] = rsp.tau_scale(a2[p+1:]) # residual scale for AR\n",
    "\n",
    "            # tau-estimate under the BIP-AR(p) and AR(p)\n",
    "            phi, phi2, temp, temp2, ind_max, ind_max2 = tauEstim(phi_grid, a_bip_sc, fine_grid, a_sc)\n",
    "\n",
    "            # final estimate minimizes the residual scale of the two\n",
    "            if temp2<temp:\n",
    "                ind_max=ind_max2\n",
    "                temp=temp2\n",
    "\n",
    "            for pp in range(p):\n",
    "                phi_hat[p,pp] = phi_hat[p-1,pp]-fine_grid[ind_max]*phi_hat[p-1,p-pp-1]\n",
    "\n",
    "            phi_hat[p,p] = fine_grid[ind_max]\n",
    "\n",
    "            # final AR(p) tau-scale-estimate depending on phi_hat(p,p)\n",
    "            if np.mean(np.abs(np.roots([1,*phi_hat[p,:]]))<1) == 1:\n",
    "                lambd = rsp.ma_infinity(phi_hat[p,:], 0, 100)\n",
    "                #sigma used for bip-model\n",
    "                sigma_hat = a_scale_final[0]/np.sqrt(1+kap2*np.sum(lambd**2))\n",
    "            else:\n",
    "                sigma_hat = 1.483*np.median(np.abs(x-np.median(x)))\n",
    "\n",
    "            x_filt = np.zeros(len(x))\n",
    "\n",
    "            for ii in range(p+1,N):\n",
    "                xArr = x[ii-1::-1] if ii-M-1 <0 else x[ii-1:ii-M-1:-1]\n",
    "                aArr = a[ii-1::-1] if ii-M-1 <0 else a[ii-1:ii-M-1:-1]\n",
    "\n",
    "                a[ii] = x[ii]-phi_hat[p,:p+1]@(xArr-aArr\\\n",
    "                +sigma_hat*rsp.eta(aArr/sigma_hat))\n",
    "\n",
    "                a2[ii]=x[ii]-phi_hat[p,:p+1]@xArr\n",
    "\n",
    "            if temp2>temp:\n",
    "                a_scale_final[p+1] = rsp.tau_scale(a[p+1:])\n",
    "            else:\n",
    "                a_scale_final[p+1] = rsp.tau_scale(a2[p+1:])\n",
    "\n",
    "        phi_hat = phi_hat[p,:] # BIP-AR(P) tau-estimate        \n",
    "\n",
    "        for ii in range(p+1,N):\n",
    "            x_filt[ii] = x[ii] - a[ii] + sigma_hat*rsp.eta(a[ii]/sigma_hat)\n",
    "\n",
    "    return phi_hat, x_filt, a_scale_final\n",
    "\n",
    "# stimmt: ar_est_bip_tau([1,2,3,4],3)\n",
    "# stimmt: ar_est_bip_tau([1,2,3,4],1)"
   ]
  },
  {
   "cell_type": "code",
   "execution_count": 1,
   "metadata": {},
   "outputs": [
    {
     "data": {
      "text/plain": [
       "(0.9900000000000018,\n",
       " array([0.        , 1.9975795 , 2.99287637, 3.98400997]),\n",
       " array([3.06744407, 1.14251025]))"
      ]
     },
     "execution_count": 1,
     "metadata": {},
     "output_type": "execute_result"
    }
   ],
   "source": [
    "import robustsp as rsp\n",
    "\n",
    "rsp.ar_est_bip_tau([1,2,3,4],1)"
   ]
  },
  {
   "cell_type": "code",
   "execution_count": 1,
   "metadata": {},
   "outputs": [
    {
     "data": {
      "text/plain": [
       "3.714859247303194"
      ]
     },
     "execution_count": 1,
     "metadata": {},
     "output_type": "execute_result"
    }
   ],
   "source": [
    "import numpy as np\n",
    "import robustsp as rsp\n",
    "\n",
    "def tau_scale(x):\n",
    "    b = 0.398545548533895 # E(muler_rho2) under the standard normal distribution\n",
    "    sigma_m = rsp.m_scale(x)\n",
    "    return np.sqrt(sigma_m**2 /len(x)  *1/b * np.sum(rsp.muler_rho2(x/sigma_m)))\n",
    "\n",
    "tau_scale([1,2,3,4,5])"
   ]
  },
  {
   "cell_type": "code",
   "execution_count": 1,
   "metadata": {},
   "outputs": [
    {
     "data": {
      "text/plain": [
       "(array([0.        , 1.44722497, 1.43275272]),\n",
       " 0.9900000000000018,\n",
       " array([2.41963251, 1.13688708, 0.        , 0.        , 0.        ]))"
      ]
     },
     "execution_count": 1,
     "metadata": {},
     "output_type": "execute_result"
    }
   ],
   "source": [
    "import numpy as np\n",
    "import robustsp as rsp\n",
    "\n",
    "def bip_ar1_tau(x,N,phi_grid,fine_grid,kap2, P):\n",
    "    a_scale_final = np.zeros(P+1)\n",
    "    a_scale_final[0] = rsp.tau_scale(x) # AR(0): residual scale equals observation scale\n",
    "    \n",
    "    # grid search for partial autocorrelations\n",
    "    a_bip_sc = np.zeros(len(phi_grid))\n",
    "    a_sc = np.zeros(len(phi_grid))\n",
    "    for mm in range(len(phi_grid)):\n",
    "        a = np.zeros(len(x)) # residuals for BIP-AR\n",
    "        a2= np.zeros(len(x)) # residuals for AR\n",
    "        \n",
    "        lambd = rsp.ma_infinity(phi_grid[mm], 0, 100)\n",
    "        sigma_hat = a_scale_final[0]/np.sqrt(1+kap2*np.sum(lambd**2)) # sigma used for BIP-model\n",
    "        for ii in range(1,N):\n",
    "            a[ii] = x[ii]-phi_grid[mm]*\\\n",
    "            (x[ii-1]-a[ii-1]+sigma_hat*rsp.eta(a[ii-1]/sigma_hat)) # residuals for BIP-AR\n",
    "            a2[ii] = x[ii] - phi_grid[mm]*x[ii-1] # residuals for AR\n",
    "             \n",
    "        a_bip_sc[mm] = rsp.tau_scale(a[1:]) # tau-scale of residuals for BIP-AR\n",
    "        a_sc[mm] = rsp.tau_scale(a2[1:]) # tau-scale of residuals for AR\n",
    "    poly_approx = np.polyfit(phi_grid, a_bip_sc, 5) # polynomial approximation of tau scale objective function for BIP-AR(1) tau-estimates\n",
    "    a_interp_scale = np.polyval(poly_approx,fine_grid) # interpolation of tau scale objective function for BIP-AR(1) tau-estimates to fine grid\n",
    "    poly_approx2 = np.polyfit(phi_grid,a_sc,5) # polynomial approximation of  tau scale objective function for AR(1) tau-estimates\n",
    "    a_interp_scale2 = np.polyval(poly_approx2, fine_grid)\n",
    "    \n",
    "    temp = np.min(a_interp_scale)\n",
    "    ind_max = np.argmin(a_interp_scale)\n",
    "    phi = fine_grid[ind_max] # tau-estimate unter the BIP-AR(1)\n",
    "    temp2 = np.min(a_interp_scale2)\n",
    "    ind_max2 = np.argmin(a_interp_scale2)\n",
    "    phi2 = fine_grid[ind_max2] # tau-estimate under the AR(1)\n",
    "    \n",
    "    # final estimate maximizes robust likelihood of the two\n",
    "    if temp2<temp:\n",
    "        phi_s = phi2\n",
    "        temp = temp2\n",
    "    else:\n",
    "        phi_s = phi\n",
    "        \n",
    "    phi_hat = phi_s # final BIP-tau-estimate for AR(1)\n",
    "    \n",
    "    # final AR(1) tau-scale-estimate depending on phi_hat\n",
    "    lambd = rsp.ma_infinity(phi_hat, 0, 100)\n",
    "    sigma_hat = a_scale_final[0]/np.sqrt(1+kap2*np.sum(lambd**2))\n",
    "    a = np.zeros(len(x)) # residuals for BIP-AR\n",
    "    a2= np.zeros(len(x)) # residuals for AR\n",
    "    \n",
    "    x_filt = np.zeros(len(x))\n",
    "    \n",
    "    for ii in range(1,N):\n",
    "        a[ii] = x[ii]-phi_hat*(x[ii-1]-a[ii-1]+sigma_hat*rsp.eta(a[ii-1]/sigma_hat))\n",
    "        a2[ii] = x[ii] - phi_hat*x[ii-1]\n",
    "        x_filt[ii] = x[ii] - a[ii] + sigma_hat*rsp.eta(a[ii]/sigma_hat)\n",
    "        \n",
    "    if temp2<temp:\n",
    "        a_scale_final[1] =  rsp.tau_scale(a[1:])\n",
    "    else:\n",
    "        a_scale_final[1] = rsp.tau_scale(a2[1:])\n",
    "        \n",
    "    return x_filt, phi_hat, a_scale_final\n",
    "\n",
    "phi_grid = np.arange(-.99,.991,.05) # coarse grid search\n",
    "fine_grid= np.arange(-.99,.991,.001) # finer grid via polynomial interpolation\n",
    "rsp.bip_ar1_tau([1,2,3],3,phi_grid,fine_grid,0.8724286,4)"
   ]
  }
 ],
 "metadata": {
  "kernelspec": {
   "display_name": "Python 3",
   "language": "python",
   "name": "python3"
  },
  "language_info": {
   "codemirror_mode": {
    "name": "ipython",
    "version": 3
   },
   "file_extension": ".py",
   "mimetype": "text/x-python",
   "name": "python",
   "nbconvert_exporter": "python",
   "pygments_lexer": "ipython3",
   "version": "3.6.8"
  }
 },
 "nbformat": 4,
 "nbformat_minor": 2
}
