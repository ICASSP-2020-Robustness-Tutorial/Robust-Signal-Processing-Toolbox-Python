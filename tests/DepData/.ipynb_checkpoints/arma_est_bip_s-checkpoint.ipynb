{
 "cells": [
  {
   "cell_type": "code",
   "execution_count": null,
   "metadata": {},
   "outputs": [],
   "source": [
    "import numpy as np\n",
    "import robustsp as rsp\n",
    "\n",
    "def arma_est_bip_s(x,p,q):\n",
    "    \n",
    "    if p==0 and q == 0:\n",
    "        inno_scale = rsp.m_scale(x)\n",
    "        print('at least p or q has to be non-zero')\n",
    "    if len(x) <= p+q:\n",
    "        print('There are too many parameters to estimate for chosen data size. Reduce model order or use a larger data set.')\n",
    "        return\n",
    "    \n",
    "    # Robust starting point by BIP AR-S approximation\n",
    "    beta_initial = rsp.robust_starting_point(x,p,q)\n",
    "    \n",
    "    F = lambda beta: rsp.arma_s_resid_sc(x, beta, p, q)\n",
    "    \n",
    "    F_bip = lambda beta: rsp.bip_s_resid_sc(x, beta, p, q)\n",
    "    \n",
    "    beta_arma = lsq(F, beta_hat_s,xtol=5*1e-5,ftol=5*1e-5,method='lm')[0]\n",
    "    beta_bip = lsq(F_bip, beta_hat_s,xtol=5*1e-5,ftol=5*1e-5,method='lm')[0]\n",
    "    \n",
    "    a_sc = rsp.arma_s_resid_sc"
   ]
  },
  {
   "cell_type": "code",
   "execution_count": 7,
   "metadata": {},
   "outputs": [
    {
     "ename": "TypeError",
     "evalue": "'numpy.int32' object is not iterable",
     "output_type": "error",
     "traceback": [
      "\u001b[1;31m---------------------------------------------------------------------------\u001b[0m",
      "\u001b[1;31mTypeError\u001b[0m                                 Traceback (most recent call last)",
      "\u001b[1;32m<ipython-input-7-28a6e02250c2>\u001b[0m in \u001b[0;36m<module>\u001b[1;34m\u001b[0m\n\u001b[0;32m     42\u001b[0m \u001b[0mp\u001b[0m\u001b[1;33m=\u001b[0m\u001b[1;36m1\u001b[0m\u001b[1;33m\u001b[0m\u001b[1;33m\u001b[0m\u001b[0m\n\u001b[0;32m     43\u001b[0m \u001b[0mq\u001b[0m\u001b[1;33m=\u001b[0m\u001b[1;36m2\u001b[0m\u001b[1;33m\u001b[0m\u001b[1;33m\u001b[0m\u001b[0m\n\u001b[1;32m---> 44\u001b[1;33m \u001b[0marma_s_resid_sc\u001b[0m\u001b[1;33m(\u001b[0m\u001b[0mx\u001b[0m\u001b[1;33m,\u001b[0m\u001b[0mb\u001b[0m\u001b[1;33m,\u001b[0m\u001b[0mp\u001b[0m\u001b[1;33m,\u001b[0m\u001b[0mq\u001b[0m\u001b[1;33m)\u001b[0m\u001b[1;33m\u001b[0m\u001b[1;33m\u001b[0m\u001b[0m\n\u001b[0m",
      "\u001b[1;32m<ipython-input-7-28a6e02250c2>\u001b[0m in \u001b[0;36marma_s_resid_sc\u001b[1;34m(x, beta_hat, p, q)\u001b[0m\n\u001b[0;32m     18\u001b[0m         \u001b[0ma\u001b[0m \u001b[1;33m=\u001b[0m \u001b[0mnp\u001b[0m\u001b[1;33m.\u001b[0m\u001b[0marray\u001b[0m\u001b[1;33m(\u001b[0m\u001b[0mx\u001b[0m\u001b[1;33m)\u001b[0m\u001b[1;33m\u001b[0m\u001b[1;33m\u001b[0m\u001b[0m\n\u001b[0;32m     19\u001b[0m     \u001b[1;32melse\u001b[0m\u001b[1;33m:\u001b[0m\u001b[1;33m\u001b[0m\u001b[1;33m\u001b[0m\u001b[0m\n\u001b[1;32m---> 20\u001b[1;33m         \u001b[1;32mif\u001b[0m \u001b[0mpoles\u001b[0m\u001b[1;33m(\u001b[0m\u001b[0mphi_hat\u001b[0m\u001b[1;33m)\u001b[0m \u001b[1;32mor\u001b[0m \u001b[0mpoles\u001b[0m\u001b[1;33m(\u001b[0m\u001b[0mtheta_hat\u001b[0m\u001b[1;33m)\u001b[0m\u001b[1;33m:\u001b[0m\u001b[1;33m\u001b[0m\u001b[1;33m\u001b[0m\u001b[0m\n\u001b[0m\u001b[0;32m     21\u001b[0m             \u001b[0ma_sc\u001b[0m \u001b[1;33m=\u001b[0m \u001b[1;36m10\u001b[0m\u001b[1;33m**\u001b[0m\u001b[1;36m10\u001b[0m\u001b[1;33m\u001b[0m\u001b[1;33m\u001b[0m\u001b[0m\n\u001b[0;32m     22\u001b[0m         \u001b[1;32melif\u001b[0m \u001b[0mp\u001b[0m\u001b[1;33m>=\u001b[0m\u001b[1;36m1\u001b[0m \u001b[1;32mand\u001b[0m \u001b[0mq\u001b[0m\u001b[1;33m>=\u001b[0m\u001b[1;36m1\u001b[0m\u001b[1;33m:\u001b[0m\u001b[1;33m\u001b[0m\u001b[1;33m\u001b[0m\u001b[0m\n",
      "\u001b[1;32mc:\\users\\computer\\desktop\\robustsp\\robustsp\\DependentData\\Auxiliary\\helper.py\u001b[0m in \u001b[0;36m<lambda>\u001b[1;34m(x)\u001b[0m\n\u001b[0;32m      2\u001b[0m \u001b[1;32mimport\u001b[0m \u001b[0mrobustsp\u001b[0m \u001b[1;32mas\u001b[0m \u001b[0mrsp\u001b[0m\u001b[1;33m\u001b[0m\u001b[1;33m\u001b[0m\u001b[0m\n\u001b[0;32m      3\u001b[0m \u001b[1;33m\u001b[0m\u001b[0m\n\u001b[1;32m----> 4\u001b[1;33m \u001b[1;32mdef\u001b[0m \u001b[0mpoles\u001b[0m\u001b[1;33m(\u001b[0m\u001b[0mx\u001b[0m\u001b[1;33m)\u001b[0m\u001b[1;33m:\u001b[0m\u001b[1;33m\u001b[0m\u001b[1;33m\u001b[0m\u001b[0m\n\u001b[0m\u001b[0;32m      5\u001b[0m     \u001b[0mnp\u001b[0m\u001b[1;33m.\u001b[0m\u001b[0msum\u001b[0m\u001b[1;33m(\u001b[0m\u001b[0mnp\u001b[0m\u001b[1;33m.\u001b[0m\u001b[0mroots\u001b[0m\u001b[1;33m(\u001b[0m\u001b[1;33m-\u001b[0m\u001b[1;36m1\u001b[0m\u001b[1;33m*\u001b[0m\u001b[0mnp\u001b[0m\u001b[1;33m.\u001b[0m\u001b[0marray\u001b[0m\u001b[1;33m(\u001b[0m\u001b[1;33m[\u001b[0m\u001b[1;33m-\u001b[0m\u001b[1;36m1\u001b[0m\u001b[1;33m,\u001b[0m \u001b[1;33m*\u001b[0m\u001b[0mx\u001b[0m\u001b[1;33m]\u001b[0m\u001b[1;33m)\u001b[0m\u001b[1;33m)\u001b[0m\u001b[1;33m)\u001b[0m \u001b[1;33m>\u001b[0m \u001b[1;36m1\u001b[0m\u001b[1;33m\u001b[0m\u001b[1;33m\u001b[0m\u001b[0m\n\u001b[0;32m      6\u001b[0m \u001b[1;33m\u001b[0m\u001b[0m\n",
      "\u001b[1;31mTypeError\u001b[0m: 'numpy.int32' object is not iterable"
     ]
    }
   ],
   "source": [
    "import numpy as np\n",
    "import robustsp as rsp\n",
    "from robustsp.DependentData.Auxiliary.helper import poles as poles\n",
    "\n",
    "def arma_s_resid_sc(x, beta_hat, p, q):\n",
    "    \n",
    "    phi_hat = beta_hat[p] if 0<p else []\n",
    "    \n",
    "    theta_hat = [] if q<0 else beta_hat[p:]\n",
    "    \n",
    "    N = len(x)\n",
    "    r = max(p,q)\n",
    "    a = np.zeros(N)\n",
    "    x_sc = rsp.m_scale(x)\n",
    "    \n",
    "    if r==0:\n",
    "        a_sc = np.array(x_sc)\n",
    "        a = np.array(x)\n",
    "    else:\n",
    "        if poles(phi_hat) or poles(theta_hat):\n",
    "            a_sc = 10**10\n",
    "        elif p>=1 and q>=1:\n",
    "            # ARMA Models\n",
    "            for ii in range(r,N):\n",
    "                # ARMA residuals\n",
    "                a[ii] = x[ii]-phi_hat@x[ii-1:ii-p:-1]+\\\n",
    "                theta_hat@a[ii-1:ii-q:-1]\n",
    "        elif p==0 and q>=1:\n",
    "            # MA model\n",
    "            for ii in range(r,N):\n",
    "                a[ii]=x[ii]+theta_hat@a[ii-1:ii-q:-1]\n",
    "        elif p>=1 and q==0:\n",
    "            # AR model\n",
    "            a[ii] = x[ii] - phi_hat@x[ii-1:ii-p:-1]\n",
    "    \n",
    "    a_sc = rsp.m_scale(a[p:])\n",
    "    \n",
    "    return a_sc\n",
    "\n",
    "x = np.array([.4153,-.6244,-1.8424,-1.655])\n",
    "b = np.array([1,2,3])\n",
    "p=1\n",
    "q=2\n",
    "arma_s_resid_sc(x,b,p,q)"
   ]
  }
 ],
 "metadata": {
  "kernelspec": {
   "display_name": "Python 3",
   "language": "python",
   "name": "python3"
  },
  "language_info": {
   "codemirror_mode": {
    "name": "ipython",
    "version": 3
   },
   "file_extension": ".py",
   "mimetype": "text/x-python",
   "name": "python",
   "nbconvert_exporter": "python",
   "pygments_lexer": "ipython3",
   "version": "3.6.8"
  }
 },
 "nbformat": 4,
 "nbformat_minor": 2
}
