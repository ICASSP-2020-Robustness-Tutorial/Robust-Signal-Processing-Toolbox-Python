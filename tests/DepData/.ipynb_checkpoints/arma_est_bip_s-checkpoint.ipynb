{
 "cells": [
  {
   "cell_type": "code",
   "execution_count": null,
   "metadata": {},
   "outputs": [],
   "source": [
    "import numpy as np\n",
    "import robustsp as rsp\n",
    "\n",
    "def arma_est_bip_s(x,p,q):\n",
    "    \n",
    "    if p==0 and q == 0:\n",
    "        inno_scale = rsp.m_scale(x)\n",
    "        print('at least p or q has to be non-zero')\n",
    "    if len(x) <= p+q:\n",
    "        raise ValueError('There are too many parameters to estimate for chosen data size. Reduce model order or use a larger data set.')\n",
    "    \n",
    "    # Robust starting point by BIP AR-S approximation\n",
    "    beta_initial = rsp.robust_starting_point(x,p,q)[0]\n",
    "    \n",
    "    F = lambda beta: rsp.arma_s_resid_sc(x, beta, p, q)\n",
    "    \n",
    "    F_bip = lambda beta: rsp.bip_s_resid_sc(x, beta, p, q)\n",
    "    \n",
    "    beta_arma = lsq(F, beta_hat_s,xtol=5*1e-5,ftol=5*1e-5,method='lm')[0]\n",
    "    beta_bip = lsq(F_bip, beta_hat_s,xtol=5*1e-5,ftol=5*1e-5,method='lm')[0]\n",
    "    \n",
    "    a_sc = rsp.arma_s_resid_sc(x, beta_arma, p, q) # innovations m-scale for ARMA model\n",
    "    "
   ]
  },
  {
   "cell_type": "code",
   "execution_count": 1,
   "metadata": {},
   "outputs": [
    {
     "data": {
      "text/plain": [
       "1.4478144118798"
      ]
     },
     "execution_count": 1,
     "metadata": {},
     "output_type": "execute_result"
    }
   ],
   "source": [
    "import numpy as np\n",
    "import robustsp as rsp\n",
    "#from robustsp.DependentData.Auxiliary.helper import poles as poles\n",
    "\n",
    "def arma_s_resid_sc(x, beta_hat, p, q):\n",
    "    \n",
    "    phi_hat = beta_hat[:p] if 0<p else []\n",
    "    theta_hat = beta_hat[p:] if 0<q else [] \n",
    "     \n",
    "    N = len(x)\n",
    "    r = max(p,q)\n",
    "    a = np.zeros(N)\n",
    "    x_sc = rsp.m_scale(x)\n",
    "    \n",
    "    poles = lambda x: np.sum(np.abs(np.roots(-1*np.array([-1,*x])))>1)\n",
    "\n",
    "    if r==0:\n",
    "        a_sc = np.array(x_sc)\n",
    "        a = np.array(x)\n",
    "    else:\n",
    "        if poles(phi_hat) or poles(theta_hat):\n",
    "            print('not stationary')\n",
    "            a_sc = 10**10\n",
    "        elif p>=1 and q>=1:\n",
    "            # ARMA Models\n",
    "            print('ARMA')\n",
    "            for ii in range(r,N):\n",
    "                # ARMA residuals\n",
    "                xArr = x[ii-1::-1] if ii-p-1 < 0 else x[ii-1:ii-p-1:-1]\n",
    "                aArr = a[ii-1::-1] if ii-q-1 < 0 else a[ii-1:ii-q-1:-1]\n",
    "                \n",
    "                a[ii] = x[ii]-np.sum(phi_hat*xArr)+\\\n",
    "                np.sum(theta_hat*aArr)\n",
    "\n",
    "        elif p==0 and q>=1:\n",
    "            # MA model\n",
    "            for ii in range(r,N):\n",
    "                aArr = a[ii-1::-1] if ii-q-1 < 0 else a[ii-1:ii-q-1:-1]\n",
    "                a[ii]=x[ii]+np.sum(theta_hat*aArr)\n",
    "        elif p>=1 and q==0:\n",
    "            # AR model\n",
    "            for ii in range(r,N):\n",
    "                xArr = x[ii-1::-1] if ii-p-1 < 0 else x[ii-1:ii-p-1:-1]\n",
    "                a[ii] = x[ii] - np.sum(phi_hat*xArr) # AR residuals\n",
    "    \n",
    "    a_sc = rsp.m_scale(a[p:])\n",
    "    \n",
    "    return a_sc\n",
    "\n",
    "x = np.array([.4153,-.6244,-1.8424,-1.655])\n",
    "b = np.array([1,2,3])\n",
    "p=1\n",
    "q=2\n",
    "#arma_s_resid_sc(x,b,1,2) # 1e10 not stationary, stimmt\n",
    "# arma_s_resid_sc(x,[0.5,-0.5,0.5],1,2) # 0.0429 stimmt\n",
    "# arma_s_resid_sc(x,[0.5,-0.5,0.5],2,1) stimmt\n",
    "# arma_s_resid_sc(x,[0.5],0,1) stimmt\n",
    "rsp.arma_s_resid_sc(x,[0.5],1,0)"
   ]
  },
  {
   "cell_type": "code",
   "execution_count": 43,
   "metadata": {},
   "outputs": [
    {
     "data": {
      "text/plain": [
       "32"
      ]
     },
     "execution_count": 43,
     "metadata": {},
     "output_type": "execute_result"
    }
   ],
   "source": [
    "np.array((1,2,3))@np.array((4,5,6))"
   ]
  },
  {
   "cell_type": "code",
   "execution_count": 20,
   "metadata": {},
   "outputs": [
    {
     "data": {
      "text/plain": [
       "(3.971273003679954, array([ 0.4153   , -0.6244   , -1.8424   ,  3.2462125]))"
      ]
     },
     "execution_count": 20,
     "metadata": {},
     "output_type": "execute_result"
    }
   ],
   "source": [
    "import numpy as np\n",
    "import robustsp as rsp\n",
    "\n",
    "def bip_s_resid_sc(x, beta_hat, p, q):\n",
    "    \n",
    "    phi_hat = np.array(beta_hat[:p]) # [] if p=0, MA case\n",
    "    \n",
    "    theta_hat = np.array(beta_hat[p:]) # [] if p=length(beta_hat), AR case\n",
    "    x = np.array(x)\n",
    "    N = len(x)\n",
    "    r = max(p,q)\n",
    "    \n",
    "    a_bip = np.zeros(N)\n",
    "    \n",
    "    x_sc = rsp.m_scale(x)\n",
    "    \n",
    "    kap2 = 0.8724286\n",
    "    \n",
    "    poles = lambda x: np.sum(np.abs(np.roots(-1*np.array([-1,*x])))>1)\n",
    "    \n",
    "    if poles(phi_hat) or poles(theta_hat):\n",
    "        sigma_hat = x_sc\n",
    "    \n",
    "    else:\n",
    "        lamb = rsp.ma_infinity(phi_hat, -1*theta_hat, 100) # MA infinity approximation to compute scale used in eta function\n",
    "        sigma_hat = np.sqrt(x_sc**2/(1+kap2*np.sum(lamb**2))) # scale used in eta\n",
    "    \n",
    "    if r == 0:\n",
    "        a_sc_bip = x_sc\n",
    "        a_bip = np.array(x)\n",
    "    else:\n",
    "        if poles(phi_hat) or poles(theta_hat):\n",
    "            a_bip_sc = 10**10\n",
    "        elif p>=1 and q>=1:\n",
    "            # ARMA model\n",
    "            for ii in range(r,N):\n",
    "                # BIP-ARMA residuals\n",
    "                xArr = x[ii-1::-1] if ii-p-1 < 0 else x[ii-1:ii-p-1:-1]\n",
    "                aArr = a_bip[ii-1::-1] if ii-q-1 < 0 else a_bip[ii-1:ii-q-1:-1]\n",
    "                apArr = a_bip[ii-1::-1] if ii-p-1 < 0 else a_bip[ii-1:ii-p-1:-1]\n",
    "                \n",
    "                a_bip[ii] = x[ii]\\\n",
    "                -(phi_hat@xArr-apArr+sigma_hat@rsp.eta(apArr/sigma_hat))\\\n",
    "                +theta_hat@sigma_hat@rsp.eta(aArr/sigma_hat)\n",
    "                \n",
    "        elif p==0 and q>=1:\n",
    "            # MA residuals\n",
    "            for ii in range(r,N):\n",
    "                # BIP-MA residuals\n",
    "                aArr = a_bip[ii-1::-1] if ii-q-1 < 0 else a_bip[ii-1:ii-q-1:-1]\n",
    "\n",
    "                a_bip[ii] = x[ii]+theta_hat@sigma_hat@rsp.eta(aArr/sigma_hat)\n",
    "\n",
    "        elif p>=1 and q==0:\n",
    "            # AR Model\n",
    "            for ii in range(r,N):\n",
    "                xArr = x[ii-1::-1] if ii-p-1 < 0 else x[ii-1:ii-p-1:-1]\n",
    "                apArr = a_bip[ii-1::-1] if ii-p-1 < 0 else a_bip[ii-1:ii-p-1:-1]\n",
    "                \n",
    "                a_bip[ii] = x[ii]-phi_hat@(xArr-apArr)\\\n",
    "                +sigma_hat*rsp.eta(apArr/sigma_hat)\n",
    "\n",
    "        a_bip_sc = rsp.m_scale(a_bip[p:])\n",
    "        x_filt = np.array(x)\n",
    "        \n",
    "        for ii in range(p,N):\n",
    "            x_filt[ii] = x[ii] - a_bip[ii] + sigma_hat * rsp.eta(a_bip[ii]/sigma_hat)\n",
    "    \n",
    "    return a_bip_sc, x_filt\n",
    "\n",
    "x = np.array([.4153,-.6244,-1.8424,-1.655])\n",
    "\n",
    "bip_s_resid_sc(x,[0.5],1,0)"
   ]
  },
  {
   "cell_type": "code",
   "execution_count": 16,
   "metadata": {},
   "outputs": [
    {
     "ename": "TypeError",
     "evalue": "unsupported operand type(s) for @: 'list' and 'int'",
     "output_type": "error",
     "traceback": [
      "\u001b[1;31m---------------------------------------------------------------------------\u001b[0m",
      "\u001b[1;31mTypeError\u001b[0m                                 Traceback (most recent call last)",
      "\u001b[1;32m<ipython-input-16-4424d2b3ec27>\u001b[0m in \u001b[0;36m<module>\u001b[1;34m\u001b[0m\n\u001b[0;32m      1\u001b[0m \u001b[0ma\u001b[0m \u001b[1;33m=\u001b[0m\u001b[1;33m[\u001b[0m\u001b[1;36m1\u001b[0m\u001b[1;33m,\u001b[0m\u001b[1;36m2\u001b[0m\u001b[1;33m,\u001b[0m\u001b[1;36m3\u001b[0m\u001b[1;33m]\u001b[0m\u001b[1;33m\u001b[0m\u001b[1;33m\u001b[0m\u001b[0m\n\u001b[1;32m----> 2\u001b[1;33m \u001b[0ma\u001b[0m\u001b[1;33m@\u001b[0m\u001b[1;36m1\u001b[0m\u001b[1;33m\u001b[0m\u001b[1;33m\u001b[0m\u001b[0m\n\u001b[0m",
      "\u001b[1;31mTypeError\u001b[0m: unsupported operand type(s) for @: 'list' and 'int'"
     ]
    }
   ],
   "source": [
    "a =[1,2,3]\n",
    "a@1"
   ]
  }
 ],
 "metadata": {
  "kernelspec": {
   "display_name": "Python 3",
   "language": "python",
   "name": "python3"
  },
  "language_info": {
   "codemirror_mode": {
    "name": "ipython",
    "version": 3
   },
   "file_extension": ".py",
   "mimetype": "text/x-python",
   "name": "python",
   "nbconvert_exporter": "python",
   "pygments_lexer": "ipython3",
   "version": "3.6.8"
  }
 },
 "nbformat": 4,
 "nbformat_minor": 2
}
