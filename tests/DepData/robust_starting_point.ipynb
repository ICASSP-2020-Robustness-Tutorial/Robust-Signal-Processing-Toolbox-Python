{
 "cells": [
  {
   "cell_type": "markdown",
   "metadata": {},
   "source": [
    "robust_starting_point([1:5]',0,1) -> -0.8541\n",
    "\n",
    "robust_starting_point([1:5]',1,0) -> 0.99\n",
    "\n",
    "robust_starting_point([1:5]',1,1) -> 0, 0\n",
    "\n",
    "a =\n",
    "\n",
    "   -0.3725\n",
    "    0.5809\n",
    "    1.4365\n",
    "    1.5467\n",
    "   -0.0069\n",
    "    0.2336\n",
    "   -1.0543\n",
    "   -1.4440\n",
    "   -0.6535\n",
    "   -0.3952\n",
    "   \n",
    "a,2,1 -> .167, .1692, -.9114\n",
    "\n",
    "a,1,2 -> .728, -.3511, .4336"
   ]
  },
  {
   "cell_type": "code",
   "execution_count": 193,
   "metadata": {},
   "outputs": [
    {
     "data": {
      "text/html": [
       "<table class=\"simpletable\">\n",
       "<caption>ARMA Model Results</caption>\n",
       "<tr>\n",
       "  <th>Dep. Variable:</th>         <td>y</td>        <th>  No. Observations:  </th>   <td>10</td>   \n",
       "</tr>\n",
       "<tr>\n",
       "  <th>Model:</th>            <td>ARMA(2, 1)</td>    <th>  Log Likelihood     </th> <td>-12.449</td>\n",
       "</tr>\n",
       "<tr>\n",
       "  <th>Method:</th>             <td>css-mle</td>     <th>  S.D. of innovations</th>  <td>0.748</td> \n",
       "</tr>\n",
       "<tr>\n",
       "  <th>Date:</th>          <td>Fri, 11 Oct 2019</td> <th>  AIC                </th> <td>32.898</td> \n",
       "</tr>\n",
       "<tr>\n",
       "  <th>Time:</th>              <td>16:55:23</td>     <th>  BIC                </th> <td>34.109</td> \n",
       "</tr>\n",
       "<tr>\n",
       "  <th>Sample:</th>                <td>0</td>        <th>  HQIC               </th> <td>31.570</td> \n",
       "</tr>\n",
       "<tr>\n",
       "  <th></th>                       <td> </td>        <th>                     </th>    <td> </td>   \n",
       "</tr>\n",
       "</table>\n",
       "<table class=\"simpletable\">\n",
       "<tr>\n",
       "     <td></td>        <th>coef</th>     <th>std err</th>      <th>z</th>      <th>P>|z|</th>  <th>[0.025</th>    <th>0.975]</th>  \n",
       "</tr>\n",
       "<tr>\n",
       "  <th>ar.L1.y</th> <td>    0.6619</td> <td> 1.16e-06</td> <td>  5.7e+05</td> <td> 0.000</td> <td>    0.662</td> <td>    0.662</td>\n",
       "</tr>\n",
       "<tr>\n",
       "  <th>ar.L2.y</th> <td>    0.3381</td> <td> 1.37e-05</td> <td> 2.47e+04</td> <td> 0.000</td> <td>    0.338</td> <td>    0.338</td>\n",
       "</tr>\n",
       "<tr>\n",
       "  <th>ma.L1.y</th> <td>   -0.9971</td> <td>      nan</td> <td>      nan</td> <td>   nan</td> <td>      nan</td> <td>      nan</td>\n",
       "</tr>\n",
       "</table>\n",
       "<table class=\"simpletable\">\n",
       "<caption>Roots</caption>\n",
       "<tr>\n",
       "    <td></td>   <th>            Real</th>  <th>         Imaginary</th> <th>         Modulus</th>  <th>        Frequency</th>\n",
       "</tr>\n",
       "<tr>\n",
       "  <th>AR.1</th> <td>           1.0000</td> <td>          +0.0000j</td> <td>           1.0000</td> <td>           0.0000</td>\n",
       "</tr>\n",
       "<tr>\n",
       "  <th>AR.2</th> <td>          -2.9577</td> <td>          +0.0000j</td> <td>           2.9577</td> <td>           0.5000</td>\n",
       "</tr>\n",
       "<tr>\n",
       "  <th>MA.1</th> <td>           1.0029</td> <td>          +0.0000j</td> <td>           1.0029</td> <td>           0.0000</td>\n",
       "</tr>\n",
       "</table>"
      ],
      "text/plain": [
       "<class 'statsmodels.iolib.summary.Summary'>\n",
       "\"\"\"\n",
       "                              ARMA Model Results                              \n",
       "==============================================================================\n",
       "Dep. Variable:                      y   No. Observations:                   10\n",
       "Model:                     ARMA(2, 1)   Log Likelihood                 -12.449\n",
       "Method:                       css-mle   S.D. of innovations              0.748\n",
       "Date:                Fri, 11 Oct 2019   AIC                             32.898\n",
       "Time:                        16:55:23   BIC                             34.109\n",
       "Sample:                             0   HQIC                            31.570\n",
       "                                                                              \n",
       "==============================================================================\n",
       "                 coef    std err          z      P>|z|      [0.025      0.975]\n",
       "------------------------------------------------------------------------------\n",
       "ar.L1.y        0.6619   1.16e-06    5.7e+05      0.000       0.662       0.662\n",
       "ar.L2.y        0.3381   1.37e-05   2.47e+04      0.000       0.338       0.338\n",
       "ma.L1.y       -0.9971        nan        nan        nan         nan         nan\n",
       "                                    Roots                                    \n",
       "=============================================================================\n",
       "                  Real          Imaginary           Modulus         Frequency\n",
       "-----------------------------------------------------------------------------\n",
       "AR.1            1.0000           +0.0000j            1.0000            0.0000\n",
       "AR.2           -2.9577           +0.0000j            2.9577            0.5000\n",
       "MA.1            1.0029           +0.0000j            1.0029            0.0000\n",
       "-----------------------------------------------------------------------------\n",
       "\"\"\""
      ]
     },
     "execution_count": 193,
     "metadata": {},
     "output_type": "execute_result"
    }
   ],
   "source": [
    "import numpy as np\n",
    "import statsmodels\n",
    "import robustsp as rsp\n",
    "xf =np.array([-0.1242,-2.5415,0.2772,-0.1960,-0.1962,-0.3057,-1.1289,0.1942,-0.6071,-0.8284])\n",
    "x = np.array([ 0.        ,  0.        ,  0.        ,  0.        , -0.1962    ,\n",
    "       -0.3057    , -0.3791,  0.1942    , -0.6071    , -0.8284    ])\n",
    "asd = tsa.ARMA(xf,[2,1]) # exog=x so ARMAX is fitted\n",
    "dat = asd.fit(trend='nc',start_params=[-0.2616 ,   0.3131   , 0.2040]) # also tried mle and css-mle\n",
    "dat.summary()"
   ]
  },
  {
   "cell_type": "code",
   "execution_count": 55,
   "metadata": {},
   "outputs": [
    {
     "name": "stderr",
     "output_type": "stream",
     "text": [
      "c:\\users\\computer\\appdata\\local\\programs\\python\\python36\\lib\\site-packages\\statsmodels\\base\\model.py:492: HessianInversionWarning: Inverting hessian failed, no bse or cov_params available\n",
      "  'available', HessianInversionWarning)\n"
     ]
    },
    {
     "data": {
      "text/html": [
       "<table class=\"simpletable\">\n",
       "<caption>ARMA Model Results</caption>\n",
       "<tr>\n",
       "  <th>Dep. Variable:</th>         <td>y</td>        <th>  No. Observations:  </th>  <td>10</td>  \n",
       "</tr>\n",
       "<tr>\n",
       "  <th>Model:</th>            <td>ARMA(2, 1)</td>    <th>  Log Likelihood     </th> <td>  nan</td>\n",
       "</tr>\n",
       "<tr>\n",
       "  <th>Method:</th>               <td>css</td>       <th>  S.D. of innovations</th> <td>0.000</td>\n",
       "</tr>\n",
       "<tr>\n",
       "  <th>Date:</th>          <td>Thu, 10 Oct 2019</td> <th>  AIC                </th> <td>  nan</td>\n",
       "</tr>\n",
       "<tr>\n",
       "  <th>Time:</th>              <td>15:46:46</td>     <th>  BIC                </th> <td>  nan</td>\n",
       "</tr>\n",
       "<tr>\n",
       "  <th>Sample:</th>                <td>2</td>        <th>  HQIC               </th> <td>  nan</td>\n",
       "</tr>\n",
       "<tr>\n",
       "  <th></th>                       <td> </td>        <th>                     </th>   <td> </td>  \n",
       "</tr>\n",
       "</table>\n",
       "<table class=\"simpletable\">\n",
       "<tr>\n",
       "     <td></td>        <th>coef</th>     <th>std err</th>      <th>z</th>      <th>P>|z|</th>  <th>[0.025</th>    <th>0.975]</th>  \n",
       "</tr>\n",
       "<tr>\n",
       "  <th>const</th>   <td>         0</td> <td>      nan</td> <td>      nan</td> <td>   nan</td> <td>      nan</td> <td>      nan</td>\n",
       "</tr>\n",
       "<tr>\n",
       "  <th>x1</th>      <td>         0</td> <td>      nan</td> <td>      nan</td> <td>   nan</td> <td>      nan</td> <td>      nan</td>\n",
       "</tr>\n",
       "<tr>\n",
       "  <th>ar.L1.y</th> <td>         0</td> <td>      nan</td> <td>      nan</td> <td>   nan</td> <td>      nan</td> <td>      nan</td>\n",
       "</tr>\n",
       "<tr>\n",
       "  <th>ar.L2.y</th> <td>         0</td> <td>      nan</td> <td>      nan</td> <td>   nan</td> <td>      nan</td> <td>      nan</td>\n",
       "</tr>\n",
       "<tr>\n",
       "  <th>ma.L1.y</th> <td>         0</td> <td>      nan</td> <td>      nan</td> <td>   nan</td> <td>      nan</td> <td>      nan</td>\n",
       "</tr>\n",
       "</table>\n",
       "<table class=\"simpletable\">\n",
       "<caption>Roots</caption>\n",
       "<tr>\n",
       "    <td></td>   <th>            Real</th>  <th>         Imaginary</th> <th>         Modulus</th>  <th>        Frequency</th>\n",
       "</tr>\n",
       "<tr>\n",
       "  <th>AR.1</th> <td>              inf</td> <td>          +0.0000j</td> <td>              inf</td> <td>           0.0000</td>\n",
       "</tr>\n",
       "<tr>\n",
       "  <th>AR.2</th> <td>              inf</td> <td>          +0.0000j</td> <td>              inf</td> <td>           0.0000</td>\n",
       "</tr>\n",
       "<tr>\n",
       "  <th>MA.1</th> <td>              inf</td> <td>          +0.0000j</td> <td>              inf</td> <td>           0.0000</td>\n",
       "</tr>\n",
       "</table>"
      ],
      "text/plain": [
       "<class 'statsmodels.iolib.summary.Summary'>\n",
       "\"\"\"\n",
       "                              ARMA Model Results                              \n",
       "==============================================================================\n",
       "Dep. Variable:                      y   No. Observations:                   10\n",
       "Model:                     ARMA(2, 1)   Log Likelihood                     nan\n",
       "Method:                           css   S.D. of innovations              0.000\n",
       "Date:                Thu, 10 Oct 2019   AIC                                nan\n",
       "Time:                        15:46:46   BIC                                nan\n",
       "Sample:                             2   HQIC                               nan\n",
       "                                                                              \n",
       "==============================================================================\n",
       "                 coef    std err          z      P>|z|      [0.025      0.975]\n",
       "------------------------------------------------------------------------------\n",
       "const               0        nan        nan        nan         nan         nan\n",
       "x1                  0        nan        nan        nan         nan         nan\n",
       "ar.L1.y             0        nan        nan        nan         nan         nan\n",
       "ar.L2.y             0        nan        nan        nan         nan         nan\n",
       "ma.L1.y             0        nan        nan        nan         nan         nan\n",
       "                                    Roots                                    \n",
       "=============================================================================\n",
       "                  Real          Imaginary           Modulus         Frequency\n",
       "-----------------------------------------------------------------------------\n",
       "AR.1               inf           +0.0000j               inf            0.0000\n",
       "AR.2               inf           +0.0000j               inf            0.0000\n",
       "MA.1               inf           +0.0000j               inf            0.0000\n",
       "-----------------------------------------------------------------------------\n",
       "\"\"\""
      ]
     },
     "execution_count": 55,
     "metadata": {},
     "output_type": "execute_result"
    }
   ],
   "source": [
    "import numpy as np\n",
    "import statsmodels\n",
    "import robustsp as rsp\n",
    "\n",
    "x = np.array([ 0.        ,  0.        ,  0.        ,  0.        , -0.1962    ,\n",
    "       -0.3057    , -0.3791,  0.1942    , -0.6071    , -0.8284    ])\n",
    "asd = tsa.ARMA(np.zeros(10),[2,1],exog=x) # exog=x so ARMAX is fitted\n",
    "dat = asd.fit(method='css') # also tried mle and css-mle\n",
    "dat.summary()"
   ]
  },
  {
   "cell_type": "code",
   "execution_count": 56,
   "metadata": {},
   "outputs": [
    {
     "name": "stderr",
     "output_type": "stream",
     "text": [
      "c:\\users\\computer\\appdata\\local\\programs\\python\\python36\\lib\\site-packages\\statsmodels\\base\\model.py:492: HessianInversionWarning: Inverting hessian failed, no bse or cov_params available\n",
      "  'available', HessianInversionWarning)\n",
      "c:\\users\\computer\\appdata\\local\\programs\\python\\python36\\lib\\site-packages\\statsmodels\\base\\model.py:512: ConvergenceWarning: Maximum Likelihood optimization failed to converge. Check mle_retvals\n",
      "  \"Check mle_retvals\", ConvergenceWarning)\n"
     ]
    },
    {
     "data": {
      "text/html": [
       "<table class=\"simpletable\">\n",
       "<caption>ARMA Model Results</caption>\n",
       "<tr>\n",
       "  <th>Dep. Variable:</th>         <td>y</td>        <th>  No. Observations:  </th>    <td>10</td>   \n",
       "</tr>\n",
       "<tr>\n",
       "  <th>Model:</th>            <td>ARMA(2, 1)</td>    <th>  Log Likelihood     </th>  <td>131.115</td>\n",
       "</tr>\n",
       "<tr>\n",
       "  <th>Method:</th>               <td>css</td>       <th>  S.D. of innovations</th>   <td>0.118</td> \n",
       "</tr>\n",
       "<tr>\n",
       "  <th>Date:</th>          <td>Thu, 10 Oct 2019</td> <th>  AIC                </th> <td>-250.231</td>\n",
       "</tr>\n",
       "<tr>\n",
       "  <th>Time:</th>              <td>15:47:34</td>     <th>  BIC                </th> <td>-249.754</td>\n",
       "</tr>\n",
       "<tr>\n",
       "  <th>Sample:</th>                <td>2</td>        <th>  HQIC               </th> <td>-253.446</td>\n",
       "</tr>\n",
       "<tr>\n",
       "  <th></th>                       <td> </td>        <th>                     </th>     <td> </td>   \n",
       "</tr>\n",
       "</table>\n",
       "<table class=\"simpletable\">\n",
       "<tr>\n",
       "     <td></td>        <th>coef</th>     <th>std err</th>      <th>z</th>      <th>P>|z|</th>  <th>[0.025</th>    <th>0.975]</th>  \n",
       "</tr>\n",
       "<tr>\n",
       "  <th>const</th>   <td>  159.5684</td> <td>      nan</td> <td>      nan</td> <td>   nan</td> <td>      nan</td> <td>      nan</td>\n",
       "</tr>\n",
       "<tr>\n",
       "  <th>x1</th>      <td>-1.383e-08</td> <td> 2.42e-07</td> <td>   -0.057</td> <td> 0.958</td> <td>-4.87e-07</td> <td>  4.6e-07</td>\n",
       "</tr>\n",
       "<tr>\n",
       "  <th>ar.L1.y</th> <td>    2.0000</td> <td>      nan</td> <td>      nan</td> <td>   nan</td> <td>      nan</td> <td>      nan</td>\n",
       "</tr>\n",
       "<tr>\n",
       "  <th>ar.L2.y</th> <td>   -1.0000</td> <td>      nan</td> <td>      nan</td> <td>   nan</td> <td>      nan</td> <td>      nan</td>\n",
       "</tr>\n",
       "<tr>\n",
       "  <th>ma.L1.y</th> <td>    1.0000</td> <td>    0.401</td> <td>    2.496</td> <td> 0.088</td> <td>    0.215</td> <td>    1.785</td>\n",
       "</tr>\n",
       "</table>\n",
       "<table class=\"simpletable\">\n",
       "<caption>Roots</caption>\n",
       "<tr>\n",
       "    <td></td>   <th>            Real</th>  <th>         Imaginary</th> <th>         Modulus</th>  <th>        Frequency</th>\n",
       "</tr>\n",
       "<tr>\n",
       "  <th>AR.1</th> <td>           1.0000</td> <td>          -0.0000j</td> <td>           1.0000</td> <td>          -0.0000</td>\n",
       "</tr>\n",
       "<tr>\n",
       "  <th>AR.2</th> <td>           1.0000</td> <td>          +0.0000j</td> <td>           1.0000</td> <td>           0.0000</td>\n",
       "</tr>\n",
       "<tr>\n",
       "  <th>MA.1</th> <td>          -1.0000</td> <td>          +0.0000j</td> <td>           1.0000</td> <td>           0.5000</td>\n",
       "</tr>\n",
       "</table>"
      ],
      "text/plain": [
       "<class 'statsmodels.iolib.summary.Summary'>\n",
       "\"\"\"\n",
       "                              ARMA Model Results                              \n",
       "==============================================================================\n",
       "Dep. Variable:                      y   No. Observations:                   10\n",
       "Model:                     ARMA(2, 1)   Log Likelihood                 131.115\n",
       "Method:                           css   S.D. of innovations              0.118\n",
       "Date:                Thu, 10 Oct 2019   AIC                           -250.231\n",
       "Time:                        15:47:34   BIC                           -249.754\n",
       "Sample:                             2   HQIC                          -253.446\n",
       "                                                                              \n",
       "==============================================================================\n",
       "                 coef    std err          z      P>|z|      [0.025      0.975]\n",
       "------------------------------------------------------------------------------\n",
       "const        159.5684        nan        nan        nan         nan         nan\n",
       "x1         -1.383e-08   2.42e-07     -0.057      0.958   -4.87e-07     4.6e-07\n",
       "ar.L1.y        2.0000        nan        nan        nan         nan         nan\n",
       "ar.L2.y       -1.0000        nan        nan        nan         nan         nan\n",
       "ma.L1.y        1.0000      0.401      2.496      0.088       0.215       1.785\n",
       "                                    Roots                                    \n",
       "=============================================================================\n",
       "                  Real          Imaginary           Modulus         Frequency\n",
       "-----------------------------------------------------------------------------\n",
       "AR.1            1.0000           -0.0000j            1.0000           -0.0000\n",
       "AR.2            1.0000           +0.0000j            1.0000            0.0000\n",
       "MA.1           -1.0000           +0.0000j            1.0000            0.5000\n",
       "-----------------------------------------------------------------------------\n",
       "\"\"\""
      ]
     },
     "execution_count": 56,
     "metadata": {},
     "output_type": "execute_result"
    }
   ],
   "source": [
    "import numpy as np\n",
    "import statsmodels\n",
    "import robustsp as rsp\n",
    "\n",
    "x = np.array([ 0.        ,  0.        ,  0.        ,  0.        , -0.1962    ,\n",
    "       -0.3057    , -0.3791,  0.1942    , -0.6071    , -0.8284    ])\n",
    "asd = tsa.ARMA(np.arange(10),[2,1],exog=x) # exog=x so ARMAX is fitted\n",
    "dat = asd.fit(method='css') # also tried mle and css-mle\n",
    "dat.summary()"
   ]
  },
  {
   "cell_type": "code",
   "execution_count": 153,
   "metadata": {},
   "outputs": [
    {
     "ename": "ValueError",
     "evalue": "The computed initial AR coefficients are not stationary\nYou should induce stationarity, choose a different model order, or you can\npass your own start_params.",
     "output_type": "error",
     "traceback": [
      "\u001b[1;31m---------------------------------------------------------------------------\u001b[0m",
      "\u001b[1;31mValueError\u001b[0m                                Traceback (most recent call last)",
      "\u001b[1;32m<ipython-input-153-425bc2c7b7eb>\u001b[0m in \u001b[0;36m<module>\u001b[1;34m\u001b[0m\n\u001b[0;32m      6\u001b[0m        -0.3057    , -0.3791,  0.1942    , -0.6071    , -0.8284    ])\n\u001b[0;32m      7\u001b[0m \u001b[0masd\u001b[0m \u001b[1;33m=\u001b[0m \u001b[0mtsa\u001b[0m\u001b[1;33m.\u001b[0m\u001b[0mARMA\u001b[0m\u001b[1;33m(\u001b[0m\u001b[0mx\u001b[0m\u001b[1;33m,\u001b[0m\u001b[1;33m[\u001b[0m\u001b[1;36m2\u001b[0m\u001b[1;33m,\u001b[0m\u001b[1;36m1\u001b[0m\u001b[1;33m]\u001b[0m\u001b[1;33m)\u001b[0m \u001b[1;31m# exog=x so ARMAX is fitted\u001b[0m\u001b[1;33m\u001b[0m\u001b[1;33m\u001b[0m\u001b[0m\n\u001b[1;32m----> 8\u001b[1;33m \u001b[0mdat\u001b[0m \u001b[1;33m=\u001b[0m \u001b[0masd\u001b[0m\u001b[1;33m.\u001b[0m\u001b[0mfit\u001b[0m\u001b[1;33m(\u001b[0m\u001b[0mtrend\u001b[0m\u001b[1;33m=\u001b[0m\u001b[1;34m'nc'\u001b[0m\u001b[1;33m)\u001b[0m \u001b[1;31m# also tried mle and css-mle\u001b[0m\u001b[1;33m\u001b[0m\u001b[1;33m\u001b[0m\u001b[0m\n\u001b[0m\u001b[0;32m      9\u001b[0m \u001b[0mdat\u001b[0m\u001b[1;33m.\u001b[0m\u001b[0msummary\u001b[0m\u001b[1;33m(\u001b[0m\u001b[1;33m)\u001b[0m\u001b[1;33m\u001b[0m\u001b[1;33m\u001b[0m\u001b[0m\n",
      "\u001b[1;32mc:\\users\\computer\\appdata\\local\\programs\\python\\python36\\lib\\site-packages\\statsmodels\\tsa\\arima_model.py\u001b[0m in \u001b[0;36mfit\u001b[1;34m(self, start_params, trend, method, transparams, solver, maxiter, full_output, disp, callback, start_ar_lags, **kwargs)\u001b[0m\n\u001b[0;32m    936\u001b[0m         \u001b[1;32melse\u001b[0m\u001b[1;33m:\u001b[0m  \u001b[1;31m# estimate starting parameters\u001b[0m\u001b[1;33m\u001b[0m\u001b[1;33m\u001b[0m\u001b[0m\n\u001b[0;32m    937\u001b[0m             start_params = self._fit_start_params((k_ar, k_ma, k), method,\n\u001b[1;32m--> 938\u001b[1;33m                                                   start_ar_lags)\n\u001b[0m\u001b[0;32m    939\u001b[0m \u001b[1;33m\u001b[0m\u001b[0m\n\u001b[0;32m    940\u001b[0m         \u001b[1;32mif\u001b[0m \u001b[0mtransparams\u001b[0m\u001b[1;33m:\u001b[0m  \u001b[1;31m# transform initial parameters to ensure invertibility\u001b[0m\u001b[1;33m\u001b[0m\u001b[1;33m\u001b[0m\u001b[0m\n",
      "\u001b[1;32mc:\\users\\computer\\appdata\\local\\programs\\python\\python36\\lib\\site-packages\\statsmodels\\tsa\\arima_model.py\u001b[0m in \u001b[0;36m_fit_start_params\u001b[1;34m(self, order, method, start_ar_lags)\u001b[0m\n\u001b[0;32m    552\u001b[0m             \u001b[0mfunc\u001b[0m \u001b[1;33m=\u001b[0m \u001b[1;32mlambda\u001b[0m \u001b[0mparams\u001b[0m\u001b[1;33m:\u001b[0m \u001b[1;33m-\u001b[0m\u001b[0mself\u001b[0m\u001b[1;33m.\u001b[0m\u001b[0mloglike_css\u001b[0m\u001b[1;33m(\u001b[0m\u001b[0mparams\u001b[0m\u001b[1;33m)\u001b[0m\u001b[1;33m\u001b[0m\u001b[1;33m\u001b[0m\u001b[0m\n\u001b[0;32m    553\u001b[0m             \u001b[1;31m#start_params = [.1]*(k_ar+k_ma+k_exog) # different one for k?\u001b[0m\u001b[1;33m\u001b[0m\u001b[1;33m\u001b[0m\u001b[1;33m\u001b[0m\u001b[0m\n\u001b[1;32m--> 554\u001b[1;33m             \u001b[0mstart_params\u001b[0m \u001b[1;33m=\u001b[0m \u001b[0mself\u001b[0m\u001b[1;33m.\u001b[0m\u001b[0m_fit_start_params_hr\u001b[0m\u001b[1;33m(\u001b[0m\u001b[0morder\u001b[0m\u001b[1;33m,\u001b[0m \u001b[0mstart_ar_lags\u001b[0m\u001b[1;33m)\u001b[0m\u001b[1;33m\u001b[0m\u001b[1;33m\u001b[0m\u001b[0m\n\u001b[0m\u001b[0;32m    555\u001b[0m             \u001b[1;32mif\u001b[0m \u001b[0mself\u001b[0m\u001b[1;33m.\u001b[0m\u001b[0mtransparams\u001b[0m\u001b[1;33m:\u001b[0m\u001b[1;33m\u001b[0m\u001b[1;33m\u001b[0m\u001b[0m\n\u001b[0;32m    556\u001b[0m                 \u001b[0mstart_params\u001b[0m \u001b[1;33m=\u001b[0m \u001b[0mself\u001b[0m\u001b[1;33m.\u001b[0m\u001b[0m_invtransparams\u001b[0m\u001b[1;33m(\u001b[0m\u001b[0mstart_params\u001b[0m\u001b[1;33m)\u001b[0m\u001b[1;33m\u001b[0m\u001b[1;33m\u001b[0m\u001b[0m\n",
      "\u001b[1;32mc:\\users\\computer\\appdata\\local\\programs\\python\\python36\\lib\\site-packages\\statsmodels\\tsa\\arima_model.py\u001b[0m in \u001b[0;36m_fit_start_params_hr\u001b[1;34m(self, order, start_ar_lags)\u001b[0m\n\u001b[0;32m    531\u001b[0m         if p and not np.all(np.abs(np.roots(np.r_[1, -start_params[k:k + p]]\n\u001b[0;32m    532\u001b[0m                                             )) < 1):\n\u001b[1;32m--> 533\u001b[1;33m             raise ValueError(\"The computed initial AR coefficients are not \"\n\u001b[0m\u001b[0;32m    534\u001b[0m                              \u001b[1;34m\"stationary\\nYou should induce stationarity, \"\u001b[0m\u001b[1;33m\u001b[0m\u001b[1;33m\u001b[0m\u001b[0m\n\u001b[0;32m    535\u001b[0m                              \u001b[1;34m\"choose a different model order, or you can\\n\"\u001b[0m\u001b[1;33m\u001b[0m\u001b[1;33m\u001b[0m\u001b[0m\n",
      "\u001b[1;31mValueError\u001b[0m: The computed initial AR coefficients are not stationary\nYou should induce stationarity, choose a different model order, or you can\npass your own start_params."
     ]
    }
   ],
   "source": [
    "import numpy as np\n",
    "import statsmodels\n",
    "import robustsp as rsp\n",
    "\n",
    "x = np.array([ 0.        ,  0.        ,  0.        ,  0.        , -0.1962    ,\n",
    "       -0.3057    , -0.3791,  0.1942    , -0.6071    , -0.8284    ])\n",
    "asd = tsa.ARMA(x,[2,1]) # exog=x so ARMAX is fitted\n",
    "dat = asd.fit(trend='nc') # also tried mle and css-mle\n",
    "dat.summary()"
   ]
  },
  {
   "cell_type": "code",
   "execution_count": 103,
   "metadata": {},
   "outputs": [
    {
     "name": "stderr",
     "output_type": "stream",
     "text": [
      "c:\\users\\computer\\appdata\\local\\programs\\python\\python36\\lib\\site-packages\\statsmodels\\base\\model.py:492: HessianInversionWarning: Inverting hessian failed, no bse or cov_params available\n",
      "  'available', HessianInversionWarning)\n",
      "c:\\users\\computer\\appdata\\local\\programs\\python\\python36\\lib\\site-packages\\statsmodels\\base\\model.py:512: ConvergenceWarning: Maximum Likelihood optimization failed to converge. Check mle_retvals\n",
      "  \"Check mle_retvals\", ConvergenceWarning)\n"
     ]
    },
    {
     "data": {
      "text/plain": [
       "array([-2.0235,  0.5588, -1.    ,  0.    ,  2.    ])"
      ]
     },
     "execution_count": 103,
     "metadata": {},
     "output_type": "execute_result"
    }
   ],
   "source": [
    "import numpy as np\n",
    "import statsmodels.tsa.api as tsa\n",
    "\n",
    "xf =np.array([-0.1242,-2.5415,0.2772,-0.1960,-0.1962,-0.3057,-1.1289,0.1942,-0.6071,-0.8284])\n",
    "\n",
    "x = np.array([ 0.        ,  0.        ,  0.        ,  0.        , -0.1962    ,\n",
    "       -0.3057    , -0.3791,  0.1942    , -0.6071    , -0.8284    ])\n",
    "asd = tsa.ARMA(x,[2,1])\n",
    "dat = asd.fit(start_params=[-2.0235,0.5588,-1,0,2],transparams=False,trend='c',method='css-mle') # also tried mle and css-mle\n",
    "dat.params"
   ]
  },
  {
   "cell_type": "code",
   "execution_count": 154,
   "metadata": {},
   "outputs": [
    {
     "name": "stderr",
     "output_type": "stream",
     "text": [
      "c:\\users\\computer\\appdata\\local\\programs\\python\\python36\\lib\\site-packages\\statsmodels\\base\\model.py:512: ConvergenceWarning: Maximum Likelihood optimization failed to converge. Check mle_retvals\n",
      "  \"Check mle_retvals\", ConvergenceWarning)\n"
     ]
    },
    {
     "data": {
      "text/plain": [
       "array([ 0.66134083,  0.33865871, -0.99923255])"
      ]
     },
     "execution_count": 154,
     "metadata": {},
     "output_type": "execute_result"
    }
   ],
   "source": [
    "import numpy as np\n",
    "import statsmodels.tsa.api as tsa\n",
    "\n",
    "xf =np.array([-0.1242,-2.5415,0.2772,-0.1960,-0.1962,-0.3057,-1.1289,0.1942,-0.6071,-0.8284])\n",
    "\n",
    "x = np.array([ 0.        ,  0.        ,  0.        ,  0.        , -0.1962    ,\n",
    "       -0.3057    , -0.3791,  0.1942    , -0.6071    , -0.8284    ])\n",
    "asd = tsa.ARMA(xf,[2,1])\n",
    "dat = asd.fit(trend='nc',method='css-mle') # also tried mle and css-mle\n",
    "dat.params"
   ]
  },
  {
   "cell_type": "code",
   "execution_count": 140,
   "metadata": {},
   "outputs": [
    {
     "name": "stderr",
     "output_type": "stream",
     "text": [
      "c:\\users\\computer\\appdata\\local\\programs\\python\\python36\\lib\\site-packages\\statsmodels\\base\\model.py:492: HessianInversionWarning: Inverting hessian failed, no bse or cov_params available\n",
      "  'available', HessianInversionWarning)\n",
      "c:\\users\\computer\\appdata\\local\\programs\\python\\python36\\lib\\site-packages\\statsmodels\\base\\model.py:512: ConvergenceWarning: Maximum Likelihood optimization failed to converge. Check mle_retvals\n",
      "  \"Check mle_retvals\", ConvergenceWarning)\n"
     ]
    },
    {
     "data": {
      "text/plain": [
       "array([ 0.55660358,  0.4059208 , -0.7757977 ,  1.        ])"
      ]
     },
     "execution_count": 140,
     "metadata": {},
     "output_type": "execute_result"
    }
   ],
   "source": [
    "import numpy as np\n",
    "import statsmodels.tsa.api as tsa\n",
    "\n",
    "xf =np.array([-0.1242,-2.5415,0.2772,-0.1960,-0.1962,-0.3057,-1.1289,0.1942,-0.6071,-0.8284])\n",
    "\n",
    "x = np.array([ 0.        ,  0.        ,  0.        ,  0.        , -0.1962    ,\n",
    "       -0.3057    , -0.3791,  0.1942    , -0.6071    , -0.8284    ])\n",
    "asd = tsa.ARMA(xf,[2,1])\n",
    "dat = asd.fit(start_params=[0.3246,-0.2848,-0.2163,1],transparams=False,trend='nc',method='css-mle') # also tried mle and css-mle\n",
    "dat.params"
   ]
  },
  {
   "cell_type": "code",
   "execution_count": 139,
   "metadata": {},
   "outputs": [
    {
     "ename": "ValueError",
     "evalue": "could not broadcast input array from shape (2) into shape (1)",
     "output_type": "error",
     "traceback": [
      "\u001b[1;31m---------------------------------------------------------------------------\u001b[0m",
      "\u001b[1;31mValueError\u001b[0m                                Traceback (most recent call last)",
      "\u001b[1;32m<ipython-input-139-bd83fd650997>\u001b[0m in \u001b[0;36m<module>\u001b[1;34m\u001b[0m\n\u001b[0;32m      8\u001b[0m \u001b[1;33m\u001b[0m\u001b[0m\n\u001b[0;32m      9\u001b[0m \u001b[0masd\u001b[0m \u001b[1;33m=\u001b[0m \u001b[0mtsa\u001b[0m\u001b[1;33m.\u001b[0m\u001b[0mARMA\u001b[0m\u001b[1;33m(\u001b[0m\u001b[0mx\u001b[0m\u001b[1;33m,\u001b[0m\u001b[1;33m[\u001b[0m\u001b[1;36m2\u001b[0m\u001b[1;33m,\u001b[0m\u001b[1;36m1\u001b[0m\u001b[1;33m]\u001b[0m\u001b[1;33m)\u001b[0m\u001b[1;33m\u001b[0m\u001b[1;33m\u001b[0m\u001b[0m\n\u001b[1;32m---> 10\u001b[1;33m \u001b[0mdat\u001b[0m \u001b[1;33m=\u001b[0m \u001b[0masd\u001b[0m\u001b[1;33m.\u001b[0m\u001b[0mfit\u001b[0m\u001b[1;33m(\u001b[0m\u001b[0mstart_params\u001b[0m\u001b[1;33m=\u001b[0m\u001b[1;33m[\u001b[0m\u001b[1;33m-\u001b[0m\u001b[1;36m0.3246\u001b[0m \u001b[1;33m,\u001b[0m   \u001b[1;36m0.2163\u001b[0m   \u001b[1;33m,\u001b[0m \u001b[1;36m0.2848\u001b[0m   \u001b[1;33m,\u001b[0m \u001b[1;36m0.3090\u001b[0m\u001b[1;33m]\u001b[0m\u001b[1;33m,\u001b[0m\u001b[0mtransparams\u001b[0m\u001b[1;33m=\u001b[0m\u001b[1;32mTrue\u001b[0m\u001b[1;33m,\u001b[0m\u001b[0mtrend\u001b[0m\u001b[1;33m=\u001b[0m\u001b[1;34m'nc'\u001b[0m\u001b[1;33m,\u001b[0m\u001b[0mmethod\u001b[0m\u001b[1;33m=\u001b[0m\u001b[1;34m'css-mle'\u001b[0m\u001b[1;33m)\u001b[0m \u001b[1;31m# also tried mle and css-mle\u001b[0m\u001b[1;33m\u001b[0m\u001b[1;33m\u001b[0m\u001b[0m\n\u001b[0m\u001b[0;32m     11\u001b[0m \u001b[0mdat\u001b[0m\u001b[1;33m.\u001b[0m\u001b[0msummary\u001b[0m\u001b[1;33m(\u001b[0m\u001b[1;33m)\u001b[0m\u001b[1;33m\u001b[0m\u001b[1;33m\u001b[0m\u001b[0m\n",
      "\u001b[1;32mc:\\users\\computer\\appdata\\local\\programs\\python\\python36\\lib\\site-packages\\statsmodels\\tsa\\arima_model.py\u001b[0m in \u001b[0;36mfit\u001b[1;34m(self, start_params, trend, method, transparams, solver, maxiter, full_output, disp, callback, start_ar_lags, **kwargs)\u001b[0m\n\u001b[0;32m    939\u001b[0m \u001b[1;33m\u001b[0m\u001b[0m\n\u001b[0;32m    940\u001b[0m         \u001b[1;32mif\u001b[0m \u001b[0mtransparams\u001b[0m\u001b[1;33m:\u001b[0m  \u001b[1;31m# transform initial parameters to ensure invertibility\u001b[0m\u001b[1;33m\u001b[0m\u001b[1;33m\u001b[0m\u001b[0m\n\u001b[1;32m--> 941\u001b[1;33m             \u001b[0mstart_params\u001b[0m \u001b[1;33m=\u001b[0m \u001b[0mself\u001b[0m\u001b[1;33m.\u001b[0m\u001b[0m_invtransparams\u001b[0m\u001b[1;33m(\u001b[0m\u001b[0mstart_params\u001b[0m\u001b[1;33m)\u001b[0m\u001b[1;33m\u001b[0m\u001b[1;33m\u001b[0m\u001b[0m\n\u001b[0m\u001b[0;32m    942\u001b[0m \u001b[1;33m\u001b[0m\u001b[0m\n\u001b[0;32m    943\u001b[0m         \u001b[1;32mif\u001b[0m \u001b[0msolver\u001b[0m \u001b[1;33m==\u001b[0m \u001b[1;34m'lbfgs'\u001b[0m\u001b[1;33m:\u001b[0m\u001b[1;33m\u001b[0m\u001b[1;33m\u001b[0m\u001b[0m\n",
      "\u001b[1;32mc:\\users\\computer\\appdata\\local\\programs\\python\\python36\\lib\\site-packages\\statsmodels\\tsa\\arima_model.py\u001b[0m in \u001b[0;36m_invtransparams\u001b[1;34m(self, start_params)\u001b[0m\n\u001b[0;32m    625\u001b[0m         \u001b[1;31m# MA coeffs\u001b[0m\u001b[1;33m\u001b[0m\u001b[1;33m\u001b[0m\u001b[1;33m\u001b[0m\u001b[0m\n\u001b[0;32m    626\u001b[0m         \u001b[1;32mif\u001b[0m \u001b[0mk_ma\u001b[0m \u001b[1;33m!=\u001b[0m \u001b[1;36m0\u001b[0m\u001b[1;33m:\u001b[0m\u001b[1;33m\u001b[0m\u001b[1;33m\u001b[0m\u001b[0m\n\u001b[1;32m--> 627\u001b[1;33m             \u001b[0mnewparams\u001b[0m\u001b[1;33m[\u001b[0m\u001b[0mk\u001b[0m\u001b[1;33m+\u001b[0m\u001b[0mk_ar\u001b[0m\u001b[1;33m:\u001b[0m\u001b[0mk\u001b[0m\u001b[1;33m+\u001b[0m\u001b[0mk_ar\u001b[0m\u001b[1;33m+\u001b[0m\u001b[0mk_ma\u001b[0m\u001b[1;33m]\u001b[0m \u001b[1;33m=\u001b[0m \u001b[0m_ma_invtransparams\u001b[0m\u001b[1;33m(\u001b[0m\u001b[0mmacoefs\u001b[0m\u001b[1;33m)\u001b[0m\u001b[1;33m\u001b[0m\u001b[1;33m\u001b[0m\u001b[0m\n\u001b[0m\u001b[0;32m    628\u001b[0m         \u001b[1;32mreturn\u001b[0m \u001b[0mnewparams\u001b[0m\u001b[1;33m\u001b[0m\u001b[1;33m\u001b[0m\u001b[0m\n\u001b[0;32m    629\u001b[0m \u001b[1;33m\u001b[0m\u001b[0m\n",
      "\u001b[1;31mValueError\u001b[0m: could not broadcast input array from shape (2) into shape (1)"
     ]
    }
   ],
   "source": [
    "import numpy as np\n",
    "import statsmodels.tsa.api as tsa\n",
    "\n",
    "xf =np.array([-0.1242,-2.5415,0.2772,-0.1960,-0.1962,-0.3057,-1.1289,0.1942,-0.6071,-0.8284])\n",
    "\n",
    "x = np.array([ 0.        ,  0.        ,  0.        ,  0.        , -0.1962    ,\n",
    "       -0.3057    , -0.3791,  0.1942    , -0.6071    , -0.8284    ])\n",
    "\n",
    "asd = tsa.ARMA(x,[2,1])\n",
    "dat = asd.fit(start_params=[-0.3246 ,   0.2163   , 0.2848   , 0.3090],transparams=True,trend='nc',method='css-mle') # also tried mle and css-mle\n",
    "dat.summary()"
   ]
  },
  {
   "cell_type": "code",
   "execution_count": 90,
   "metadata": {},
   "outputs": [
    {
     "name": "stderr",
     "output_type": "stream",
     "text": [
      "c:\\users\\computer\\appdata\\local\\programs\\python\\python36\\lib\\site-packages\\statsmodels\\base\\model.py:492: HessianInversionWarning: Inverting hessian failed, no bse or cov_params available\n",
      "  'available', HessianInversionWarning)\n",
      "c:\\users\\computer\\appdata\\local\\programs\\python\\python36\\lib\\site-packages\\statsmodels\\base\\model.py:512: ConvergenceWarning: Maximum Likelihood optimization failed to converge. Check mle_retvals\n",
      "  \"Check mle_retvals\", ConvergenceWarning)\n"
     ]
    },
    {
     "data": {
      "text/plain": [
       "array([-2.0235,  0.5588, -1.    ,  0.    ,  2.    ])"
      ]
     },
     "execution_count": 90,
     "metadata": {},
     "output_type": "execute_result"
    }
   ],
   "source": [
    "import numpy as np\n",
    "import statsmodels.tsa.api as tsa\n",
    "\n",
    "xf =np.array([-0.1242,-2.5415,0.2772,-0.1960,-0.1962,-0.3057,-1.1289,0.1942,-0.6071,-0.8284])\n",
    "\n",
    "x = np.array([ 0.        ,  0.        ,  0.        ,  0.        , -0.1962    ,\n",
    "       -0.3057    , -0.3791,  0.1942    , -0.6071    , -0.8284    ])\n",
    "asd = tsa.ARMA(x,[2,1])\n",
    "dat = asd.fit(start_params=[-2.0235,0.5588,-1,0,2],transparams=False,trend='c',method='css-mle') # also tried mle and css-mle\n",
    "dat.params"
   ]
  },
  {
   "cell_type": "code",
   "execution_count": 180,
   "metadata": {},
   "outputs": [
    {
     "data": {
      "text/html": [
       "<table class=\"simpletable\">\n",
       "<caption>ARMA Model Results</caption>\n",
       "<tr>\n",
       "  <th>Dep. Variable:</th>         <td>y</td>        <th>  No. Observations:  </th>   <td>10</td>  \n",
       "</tr>\n",
       "<tr>\n",
       "  <th>Model:</th>            <td>ARMA(2, 1)</td>    <th>  Log Likelihood     </th> <td>-6.447</td>\n",
       "</tr>\n",
       "<tr>\n",
       "  <th>Method:</th>               <td>css</td>       <th>  S.D. of innovations</th>  <td>0.542</td>\n",
       "</tr>\n",
       "<tr>\n",
       "  <th>Date:</th>          <td>Fri, 11 Oct 2019</td> <th>  AIC                </th> <td>20.894</td>\n",
       "</tr>\n",
       "<tr>\n",
       "  <th>Time:</th>              <td>16:01:16</td>     <th>  BIC                </th> <td>21.212</td>\n",
       "</tr>\n",
       "<tr>\n",
       "  <th>Sample:</th>                <td>2</td>        <th>  HQIC               </th> <td>18.751</td>\n",
       "</tr>\n",
       "<tr>\n",
       "  <th></th>                       <td> </td>        <th>                     </th>    <td> </td>  \n",
       "</tr>\n",
       "</table>\n",
       "<table class=\"simpletable\">\n",
       "<tr>\n",
       "     <td></td>        <th>coef</th>     <th>std err</th>      <th>z</th>      <th>P>|z|</th>  <th>[0.025</th>    <th>0.975]</th>  \n",
       "</tr>\n",
       "<tr>\n",
       "  <th>ar.L1.y</th> <td>   -0.0656</td> <td>    0.208</td> <td>   -0.315</td> <td> 0.766</td> <td>   -0.474</td> <td>    0.343</td>\n",
       "</tr>\n",
       "<tr>\n",
       "  <th>ar.L2.y</th> <td>    0.1016</td> <td>    0.210</td> <td>    0.485</td> <td> 0.648</td> <td>   -0.309</td> <td>    0.512</td>\n",
       "</tr>\n",
       "<tr>\n",
       "  <th>ma.L1.y</th> <td>    0.2417</td> <td>    0.409</td> <td>    0.591</td> <td> 0.580</td> <td>   -0.560</td> <td>    1.044</td>\n",
       "</tr>\n",
       "</table>\n",
       "<table class=\"simpletable\">\n",
       "<caption>Roots</caption>\n",
       "<tr>\n",
       "    <td></td>   <th>            Real</th>  <th>         Imaginary</th> <th>         Modulus</th>  <th>        Frequency</th>\n",
       "</tr>\n",
       "<tr>\n",
       "  <th>AR.1</th> <td>          -2.8313</td> <td>          +0.0000j</td> <td>           2.8313</td> <td>           0.5000</td>\n",
       "</tr>\n",
       "<tr>\n",
       "  <th>AR.2</th> <td>           3.4768</td> <td>          +0.0000j</td> <td>           3.4768</td> <td>           0.0000</td>\n",
       "</tr>\n",
       "<tr>\n",
       "  <th>MA.1</th> <td>          -4.1374</td> <td>          +0.0000j</td> <td>           4.1374</td> <td>           0.5000</td>\n",
       "</tr>\n",
       "</table>"
      ],
      "text/plain": [
       "<class 'statsmodels.iolib.summary.Summary'>\n",
       "\"\"\"\n",
       "                              ARMA Model Results                              \n",
       "==============================================================================\n",
       "Dep. Variable:                      y   No. Observations:                   10\n",
       "Model:                     ARMA(2, 1)   Log Likelihood                  -6.447\n",
       "Method:                           css   S.D. of innovations              0.542\n",
       "Date:                Fri, 11 Oct 2019   AIC                             20.894\n",
       "Time:                        16:01:16   BIC                             21.212\n",
       "Sample:                             2   HQIC                            18.751\n",
       "                                                                              \n",
       "==============================================================================\n",
       "                 coef    std err          z      P>|z|      [0.025      0.975]\n",
       "------------------------------------------------------------------------------\n",
       "ar.L1.y       -0.0656      0.208     -0.315      0.766      -0.474       0.343\n",
       "ar.L2.y        0.1016      0.210      0.485      0.648      -0.309       0.512\n",
       "ma.L1.y        0.2417      0.409      0.591      0.580      -0.560       1.044\n",
       "                                    Roots                                    \n",
       "=============================================================================\n",
       "                  Real          Imaginary           Modulus         Frequency\n",
       "-----------------------------------------------------------------------------\n",
       "AR.1           -2.8313           +0.0000j            2.8313            0.5000\n",
       "AR.2            3.4768           +0.0000j            3.4768            0.0000\n",
       "MA.1           -4.1374           +0.0000j            4.1374            0.5000\n",
       "-----------------------------------------------------------------------------\n",
       "\"\"\""
      ]
     },
     "execution_count": 180,
     "metadata": {},
     "output_type": "execute_result"
    }
   ],
   "source": [
    "import numpy as np\n",
    "import statsmodels.tsa.api as tsa\n",
    "\n",
    "xf =np.array([-0.1242,-2.5415,0.2772,-0.1960,-0.1962,-0.3057,-1.1289,0.1942,-0.6071,-0.8284])\n",
    "\n",
    "x = np.array([ 0.        ,  0.        ,  0.        ,  0.        , -0.1962    ,\n",
    "       -0.3057    , -0.3791,  0.1942    , -0.6071    , -0.8284    ])\n",
    "\n",
    "asd = tsa.ARMA(xf,[2,1])\n",
    "dat = asd.fit(transparams=True,trend='nc',method='css') # also tried mle and css-mle\n",
    "dat.summary()\n"
   ]
  },
  {
   "cell_type": "code",
   "execution_count": 173,
   "metadata": {},
   "outputs": [
    {
     "data": {
      "text/html": [
       "<table class=\"simpletable\">\n",
       "<caption>ARMA Model Results</caption>\n",
       "<tr>\n",
       "  <th>Dep. Variable:</th>         <td>y</td>        <th>  No. Observations:  </th>  <td>10</td>  \n",
       "</tr>\n",
       "<tr>\n",
       "  <th>Model:</th>            <td>ARMA(2, 1)</td>    <th>  Log Likelihood     </th> <td>0.615</td>\n",
       "</tr>\n",
       "<tr>\n",
       "  <th>Method:</th>               <td>css</td>       <th>  S.D. of innovations</th> <td>0.224</td>\n",
       "</tr>\n",
       "<tr>\n",
       "  <th>Date:</th>          <td>Fri, 11 Oct 2019</td> <th>  AIC                </th> <td>6.770</td>\n",
       "</tr>\n",
       "<tr>\n",
       "  <th>Time:</th>              <td>12:21:36</td>     <th>  BIC                </th> <td>7.088</td>\n",
       "</tr>\n",
       "<tr>\n",
       "  <th>Sample:</th>                <td>2</td>        <th>  HQIC               </th> <td>4.627</td>\n",
       "</tr>\n",
       "<tr>\n",
       "  <th></th>                       <td> </td>        <th>                     </th>   <td> </td>  \n",
       "</tr>\n",
       "</table>\n",
       "<table class=\"simpletable\">\n",
       "<tr>\n",
       "     <td></td>        <th>coef</th>     <th>std err</th>      <th>z</th>      <th>P>|z|</th>  <th>[0.025</th>    <th>0.975]</th>  \n",
       "</tr>\n",
       "<tr>\n",
       "  <th>ar.L1.y</th> <td>    1.9781</td> <td>    0.843</td> <td>    2.347</td> <td> 0.066</td> <td>    0.326</td> <td>    3.630</td>\n",
       "</tr>\n",
       "<tr>\n",
       "  <th>ar.L2.y</th> <td>    0.3894</td> <td>    0.768</td> <td>    0.507</td> <td> 0.634</td> <td>   -1.116</td> <td>    1.894</td>\n",
       "</tr>\n",
       "<tr>\n",
       "  <th>ma.L1.y</th> <td>   -2.0456</td> <td>    0.867</td> <td>   -2.359</td> <td> 0.065</td> <td>   -3.745</td> <td>   -0.346</td>\n",
       "</tr>\n",
       "</table>\n",
       "<table class=\"simpletable\">\n",
       "<caption>Roots</caption>\n",
       "<tr>\n",
       "    <td></td>   <th>            Real</th>  <th>         Imaginary</th> <th>         Modulus</th>  <th>        Frequency</th>\n",
       "</tr>\n",
       "<tr>\n",
       "  <th>AR.1</th> <td>           0.4633</td> <td>          +0.0000j</td> <td>           0.4633</td> <td>           0.0000</td>\n",
       "</tr>\n",
       "<tr>\n",
       "  <th>AR.2</th> <td>          -5.5427</td> <td>          +0.0000j</td> <td>           5.5427</td> <td>           0.5000</td>\n",
       "</tr>\n",
       "<tr>\n",
       "  <th>MA.1</th> <td>           0.4888</td> <td>          +0.0000j</td> <td>           0.4888</td> <td>           0.0000</td>\n",
       "</tr>\n",
       "</table>"
      ],
      "text/plain": [
       "<class 'statsmodels.iolib.summary.Summary'>\n",
       "\"\"\"\n",
       "                              ARMA Model Results                              \n",
       "==============================================================================\n",
       "Dep. Variable:                      y   No. Observations:                   10\n",
       "Model:                     ARMA(2, 1)   Log Likelihood                   0.615\n",
       "Method:                           css   S.D. of innovations              0.224\n",
       "Date:                Fri, 11 Oct 2019   AIC                              6.770\n",
       "Time:                        12:21:36   BIC                              7.088\n",
       "Sample:                             2   HQIC                             4.627\n",
       "                                                                              \n",
       "==============================================================================\n",
       "                 coef    std err          z      P>|z|      [0.025      0.975]\n",
       "------------------------------------------------------------------------------\n",
       "ar.L1.y        1.9781      0.843      2.347      0.066       0.326       3.630\n",
       "ar.L2.y        0.3894      0.768      0.507      0.634      -1.116       1.894\n",
       "ma.L1.y       -2.0456      0.867     -2.359      0.065      -3.745      -0.346\n",
       "                                    Roots                                    \n",
       "=============================================================================\n",
       "                  Real          Imaginary           Modulus         Frequency\n",
       "-----------------------------------------------------------------------------\n",
       "AR.1            0.4633           +0.0000j            0.4633            0.0000\n",
       "AR.2           -5.5427           +0.0000j            5.5427            0.5000\n",
       "MA.1            0.4888           +0.0000j            0.4888            0.0000\n",
       "-----------------------------------------------------------------------------\n",
       "\"\"\""
      ]
     },
     "execution_count": 173,
     "metadata": {},
     "output_type": "execute_result"
    }
   ],
   "source": [
    "import numpy as np\n",
    "import statsmodels.tsa.api as tsa\n",
    "\n",
    "xf =np.array([-0.1242,-2.5415,0.2772,-0.1960,-0.1962,-0.3057,-1.1289,0.1942,-0.6071,-0.8284])\n",
    "\n",
    "x = np.array([ 0.        ,  0.        ,  0.        ,  0.        , -0.1962    ,\n",
    "       -0.3057    , -0.3791,  0.1942    , -0.6071    , -0.8284    ])\n",
    "asd = tsa.ARMA(x,[2,1])\n",
    "dat = asd.fit(start_params=[1.7022   ,-0.6950  , -0.0250],transparams=False,trend='nc',method='css') # also tried mle and css-mle\n",
    "dat.summary()"
   ]
  },
  {
   "cell_type": "code",
   "execution_count": 103,
   "metadata": {},
   "outputs": [
    {
     "name": "stderr",
     "output_type": "stream",
     "text": [
      "c:\\users\\computer\\appdata\\local\\programs\\python\\python36\\lib\\site-packages\\statsmodels\\base\\model.py:492: HessianInversionWarning: Inverting hessian failed, no bse or cov_params available\n",
      "  'available', HessianInversionWarning)\n",
      "c:\\users\\computer\\appdata\\local\\programs\\python\\python36\\lib\\site-packages\\statsmodels\\base\\model.py:512: ConvergenceWarning: Maximum Likelihood optimization failed to converge. Check mle_retvals\n",
      "  \"Check mle_retvals\", ConvergenceWarning)\n"
     ]
    },
    {
     "data": {
      "text/plain": [
       "array([-2.0235,  0.5588, -1.    ,  0.    ,  2.    ])"
      ]
     },
     "execution_count": 103,
     "metadata": {},
     "output_type": "execute_result"
    }
   ],
   "source": [
    "import numpy as np\n",
    "import statsmodels.tsa.api as tsa\n",
    "\n",
    "xf =np.array([-0.1242,-2.5415,0.2772,-0.1960,-0.1962,-0.3057,-1.1289,0.1942,-0.6071,-0.8284])\n",
    "\n",
    "x = np.array([ 0.        ,  0.        ,  0.        ,  0.        , -0.1962    ,\n",
    "       -0.3057    , -0.3791,  0.1942    , -0.6071    , -0.8284    ])\n",
    "asd = tsa.ARMA(x,[2,1])\n",
    "dat = asd.fit(start_params=[-2.0235,0.5588,-1,0,2],transparams=False,trend='c',method='css-mle') # also tried mle and css-mle\n",
    "dat.params"
   ]
  },
  {
   "cell_type": "code",
   "execution_count": 83,
   "metadata": {},
   "outputs": [
    {
     "name": "stderr",
     "output_type": "stream",
     "text": [
      "c:\\users\\computer\\appdata\\local\\programs\\python\\python36\\lib\\site-packages\\statsmodels\\tsa\\tsatools.py:668: RuntimeWarning: overflow encountered in exp\n",
      "  newparams = ((1-np.exp(-params))/(1+np.exp(-params))).copy()\n",
      "c:\\users\\computer\\appdata\\local\\programs\\python\\python36\\lib\\site-packages\\statsmodels\\tsa\\tsatools.py:669: RuntimeWarning: overflow encountered in exp\n",
      "  tmp = ((1-np.exp(-params))/(1+np.exp(-params))).copy()\n"
     ]
    },
    {
     "data": {
      "text/plain": [
       "array([ 1.06664436, -0.06664437, -0.58681295])"
      ]
     },
     "execution_count": 83,
     "metadata": {},
     "output_type": "execute_result"
    }
   ],
   "source": [
    "import numpy as np\n",
    "import statsmodels.tsa.api as tsa\n",
    "\n",
    "xf =np.array([-0.1242,-2.5415,0.2772,-0.1960,-0.1962,-0.3057,-1.1289,0.1942,-0.6071,-0.8284])\n",
    "\n",
    "x = np.array([ 0.        ,  0.        ,  0.        ,  0.        , -0.1962    ,\n",
    "       -0.3057    , -0.3791,  0.1942    , -0.6071    , -0.8284    ])\n",
    "\n",
    "asd = tsa.ARMA(x,[2,1])\n",
    "dat = asd.fit(start_params=[-0.2063,0.271,0],trend='nc',method='css') # also tried mle and css-mle\n",
    "dat.params"
   ]
  },
  {
   "cell_type": "code",
   "execution_count": 152,
   "metadata": {},
   "outputs": [
    {
     "name": "stderr",
     "output_type": "stream",
     "text": [
      "c:\\users\\computer\\appdata\\local\\programs\\python\\python36\\lib\\site-packages\\statsmodels\\base\\model.py:492: HessianInversionWarning: Inverting hessian failed, no bse or cov_params available\n",
      "  'available', HessianInversionWarning)\n"
     ]
    },
    {
     "data": {
      "text/html": [
       "<table class=\"simpletable\">\n",
       "<caption>ARMA Model Results</caption>\n",
       "<tr>\n",
       "  <th>Dep. Variable:</th>         <td>y</td>        <th>  No. Observations:  </th>  <td>10</td>  \n",
       "</tr>\n",
       "<tr>\n",
       "  <th>Model:</th>            <td>ARMA(2, 2)</td>    <th>  Log Likelihood     </th> <td>  nan</td>\n",
       "</tr>\n",
       "<tr>\n",
       "  <th>Method:</th>             <td>css-mle</td>     <th>  S.D. of innovations</th> <td>0.358</td>\n",
       "</tr>\n",
       "<tr>\n",
       "  <th>Date:</th>          <td>Fri, 11 Oct 2019</td> <th>  AIC                </th> <td>  nan</td>\n",
       "</tr>\n",
       "<tr>\n",
       "  <th>Time:</th>              <td>11:12:16</td>     <th>  BIC                </th> <td>  nan</td>\n",
       "</tr>\n",
       "<tr>\n",
       "  <th>Sample:</th>                <td>0</td>        <th>  HQIC               </th> <td>  nan</td>\n",
       "</tr>\n",
       "<tr>\n",
       "  <th></th>                       <td> </td>        <th>                     </th>   <td> </td>  \n",
       "</tr>\n",
       "</table>\n",
       "<table class=\"simpletable\">\n",
       "<tr>\n",
       "     <td></td>        <th>coef</th>     <th>std err</th>      <th>z</th>      <th>P>|z|</th>  <th>[0.025</th>    <th>0.975]</th>  \n",
       "</tr>\n",
       "<tr>\n",
       "  <th>ar.L1.y</th> <td>    1.0000</td> <td>      nan</td> <td>      nan</td> <td>   nan</td> <td>      nan</td> <td>      nan</td>\n",
       "</tr>\n",
       "<tr>\n",
       "  <th>ar.L2.y</th> <td>    2.0000</td> <td>      nan</td> <td>      nan</td> <td>   nan</td> <td>      nan</td> <td>      nan</td>\n",
       "</tr>\n",
       "<tr>\n",
       "  <th>ma.L1.y</th> <td>    1.0000</td> <td>    0.083</td> <td>   12.098</td> <td> 0.000</td> <td>    0.838</td> <td>    1.162</td>\n",
       "</tr>\n",
       "<tr>\n",
       "  <th>ma.L2.y</th> <td>    1.0000</td> <td>      nan</td> <td>      nan</td> <td>   nan</td> <td>      nan</td> <td>      nan</td>\n",
       "</tr>\n",
       "</table>\n",
       "<table class=\"simpletable\">\n",
       "<caption>Roots</caption>\n",
       "<tr>\n",
       "    <td></td>   <th>            Real</th>  <th>         Imaginary</th> <th>         Modulus</th>  <th>        Frequency</th>\n",
       "</tr>\n",
       "<tr>\n",
       "  <th>AR.1</th> <td>           0.5000</td> <td>          +0.0000j</td> <td>           0.5000</td> <td>           0.0000</td>\n",
       "</tr>\n",
       "<tr>\n",
       "  <th>AR.2</th> <td>          -1.0000</td> <td>          +0.0000j</td> <td>           1.0000</td> <td>           0.5000</td>\n",
       "</tr>\n",
       "<tr>\n",
       "  <th>MA.1</th> <td>          -0.5000</td> <td>          -0.8660j</td> <td>           1.0000</td> <td>          -0.3333</td>\n",
       "</tr>\n",
       "<tr>\n",
       "  <th>MA.2</th> <td>          -0.5000</td> <td>          +0.8660j</td> <td>           1.0000</td> <td>           0.3333</td>\n",
       "</tr>\n",
       "</table>"
      ],
      "text/plain": [
       "<class 'statsmodels.iolib.summary.Summary'>\n",
       "\"\"\"\n",
       "                              ARMA Model Results                              \n",
       "==============================================================================\n",
       "Dep. Variable:                      y   No. Observations:                   10\n",
       "Model:                     ARMA(2, 2)   Log Likelihood                     nan\n",
       "Method:                       css-mle   S.D. of innovations              0.358\n",
       "Date:                Fri, 11 Oct 2019   AIC                                nan\n",
       "Time:                        11:12:16   BIC                                nan\n",
       "Sample:                             0   HQIC                               nan\n",
       "                                                                              \n",
       "==============================================================================\n",
       "                 coef    std err          z      P>|z|      [0.025      0.975]\n",
       "------------------------------------------------------------------------------\n",
       "ar.L1.y        1.0000        nan        nan        nan         nan         nan\n",
       "ar.L2.y        2.0000        nan        nan        nan         nan         nan\n",
       "ma.L1.y        1.0000      0.083     12.098      0.000       0.838       1.162\n",
       "ma.L2.y        1.0000        nan        nan        nan         nan         nan\n",
       "                                    Roots                                    \n",
       "=============================================================================\n",
       "                  Real          Imaginary           Modulus         Frequency\n",
       "-----------------------------------------------------------------------------\n",
       "AR.1            0.5000           +0.0000j            0.5000            0.0000\n",
       "AR.2           -1.0000           +0.0000j            1.0000            0.5000\n",
       "MA.1           -0.5000           -0.8660j            1.0000           -0.3333\n",
       "MA.2           -0.5000           +0.8660j            1.0000            0.3333\n",
       "-----------------------------------------------------------------------------\n",
       "\"\"\""
      ]
     },
     "execution_count": 152,
     "metadata": {},
     "output_type": "execute_result"
    }
   ],
   "source": [
    "import numpy as np\n",
    "import statsmodels.tsa.api as tsa\n",
    "\n",
    "xf =np.array([-0.1242,-2.5415,0.2772,-0.1960,-0.1962,-0.3057,-1.1289,0.1942,-0.6071,-0.8284])\n",
    "\n",
    "x = np.array([ 0.        ,  0.        ,  0.        ,  0.        , -0.1962    ,\n",
    "       -0.3057    , -0.3791,  0.1942    , -0.6071    , -0.8284    ])\n",
    "asd = tsa.ARMA(x,[2,2])\n",
    "dat = asd.fit(start_params=[1,2,1,1],transparams=False,trend='nc',method='css-mle') # also tried mle and css-mle\n",
    "dat.summary()\n"
   ]
  },
  {
   "cell_type": "code",
   "execution_count": 182,
   "metadata": {},
   "outputs": [],
   "source": [
    "from linearmodels import IV3SLS"
   ]
  },
  {
   "cell_type": "code",
   "execution_count": 181,
   "metadata": {},
   "outputs": [
    {
     "name": "stdout",
     "output_type": "stream",
     "text": [
      "Collecting linearmodels\n",
      "  Downloading https://files.pythonhosted.org/packages/80/e4/6ef7dda964a968225f32522ea2210c008b967130af5ac2e92c0e6efc2008/linearmodels-4.13.tar.gz (1.2MB)\n",
      "Requirement already satisfied: numpy>=1.13 in c:\\users\\computer\\appdata\\local\\programs\\python\\python36\\lib\\site-packages (from linearmodels) (1.16.2)\n",
      "Requirement already satisfied: pandas>=0.20 in c:\\users\\computer\\appdata\\local\\programs\\python\\python36\\lib\\site-packages (from linearmodels) (0.24.2)\n",
      "Requirement already satisfied: scipy>=0.18 in c:\\users\\computer\\appdata\\local\\programs\\python\\python36\\lib\\site-packages (from linearmodels) (1.2.1)\n",
      "Requirement already satisfied: patsy in c:\\users\\computer\\appdata\\local\\programs\\python\\python36\\lib\\site-packages (from linearmodels) (0.5.1)\n",
      "Requirement already satisfied: statsmodels>=0.8 in c:\\users\\computer\\appdata\\local\\programs\\python\\python36\\lib\\site-packages (from linearmodels) (0.10.1)\n",
      "Collecting cached_property>=1.5.1 (from linearmodels)\n",
      "  Downloading https://files.pythonhosted.org/packages/3b/86/85c1be2e8db9e13ef9a350aecd6dea292bd612fa288c2f40d035bb750ded/cached_property-1.5.1-py2.py3-none-any.whl\n",
      "Collecting mypy_extensions>=0.4 (from linearmodels)\n",
      "  Downloading https://files.pythonhosted.org/packages/1e/2f/7bba47eb58f62a473387cd7658dedd0bedb4b0fa9d530bbbfa0a6d23034a/mypy_extensions-0.4.2.tar.gz\n",
      "Requirement already satisfied: pytz>=2011k in c:\\users\\computer\\appdata\\local\\programs\\python\\python36\\lib\\site-packages (from pandas>=0.20->linearmodels) (2018.9)\n",
      "Requirement already satisfied: python-dateutil>=2.5.0 in c:\\users\\computer\\appdata\\local\\programs\\python\\python36\\lib\\site-packages (from pandas>=0.20->linearmodels) (2.8.0)\n",
      "Requirement already satisfied: six in c:\\users\\computer\\appdata\\local\\programs\\python\\python36\\lib\\site-packages (from patsy->linearmodels) (1.12.0)\n",
      "Building wheels for collected packages: linearmodels, mypy-extensions\n",
      "  Building wheel for linearmodels (setup.py): started\n",
      "  Building wheel for linearmodels (setup.py): finished with status 'done'\n",
      "  Created wheel for linearmodels: filename=linearmodels-4.13-py2.py3-none-any.whl size=937543 sha256=950db3111643abeeb5412962b20441c3bac776d8c44b82a0ec349c30595ac0b0\n",
      "  Stored in directory: C:\\Users\\Computer\\AppData\\Local\\pip\\Cache\\wheels\\92\\33\\3a\\5efd7cb50597ff3dc29256ba54e36e2a2c820fd1d1069ea967\n",
      "  Building wheel for mypy-extensions (setup.py): started\n",
      "  Building wheel for mypy-extensions (setup.py): finished with status 'done'\n",
      "  Created wheel for mypy-extensions: filename=mypy_extensions-0.4.2-py2.py3-none-any.whl size=4468 sha256=ab5ca23c4f902191122a56e827d5abcd524201d3f8d31c9c12949ab2b12cdb1e\n",
      "  Stored in directory: C:\\Users\\Computer\\AppData\\Local\\pip\\Cache\\wheels\\d6\\7b\\51\\3dea4153cf7748cf89d5a9f2e89a619abded55e3a2e82c521e\n",
      "Successfully built linearmodels mypy-extensions\n",
      "Installing collected packages: cached-property, mypy-extensions, linearmodels\n",
      "Successfully installed cached-property-1.5.1 linearmodels-4.13 mypy-extensions-0.4.2\n"
     ]
    }
   ],
   "source": [
    "!pip install linearmodels"
   ]
  }
 ],
 "metadata": {
  "kernelspec": {
   "display_name": "Python 3",
   "language": "python",
   "name": "python3"
  },
  "language_info": {
   "codemirror_mode": {
    "name": "ipython",
    "version": 3
   },
   "file_extension": ".py",
   "mimetype": "text/x-python",
   "name": "python",
   "nbconvert_exporter": "python",
   "pygments_lexer": "ipython3",
   "version": "3.6.8"
  }
 },
 "nbformat": 4,
 "nbformat_minor": 2
}
