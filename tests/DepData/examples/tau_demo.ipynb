{
 "cells": [
  {
   "cell_type": "code",
   "execution_count": 3,
   "metadata": {},
   "outputs": [],
   "source": [
    "import numpy as np\n",
    "import robustsp as rsp\n",
    "import scipy.io as sio\n",
    "from operator import itemgetter\n",
    "\n",
    "ar1 = sio.loadmat('tau_ar1')['tau_ar1'].flatten() # -.8\n",
    "\n",
    "ma2 = sio.loadmat('tau_ma2')['tau_ma2'].flatten() # -.8 , .2\n",
    "\n",
    "arma11 = sio.loadmat('tau_arma11')['tau_arma11'].flatten() # -.7, .5\n"
   ]
  },
  {
   "cell_type": "code",
   "execution_count": 4,
   "metadata": {},
   "outputs": [
    {
     "data": {
      "text/plain": [
       "(array([-0.80419747]), array([], dtype=float64))"
      ]
     },
     "execution_count": 4,
     "metadata": {},
     "output_type": "execute_result"
    }
   ],
   "source": [
    "itemgetter('ar_coeffs','ma_coeffs')(rsp.arma_est_bip_tau(ar1,1,0)) # -.8041"
   ]
  },
  {
   "cell_type": "code",
   "execution_count": 5,
   "metadata": {},
   "outputs": [
    {
     "data": {
      "text/plain": [
       "(array([-0.82098833]), array([0.22542049]))"
      ]
     },
     "execution_count": 5,
     "metadata": {},
     "output_type": "execute_result"
    }
   ],
   "source": [
    "itemgetter('ar_coeffs','ma_coeffs')(rsp.arma_est_bip_tau(arma11,1,1)) # -.8184, .2402"
   ]
  },
  {
   "cell_type": "code",
   "execution_count": 6,
   "metadata": {},
   "outputs": [
    {
     "data": {
      "text/plain": [
       "(array([], dtype=float64), array([ 0.7280548 , -0.45369108]))"
      ]
     },
     "execution_count": 6,
     "metadata": {},
     "output_type": "execute_result"
    }
   ],
   "source": [
    "itemgetter('ar_coeffs','ma_coeffs')(rsp.arma_est_bip_tau(ma2,0,2)) # -.745, .488"
   ]
  }
 ],
 "metadata": {
  "kernelspec": {
   "display_name": "Python 3",
   "language": "python",
   "name": "python3"
  },
  "language_info": {
   "codemirror_mode": {
    "name": "ipython",
    "version": 3
   },
   "file_extension": ".py",
   "mimetype": "text/x-python",
   "name": "python",
   "nbconvert_exporter": "python",
   "pygments_lexer": "ipython3",
   "version": "3.6.8"
  }
 },
 "nbformat": 4,
 "nbformat_minor": 2
}
