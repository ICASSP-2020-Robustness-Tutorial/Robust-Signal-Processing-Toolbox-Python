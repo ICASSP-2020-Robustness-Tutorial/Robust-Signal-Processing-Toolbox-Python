{
 "cells": [
  {
   "cell_type": "markdown",
   "metadata": {
    "toc-hr-collapsed": true
   },
   "source": [
    "# ARMA(1,1)"
   ]
  },
  {
   "cell_type": "code",
   "execution_count": 49,
   "metadata": {},
   "outputs": [],
   "source": [
    "import numpy as np\n",
    "import robustsp as rsp\n",
    "import scipy.io as sio\n",
    "from scipy.optimize import least_squares as lsq\n",
    "from scipy.optimize import minimize\n",
    "from scipy.optimize import minimize_scalar\n",
    "import scipy.optimize as sop\n",
    "p=1\n",
    "\n",
    "q=1\n",
    "\n",
    "# Outlier contaminated time series, filtered with an ARMA(1,1) model\n",
    "# with AR = -.8 and MA = .2\n",
    "x = sio.loadmat('x_ao_arma_s_resid_sc_min')['x_ao'].flatten()\n",
    "\n",
    "beta_init = np.array([0.81456182, 0.14669126]) # rsp.robust_starting_point(x,p,q)"
   ]
  },
  {
   "cell_type": "markdown",
   "metadata": {
    "toc-hr-collapsed": true
   },
   "source": [
    "### Matlabs solution\n",
    "\n",
    "beta_arma =\n",
    "    0.8277\n",
    "   -0.1490\n",
    "a_sc =\n",
    "    1.0796"
   ]
  },
  {
   "cell_type": "markdown",
   "metadata": {},
   "source": [
    "#### arma_s_resid_sc"
   ]
  },
  {
   "cell_type": "code",
   "execution_count": 19,
   "metadata": {},
   "outputs": [
    {
     "data": {
      "text/plain": [
       "1.0795767176654534"
      ]
     },
     "execution_count": 19,
     "metadata": {},
     "output_type": "execute_result"
    }
   ],
   "source": [
    "rsp.arma_s_resid_sc(x,[ 0.8277,-0.1490],1,1)"
   ]
  },
  {
   "cell_type": "markdown",
   "metadata": {},
   "source": [
    "#### bip_s_resid_sc"
   ]
  },
  {
   "cell_type": "markdown",
   "metadata": {},
   "source": [
    "beta_bip =\n",
    "    0.8013\n",
    "   -0.1535\n",
    "a_sc =\n",
    "    1.0903"
   ]
  },
  {
   "cell_type": "code",
   "execution_count": 36,
   "metadata": {},
   "outputs": [
    {
     "data": {
      "text/plain": [
       "1.090335124073116"
      ]
     },
     "execution_count": 36,
     "metadata": {},
     "output_type": "execute_result"
    }
   ],
   "source": [
    "rsp.bip_s_resid_sc(x,[ 0.8013,-0.1535],1,1)[0]"
   ]
  },
  {
   "cell_type": "markdown",
   "metadata": {
    "toc-hr-collapsed": true
   },
   "source": [
    "### BFGS"
   ]
  },
  {
   "cell_type": "markdown",
   "metadata": {},
   "source": [
    "#### arma_s_resid_sc"
   ]
  },
  {
   "cell_type": "code",
   "execution_count": 20,
   "metadata": {},
   "outputs": [
    {
     "data": {
      "text/plain": [
       "(array([ 0.82879731, -0.15313892]), 1.0826695290957464)"
      ]
     },
     "execution_count": 20,
     "metadata": {},
     "output_type": "execute_result"
    }
   ],
   "source": [
    "F = lambda beta: rsp.arma_s_resid_sc(x,beta,p,q)\n",
    "\n",
    "beta_hat = minimize(F,beta_init,method='BFGS')['x']\n",
    "\n",
    "beta_hat, F(beta_hat)"
   ]
  },
  {
   "cell_type": "markdown",
   "metadata": {},
   "source": [
    "#### bip_s_resid_sc"
   ]
  },
  {
   "cell_type": "code",
   "execution_count": 37,
   "metadata": {},
   "outputs": [
    {
     "data": {
      "text/plain": [
       "(array([ 0.79898908, -0.15540271]), 1.0903304131612062)"
      ]
     },
     "execution_count": 37,
     "metadata": {},
     "output_type": "execute_result"
    }
   ],
   "source": [
    "F = lambda beta: rsp.bip_s_resid_sc(x,beta,p,q)[0]\n",
    "\n",
    "beta_hat = minimize(F,beta_init,method='BFGS')['x']\n",
    "\n",
    "beta_hat, F(beta_hat)"
   ]
  },
  {
   "cell_type": "markdown",
   "metadata": {
    "toc-hr-collapsed": true
   },
   "source": [
    "### L-BFGS-B"
   ]
  },
  {
   "cell_type": "markdown",
   "metadata": {},
   "source": [
    "#### arma_s_resid_sc"
   ]
  },
  {
   "cell_type": "code",
   "execution_count": 22,
   "metadata": {},
   "outputs": [
    {
     "data": {
      "text/plain": [
       "(array([ 0.8355487 , -0.11898293]), 1.0809767738851315)"
      ]
     },
     "execution_count": 22,
     "metadata": {},
     "output_type": "execute_result"
    }
   ],
   "source": [
    "F = lambda beta: rsp.arma_s_resid_sc(x,beta,p,q)\n",
    "\n",
    "beta_hat = minimize(F,beta_init,method='L-BFGS-B')['x']\n",
    "\n",
    "beta_hat, F(beta_hat)"
   ]
  },
  {
   "cell_type": "markdown",
   "metadata": {},
   "source": [
    "#### bip_s_resid_sc"
   ]
  },
  {
   "cell_type": "code",
   "execution_count": 38,
   "metadata": {},
   "outputs": [
    {
     "data": {
      "text/plain": [
       "(array([ 0.85675149, -0.13399682]), 1.1141043204237289)"
      ]
     },
     "execution_count": 38,
     "metadata": {},
     "output_type": "execute_result"
    }
   ],
   "source": [
    "F = lambda beta: rsp.bip_s_resid_sc(x,beta,p,q)[0]\n",
    "\n",
    "beta_hat = minimize(F,beta_init,method='L-BFGS-B')['x']\n",
    "\n",
    "beta_hat, F(beta_hat)"
   ]
  },
  {
   "cell_type": "markdown",
   "metadata": {
    "toc-hr-collapsed": true
   },
   "source": [
    "### SLSQP"
   ]
  },
  {
   "cell_type": "markdown",
   "metadata": {},
   "source": [
    "#### arma_s_resid_sc"
   ]
  },
  {
   "cell_type": "code",
   "execution_count": 23,
   "metadata": {},
   "outputs": [
    {
     "data": {
      "text/plain": [
       "(array([ 0.8273697 , -0.15292999]), 1.082675690003932)"
      ]
     },
     "execution_count": 23,
     "metadata": {},
     "output_type": "execute_result"
    }
   ],
   "source": [
    "F = lambda beta: rsp.arma_s_resid_sc(x,beta,p,q)\n",
    "\n",
    "beta_hat = minimize(F,beta_init,method='SLSQP')['x']\n",
    "\n",
    "beta_hat, F(beta_hat)"
   ]
  },
  {
   "cell_type": "markdown",
   "metadata": {},
   "source": [
    "#### bip_s_resid_sc"
   ]
  },
  {
   "cell_type": "code",
   "execution_count": 39,
   "metadata": {},
   "outputs": [
    {
     "data": {
      "text/plain": [
       "(array([ 0.80190263, -0.15459212]), 1.0903170723875333)"
      ]
     },
     "execution_count": 39,
     "metadata": {},
     "output_type": "execute_result"
    }
   ],
   "source": [
    "F = lambda beta: rsp.bip_s_resid_sc(x,beta,p,q)[0]\n",
    "\n",
    "beta_hat = minimize(F,beta_init,method='SLSQP')['x']\n",
    "\n",
    "beta_hat, F(beta_hat)"
   ]
  },
  {
   "cell_type": "markdown",
   "metadata": {
    "toc-hr-collapsed": true
   },
   "source": [
    "### Nelder-Mead"
   ]
  },
  {
   "cell_type": "markdown",
   "metadata": {},
   "source": [
    "#### arma_s_resid_sc"
   ]
  },
  {
   "cell_type": "code",
   "execution_count": 29,
   "metadata": {},
   "outputs": [
    {
     "data": {
      "text/plain": [
       "(array([ 0.83964466, -0.12638962]), 1.078258375872455)"
      ]
     },
     "execution_count": 29,
     "metadata": {},
     "output_type": "execute_result"
    }
   ],
   "source": [
    "F = lambda beta: rsp.arma_s_resid_sc(x,beta,p,q)\n",
    "\n",
    "beta_hat = minimize(F,beta_init,method='Nelder-Mead')['x']\n",
    "\n",
    "beta_hat, F(beta_hat)"
   ]
  },
  {
   "cell_type": "markdown",
   "metadata": {},
   "source": [
    "#### bip_s_resid_sc"
   ]
  },
  {
   "cell_type": "code",
   "execution_count": 41,
   "metadata": {},
   "outputs": [
    {
     "data": {
      "text/plain": [
       "(array([ 0.80063391, -0.15540271]), 1.0903380350743896)"
      ]
     },
     "execution_count": 41,
     "metadata": {},
     "output_type": "execute_result"
    }
   ],
   "source": [
    "F = lambda beta: rsp.bip_s_resid_sc(x,beta,p,q)[0]\n",
    "\n",
    "beta_hat = minimize(F,beta_init,method='Nelder-Mead')['x']\n",
    "\n",
    "beta_hat, F(beta_hat)"
   ]
  },
  {
   "cell_type": "markdown",
   "metadata": {
    "toc-hr-collapsed": true
   },
   "source": [
    "### COBYLA"
   ]
  },
  {
   "cell_type": "markdown",
   "metadata": {
    "toc-hr-collapsed": true
   },
   "source": [
    "#### arma_s_resid_sc"
   ]
  },
  {
   "cell_type": "code",
   "execution_count": 34,
   "metadata": {},
   "outputs": [
    {
     "data": {
      "text/plain": [
       "(array([ 0.82655533, -0.15427351]), 1.082677356461739)"
      ]
     },
     "execution_count": 34,
     "metadata": {},
     "output_type": "execute_result"
    }
   ],
   "source": [
    "F = lambda beta: rsp.arma_s_resid_sc(x,beta,p,q)\n",
    "\n",
    "beta_hat = minimize(F,beta_init,method='COBYLA')['x']\n",
    "\n",
    "beta_hat, F(beta_hat)"
   ]
  },
  {
   "cell_type": "markdown",
   "metadata": {},
   "source": [
    "#### bip_s_resid_sc"
   ]
  },
  {
   "cell_type": "code",
   "execution_count": 42,
   "metadata": {},
   "outputs": [
    {
     "data": {
      "text/plain": [
       "(array([ 0.80172821, -0.15203827]), 1.0903388515532542)"
      ]
     },
     "execution_count": 42,
     "metadata": {},
     "output_type": "execute_result"
    }
   ],
   "source": [
    "F = lambda beta: rsp.bip_s_resid_sc(x,beta,p,q)[0]\n",
    "\n",
    "beta_hat = minimize(F,beta_init,method='COBYLA')['x']\n",
    "\n",
    "beta_hat, F(beta_hat)"
   ]
  },
  {
   "cell_type": "markdown",
   "metadata": {
    "toc-hr-collapsed": true
   },
   "source": [
    "### CG"
   ]
  },
  {
   "cell_type": "markdown",
   "metadata": {
    "toc-hr-collapsed": true
   },
   "source": [
    "#### arma_s_resid_sc"
   ]
  },
  {
   "cell_type": "code",
   "execution_count": 43,
   "metadata": {},
   "outputs": [
    {
     "data": {
      "text/plain": [
       "(array([ 0.82948562, -0.15290292]), 1.0826808920160953)"
      ]
     },
     "execution_count": 43,
     "metadata": {},
     "output_type": "execute_result"
    }
   ],
   "source": [
    "F = lambda beta: rsp.arma_s_resid_sc(x,beta,p,q)\n",
    "\n",
    "beta_hat = minimize(F,beta_init,method='CG')['x']\n",
    "\n",
    "beta_hat, F(beta_hat)"
   ]
  },
  {
   "cell_type": "markdown",
   "metadata": {},
   "source": [
    "#### bip_s_resid_sc"
   ]
  },
  {
   "cell_type": "code",
   "execution_count": 44,
   "metadata": {},
   "outputs": [
    {
     "data": {
      "text/plain": [
       "(array([ 0.79397946, -0.18329325]), 1.0908345081431288)"
      ]
     },
     "execution_count": 44,
     "metadata": {},
     "output_type": "execute_result"
    }
   ],
   "source": [
    "F = lambda beta: rsp.bip_s_resid_sc(x,beta,p,q)[0]\n",
    "\n",
    "beta_hat = minimize(F,beta_init,method='CG')['x']\n",
    "\n",
    "beta_hat, F(beta_hat)"
   ]
  },
  {
   "cell_type": "markdown",
   "metadata": {
    "toc-hr-collapsed": true
   },
   "source": [
    "### trf"
   ]
  },
  {
   "cell_type": "markdown",
   "metadata": {
    "toc-hr-collapsed": true
   },
   "source": [
    "#### arma_s_resid_sc"
   ]
  },
  {
   "cell_type": "code",
   "execution_count": 47,
   "metadata": {},
   "outputs": [
    {
     "data": {
      "text/plain": [
       "(array([ 0.84420154, -0.12493416]), 1.0782462228191259)"
      ]
     },
     "execution_count": 47,
     "metadata": {},
     "output_type": "execute_result"
    }
   ],
   "source": [
    "F = lambda beta: rsp.arma_s_resid_sc(x,beta,p,q)\n",
    "\n",
    "beta_hat = lsq(F,beta_init,xtol=5*1e-7,ftol=5*1e-7,method='trf')['x']\n",
    "\n",
    "beta_hat, F(beta_hat)"
   ]
  },
  {
   "cell_type": "markdown",
   "metadata": {},
   "source": [
    "#### bip_s_resid_sc"
   ]
  },
  {
   "cell_type": "code",
   "execution_count": 48,
   "metadata": {},
   "outputs": [
    {
     "data": {
      "text/plain": [
       "(array([ 0.8121774 , -0.13712975]), 1.0908302510263173)"
      ]
     },
     "execution_count": 48,
     "metadata": {},
     "output_type": "execute_result"
    }
   ],
   "source": [
    "F = lambda beta: rsp.bip_s_resid_sc(x,beta,p,q)[0]\n",
    "\n",
    "beta_hat = lsq(F,beta_init,xtol=5*1e-7,ftol=5*1e-7,method='trf')['x']\n",
    "\n",
    "beta_hat, F(beta_hat)"
   ]
  },
  {
   "cell_type": "markdown",
   "metadata": {
    "toc-hr-collapsed": true
   },
   "source": [
    "### CG"
   ]
  },
  {
   "cell_type": "markdown",
   "metadata": {
    "toc-hr-collapsed": true
   },
   "source": [
    "#### arma_s_resid_sc"
   ]
  },
  {
   "cell_type": "code",
   "execution_count": 43,
   "metadata": {},
   "outputs": [
    {
     "data": {
      "text/plain": [
       "(array([ 0.82948562, -0.15290292]), 1.0826808920160953)"
      ]
     },
     "execution_count": 43,
     "metadata": {},
     "output_type": "execute_result"
    }
   ],
   "source": [
    "F = lambda beta: rsp.arma_s_resid_sc(x,beta,p,q)\n",
    "\n",
    "beta_hat = minimize(F,beta_init,method='CG')['x']\n",
    "\n",
    "beta_hat, F(beta_hat)"
   ]
  },
  {
   "cell_type": "markdown",
   "metadata": {},
   "source": [
    "#### bip_s_resid_sc"
   ]
  },
  {
   "cell_type": "code",
   "execution_count": 44,
   "metadata": {},
   "outputs": [
    {
     "data": {
      "text/plain": [
       "(array([ 0.79397946, -0.18329325]), 1.0908345081431288)"
      ]
     },
     "execution_count": 44,
     "metadata": {},
     "output_type": "execute_result"
    }
   ],
   "source": [
    "F = lambda beta: rsp.bip_s_resid_sc(x,beta,p,q)[0]\n",
    "\n",
    "beta_hat = minimize(F,beta_init,method='CG')['x']\n",
    "\n",
    "beta_hat, F(beta_hat)"
   ]
  },
  {
   "cell_type": "markdown",
   "metadata": {},
   "source": [
    "# MA(0,2)"
   ]
  },
  {
   "cell_type": "code",
   "execution_count": 3,
   "metadata": {},
   "outputs": [],
   "source": [
    "import numpy as np\n",
    "import robustsp as rsp\n",
    "import scipy.io as sio\n",
    "from scipy.optimize import least_squares as lsq\n",
    "from scipy.optimize import minimize\n",
    "from scipy.optimize import minimize_scalar\n",
    "import scipy.optimize as sop\n",
    "p=0\n",
    "\n",
    "q=2\n",
    "# -.7, .5\n",
    "x = sio.loadmat('x_ao_ma2')['x_ao'].flatten()\n",
    "\n",
    "beta_init = rsp.robust_starting_point(x,p,q,enf_stat=True)[0] # 0,0 for not stat else array([-0.69099319,  0.47816057]) in matlab:     0.6730, -0.4944\n"
   ]
  },
  {
   "cell_type": "code",
   "execution_count": 6,
   "metadata": {},
   "outputs": [],
   "source": [
    "# beta_init = np.array([.673, -.4944]) matlabs robust starting point"
   ]
  },
  {
   "cell_type": "markdown",
   "metadata": {
    "toc-hr-collapsed": true
   },
   "source": [
    "### BFGS"
   ]
  },
  {
   "cell_type": "markdown",
   "metadata": {},
   "source": [
    "#### arma_s_resid_sc"
   ]
  },
  {
   "cell_type": "code",
   "execution_count": 4,
   "metadata": {},
   "outputs": [
    {
     "data": {
      "text/plain": [
       "(array([-0.69099319,  0.47816057]), 10000000000)"
      ]
     },
     "execution_count": 4,
     "metadata": {},
     "output_type": "execute_result"
    }
   ],
   "source": [
    "F = lambda beta: rsp.arma_s_resid_sc(x,beta,p,q)\n",
    "\n",
    "beta_hat = minimize(F,beta_init,method='BFGS')['x']\n",
    "\n",
    "beta_hat, F(beta_hat)"
   ]
  },
  {
   "cell_type": "markdown",
   "metadata": {},
   "source": [
    "#### bip_s_resid_sc"
   ]
  },
  {
   "cell_type": "code",
   "execution_count": 5,
   "metadata": {},
   "outputs": [
    {
     "data": {
      "text/plain": [
       "(array([-0.69099319,  0.47816057]), 10000000000)"
      ]
     },
     "execution_count": 5,
     "metadata": {},
     "output_type": "execute_result"
    }
   ],
   "source": [
    "F = lambda beta: rsp.bip_s_resid_sc(x,beta,p,q)[0]\n",
    "\n",
    "beta_hat = minimize(F,beta_init,method='BFGS')['x']\n",
    "\n",
    "beta_hat, F(beta_hat)"
   ]
  },
  {
   "cell_type": "markdown",
   "metadata": {
    "toc-hr-collapsed": true
   },
   "source": [
    "### L-BFGS-B"
   ]
  },
  {
   "cell_type": "markdown",
   "metadata": {},
   "source": [
    "#### arma_s_resid_sc"
   ]
  },
  {
   "cell_type": "code",
   "execution_count": 6,
   "metadata": {},
   "outputs": [
    {
     "data": {
      "text/plain": [
       "(array([-0.69099319,  0.47816057]), 10000000000)"
      ]
     },
     "execution_count": 6,
     "metadata": {},
     "output_type": "execute_result"
    }
   ],
   "source": [
    "F = lambda beta: rsp.arma_s_resid_sc(x,beta,p,q)\n",
    "\n",
    "beta_hat = minimize(F,beta_init,method='L-BFGS-B')['x']\n",
    "\n",
    "beta_hat, F(beta_hat)"
   ]
  },
  {
   "cell_type": "markdown",
   "metadata": {},
   "source": [
    "#### bip_s_resid_sc"
   ]
  },
  {
   "cell_type": "code",
   "execution_count": 7,
   "metadata": {},
   "outputs": [
    {
     "data": {
      "text/plain": [
       "(array([-0.69099319,  0.47816057]), 10000000000)"
      ]
     },
     "execution_count": 7,
     "metadata": {},
     "output_type": "execute_result"
    }
   ],
   "source": [
    "F = lambda beta: rsp.bip_s_resid_sc(x,beta,p,q)[0]\n",
    "\n",
    "beta_hat = minimize(F,beta_init,method='L-BFGS-B')['x']\n",
    "\n",
    "beta_hat, F(beta_hat)"
   ]
  },
  {
   "cell_type": "markdown",
   "metadata": {
    "toc-hr-collapsed": true
   },
   "source": [
    "### SLSQP"
   ]
  },
  {
   "cell_type": "markdown",
   "metadata": {},
   "source": [
    "#### arma_s_resid_sc"
   ]
  },
  {
   "cell_type": "code",
   "execution_count": 8,
   "metadata": {},
   "outputs": [
    {
     "data": {
      "text/plain": [
       "(array([-0.69099319,  0.47816057]), 10000000000)"
      ]
     },
     "execution_count": 8,
     "metadata": {},
     "output_type": "execute_result"
    }
   ],
   "source": [
    "F = lambda beta: rsp.arma_s_resid_sc(x,beta,p,q)\n",
    "\n",
    "beta_hat = minimize(F,beta_init,method='SLSQP')['x']\n",
    "\n",
    "beta_hat, F(beta_hat)"
   ]
  },
  {
   "cell_type": "markdown",
   "metadata": {},
   "source": [
    "#### bip_s_resid_sc"
   ]
  },
  {
   "cell_type": "code",
   "execution_count": 9,
   "metadata": {},
   "outputs": [
    {
     "data": {
      "text/plain": [
       "(array([-0.69099319,  0.47816057]), 10000000000)"
      ]
     },
     "execution_count": 9,
     "metadata": {},
     "output_type": "execute_result"
    }
   ],
   "source": [
    "F = lambda beta: rsp.bip_s_resid_sc(x,beta,p,q)[0]\n",
    "\n",
    "beta_hat = minimize(F,beta_init,method='SLSQP')['x']\n",
    "\n",
    "beta_hat, F(beta_hat)"
   ]
  },
  {
   "cell_type": "markdown",
   "metadata": {
    "toc-hr-collapsed": true
   },
   "source": [
    "### Nelder-Mead"
   ]
  },
  {
   "cell_type": "markdown",
   "metadata": {},
   "source": [
    "#### arma_s_resid_sc"
   ]
  },
  {
   "cell_type": "code",
   "execution_count": 10,
   "metadata": {},
   "outputs": [
    {
     "data": {
      "text/plain": [
       "(array([-0.69099319,  0.47816057]), 10000000000)"
      ]
     },
     "execution_count": 10,
     "metadata": {},
     "output_type": "execute_result"
    }
   ],
   "source": [
    "F = lambda beta: rsp.arma_s_resid_sc(x,beta,p,q)\n",
    "\n",
    "beta_hat = minimize(F,beta_init,method='Nelder-Mead')['x']\n",
    "\n",
    "beta_hat, F(beta_hat)"
   ]
  },
  {
   "cell_type": "markdown",
   "metadata": {},
   "source": [
    "#### bip_s_resid_sc"
   ]
  },
  {
   "cell_type": "code",
   "execution_count": 11,
   "metadata": {},
   "outputs": [
    {
     "data": {
      "text/plain": [
       "(array([-0.69099319,  0.47816057]), 10000000000)"
      ]
     },
     "execution_count": 11,
     "metadata": {},
     "output_type": "execute_result"
    }
   ],
   "source": [
    "F = lambda beta: rsp.bip_s_resid_sc(x,beta,p,q)[0]\n",
    "\n",
    "beta_hat = minimize(F,beta_init,method='Nelder-Mead')['x']\n",
    "\n",
    "beta_hat, F(beta_hat)"
   ]
  },
  {
   "cell_type": "markdown",
   "metadata": {
    "toc-hr-collapsed": true
   },
   "source": [
    "### COBYLA"
   ]
  },
  {
   "cell_type": "markdown",
   "metadata": {
    "toc-hr-collapsed": true
   },
   "source": [
    "#### arma_s_resid_sc"
   ]
  },
  {
   "cell_type": "code",
   "execution_count": 12,
   "metadata": {},
   "outputs": [
    {
     "data": {
      "text/plain": [
       "(array([-0.00108238,  0.00229208]), 1.7910749706147773)"
      ]
     },
     "execution_count": 12,
     "metadata": {},
     "output_type": "execute_result"
    }
   ],
   "source": [
    "F = lambda beta: rsp.arma_s_resid_sc(x,beta,p,q)\n",
    "\n",
    "beta_hat = minimize(F,beta_init,method='COBYLA')['x']\n",
    "\n",
    "beta_hat, F(beta_hat)"
   ]
  },
  {
   "cell_type": "markdown",
   "metadata": {},
   "source": [
    "#### bip_s_resid_sc"
   ]
  },
  {
   "cell_type": "code",
   "execution_count": 13,
   "metadata": {},
   "outputs": [
    {
     "data": {
      "text/plain": [
       "(array([ 0.65469169, -0.48208362]), 1.4114200992569432)"
      ]
     },
     "execution_count": 13,
     "metadata": {},
     "output_type": "execute_result"
    }
   ],
   "source": [
    "F = lambda beta: rsp.bip_s_resid_sc(x,beta,p,q)[0]\n",
    "\n",
    "beta_hat = minimize(F,beta_init,method='COBYLA')['x']\n",
    "\n",
    "beta_hat, F(beta_hat)"
   ]
  },
  {
   "cell_type": "markdown",
   "metadata": {
    "toc-hr-collapsed": true
   },
   "source": [
    "### CG"
   ]
  },
  {
   "cell_type": "markdown",
   "metadata": {
    "toc-hr-collapsed": true
   },
   "source": [
    "#### arma_s_resid_sc"
   ]
  },
  {
   "cell_type": "code",
   "execution_count": 14,
   "metadata": {},
   "outputs": [
    {
     "data": {
      "text/plain": [
       "(array([-0.69099319,  0.47816057]), 10000000000)"
      ]
     },
     "execution_count": 14,
     "metadata": {},
     "output_type": "execute_result"
    }
   ],
   "source": [
    "F = lambda beta: rsp.arma_s_resid_sc(x,beta,p,q)\n",
    "\n",
    "beta_hat = minimize(F,beta_init,method='CG')['x']\n",
    "\n",
    "beta_hat, F(beta_hat)"
   ]
  },
  {
   "cell_type": "markdown",
   "metadata": {},
   "source": [
    "#### bip_s_resid_sc"
   ]
  },
  {
   "cell_type": "code",
   "execution_count": 15,
   "metadata": {},
   "outputs": [
    {
     "data": {
      "text/plain": [
       "(array([-0.69099319,  0.47816057]), 10000000000)"
      ]
     },
     "execution_count": 15,
     "metadata": {},
     "output_type": "execute_result"
    }
   ],
   "source": [
    "F = lambda beta: rsp.bip_s_resid_sc(x,beta,p,q)[0]\n",
    "\n",
    "beta_hat = minimize(F,beta_init,method='CG')['x']\n",
    "\n",
    "beta_hat, F(beta_hat)"
   ]
  },
  {
   "cell_type": "markdown",
   "metadata": {
    "toc-hr-collapsed": true
   },
   "source": [
    "### trf"
   ]
  },
  {
   "cell_type": "markdown",
   "metadata": {
    "toc-hr-collapsed": true
   },
   "source": [
    "#### arma_s_resid_sc"
   ]
  },
  {
   "cell_type": "code",
   "execution_count": 16,
   "metadata": {},
   "outputs": [
    {
     "data": {
      "text/plain": [
       "(array([-0.69099319,  0.47816057]), 10000000000)"
      ]
     },
     "execution_count": 16,
     "metadata": {},
     "output_type": "execute_result"
    }
   ],
   "source": [
    "F = lambda beta: rsp.arma_s_resid_sc(x,beta,p,q)\n",
    "\n",
    "beta_hat = lsq(F,beta_init,xtol=5*1e-7,ftol=5*1e-7,method='trf')['x']\n",
    "\n",
    "beta_hat, F(beta_hat)"
   ]
  },
  {
   "cell_type": "markdown",
   "metadata": {},
   "source": [
    "#### bip_s_resid_sc"
   ]
  },
  {
   "cell_type": "code",
   "execution_count": 17,
   "metadata": {},
   "outputs": [
    {
     "data": {
      "text/plain": [
       "(array([-0.69099319,  0.47816057]), 10000000000)"
      ]
     },
     "execution_count": 17,
     "metadata": {},
     "output_type": "execute_result"
    }
   ],
   "source": [
    "F = lambda beta: rsp.bip_s_resid_sc(x,beta,p,q)[0]\n",
    "\n",
    "beta_hat = lsq(F,beta_init,xtol=5*1e-7,ftol=5*1e-7,method='trf')['x']\n",
    "\n",
    "beta_hat, F(beta_hat)"
   ]
  },
  {
   "cell_type": "markdown",
   "metadata": {
    "toc-hr-collapsed": true
   },
   "source": [
    "### CG"
   ]
  },
  {
   "cell_type": "markdown",
   "metadata": {
    "toc-hr-collapsed": true
   },
   "source": [
    "#### arma_s_resid_sc"
   ]
  },
  {
   "cell_type": "code",
   "execution_count": 18,
   "metadata": {},
   "outputs": [
    {
     "data": {
      "text/plain": [
       "(array([-0.69099319,  0.47816057]), 10000000000)"
      ]
     },
     "execution_count": 18,
     "metadata": {},
     "output_type": "execute_result"
    }
   ],
   "source": [
    "F = lambda beta: rsp.arma_s_resid_sc(x,beta,p,q)\n",
    "\n",
    "beta_hat = minimize(F,beta_init,method='CG')['x']\n",
    "\n",
    "beta_hat, F(beta_hat)"
   ]
  },
  {
   "cell_type": "markdown",
   "metadata": {},
   "source": [
    "#### bip_s_resid_sc"
   ]
  },
  {
   "cell_type": "code",
   "execution_count": 44,
   "metadata": {},
   "outputs": [
    {
     "data": {
      "text/plain": [
       "(array([ 0.79397946, -0.18329325]), 1.0908345081431288)"
      ]
     },
     "execution_count": 44,
     "metadata": {},
     "output_type": "execute_result"
    }
   ],
   "source": [
    "F = lambda beta: rsp.bip_s_resid_sc(x,beta,p,q)[0]\n",
    "\n",
    "beta_hat = minimize(F,beta_init,method='CG')['x']\n",
    "\n",
    "beta_hat, F(beta_hat)"
   ]
  }
 ],
 "metadata": {
  "kernelspec": {
   "display_name": "Python 3",
   "language": "python",
   "name": "python3"
  },
  "language_info": {
   "codemirror_mode": {
    "name": "ipython",
    "version": 3
   },
   "file_extension": ".py",
   "mimetype": "text/x-python",
   "name": "python",
   "nbconvert_exporter": "python",
   "pygments_lexer": "ipython3",
   "version": "3.6.8"
  }
 },
 "nbformat": 4,
 "nbformat_minor": 2
}
