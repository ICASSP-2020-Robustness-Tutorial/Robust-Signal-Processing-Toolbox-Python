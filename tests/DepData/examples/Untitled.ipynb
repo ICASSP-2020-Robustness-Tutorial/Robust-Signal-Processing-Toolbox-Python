{
 "cells": [
  {
   "cell_type": "code",
   "execution_count": 4,
   "metadata": {},
   "outputs": [
    {
     "ename": "TypeError",
     "evalue": "ufunc 'isfinite' not supported for the input types, and the inputs could not be safely coerced to any supported types according to the casting rule ''safe''",
     "output_type": "error",
     "traceback": [
      "\u001b[1;31m---------------------------------------------------------------------------\u001b[0m",
      "\u001b[1;31mTypeError\u001b[0m                                 Traceback (most recent call last)",
      "\u001b[1;32m<ipython-input-4-39c9df7903cb>\u001b[0m in \u001b[0;36m<module>\u001b[1;34m\u001b[0m\n\u001b[0;32m     16\u001b[0m \u001b[1;33m\u001b[0m\u001b[0m\n\u001b[0;32m     17\u001b[0m \u001b[0mF_bip\u001b[0m \u001b[1;33m=\u001b[0m \u001b[1;32mlambda\u001b[0m \u001b[0mbeta\u001b[0m\u001b[1;33m:\u001b[0m \u001b[0mrsp\u001b[0m\u001b[1;33m.\u001b[0m\u001b[0mbip_s_resid_sc\u001b[0m\u001b[1;33m(\u001b[0m\u001b[0mx_ao\u001b[0m\u001b[1;33m,\u001b[0m \u001b[0mbeta\u001b[0m\u001b[1;33m,\u001b[0m \u001b[0mp\u001b[0m\u001b[1;33m,\u001b[0m \u001b[0mq\u001b[0m\u001b[1;33m)\u001b[0m\u001b[1;33m[\u001b[0m\u001b[1;36m2\u001b[0m\u001b[1;33m]\u001b[0m \u001b[1;32mif\u001b[0m \u001b[0mlen\u001b[0m\u001b[1;33m(\u001b[0m\u001b[0mbeta\u001b[0m\u001b[1;33m)\u001b[0m\u001b[1;33m!=\u001b[0m\u001b[1;36m1\u001b[0m \u001b[1;32melse\u001b[0m \u001b[1;32mlambda\u001b[0m \u001b[0mbeta\u001b[0m\u001b[1;33m:\u001b[0m \u001b[0mrsp\u001b[0m\u001b[1;33m.\u001b[0m\u001b[0mbip_s_resid_sc\u001b[0m\u001b[1;33m(\u001b[0m\u001b[0mx_ao\u001b[0m\u001b[1;33m,\u001b[0m \u001b[0mbeta\u001b[0m\u001b[1;33m,\u001b[0m \u001b[0mp\u001b[0m\u001b[1;33m,\u001b[0m \u001b[0mq\u001b[0m\u001b[1;33m)\u001b[0m\u001b[1;33m[\u001b[0m\u001b[1;36m0\u001b[0m\u001b[1;33m]\u001b[0m\u001b[1;33m\u001b[0m\u001b[1;33m\u001b[0m\u001b[0m\n\u001b[1;32m---> 18\u001b[1;33m \u001b[0mbeta_bip\u001b[0m \u001b[1;33m=\u001b[0m \u001b[0mlsq\u001b[0m\u001b[1;33m(\u001b[0m\u001b[0mF_bip\u001b[0m\u001b[1;33m,\u001b[0m \u001b[0mbeta_initial\u001b[0m\u001b[1;33m,\u001b[0m\u001b[0mxtol\u001b[0m\u001b[1;33m=\u001b[0m\u001b[1;36m5\u001b[0m\u001b[1;33m*\u001b[0m\u001b[1;36m1e-7\u001b[0m\u001b[1;33m,\u001b[0m\u001b[0mftol\u001b[0m\u001b[1;33m=\u001b[0m\u001b[1;36m5\u001b[0m\u001b[1;33m*\u001b[0m\u001b[1;36m1e-7\u001b[0m\u001b[1;33m,\u001b[0m\u001b[0mmethod\u001b[0m\u001b[1;33m=\u001b[0m\u001b[1;34m'lm'\u001b[0m\u001b[1;33m)\u001b[0m\u001b[1;33m[\u001b[0m\u001b[1;34m'x'\u001b[0m\u001b[1;33m]\u001b[0m \u001b[1;31m# should -.7811\u001b[0m\u001b[1;33m\u001b[0m\u001b[1;33m\u001b[0m\u001b[0m\n\u001b[0m\u001b[0;32m     19\u001b[0m \u001b[0ma\u001b[0m\u001b[1;33m,\u001b[0m\u001b[0mxf\u001b[0m\u001b[1;33m,\u001b[0m\u001b[0mc\u001b[0m \u001b[1;33m=\u001b[0m \u001b[0mrsp\u001b[0m\u001b[1;33m.\u001b[0m\u001b[0mbip_s_resid_sc\u001b[0m\u001b[1;33m(\u001b[0m\u001b[0mx_ao\u001b[0m\u001b[1;33m,\u001b[0m\u001b[0mbeta_bip\u001b[0m\u001b[1;33m,\u001b[0m\u001b[0mp\u001b[0m\u001b[1;33m,\u001b[0m\u001b[0mq\u001b[0m\u001b[1;33m)\u001b[0m\u001b[1;33m\u001b[0m\u001b[1;33m\u001b[0m\u001b[0m\n\u001b[0;32m     20\u001b[0m \u001b[1;33m\u001b[0m\u001b[0m\n",
      "\u001b[1;32mc:\\users\\computer\\appdata\\local\\programs\\python\\python36\\lib\\site-packages\\scipy\\optimize\\_lsq\\least_squares.py\u001b[0m in \u001b[0;36mleast_squares\u001b[1;34m(fun, x0, jac, bounds, method, ftol, xtol, gtol, x_scale, loss, f_scale, diff_step, tr_solver, tr_options, jac_sparsity, max_nfev, verbose, args, kwargs)\u001b[0m\n\u001b[0;32m    801\u001b[0m         \u001b[1;32mraise\u001b[0m \u001b[0mValueError\u001b[0m\u001b[1;33m(\u001b[0m\u001b[1;34m\"`fun` must return at most 1-d array_like.\"\u001b[0m\u001b[1;33m)\u001b[0m\u001b[1;33m\u001b[0m\u001b[1;33m\u001b[0m\u001b[0m\n\u001b[0;32m    802\u001b[0m \u001b[1;33m\u001b[0m\u001b[0m\n\u001b[1;32m--> 803\u001b[1;33m     \u001b[1;32mif\u001b[0m \u001b[1;32mnot\u001b[0m \u001b[0mnp\u001b[0m\u001b[1;33m.\u001b[0m\u001b[0mall\u001b[0m\u001b[1;33m(\u001b[0m\u001b[0mnp\u001b[0m\u001b[1;33m.\u001b[0m\u001b[0misfinite\u001b[0m\u001b[1;33m(\u001b[0m\u001b[0mf0\u001b[0m\u001b[1;33m)\u001b[0m\u001b[1;33m)\u001b[0m\u001b[1;33m:\u001b[0m\u001b[1;33m\u001b[0m\u001b[1;33m\u001b[0m\u001b[0m\n\u001b[0m\u001b[0;32m    804\u001b[0m         \u001b[1;32mraise\u001b[0m \u001b[0mValueError\u001b[0m\u001b[1;33m(\u001b[0m\u001b[1;34m\"Residuals are not finite in the initial point.\"\u001b[0m\u001b[1;33m)\u001b[0m\u001b[1;33m\u001b[0m\u001b[1;33m\u001b[0m\u001b[0m\n\u001b[0;32m    805\u001b[0m \u001b[1;33m\u001b[0m\u001b[0m\n",
      "\u001b[1;31mTypeError\u001b[0m: ufunc 'isfinite' not supported for the input types, and the inputs could not be safely coerced to any supported types according to the casting rule ''safe''"
     ]
    }
   ],
   "source": [
    "import numpy as np\n",
    "import scipy.io as sio\n",
    "import scipy.signal as sps\n",
    "import robustsp as rsp\n",
    "import matplotlib.pyplot as plt\n",
    "import matplotlib\n",
    "\n",
    "p=1\n",
    "q=0\n",
    "x = sio.loadmat('x')['x'].flatten()\n",
    "x_ao = sio.loadmat('x_ao')['x_ao'].flatten() # max(x) = 4.6821\n",
    "\n",
    "# snippet from arma_est_bip_s that utilizes bip_s_resid_sc \n",
    "from scipy.optimize import least_squares as lsq\n",
    "beta_initial = rsp.robust_starting_point(x_ao,p,q)[0] # stimmt\n",
    "\n",
    "F_bip = lambda beta: rsp.bip_s_resid_sc(x_ao, beta, p, q)[2] if len(beta)!=1 else lambda beta: rsp.bip_s_resid_sc(x_ao, beta, p, q)[0]\n",
    "beta_bip = lsq(F_bip, beta_initial,xtol=5*1e-7,ftol=5*1e-7,method='lm')['x'] # should -.7811\n",
    "a,xf,c = rsp.bip_s_resid_sc(x_ao,beta_bip,p,q)\n",
    " \n",
    "print(beta_bip,[-.7811])\n",
    "print(a, rsp.bip_s_resid_sc(x_ao, [-.7811], p, q)[0])\n",
    "np.max(xf), np.max(rsp.bip_s_resid_sc(x_ao, [-.7811], p, q)[1]),np.max(x)"
   ]
  },
  {
   "cell_type": "code",
   "execution_count": 6,
   "metadata": {},
   "outputs": [
    {
     "data": {
      "text/plain": [
       "(2.534609372401701, 4.682137999981019, 4.769117471003652)"
      ]
     },
     "execution_count": 6,
     "metadata": {},
     "output_type": "execute_result"
    }
   ],
   "source": [
    "np.max(rsp.bip_s_resid_sc(x, beta_bip, p, q)[1]), np.max(x), np.max(rsp.bip_s_resid_sc(x_ao, [-.7811], p, q)[1])"
   ]
  },
  {
   "cell_type": "code",
   "execution_count": 9,
   "metadata": {},
   "outputs": [
    {
     "data": {
      "text/plain": [
       "(0.0, 4.682137999981019)"
      ]
     },
     "execution_count": 9,
     "metadata": {},
     "output_type": "execute_result"
    }
   ],
   "source": [
    "res0=rsp.arma_est_bip_s(x_ao,p,q) # x_filt from rsp.bip_s_resid_sc(x, beta_bip, p, q)[1]\n",
    "np.max(res0['cleaned_signal']), np.max(x)"
   ]
  },
  {
   "cell_type": "code",
   "execution_count": 8,
   "metadata": {},
   "outputs": [
    {
     "data": {
      "text/plain": [
       "(0.0, 4.682137999981019)"
      ]
     },
     "execution_count": 8,
     "metadata": {},
     "output_type": "execute_result"
    }
   ],
   "source": [
    "result = rsp.arma_est_bip_mm(x_ao,p,q) # x_filt from rsp.arma_est_bip_s(x,p,q)\n",
    "np.max(result['cleaned_signal']), np.max(x)"
   ]
  },
  {
   "cell_type": "code",
   "execution_count": 8,
   "metadata": {},
   "outputs": [
    {
     "data": {
      "text/plain": [
       "(array([1.39002852]), 4.769117471003652, 275.1901935905804)"
      ]
     },
     "execution_count": 8,
     "metadata": {},
     "output_type": "execute_result"
    }
   ],
   "source": [
    "beta_bip, np.max(rsp.bip_s_resid_sc(x_ao,[-.75], p, q)[1]) ,np.max(rsp.bip_s_resid_sc(x_ao, beta_bip, p, q)[1]) # should be ~4.7"
   ]
  },
  {
   "cell_type": "code",
   "execution_count": 11,
   "metadata": {},
   "outputs": [
    {
     "data": {
      "text/plain": [
       "(0.9102497169668862, 1.86631033110071)"
      ]
     },
     "execution_count": 11,
     "metadata": {},
     "output_type": "execute_result"
    }
   ],
   "source": [
    "phi_hat = np.array(beta_initial[:p])\n",
    "theta_hat = np.array(beta_initial[p:])\n",
    "N = len(x_ao)\n",
    "r = max(p,q)\n",
    "\n",
    "a_bip = np.zeros(N)\n",
    "kap2 = 0.8724286\n",
    "x_sc = rsp.m_scale(x_ao)\n",
    "lamb = rsp.ma_infinity(phi_hat, -1*theta_hat, 100)\n",
    "sigma_hat = np.sqrt(x_sc**2/(1+kap2*np.sum(lamb**2)))\n",
    "# AR Model\n",
    "for ii in range(r,N):\n",
    "    xArr = x[ii-1::-1] if ii-p-1 < 0 else x[ii-1:ii-p-1:-1]\n",
    "    apArr = a_bip[ii-1::-1] if ii-p-1 < 0 else a_bip[ii-1:ii-p-1:-1]\n",
    "\n",
    "    a_bip[ii] = x[ii]-phi_hat@(xArr-apArr\\\n",
    "    +sigma_hat*rsp.eta(apArr/sigma_hat))\n",
    "\n",
    "\n",
    "a_bip_sc = rsp.m_scale(a_bip[p:])\n",
    "   \n",
    "a_bip_sc, rsp.bip_s_resid_sc(x_ao, beta_initial, p, q)[0]"
   ]
  },
  {
   "cell_type": "code",
   "execution_count": 7,
   "metadata": {},
   "outputs": [
    {
     "data": {
      "text/plain": [
       "(0.9179389286960025, 4.769117471003652, 4.682137999981019)"
      ]
     },
     "execution_count": 7,
     "metadata": {},
     "output_type": "execute_result"
    }
   ],
   "source": [
    "beta_hat = beta_initial[:]\n",
    "\n",
    "phi_hat = np.array(beta_hat[:p]) # [] if p=0, MA case\n",
    "\n",
    "theta_hat = np.array(beta_hat[p:]) # [] if p=length(beta_hat), AR case\n",
    "\n",
    "#x = np.array(x)\n",
    "N = len(x)\n",
    "r = max(p,q)\n",
    "\n",
    "a_bip = np.zeros(N)\n",
    "\n",
    "x_sc = rsp.m_scale(x)\n",
    "\n",
    "kap2 = 0.8724286\n",
    "\n",
    "poles = lambda x: np.sum(np.abs(np.roots(-1*np.array([-1,*x]))) >1)\n",
    "\n",
    "if poles(phi_hat) or poles(theta_hat):\n",
    "    sigma_hat = x_sc   \n",
    "else:\n",
    "    lamb = rsp.ma_infinity(phi_hat, -1*theta_hat, 100) # MA infinity approximation to compute scale used in eta function\n",
    "    sigma_hat = np.sqrt(x_sc**2/(1+kap2*np.sum(lamb**2))) # scale used in eta\n",
    "\n",
    "if r == 0:\n",
    "    a_sc_bip = x_sc\n",
    "    a_bip = np.array(x)\n",
    "else:\n",
    "    if poles(phi_hat) or poles(theta_hat):\n",
    "        pass\n",
    "        #return 10**10,a_bip,a_bip[p:]\n",
    "    elif p>=1 and q>=1:\n",
    "        # ARMA model\n",
    "        for ii in range(r,N):\n",
    "            # BIP-ARMA residuals\n",
    "            xArr = x[ii-1::-1] if ii-p-1 < 0 else x[ii-1:ii-p-1:-1]\n",
    "            aArr = a_bip[ii-1::-1] if ii-q-1 < 0 else a_bip[ii-1:ii-q-1:-1]\n",
    "            apArr = a_bip[ii-1::-1] if ii-p-1 < 0 else a_bip[ii-1:ii-p-1:-1]\n",
    "\n",
    "            a_bip[ii] = x[ii]\\\n",
    "            -phi_hat@(xArr-apArr+sigma_hat*rsp.eta(apArr/sigma_hat))+sigma_hat*(theta_hat[None,:])@(rsp.eta(aArr/sigma_hat)[:,None])\n",
    "\n",
    "    elif p==0 and q>=1:\n",
    "        # MA residuals\n",
    "        for ii in range(r,N):\n",
    "            # BIP-MA residuals\n",
    "            aArr = a_bip[ii-1::-1] if ii-q-1 < 0 else a_bip[ii-1:ii-q-1:-1]\n",
    "\n",
    "            a_bip[ii] = x[ii]+theta_hat[None,:]@(sigma_hat*rsp.eta(aArr/sigma_hat)[:,None])\n",
    "\n",
    "    elif p>=1 and q==0:\n",
    "        # AR Model\n",
    "        for ii in range(r,N):\n",
    "            xArr = x[ii-1::-1] if ii-p-1 < 0 else x[ii-1:ii-p-1:-1]\n",
    "            apArr = a_bip[ii-1::-1] if ii-p-1 < 0 else a_bip[ii-1:ii-p-1:-1]\n",
    "\n",
    "            a_bip[ii] = x[ii]-phi_hat@(xArr-apArr\\\n",
    "            +sigma_hat*rsp.eta(apArr/sigma_hat))\n",
    "\n",
    "\n",
    "    a_bip_sc = rsp.m_scale(a_bip[p:])\n",
    "    x_filt = np.array(x)\n",
    "\n",
    "    for ii in range(p,N):\n",
    "        x_filt[ii] = x[ii] - a_bip[ii] + sigma_hat * rsp.eta(a_bip[ii]/sigma_hat)\n",
    "\n",
    "a_bip_sc, np.max(rsp.bip_s_resid_sc(x_ao, beta_initial, p, q)[1]), np.max(x)"
   ]
  }
 ],
 "metadata": {
  "kernelspec": {
   "display_name": "Python 3",
   "language": "python",
   "name": "python3"
  },
  "language_info": {
   "codemirror_mode": {
    "name": "ipython",
    "version": 3
   },
   "file_extension": ".py",
   "mimetype": "text/x-python",
   "name": "python",
   "nbconvert_exporter": "python",
   "pygments_lexer": "ipython3",
   "version": "3.6.8"
  }
 },
 "nbformat": 4,
 "nbformat_minor": 2
}
