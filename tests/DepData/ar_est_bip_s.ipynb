{
 "cells": [
  {
   "cell_type": "code",
   "execution_count": null,
   "metadata": {},
   "outputs": [],
   "source": [
    "[phi_hat, x_filt, a_scale_final]=ar_est_bip_s([1 2 3 4 5]', 2)\n",
    "\n",
    "phi_hat =\n",
    "\n",
    "    1.9701   -0.9900\n",
    "\n",
    "\n",
    "x_filt =\n",
    "\n",
    "     0\n",
    "     0\n",
    "     3\n",
    "     4\n",
    "     5\n",
    "\n",
    "\n",
    "a_scale_final =\n",
    "\n",
    "    4.3116    1.4040    0.0978"
   ]
  },
  {
   "cell_type": "code",
   "execution_count": 1,
   "metadata": {},
   "outputs": [],
   "source": [
    "import numpy as np\n",
    "\n",
    "def ar_est_bip_s(x, P):\n",
    "    '''\n",
    "    Inputs:\n",
    "    x   : 1darray, dtype=float. data\n",
    "    P   : scalar. Autoregressive order\n",
    "    '''\n",
    "    N = len(x);\n",
    "    kap2 = 0.8724286\n",
    "    phi_grid = np.arange(-.99,.991,.05) # coarse grid search\n",
    "    fine_grid= np.arange(-.99,.991,.001) # finer grid via polynomial interpolation\n",
    "    a_bip_sc = np.zeros([len(phi_grid)]) # residual scale for BIP-AR on finer grid \n",
    "    a_sc = np.zeros(len(phi_grid)) # residual scale for AR on finer grid\n",
    "    \n",
    "    # The following was introduced so as not to predict based\n",
    "    # on highly contaminated data in the\n",
    "    # first few samples.\n",
    "    \n",
    "    x_tran = x[:min(10,np.floor(N/2))]\n",
    "    sig_x_tran = np.median(np.abs(x-np.median(x)))\n",
    "    x_tran[np.abs(x_tran)>3*sig_x_tran] = 3*sig_x_tran*np.sign(x_tran[np.abs(x_tran)>3*sig_x_tran])\n",
    "    xx = x_tran[x_tran(1:min(10,floor(N/2)))]\n",
    "    \n",
    "    # Autoregressive order zero\n",
    "    if P==0:\n",
    "        phi_hat = [] # return empty AR-parameter vector\n",
    "        a_scale_final = rsp.m_scale(x)\n",
    "    elif P == 1:\n",
    "        x_filt, phi_hat, a_sclae_final = rsp.bip_ar1_s(x,N,phi_grid,fine_grid,kap2)\n",
    "        \n",
    "    return phi_hat, x_filt, a_scale_final"
   ]
  },
  {
   "cell_type": "code",
   "execution_count": 2,
   "metadata": {},
   "outputs": [
    {
     "data": {
      "text/plain": [
       "array([-0.99, -0.94, -0.89, -0.84, -0.79, -0.74, -0.69, -0.64, -0.59,\n",
       "       -0.54, -0.49, -0.44, -0.39, -0.34, -0.29, -0.24, -0.19, -0.14,\n",
       "       -0.09, -0.04,  0.01,  0.06,  0.11,  0.16,  0.21,  0.26,  0.31,\n",
       "        0.36,  0.41,  0.46,  0.51,  0.56,  0.61,  0.66,  0.71,  0.76,\n",
       "        0.81,  0.86,  0.91,  0.96])"
      ]
     },
     "execution_count": 2,
     "metadata": {},
     "output_type": "execute_result"
    }
   ],
   "source": [
    "np.arange(-.99,.991,.05)"
   ]
  },
  {
   "cell_type": "code",
   "execution_count": null,
   "metadata": {},
   "outputs": [],
   "source": [
    "def bip_ar1_s(x, N, phi_grid, fine_grid,kap2):\n",
    "    a_scale_final = m_scale(x)\n",
    "    \n",
    "    # grid search for partial autocorrelations\n",
    "    for mm in range(len(phi_grid)):\n",
    "        a = np.zeros(x.shape)\n",
    "        a2= np.zeros(x.shape)\n",
    "        \n",
    "        lambd = "
   ]
  },
  {
   "cell_type": "code",
   "execution_count": 20,
   "metadata": {},
   "outputs": [
    {
     "data": {
      "text/plain": [
       "array([ 5., 12.])"
      ]
     },
     "execution_count": 20,
     "metadata": {},
     "output_type": "execute_result"
    }
   ],
   "source": [
    "'''\n",
    ">> ma_infinity([1,2,3]',[4 ,5,6,7]',2)\n",
    "\n",
    "ans =\n",
    "\n",
    "     5\n",
    "    12\n",
    "'''\n",
    "\n",
    "\n",
    "import numpy as np\n",
    "import scipy.signal as sps\n",
    "\n",
    "def ma_infinity(phi, theta, Q_long):\n",
    "    t = theta.flatten()\n",
    "    ph= phi.flatten()\n",
    "    \n",
    "    Q = len(t) # MA order\n",
    "    P = len(ph)# AR order\n",
    "    i1 = np.array([1.0, *t, *np.zeros(Q_long+P+Q)])\n",
    "    i2 = np.array([1.0,  *(-ph)])\n",
    "    theta_inf = sps.deconvolve(i1,i2)[0]\n",
    "\n",
    "    theta_inf = theta_inf[1:Q_long+1]\n",
    "    \n",
    "    return theta_inf\n",
    "\n",
    "ma_infinity(np.array((1,2,3)), np.array((4,5,6,7)), 2)"
   ]
  }
 ],
 "metadata": {
  "kernelspec": {
   "display_name": "Python 3",
   "language": "python",
   "name": "python3"
  },
  "language_info": {
   "codemirror_mode": {
    "name": "ipython",
    "version": 3
   },
   "file_extension": ".py",
   "mimetype": "text/x-python",
   "name": "python",
   "nbconvert_exporter": "python",
   "pygments_lexer": "ipython3",
   "version": "3.6.8"
  }
 },
 "nbformat": 4,
 "nbformat_minor": 2
}
