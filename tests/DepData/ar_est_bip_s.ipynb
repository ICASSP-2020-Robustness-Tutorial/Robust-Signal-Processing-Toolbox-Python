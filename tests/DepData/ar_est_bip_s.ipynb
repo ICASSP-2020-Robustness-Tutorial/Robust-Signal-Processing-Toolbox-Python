{
 "cells": [
  {
   "cell_type": "code",
   "execution_count": null,
   "metadata": {},
   "outputs": [],
   "source": [
    "[phi_hat, x_filt, a_scale_final]=ar_est_bip_s([1 2 3 4 5]', 2)\n",
    "\n",
    "phi_hat =\n",
    "\n",
    "    1.9701   -0.9900\n",
    "\n",
    "\n",
    "x_filt =\n",
    "\n",
    "     0\n",
    "     0\n",
    "     3\n",
    "     4\n",
    "     5\n",
    "\n",
    "\n",
    "a_scale_final =\n",
    "\n",
    "    4.3116    1.4040    0.0978\n",
    "                                              \n",
    ">> [phi_hat, x_filt, a_scale_final]=ar_est_bip_s([1 2 3 4 5 6 7 8 9]',3)\n",
    "\n",
    "phi_hat =\n",
    "\n",
    "    2.9502   -2.9404    0.9900\n",
    "\n",
    "\n",
    "x_filt =\n",
    "\n",
    "     0\n",
    "     0\n",
    "     0\n",
    "     4\n",
    "     5\n",
    "     6\n",
    "     7\n",
    "     8\n",
    "     9\n",
    "\n",
    "\n",
    "a_scale_final =\n",
    "\n",
    "    7.1825    1.4316    0.1562    0.0557"
   ]
  },
  {
   "cell_type": "code",
   "execution_count": 1,
   "metadata": {},
   "outputs": [
    {
     "name": "stderr",
     "output_type": "stream",
     "text": [
      "c:\\users\\computer\\desktop\\robustsp\\robustsp\\DependentData\\Auxiliary\\m_scale.py:15: RuntimeWarning: divide by zero encountered in true_divide\n",
      "  w_k[x!=0] = rsp.muler_rho1(x[x!=0]/sigma_k) / (x[x!=0] / sigma_k)**2\n",
      "c:\\users\\computer\\desktop\\robustsp\\robustsp\\DependentData\\Auxiliary\\m_scale.py:19: RuntimeWarning: invalid value encountered in double_scalars\n",
      "  if np.abs(sigma_k_plus1/sigma_k-1) > epsilon:\n"
     ]
    },
    {
     "data": {
      "text/plain": [
       "(array([ 0.99    ,  0.960399, -0.99    ]),\n",
       " array([0., 0., 0., 4.]),\n",
       " [3.594474792773319, 1.397067474856152, 0.08295158847281511, 0.0])"
      ]
     },
     "execution_count": 1,
     "metadata": {},
     "output_type": "execute_result"
    }
   ],
   "source": [
    "import numpy as np\n",
    "import robustsp as rsp\n",
    "rsp.ar_est_bip_s([1,2,3,4],3)"
   ]
  },
  {
   "cell_type": "code",
   "execution_count": 1,
   "metadata": {},
   "outputs": [],
   "source": [
    "'''\n",
    "TODO\n",
    "\n",
    "make a_scale_final nparray of length P instead of list\n",
    "'''\n",
    "\n",
    "def ar_est_bip_s(xxx, P):\n",
    "    '''\n",
    "    Inputs:\n",
    "    x   : 1darray, dtype=float. data\n",
    "    P   : scalar. Autoregressive order\n",
    "    '''\n",
    "    x = np.array(xxx)\n",
    "    N = len(x);\n",
    "    kap2 = 0.8724286\n",
    "    phi_grid = np.arange(-.99,.991,.05) # coarse grid search\n",
    "    fine_grid= np.arange(-.99,.991,.001) # finer grid via polynomial interpolation\n",
    "    a_bip_sc = np.zeros([len(phi_grid)]) # residual scale for BIP-AR on finer grid \n",
    "    a_sc = np.zeros(len(phi_grid)) # residual scale for AR on finer grid\n",
    "\n",
    "    # The following was introduced so as not to predict based\n",
    "    # on highly contaminated data in the\n",
    "    # first few samples.\n",
    "\n",
    "    x_tran = x[:min(10,int(np.floor(N/2)))]\n",
    "    sig_x_tran = np.median(np.abs(x-np.median(x)))\n",
    "\n",
    "    x_tran[np.abs(x_tran)>3*sig_x_tran] = 3*sig_x_tran*np.sign(x_tran[np.abs(x_tran)>3*sig_x_tran])\n",
    "    x[1:min(10,int(np.floor(N/2)))] = x_tran[1:min(10,int(np.floor(N/2)))]\n",
    "\n",
    "    phi_hat = np.zeros((P,P))\n",
    "    x_filt, phi_hat[0,0], a_scale_final = rsp.bip_ar1_s(x,N,phi_grid,fine_grid,kap2)\n",
    "\n",
    "    npa = lambda x: np.array(x)\n",
    "\n",
    "    for p in range(1,P):\n",
    "        for mm in range(len(phi_grid)):\n",
    "\n",
    "            for pp in range(p):\n",
    "                phi_hat[p,pp] =\\\n",
    "                phi_hat[p-1,pp]-phi_grid[mm]*phi_hat[p-1,p-pp-1]\n",
    "\n",
    "            predictor_coeffs =\\\n",
    "            np.array([*phi_hat[p,:p], phi_grid[mm]])\n",
    "\n",
    "            M = len(predictor_coeffs)\n",
    "   \n",
    "            if np.mean(np.abs(np.roots([1, *predictor_coeffs]))<1)==1:\n",
    "                lambd = rsp.ma_infinity(predictor_coeffs, 0, 100)\n",
    "                sigma_hat = a_scale_final[0]/np.sqrt(1+kap2*np.sum(lambd**2))\n",
    "            else:\n",
    "                sigma_hat = 1.483*np.median(np.abs(x-np.median(x)))\n",
    "\n",
    "            a = np.zeros(len(x))\n",
    "            a2= np.zeros(len(x))\n",
    "\n",
    "            for ii in range(p+1,N):\n",
    "\n",
    "                xArr = x[ii-1::-1] if ii-M-1 <0 else x[ii-1:ii-M-1:-1]\n",
    "                aArr = a[ii-1::-1] if ii-M-1 <0 else a[ii-1:ii-M-1:-1]\n",
    "\n",
    "                a[ii] = compA(x[ii],predictor_coeffs,xArr,aArr,sigma_hat)\n",
    "\n",
    "                a2[ii] = x[ii] - predictor_coeffs@xArr\n",
    "            a_bip_sc[mm] = rsp.m_scale(a[p+1:]) # residual scale for BIP-AR\n",
    "            a_sc[mm] = rsp.m_scale(a2[p+1:]) # residual scale for AR\n",
    "\n",
    "        # tau-estimate under the BIP-AR(p) and AR(p)\n",
    "        phi, phi2, temp, temp2, ind_max, ind_max2 = tauEstim(phi_grid, a_bip_sc, fine_grid, a_sc)\n",
    "\n",
    "        # final estimate minimizes the residual scale of the two\n",
    "        if temp2<temp:\n",
    "            ind_max=ind_max2\n",
    "            temp=temp2\n",
    "            \n",
    "        for pp in range(p):\n",
    "            phi_hat[p,pp] = phi_hat[p-1,pp]-fine_grid[ind_max]*phi_hat[p-1,p-pp-1]\n",
    "\n",
    "        phi_hat[p,p] = fine_grid[ind_max]\n",
    "\n",
    "        # final AR(p) tau-scale-estimate depending on phi_hat(p,p)\n",
    "        if np.mean(np.abs(np.roots([1,*phi_hat[p,:]]))<1) == 1:\n",
    "            lambd = rsp.ma_infinity(phi_hat[p,:], 0, 100)\n",
    "            #sigma used for bip-model\n",
    "            sigma_hat = a_scale_final[0]/np.sqrt(1+kap2*np.sum(lambd**2))\n",
    "        else:\n",
    "            sigma_hat = 1.483*np.median(np.abs(x-np.median(x)))\n",
    "\n",
    "        x_filt = np.zeros(len(x))\n",
    "\n",
    "        for ii in range(p+1,N):\n",
    "            xArr = x[ii-1::-1] if ii-M-1 <0 else x[ii-1:ii-M-1:-1]\n",
    "            aArr = a[ii-1::-1] if ii-M-1 <0 else a[ii-1:ii-M-1:-1]\n",
    "\n",
    "            a[ii] = x[ii]-phi_hat[p,:p+1]@(xArr-aArr\\\n",
    "            +sigma_hat*rsp.eta(aArr/sigma_hat))\n",
    "\n",
    "            a2[ii]=x[ii]-phi_hat[p,:p+1]@xArr\n",
    "\n",
    "        if temp2>temp:\n",
    "            a_scale_final.append(rsp.m_scale(a[p+1:]))\n",
    "        else:\n",
    "            a_scale_final.append(rsp.m_scale(a2[p+1:]))\n",
    "\n",
    "    phi_hat = phi_hat[p,:] # BIP-AR(P) tau-estimate        \n",
    "\n",
    "    for ii in range(p+1,N):\n",
    "        x_filt[ii] = x[ii] - a[ii] + sigma_hat*rsp.eta(a[ii]/sigma_hat)\n",
    "\n",
    "    return phi_hat, x_filt, a_scale_final\n",
    "\n",
    "\n",
    "'''\n",
    "phi_hat =\n",
    "\n",
    "    1.9701   -0.9900\n",
    "\n",
    "\n",
    "x_filt =\n",
    "\n",
    "     0\n",
    "     0\n",
    "     3\n",
    "     4\n",
    "     5\n",
    "\n",
    "\n",
    "a_scale_final =\n",
    "\n",
    "    4.3116    1.4040    0.0978\n",
    "'''"
   ]
  },
  {
   "cell_type": "code",
   "execution_count": 1,
   "metadata": {},
   "outputs": [
    {
     "data": {
      "text/plain": [
       "([], 3.594474792773319)"
      ]
     },
     "execution_count": 1,
     "metadata": {},
     "output_type": "execute_result"
    }
   ],
   "source": [
    "import numpy as np\n",
    "import robustsp as rsp\n",
    "\n",
    "rsp.ar_est_bip_s([1,2,3,4],0)"
   ]
  },
  {
   "cell_type": "code",
   "execution_count": 6,
   "metadata": {},
   "outputs": [
    {
     "data": {
      "text/plain": [
       "array([ 1.00000000e+00,  2.00000000e+00, -6.21724894e-15])"
      ]
     },
     "execution_count": 6,
     "metadata": {},
     "output_type": "execute_result"
    }
   ],
   "source": [
    "'''\n",
    ">> eta([1 2 3]')\n",
    "\n",
    "ans =\n",
    "\n",
    "    1.0000\n",
    "    2.0000\n",
    "   -0.0000\n",
    "'''\n",
    "\n",
    "import numpy as np\n",
    "\n",
    "def eta(xx,c=1):\n",
    "    x = np.array(xx)/c\n",
    "    y = np.zeros(len(x))\n",
    "    y[np.abs(x)<=2] = x[np.abs(x)<=2]\n",
    "    \n",
    "    lnd = lambda x,y: np.logical_and(x,y)\n",
    "    y[lnd(np.abs(x)<=3,np.abs(x)>2)] = 0.016*x[lnd(np.abs(x)<=3,np.abs(x)>2)]**7\\\n",
    "    -.312*x[lnd(np.abs(x)<=3,np.abs(x)>2)]**5\\\n",
    "    +1.728*x[lnd(np.abs(x)<=3,np.abs(x)>2)]**3\\\n",
    "    -1.944*x[lnd(np.abs(x)<=3,np.abs(x)>2)]\n",
    "    \n",
    "    y= c*y\n",
    "    \n",
    "    return y\n",
    "\n",
    "eta([1,2,3])"
   ]
  },
  {
   "cell_type": "code",
   "execution_count": 4,
   "metadata": {},
   "outputs": [
    {
     "data": {
      "text/plain": [
       "array([3, 2, 1])"
      ]
     },
     "execution_count": 4,
     "metadata": {},
     "output_type": "execute_result"
    }
   ],
   "source": [
    "import numpy as np\n",
    "a = [1,2,3,1,2,3,1,2,3]\n",
    "a = np.array(a)\n",
    "a[5:2:-1]"
   ]
  },
  {
   "cell_type": "code",
   "execution_count": 6,
   "metadata": {},
   "outputs": [
    {
     "data": {
      "text/plain": [
       "0"
      ]
     },
     "execution_count": 6,
     "metadata": {},
     "output_type": "execute_result"
    }
   ],
   "source": [
    "a[a<2]\n",
    "len(np.array(0).shape)"
   ]
  },
  {
   "cell_type": "code",
   "execution_count": 64,
   "metadata": {},
   "outputs": [
    {
     "data": {
      "text/plain": [
       "array([0.3413, 0.331 ])"
      ]
     },
     "execution_count": 64,
     "metadata": {},
     "output_type": "execute_result"
    }
   ],
   "source": [
    "a= np.zeros((3,3))\n",
    "np.isscalar([1,2,3])\n",
    "rsp.eta([0.3413,0.3310])"
   ]
  },
  {
   "cell_type": "code",
   "execution_count": 128,
   "metadata": {},
   "outputs": [
    {
     "name": "stdout",
     "output_type": "stream",
     "text": [
      "[2, 1]\n",
      "[3, 2]\n",
      "[4, 3]\n"
     ]
    }
   ],
   "source": [
    "a=[1,2,3,4,5]\n",
    "M = 2\n",
    "'''\n",
    "2,1\n",
    "3,2\n",
    "4,3\n",
    "'''\n",
    "for i in range(2,5):\n",
    "    if i-M-1 <0:\n",
    "        print(a[i-1::-1])\n",
    "    else:\n",
    "        print(a[i-1:i-M-1:-1])"
   ]
  },
  {
   "cell_type": "code",
   "execution_count": 148,
   "metadata": {},
   "outputs": [
    {
     "data": {
      "text/plain": [
       "0.04980000000000029"
      ]
     },
     "execution_count": 148,
     "metadata": {},
     "output_type": "execute_result"
    }
   ],
   "source": [
    "3 \\\n",
    "- np.array([1.9701,-0.9900]) \\\n",
    "@ (np.array([2,1])\\\n",
    "    -np.array([0,0])+1.483*\\\n",
    "    rsp.eta(np.array([0,0])/1.483))\n"
   ]
  },
  {
   "cell_type": "code",
   "execution_count": 1,
   "metadata": {},
   "outputs": [],
   "source": [
    "import numpy as np\n",
    "import robustsp as rsp\n",
    "\n",
    "def compA(xII,pred,xArr,aArr,sig):\n",
    "    return xII \\\n",
    "- np.array(pred) @\\\n",
    "(np.array(xArr)-np.array(aArr)+sig*rsp.eta(np.array(aArr)/sig))\n",
    "    \n",
    "    \n",
    "def tauEstim(phi_grid, a_bip_sc, fine_grid, a_sc):    \n",
    "    poly_approx = np.polyfit(phi_grid, a_bip_sc, 5) # polynomial approximation of residual scale for BIP-AR(p) tau-estimates\n",
    "    a_interp_scale = np.polyval(poly_approx, fine_grid) # interpolation of  residual scale for BIP-AR(p) tau-estimates to fine grid\n",
    "    poly_approx2= np.polyfit(phi_grid, a_sc, 5) # polynomial approximation of  residual scale for AR(p) tau-estimates\n",
    "    a_interp_scale2= np.polyval(poly_approx2, fine_grid) # interpolation of  residual scale for AR(p) tau-estimates to fine grid\n",
    "   \n",
    "    temp = np.min(a_interp_scale)\n",
    "    ind_max = np.argmin(a_interp_scale)\n",
    "    phi = -fine_grid[ind_max] # tau-estimate under the BIP-AR(p)\n",
    "\n",
    "    temp2 = np.min(a_interp_scale2)\n",
    "    ind_max2 = np.argmin(a_interp_scale2)\n",
    "    phi2=-fine_grid[ind_max2] # tau-estimate under the AR(p)  \n",
    "    return phi, phi2, temp, temp2, ind_max, ind_max2                   "
   ]
  },
  {
   "cell_type": "code",
   "execution_count": null,
   "metadata": {},
   "outputs": [],
   "source": [
    "a = np.array([[1,2,3],[4,5,6],[7,8,9]])\n",
    "a[1:0:]"
   ]
  }
 ],
 "metadata": {
  "kernelspec": {
   "display_name": "Python 3",
   "language": "python",
   "name": "python3"
  },
  "language_info": {
   "codemirror_mode": {
    "name": "ipython",
    "version": 3
   },
   "file_extension": ".py",
   "mimetype": "text/x-python",
   "name": "python",
   "nbconvert_exporter": "python",
   "pygments_lexer": "ipython3",
   "version": "3.6.8"
  }
 },
 "nbformat": 4,
 "nbformat_minor": 2
}
