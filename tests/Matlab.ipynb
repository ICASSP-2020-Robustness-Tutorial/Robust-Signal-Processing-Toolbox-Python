{
 "cells": [
  {
   "cell_type": "code",
   "execution_count": 2,
   "metadata": {},
   "outputs": [
    {
     "name": "stdout",
     "output_type": "stream",
     "text": [
      "\n",
      "X =\n",
      "\n",
      "     1     2     3\n",
      "     4     5     6\n",
      "     7     8     9\n",
      "\n",
      "\n",
      "ans =\n",
      "\n",
      "    24\n",
      "\n",
      "\n"
     ]
    }
   ],
   "source": [
    "X = [1 2 3; 4 5 6; 7 8 9]\n",
    "norm(X,'inf')"
   ]
  },
  {
   "cell_type": "code",
   "execution_count": 5,
   "metadata": {},
   "outputs": [
    {
     "name": "stdout",
     "output_type": "stream",
     "text": [
      "\n",
      "ans =\n",
      "\n",
      "     0     1     2     3     4     5     6     7     8     9    10\n",
      "\n",
      "\n"
     ]
    }
   ],
   "source": [
    "0:1:10"
   ]
  },
  {
   "cell_type": "code",
   "execution_count": 6,
   "metadata": {},
   "outputs": [
    {
     "name": "stdout",
     "output_type": "stream",
     "text": [
      "\n",
      "B =\n",
      "\n",
      "     4     0     3\n",
      "     5     0     0\n",
      "     7     8     9\n",
      "\n",
      "\n",
      "DF =\n",
      "\n",
      "     3     1     2\n",
      "\n",
      "\n"
     ]
    }
   ],
   "source": [
    "B = [4 0 3; 5 0 0; 7 8 9]\n",
    "DF = sum(abs(B) ~= 0)\n"
   ]
  },
  {
   "cell_type": "code",
   "execution_count": 10,
   "metadata": {},
   "outputs": [
    {
     "name": "stdout",
     "output_type": "stream",
     "text": [
      "\n",
      "sdX =\n",
      "\n",
      "     1     1     1     1     1     1\n",
      "\n",
      "\n",
      "X =\n",
      "\n",
      "     1     0     0     0     0     0\n",
      "     0     1     0     0     0     0\n",
      "     0     0     1     0     0     0\n",
      "     0     0     0     1     0     0\n",
      "     0     0     0     0     1     0\n",
      "     0     0     0     0     0     1\n",
      "\n",
      "\n"
     ]
    }
   ],
   "source": [
    "X = eye(6);\n",
    "sdX = sqrt(sum(X.*conj(X)))\n",
    "\n",
    "X = bsxfun(@rdivide, X, sdX)"
   ]
  }
 ],
 "metadata": {
  "kernelspec": {
   "display_name": "Matlab",
   "language": "matlab",
   "name": "matlab"
  },
  "language_info": {
   "codemirror_mode": "octave",
   "file_extension": ".m",
   "help_links": [
    {
     "text": "MetaKernel Magics",
     "url": "https://github.com/calysto/metakernel/blob/master/metakernel/magics/README.md"
    }
   ],
   "mimetype": "text/x-octave",
   "name": "matlab",
   "version": "0.16.1"
  }
 },
 "nbformat": 4,
 "nbformat_minor": 2
}
