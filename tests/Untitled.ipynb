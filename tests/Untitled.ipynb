{
 "cells": [
  {
   "cell_type": "code",
   "execution_count": 1,
   "metadata": {},
   "outputs": [
    {
     "data": {
      "text/plain": [
       "True"
      ]
     },
     "execution_count": 1,
     "metadata": {},
     "output_type": "execute_result"
    }
   ],
   "source": [
    "import pkg_resources\n",
    "import robustsp as rsp\n",
    "import numpy as np\n",
    "import scipy\n",
    "import matplotlib.pyplot as plt\n",
    "from scipy.optimize import minimize\n",
    "\n",
    "ecg_ppg_datapath = pkg_resources.resource_filename('robustsp', 'data/ECG-PPG_HRV_example.mat')\n",
    "\n",
    "ppg_data = scipy.io.loadmat(ecg_ppg_datapath)\n",
    "\n",
    "ppg_pos = ppg_data['ppg_pos'].flatten()\n",
    "\n",
    "ibi_ppg = np.diff(ppg_pos)\n",
    "\n",
    "x = ibi_ppg[::-1]-np.median(ibi_ppg)\n",
    "\n",
    "p=0\n",
    "\n",
    "q=11\n",
    "\n",
    "beta_initial = rsp.robust_starting_point(x,p,q)[0]\n",
    "\n",
    "F_bip = lambda beta: rsp.bip_tau_resid_sc(x,beta,p,q)[0]\n",
    "\n",
    "beta_bip = minimize(F_bip, beta_initial)['x']\n",
    "\n",
    "a_bip_sc, x_filt, _ = rsp.bip_tau_resid_sc(x, beta_bip, p, q)\n",
    "\n",
    "ibi_ppg_cl = x_filt[::-1]+np.median(ibi_ppg)\n",
    "\n",
    "ibi_ppg_cl_mat = scipy.io.loadmat('ibi_ppg_cl')['ibi_ppg_cl'].flatten()\n",
    "#print(np.array_equal(ibi_ppg_cl, ibi_ppg))\n",
    "np.array_equal(ibi_ppg_cl, ibi_ppg_cl_mat)\n",
    "result=rsp.arma_est_bip_tau(x,p,q)\n",
    "np.array_equal(x_filt,result['cleaned_signal']) "
   ]
  },
  {
   "cell_type": "code",
   "execution_count": 9,
   "metadata": {},
   "outputs": [
    {
     "data": {
      "text/plain": [
       "[]"
      ]
     },
     "execution_count": 9,
     "metadata": {},
     "output_type": "execute_result"
    }
   ],
   "source": [
    "result['cleaned_signal']"
   ]
  }
 ],
 "metadata": {
  "kernelspec": {
   "display_name": "Python 3",
   "language": "python",
   "name": "python3"
  },
  "language_info": {
   "codemirror_mode": {
    "name": "ipython",
    "version": 3
   },
   "file_extension": ".py",
   "mimetype": "text/x-python",
   "name": "python",
   "nbconvert_exporter": "python",
   "pygments_lexer": "ipython3",
   "version": "3.6.8"
  }
 },
 "nbformat": 4,
 "nbformat_minor": 2
}
