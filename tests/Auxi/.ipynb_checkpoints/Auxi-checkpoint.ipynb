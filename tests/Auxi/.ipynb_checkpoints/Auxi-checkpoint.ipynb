{
 "cells": [
  {
   "cell_type": "markdown",
   "metadata": {},
   "source": [
    "# rhotuk\n",
    "\n",
    "$\\rho_{Tukey}(x)=\\begin{cases}\n",
    "            \\frac{c^{2}}{6}(1-(1-\\frac{x^{2}}{c^{2}})^{3}), &         \\text{if } |x|\\le c,\\\\\n",
    "            \\frac{c^{2}}{6}, &         \\text{if } |x| > c.\n",
    "    \\end{cases}$\n",
    "\n",
    "\n",
    "    "
   ]
  },
  {
   "cell_type": "code",
   "execution_count": null,
   "metadata": {},
   "outputs": [],
   "source": [
    "import numpy as np\n",
    "import robustsp as rsp\n",
    "a=np.asarray([5, 2 ,5, 4, 2 ,7 ,6, 8, 9, 52, 1, 0])\n",
    "b = rsp.rhotuk(a,4)\n"
   ]
  },
  {
   "cell_type": "code",
   "execution_count": null,
   "metadata": {},
   "outputs": [],
   "source": [
    "from robustsp import *\n",
    "rhotuk(a,4)"
   ]
  },
  {
   "cell_type": "markdown",
   "metadata": {},
   "source": [
    "# rhohub\n",
    "\n",
    "$\\rho_{Huber}(x)=\\begin{cases}\n",
    "            \\frac{1}{2}x^{2}, &         \\text{if } |x|\\le c,\\\\\n",
    "            c|x|-\\frac{1}{2}c^{2}, &         \\text{if } |x| > c.\n",
    "    \\end{cases}$"
   ]
  },
  {
   "cell_type": "code",
   "execution_count": null,
   "metadata": {},
   "outputs": [],
   "source": []
  },
  {
   "cell_type": "markdown",
   "metadata": {},
   "source": [
    "# MscaleTUK"
   ]
  },
  {
   "cell_type": "code",
   "execution_count": 5,
   "metadata": {},
   "outputs": [
    {
     "data": {
      "text/plain": [
       "0.8778708439593648"
      ]
     },
     "execution_count": 5,
     "metadata": {},
     "output_type": "execute_result"
    }
   ],
   "source": [
    "from robustsp import *\n",
    "import numpy as np\n",
    "import scipy.io\n",
    "mat = scipy.io.loadmat('x_N_minus1.mat',struct_as_record=False)\n",
    "\n",
    "MscaleTUK(mat['x_N_minus1'],path='u.mat') # soll 0.8779\n",
    "\n"
   ]
  },
  {
   "cell_type": "markdown",
   "metadata": {},
   "source": [
    "# MscaleHUB"
   ]
  },
  {
   "cell_type": "code",
   "execution_count": 4,
   "metadata": {},
   "outputs": [
    {
     "data": {
      "text/plain": [
       "0.9007624248608098"
      ]
     },
     "execution_count": 4,
     "metadata": {},
     "output_type": "execute_result"
    }
   ],
   "source": [
    "from robustsp import *\n",
    "import numpy as np\n",
    "import scipy.io\n",
    "mat = scipy.io.loadmat('x_N_minus1.mat',struct_as_record=False)\n",
    "\n",
    "MscaleHUB(mat['x_N_minus1'],path='u.mat') # 0.9008 soll\n"
   ]
  },
  {
   "cell_type": "code",
   "execution_count": 6,
   "metadata": {},
   "outputs": [
    {
     "name": "stderr",
     "output_type": "stream",
     "text": [
      "c:\\users\\computer\\appdata\\local\\programs\\python\\python36\\lib\\site-packages\\ipykernel_launcher.py:3: RuntimeWarning: divide by zero encountered in true_divide\n",
      "  This is separate from the ipykernel package so we can avoid doing imports until\n"
     ]
    },
    {
     "data": {
      "text/plain": [
       "array([0.2       , 0.5       , 0.2       , 0.25      , 0.5       ,\n",
       "       0.14285714, 0.16666667, 0.125     , 0.11111111, 0.01923077,\n",
       "       1.        ,        inf])"
      ]
     },
     "execution_count": 6,
     "metadata": {},
     "output_type": "execute_result"
    }
   ],
   "source": [
    "a=np.asarray([5, 2 ,5, 4, 2 ,7 ,6, 8, 9, 52, 1, 0])\n",
    "\n",
    "1/a"
   ]
  },
  {
   "cell_type": "code",
   "execution_count": 7,
   "metadata": {},
   "outputs": [
    {
     "name": "stderr",
     "output_type": "stream",
     "text": [
      "c:\\users\\computer\\appdata\\local\\programs\\python\\python36\\lib\\site-packages\\ipykernel_launcher.py:1: RuntimeWarning: divide by zero encountered in true_divide\n",
      "  \"\"\"Entry point for launching an IPython kernel.\n"
     ]
    },
    {
     "data": {
      "text/plain": [
       "array([0.2       , 0.5       , 0.2       , 0.25      , 0.5       ,\n",
       "       0.14285714, 0.16666667, 0.125     , 0.11111111, 0.01923077,\n",
       "       1.        ,        inf])"
      ]
     },
     "execution_count": 7,
     "metadata": {},
     "output_type": "execute_result"
    }
   ],
   "source": [
    "1./a"
   ]
  },
  {
   "cell_type": "markdown",
   "metadata": {},
   "source": [
    "# SoftThresh"
   ]
  },
  {
   "cell_type": "code",
   "execution_count": 1,
   "metadata": {},
   "outputs": [
    {
     "data": {
      "text/plain": [
       "(0.8+0.6j)"
      ]
     },
     "execution_count": 1,
     "metadata": {},
     "output_type": "execute_result"
    }
   ],
   "source": [
    "'''\n",
    "x =\n",
    "\n",
    "   4.0000 + 3.0000i\n",
    "\n",
    ">> SoftThresh(x,4)\n",
    "\n",
    "ans =\n",
    "\n",
    "   0.8000 + 0.6000i\n",
    "'''\n",
    "\n",
    "import robustsp as rsp\n",
    "\n",
    "x = 4+3j\n",
    "rsp.SoftThresh(x,4)"
   ]
  },
  {
   "cell_type": "markdown",
   "metadata": {},
   "source": [
    "# psihub"
   ]
  },
  {
   "cell_type": "code",
   "execution_count": 1,
   "metadata": {},
   "outputs": [
    {
     "data": {
      "text/plain": [
       "array([1, 5, 3, 2, 5, 5, 0, 5, 4])"
      ]
     },
     "execution_count": 1,
     "metadata": {},
     "output_type": "execute_result"
    }
   ],
   "source": [
    "import numpy as np\n",
    "from robustsp import *\n",
    "\n",
    "c = 5\n",
    "x = np.asarray([1  ,   5   ,  3   ,  2   ,  6   ,  7   ,  0  ,   6     ,4])\n",
    "\n",
    "# out soll : 1     5     3     2     5     5     0     5     4\n",
    "\n",
    "psihub(x,c)"
   ]
  },
  {
   "cell_type": "code",
   "execution_count": 6,
   "metadata": {},
   "outputs": [
    {
     "data": {
      "text/plain": [
       "3"
      ]
     },
     "execution_count": 6,
     "metadata": {},
     "output_type": "execute_result"
    }
   ],
   "source": [
    "from robustsp import *\n",
    "import numpy as np\n",
    "\n",
    "propform((1,2,3))\n",
    "propform([4,5,6])\n",
    "\n",
    "len(propform([4,5,6]))\n",
    "\n",
    "np.append(propform((1,2,3)),0)"
   ]
  }
 ],
 "metadata": {
  "kernelspec": {
   "display_name": "Python 3",
   "language": "python",
   "name": "python3"
  },
  "language_info": {
   "codemirror_mode": {
    "name": "ipython",
    "version": 3
   },
   "file_extension": ".py",
   "mimetype": "text/x-python",
   "name": "python",
   "nbconvert_exporter": "python",
   "pygments_lexer": "ipython3",
   "version": "3.6.8"
  }
 },
 "nbformat": 4,
 "nbformat_minor": 2
}
