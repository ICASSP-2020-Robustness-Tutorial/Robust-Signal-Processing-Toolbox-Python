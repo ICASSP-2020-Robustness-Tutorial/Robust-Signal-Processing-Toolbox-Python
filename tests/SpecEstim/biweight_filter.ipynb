{
 "cells": [
  {
   "cell_type": "markdown",
   "metadata": {},
   "source": [
    "%   The biweight_filter(x) is our implementation of the\n",
    "%   method described in \n",
    "%\n",
    "%   \"High breakdown methods of time series analysis.\n",
    "%   Tatum, L.G., and Hurvich, C. M.  \n",
    "%   Journal of the Royal Statistical Society. Series B (Methodological),\n",
    "%   pp. 881-896, 1993.\n",
    "%   \n",
    "%   The code is based on an implementation by Falco Strasser, Signal Processing\n",
    "%   Group, TU Darmstadt, October 2010.\n",
    "%\n",
    "%% INPUTS\n",
    "% x: data (observations/measurements/signal), real-valued vector\n",
    "%\n",
    "%\n",
    "%% OUTPUTS\n",
    "% xFBi: Biweight filtered (outlier cleaned) signal \n",
    "% ABi:  Fourier coefficients for cosine\n",
    "% BBi:  Fourier coefficients for sine \n",
    "%%  created by Michael Muma\n",
    "%   version 31 May 2018\n",
    "%   when using code, cite our work:\n",
    "%\n",
    "%   \"Robust Statistics for Signal Processing\"\n",
    "%   Zoubir, A.M. and Koivunen, V. and Ollila, E. and Muma, M.\n",
    "%   Cambridge University Press, 2018."
   ]
  },
  {
   "cell_type": "code",
   "execution_count": null,
   "metadata": {},
   "outputs": [],
   "source": []
  }
 ],
 "metadata": {
  "kernelspec": {
   "display_name": "Python 3",
   "language": "python",
   "name": "python3"
  },
  "language_info": {
   "codemirror_mode": {
    "name": "ipython",
    "version": 3
   },
   "file_extension": ".py",
   "mimetype": "text/x-python",
   "name": "python",
   "nbconvert_exporter": "python",
   "pygments_lexer": "ipython3",
   "version": "3.6.8"
  }
 },
 "nbformat": 4,
 "nbformat_minor": 2
}
