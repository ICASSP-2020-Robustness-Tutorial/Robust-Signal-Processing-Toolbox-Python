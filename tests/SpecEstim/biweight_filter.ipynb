{
 "cells": [
  {
   "cell_type": "markdown",
   "metadata": {},
   "source": []
  },
  {
   "cell_type": "code",
   "execution_count": 62,
   "metadata": {},
   "outputs": [],
   "source": [
    "\"\"\"\n",
    "%   The biweight_filter(x) is our implementation of the\n",
    "%   method described in \n",
    "%\n",
    "%   \"High breakdown methods of time series analysis.\n",
    "%   Tatum, L.G., and Hurvich, C. M.  \n",
    "%   Journal of the Royal Statistical Society. Series B (Methodological),\n",
    "%   pp. 881-896, 1993.\n",
    "%   \n",
    "%   The code is based on an implementation by Falco Strasser, Signal Processing\n",
    "%   Group, TU Darmstadt, October 2010.\n",
    "%\n",
    "%% INPUTS\n",
    "% x: data (observations/measurements/signal), real-valued vector\n",
    "%\n",
    "%\n",
    "%% OUTPUTS\n",
    "% xFBi: Biweight filtered (outlier cleaned) signal \n",
    "% ABi:  Fourier coefficients for cosine\n",
    "% BBi:  Fourier coefficients for sine\n",
    "\n",
    "Note: Produces slightly different results than matlab, due to\n",
    "different curve fitting methods\n",
    "\"\"\"\n",
    "\n",
    "import numpy as np\n",
    "import robustsp as rsp\n",
    "import scipy as sp\n",
    "\n",
    "def biweight_filter(x):\n",
    "    N = len(x) # length of signal\n",
    "    \n",
    "    xFB = np.zeros(N) # filter cleaned signal\n",
    "    \n",
    "    # Works for signals of prime length, therefore, signal is split into two\n",
    "    # overlapping segments which are of prime length\n",
    "    x_split = rsp.split_into_prime(x)\n",
    " \n",
    "    # for each prime semgent do Biweight filtering\n",
    "    for ii in range(x_split.shape[1]):\n",
    "        x_part = x_split[:,ii] \n",
    "        wr = rsp.order_wk(x_part)[0] # Fourier frequencies in descending order\n",
    "        \n",
    "        # initialize with repeated median filter\n",
    "        xFRM, ARM, BRM = rsp.repeated_median_filter(x_part)\n",
    "        \n",
    "        N_prime = len(x_part) # length of the prime time segment\n",
    "        t = np.arange(N_prime)\n",
    "        K = np.int((N_prime-1 )/2)\n",
    "        ABi = np.zeros(K) # biweight estimate of cosine coefficients at w(K)\n",
    "        BBi = np.zeros(K) # biweight estimate of sine coefficients at w(K)\n",
    "        \n",
    "        k = 4    # tuning constant as recommended in the paper by Tatum and Hurvich\n",
    "        xb = rsp.MLocTUK(x_part, k)   # biweight location estimate\n",
    "        xc = (x_part-xb)  # robustly centered time series\n",
    "        \n",
    "        for k in range(K):\n",
    "            f = lambda x, a, b: a*np.cos(wr[k]*x)+b*np.sin(wr[k]*x)\n",
    "            c, _ = sp.optimize.curve_fit(f, t, xc,p0=[ARM[k], BRM[k]])\n",
    "            \n",
    "            ABi[k] = c[0]\n",
    "            BBi[k] = c[1]\n",
    "            \n",
    "            xc -= ABi[k]*np.cos(wr[k]*t)+BBi[k]*np.sin(wr[k]*t)\n",
    "        # recover the core process by regression of the Biweight estimates\n",
    "        # onto the independent parameters \n",
    "        if ii == 0:\n",
    "            xFB1 = np.ones(t.shape)*xb\n",
    "            for k in range(K):\n",
    "                sumAB = ABi[k]*np.cos(wr[k]*t) + BBi[k]*np.sin(wr[k]*t)\n",
    "                xFB1 += sumAB\n",
    "        if ii == 1:\n",
    "            xFB2 = np.ones(t.shape)*xb\n",
    "            for k in range(K):\n",
    "                sumAB = ABi[k]*np.cos(wr[k]*t) + BBi[k]*np.sin(wr[k]*t)\n",
    "                xFB2 += sumAB\n",
    "    # fuse the cleaned segments of prime length\n",
    "\n",
    "    if ii == 0:\n",
    "        xFB = np.array(xFB1)\n",
    "    elif ii == 1:\n",
    "        xFB[:N-N_prime] = xFB1[:N-N_prime]\n",
    "        \n",
    "        xFB[N-N_prime:N_prime] = (xFB1[N-N_prime:N_prime] + xFB2[:-(N-N_prime)])/2\n",
    "        print(xFB2)\n",
    "        xFB[N_prime:] = xFB2[-(N-N_prime):]\n",
    "    \n",
    "    return xFB, ABi, BBi"
   ]
  },
  {
   "cell_type": "code",
   "execution_count": 63,
   "metadata": {},
   "outputs": [
    {
     "ename": "TypeError",
     "evalue": "leastsq() got an unexpected keyword argument 'loss'",
     "output_type": "error",
     "traceback": [
      "\u001b[1;31m---------------------------------------------------------------------------\u001b[0m",
      "\u001b[1;31mTypeError\u001b[0m                                 Traceback (most recent call last)",
      "\u001b[1;32m<ipython-input-63-90493e6f6df4>\u001b[0m in \u001b[0;36m<module>\u001b[1;34m\u001b[0m\n\u001b[0;32m     24\u001b[0m '''\n\u001b[0;32m     25\u001b[0m \u001b[1;33m\u001b[0m\u001b[0m\n\u001b[1;32m---> 26\u001b[1;33m \u001b[0mbiweight_filter\u001b[0m\u001b[1;33m(\u001b[0m\u001b[1;33m[\u001b[0m\u001b[1;36m1\u001b[0m\u001b[1;33m,\u001b[0m\u001b[1;36m2\u001b[0m\u001b[1;33m,\u001b[0m\u001b[1;36m3\u001b[0m\u001b[1;33m,\u001b[0m\u001b[1;36m4\u001b[0m\u001b[1;33m,\u001b[0m\u001b[1;36m5\u001b[0m\u001b[1;33m,\u001b[0m\u001b[1;36m6\u001b[0m\u001b[1;33m,\u001b[0m\u001b[1;36m7\u001b[0m\u001b[1;33m,\u001b[0m\u001b[1;36m8\u001b[0m\u001b[1;33m,\u001b[0m\u001b[1;36m9\u001b[0m\u001b[1;33m,\u001b[0m\u001b[1;36m10\u001b[0m\u001b[1;33m]\u001b[0m\u001b[1;33m)\u001b[0m\u001b[1;33m\u001b[0m\u001b[1;33m\u001b[0m\u001b[0m\n\u001b[0m",
      "\u001b[1;32m<ipython-input-62-e7f4640dbd3a>\u001b[0m in \u001b[0;36mbiweight_filter\u001b[1;34m(x)\u001b[0m\n\u001b[0;32m     57\u001b[0m         \u001b[1;32mfor\u001b[0m \u001b[0mk\u001b[0m \u001b[1;32min\u001b[0m \u001b[0mrange\u001b[0m\u001b[1;33m(\u001b[0m\u001b[0mK\u001b[0m\u001b[1;33m)\u001b[0m\u001b[1;33m:\u001b[0m\u001b[1;33m\u001b[0m\u001b[1;33m\u001b[0m\u001b[0m\n\u001b[0;32m     58\u001b[0m             \u001b[0mf\u001b[0m \u001b[1;33m=\u001b[0m \u001b[1;32mlambda\u001b[0m \u001b[0mx\u001b[0m\u001b[1;33m,\u001b[0m \u001b[0ma\u001b[0m\u001b[1;33m,\u001b[0m \u001b[0mb\u001b[0m\u001b[1;33m:\u001b[0m \u001b[0ma\u001b[0m\u001b[1;33m*\u001b[0m\u001b[0mnp\u001b[0m\u001b[1;33m.\u001b[0m\u001b[0mcos\u001b[0m\u001b[1;33m(\u001b[0m\u001b[0mwr\u001b[0m\u001b[1;33m[\u001b[0m\u001b[0mk\u001b[0m\u001b[1;33m]\u001b[0m\u001b[1;33m*\u001b[0m\u001b[0mx\u001b[0m\u001b[1;33m)\u001b[0m\u001b[1;33m+\u001b[0m\u001b[0mb\u001b[0m\u001b[1;33m*\u001b[0m\u001b[0mnp\u001b[0m\u001b[1;33m.\u001b[0m\u001b[0msin\u001b[0m\u001b[1;33m(\u001b[0m\u001b[0mwr\u001b[0m\u001b[1;33m[\u001b[0m\u001b[0mk\u001b[0m\u001b[1;33m]\u001b[0m\u001b[1;33m*\u001b[0m\u001b[0mx\u001b[0m\u001b[1;33m)\u001b[0m\u001b[1;33m\u001b[0m\u001b[1;33m\u001b[0m\u001b[0m\n\u001b[1;32m---> 59\u001b[1;33m             \u001b[0mc\u001b[0m\u001b[1;33m,\u001b[0m \u001b[0m_\u001b[0m \u001b[1;33m=\u001b[0m \u001b[0msp\u001b[0m\u001b[1;33m.\u001b[0m\u001b[0moptimize\u001b[0m\u001b[1;33m.\u001b[0m\u001b[0mcurve_fit\u001b[0m\u001b[1;33m(\u001b[0m\u001b[0mf\u001b[0m\u001b[1;33m,\u001b[0m \u001b[0mt\u001b[0m\u001b[1;33m,\u001b[0m \u001b[0mxc\u001b[0m\u001b[1;33m,\u001b[0m\u001b[0mp0\u001b[0m\u001b[1;33m=\u001b[0m\u001b[1;33m[\u001b[0m\u001b[0mARM\u001b[0m\u001b[1;33m[\u001b[0m\u001b[0mk\u001b[0m\u001b[1;33m]\u001b[0m\u001b[1;33m,\u001b[0m \u001b[0mBRM\u001b[0m\u001b[1;33m[\u001b[0m\u001b[0mk\u001b[0m\u001b[1;33m]\u001b[0m\u001b[1;33m]\u001b[0m\u001b[1;33m,\u001b[0m \u001b[0mloss\u001b[0m\u001b[1;33m=\u001b[0m\u001b[1;34m'soft_l1'\u001b[0m\u001b[1;33m)\u001b[0m\u001b[1;33m\u001b[0m\u001b[1;33m\u001b[0m\u001b[0m\n\u001b[0m\u001b[0;32m     60\u001b[0m \u001b[1;33m\u001b[0m\u001b[0m\n\u001b[0;32m     61\u001b[0m             \u001b[0mABi\u001b[0m\u001b[1;33m[\u001b[0m\u001b[0mk\u001b[0m\u001b[1;33m]\u001b[0m \u001b[1;33m=\u001b[0m \u001b[0mc\u001b[0m\u001b[1;33m[\u001b[0m\u001b[1;36m0\u001b[0m\u001b[1;33m]\u001b[0m\u001b[1;33m\u001b[0m\u001b[1;33m\u001b[0m\u001b[0m\n",
      "\u001b[1;32mc:\\users\\computer\\appdata\\local\\programs\\python\\python36\\lib\\site-packages\\scipy\\optimize\\minpack.py\u001b[0m in \u001b[0;36mcurve_fit\u001b[1;34m(f, xdata, ydata, p0, sigma, absolute_sigma, check_finite, bounds, method, jac, **kwargs)\u001b[0m\n\u001b[0;32m    742\u001b[0m         \u001b[1;31m# Remove full_output from kwargs, otherwise we're passing it in twice.\u001b[0m\u001b[1;33m\u001b[0m\u001b[1;33m\u001b[0m\u001b[1;33m\u001b[0m\u001b[0m\n\u001b[0;32m    743\u001b[0m         \u001b[0mreturn_full\u001b[0m \u001b[1;33m=\u001b[0m \u001b[0mkwargs\u001b[0m\u001b[1;33m.\u001b[0m\u001b[0mpop\u001b[0m\u001b[1;33m(\u001b[0m\u001b[1;34m'full_output'\u001b[0m\u001b[1;33m,\u001b[0m \u001b[1;32mFalse\u001b[0m\u001b[1;33m)\u001b[0m\u001b[1;33m\u001b[0m\u001b[1;33m\u001b[0m\u001b[0m\n\u001b[1;32m--> 744\u001b[1;33m         \u001b[0mres\u001b[0m \u001b[1;33m=\u001b[0m \u001b[0mleastsq\u001b[0m\u001b[1;33m(\u001b[0m\u001b[0mfunc\u001b[0m\u001b[1;33m,\u001b[0m \u001b[0mp0\u001b[0m\u001b[1;33m,\u001b[0m \u001b[0mDfun\u001b[0m\u001b[1;33m=\u001b[0m\u001b[0mjac\u001b[0m\u001b[1;33m,\u001b[0m \u001b[0mfull_output\u001b[0m\u001b[1;33m=\u001b[0m\u001b[1;36m1\u001b[0m\u001b[1;33m,\u001b[0m \u001b[1;33m**\u001b[0m\u001b[0mkwargs\u001b[0m\u001b[1;33m)\u001b[0m\u001b[1;33m\u001b[0m\u001b[1;33m\u001b[0m\u001b[0m\n\u001b[0m\u001b[0;32m    745\u001b[0m         \u001b[0mpopt\u001b[0m\u001b[1;33m,\u001b[0m \u001b[0mpcov\u001b[0m\u001b[1;33m,\u001b[0m \u001b[0minfodict\u001b[0m\u001b[1;33m,\u001b[0m \u001b[0merrmsg\u001b[0m\u001b[1;33m,\u001b[0m \u001b[0mier\u001b[0m \u001b[1;33m=\u001b[0m \u001b[0mres\u001b[0m\u001b[1;33m\u001b[0m\u001b[1;33m\u001b[0m\u001b[0m\n\u001b[0;32m    746\u001b[0m         \u001b[0mcost\u001b[0m \u001b[1;33m=\u001b[0m \u001b[0mnp\u001b[0m\u001b[1;33m.\u001b[0m\u001b[0msum\u001b[0m\u001b[1;33m(\u001b[0m\u001b[0minfodict\u001b[0m\u001b[1;33m[\u001b[0m\u001b[1;34m'fvec'\u001b[0m\u001b[1;33m]\u001b[0m \u001b[1;33m**\u001b[0m \u001b[1;36m2\u001b[0m\u001b[1;33m)\u001b[0m\u001b[1;33m\u001b[0m\u001b[1;33m\u001b[0m\u001b[0m\n",
      "\u001b[1;31mTypeError\u001b[0m: leastsq() got an unexpected keyword argument 'loss'"
     ]
    }
   ],
   "source": [
    "'''\n",
    "a =\n",
    "\n",
    "    0.9344\n",
    "    2.0057\n",
    "    2.9928\n",
    "    3.9672\n",
    "    5.0064\n",
    "    5.9936\n",
    "    7.0328\n",
    "    8.0072\n",
    "    8.9943\n",
    "   10.0656\n",
    "\n",
    "\n",
    "b =\n",
    "\n",
    "   -1.0187   -1.0398   -1.0071\n",
    "\n",
    "\n",
    "c =\n",
    "\n",
    "   -0.8124   -0.2373   -2.0912\n",
    "'''\n",
    "\n",
    "biweight_filter([1,2,3,4,5,6,7,8,9,10])"
   ]
  },
  {
   "cell_type": "code",
   "execution_count": 61,
   "metadata": {},
   "outputs": [
    {
     "name": "stdout",
     "output_type": "stream",
     "text": [
      "[-6.18160098 -9.18160107 -8.18160078 43.8183991  -4.18160127]\n"
     ]
    },
    {
     "data": {
      "text/plain": [
       "(array([-7.29999564, -6.2407983 , -9.24079819, -8.24079814, 43.7592018 ,\n",
       "        -4.18160127]),\n",
       " array([-15.65673323,   6.25673324]),\n",
       " array([-14.12804618,  18.60640503]))"
      ]
     },
     "execution_count": 61,
     "metadata": {},
     "output_type": "execute_result"
    }
   ],
   "source": [
    "'''\n",
    "a =\n",
    "\n",
    "   -7.9789\n",
    "   -4.6109\n",
    "   -7.5801\n",
    "   -8.8251\n",
    "   41.6895\n",
    "   -4.7761\n",
    "\n",
    "\n",
    "b =\n",
    "\n",
    "  -14.0808    6.2495\n",
    "\n",
    "\n",
    "c =\n",
    "\n",
    "  -12.9706   18.5835\n",
    "'''\n",
    "biweight_filter([3,4,1,2,54,6])"
   ]
  }
 ],
 "metadata": {
  "kernelspec": {
   "display_name": "Python 3",
   "language": "python",
   "name": "python3"
  },
  "language_info": {
   "codemirror_mode": {
    "name": "ipython",
    "version": 3
   },
   "file_extension": ".py",
   "mimetype": "text/x-python",
   "name": "python",
   "nbconvert_exporter": "python",
   "pygments_lexer": "ipython3",
   "version": "3.6.8"
  }
 },
 "nbformat": 4,
 "nbformat_minor": 2
}
