{
 "cells": [
  {
   "cell_type": "code",
   "execution_count": 6,
   "metadata": {},
   "outputs": [],
   "source": [
    "import robustsp as rsp\n",
    "import numpy as np\n",
    "\n",
    "def spec_arma_est_bip_tau(x,p,q):\n",
    "    x = x - np.median(x)\n",
    "    \n",
    "    N = len(x)\n",
    "    \n",
    "    w = np.linspace(0,np.pi,int(N/2))\n",
    "    # Digital frequency must be used for this calculation\n",
    "    s = np.exp(1j*w)\n",
    "    \n",
    "    result = rsp.arma_est_bip_tau(x,p,q)\n",
    "    \n",
    "    beta_hat = np.zeros(p+q)\n",
    "    beta_hat[:p] = result['ar_coeffs']\n",
    "    beta_hat[p:] = result['ma_coeffs']\n",
    "    \n",
    "    Xx = np.polyval([1,*beta_hat[p:]],s)\\\n",
    "    / np.polyval([1,*beta_hat[:p]],s)\n",
    "    \n",
    "    sigma_hat = result['inno_scale']\n",
    "    # BIP-ARMA tau spectral estimate \n",
    "    Pxx = (sigma_hat**2)/(2*np.pi) *np.abs(Xx)**2\n",
    "    \n",
    "    PxxdB = 10 *np.log10(Pxx)\n",
    "    \n",
    "    return PxxdB, Pxx, w, sigma_hat"
   ]
  },
  {
   "cell_type": "code",
   "execution_count": 7,
   "metadata": {},
   "outputs": [],
   "source": [
    "import scipy.io as sio\n",
    "ld = lambda x: sio.loadmat(x)[x].flatten()\n",
    "\n",
    "y = ld('y')\n",
    "\n",
    "PxxdB_taum = ld('PxxdB_tau')\n",
    "\n",
    "Pxx_taum = ld('Pxx_tau')\n",
    "\n",
    "wm = ld('w')\n",
    "\n",
    "sigma_hatm = ld('sigma_hat')\n",
    "\n",
    "p = 4\n",
    "\n",
    "q = 3"
   ]
  },
  {
   "cell_type": "code",
   "execution_count": 8,
   "metadata": {},
   "outputs": [],
   "source": [
    "PxxdB_tau, Pxx_tau, w, sigma_hat = spec_arma_est_bip_tau(y,p,q)"
   ]
  },
  {
   "cell_type": "code",
   "execution_count": 15,
   "metadata": {},
   "outputs": [
    {
     "data": {
      "text/plain": [
       "False"
      ]
     },
     "execution_count": 15,
     "metadata": {},
     "output_type": "execute_result"
    }
   ],
   "source": [
    "eq = lambda x,y: np.array_equal(x,y)\n",
    "ic = lambda x,y: np.isclose(x,y,1e-1).all()\n",
    "ic(PxxdB_tau, PxxdB_taum)"
   ]
  },
  {
   "cell_type": "code",
   "execution_count": 10,
   "metadata": {},
   "outputs": [
    {
     "data": {
      "text/plain": [
       "1.1654267229534228"
      ]
     },
     "execution_count": 10,
     "metadata": {},
     "output_type": "execute_result"
    }
   ],
   "source": [
    "sigma_hat"
   ]
  },
  {
   "cell_type": "code",
   "execution_count": 11,
   "metadata": {},
   "outputs": [
    {
     "data": {
      "text/plain": [
       "array([1.16860421])"
      ]
     },
     "execution_count": 11,
     "metadata": {},
     "output_type": "execute_result"
    }
   ],
   "source": [
    "sigma_hatm"
   ]
  },
  {
   "cell_type": "code",
   "execution_count": 12,
   "metadata": {},
   "outputs": [
    {
     "data": {
      "text/plain": [
       "True"
      ]
     },
     "execution_count": 12,
     "metadata": {},
     "output_type": "execute_result"
    }
   ],
   "source": [
    "ic(w, wm)"
   ]
  },
  {
   "cell_type": "code",
   "execution_count": 16,
   "metadata": {},
   "outputs": [
    {
     "data": {
      "text/plain": [
       "array([1.        , 0.17921139, 0.82020248, 0.26764101])"
      ]
     },
     "execution_count": 16,
     "metadata": {},
     "output_type": "execute_result"
    }
   ],
   "source": [
    "b_0 = 0.13137;\n",
    "np.array([0.13137, 0.023543, 0.10775, 0.03516])/b_0"
   ]
  },
  {
   "cell_type": "code",
   "execution_count": 17,
   "metadata": {},
   "outputs": [
    {
     "data": {
      "text/plain": [
       "array([1.45321734e+00, 1.45420072e+00, 1.45715694e+00, 1.46210438e+00,\n",
       "       1.46907398e+00, 1.47810962e+00, 1.48926879e+00, 1.50262341e+00,\n",
       "       1.51826085e+00, 1.53628527e+00, 1.55681919e+00, 1.58000541e+00,\n",
       "       1.60600932e+00, 1.63502167e+00, 1.66726183e+00, 1.70298175e+00,\n",
       "       1.74247066e+00, 1.78606071e+00, 1.83413370e+00, 1.88712933e+00,\n",
       "       1.94555498e+00, 2.00999781e+00, 2.08113942e+00, 2.15977391e+00,\n",
       "       2.24683021e+00, 2.34339984e+00, 2.45077173e+00, 2.57047616e+00,\n",
       "       2.70434062e+00, 2.85456162e+00, 3.02379758e+00, 3.21529041e+00,\n",
       "       3.43302633e+00, 3.68195098e+00, 3.96826086e+00, 4.29980371e+00,\n",
       "       4.68663666e+00, 5.14181742e+00, 5.68254587e+00, 6.33184431e+00,\n",
       "       7.12108536e+00, 8.09388823e+00, 9.31228864e+00, 1.08668066e+01,\n",
       "       1.28934328e+01, 1.56033638e+01, 1.93371786e+01, 2.46677129e+01,\n",
       "       3.26027757e+01, 4.49907076e+01, 6.52758401e+01, 9.92830372e+01,\n",
       "       1.51262191e+02, 1.97335244e+02, 1.79261697e+02, 1.20682345e+02,\n",
       "       7.49666320e+01, 4.78643811e+01, 3.21470641e+01, 2.26489992e+01,\n",
       "       1.66102180e+01, 1.25869572e+01, 9.79663033e+00, 7.79466681e+00,\n",
       "       6.31665848e+00, 5.19867897e+00, 4.33530233e+00, 3.65651153e+00,\n",
       "       3.11447728e+00, 2.67570733e+00, 2.31622995e+00, 2.01855078e+00,\n",
       "       1.76967921e+00, 1.55981757e+00, 1.38147199e+00, 1.22883736e+00,\n",
       "       1.09736459e+00, 9.83451026e-01, 8.84215865e-01, 7.97334979e-01,\n",
       "       7.20917927e-01, 6.53415336e-01, 5.93548416e-01, 5.40254789e-01,\n",
       "       4.92646472e-01, 4.49977019e-01, 4.11615611e-01, 3.77026475e-01,\n",
       "       3.45752424e-01, 3.17401611e-01, 2.91636784e-01, 2.68166551e-01,\n",
       "       2.46738207e-01, 2.27131835e-01, 2.09155431e-01, 1.92640838e-01,\n",
       "       1.77440369e-01, 1.63423963e-01, 1.50476808e-01, 1.38497326e-01,\n",
       "       1.27395476e-01, 1.17091315e-01, 1.07513781e-01, 9.85996645e-02,\n",
       "       9.02927309e-02, 8.25429965e-02, 7.53061182e-02, 6.85428990e-02,\n",
       "       6.22188955e-02, 5.63041254e-02, 5.07728731e-02, 4.56035992e-02,\n",
       "       4.07789610e-02, 3.62859607e-02, 3.21162448e-02, 2.82665878e-02,\n",
       "       2.47396083e-02, 2.15447870e-02, 1.86998775e-02, 1.62328449e-02,\n",
       "       1.41845152e-02, 1.26121938e-02, 1.15946180e-02, 1.12387526e-02,\n",
       "       1.16891437e-02, 1.31408189e-02, 1.58570703e-02, 2.01938518e-02,\n",
       "       2.66328156e-02, 3.58248202e-02, 4.86440178e-02, 6.62469613e-02,\n",
       "       9.01163880e-02, 1.22035966e-01, 1.63878223e-01, 2.16996938e-01,\n",
       "       2.80982811e-01, 3.51847544e-01, 4.20715506e-01, 4.75277015e-01,\n",
       "       5.05054420e-01, 5.06991485e-01, 4.86114588e-01, 4.51301557e-01,\n",
       "       4.10756905e-01, 3.70019279e-01, 3.32048299e-01, 2.98044770e-01,\n",
       "       2.68222438e-01, 2.42322287e-01, 2.19902754e-01, 2.00485974e-01,\n",
       "       1.83623474e-01, 1.68920527e-01, 1.56040781e-01, 1.44702363e-01,\n",
       "       1.34670938e-01, 1.25752255e-01, 1.17785263e-01, 1.10636162e-01,\n",
       "       1.04193423e-01, 9.83637191e-02, 9.30686072e-02, 8.82418533e-02,\n",
       "       8.38272706e-02, 7.97769730e-02, 7.60499610e-02, 7.26109742e-02,\n",
       "       6.94295555e-02, 6.64792861e-02, 6.37371571e-02, 6.11830511e-02,\n",
       "       5.87993131e-02, 5.65703935e-02, 5.44825497e-02, 5.25235964e-02,\n",
       "       5.06826949e-02, 4.89501753e-02, 4.73173854e-02, 4.57765625e-02,\n",
       "       4.43207231e-02, 4.29435691e-02, 4.16394066e-02, 4.04030762e-02,\n",
       "       3.92298921e-02, 3.81155896e-02, 3.70562796e-02, 3.60484085e-02,\n",
       "       3.50887226e-02, 3.41742384e-02, 3.33022145e-02, 3.24701284e-02,\n",
       "       3.16756550e-02, 3.09166481e-02, 3.01911235e-02, 2.94972444e-02,\n",
       "       2.88333080e-02, 2.81977339e-02, 2.75890532e-02, 2.70058993e-02,\n",
       "       2.64469991e-02, 2.59111653e-02, 2.53972899e-02, 2.49043372e-02,\n",
       "       2.44313387e-02, 2.39773877e-02, 2.35416345e-02, 2.31232826e-02,\n",
       "       2.27215841e-02, 2.23358371e-02, 2.19653815e-02, 2.16095967e-02,\n",
       "       2.12678988e-02, 2.09397380e-02, 2.06245962e-02, 2.03219853e-02,\n",
       "       2.00314451e-02, 1.97525412e-02, 1.94848641e-02, 1.92280269e-02,\n",
       "       1.89816646e-02, 1.87454325e-02, 1.85190049e-02, 1.83020743e-02,\n",
       "       1.80943502e-02, 1.78955583e-02, 1.77054394e-02, 1.75237489e-02,\n",
       "       1.73502560e-02, 1.71847426e-02, 1.70270034e-02, 1.68768446e-02,\n",
       "       1.67340837e-02, 1.65985490e-02, 1.64700791e-02, 1.63485222e-02,\n",
       "       1.62337362e-02, 1.61255879e-02, 1.60239528e-02, 1.59287147e-02,\n",
       "       1.58397657e-02, 1.57570054e-02, 1.56803413e-02, 1.56096879e-02,\n",
       "       1.55449671e-02, 1.54861074e-02, 1.54330444e-02, 1.53857200e-02,\n",
       "       1.53440828e-02, 1.53080876e-02, 1.52776955e-02, 1.52528737e-02,\n",
       "       1.52335954e-02, 1.52198400e-02, 1.52115926e-02, 1.52088445e-02])"
      ]
     },
     "execution_count": 17,
     "metadata": {},
     "output_type": "execute_result"
    }
   ],
   "source": [
    "Pxx_tau"
   ]
  },
  {
   "cell_type": "code",
   "execution_count": 20,
   "metadata": {},
   "outputs": [
    {
     "data": {
      "text/plain": [
       "7269.457313717727"
      ]
     },
     "execution_count": 20,
     "metadata": {},
     "output_type": "execute_result"
    }
   ],
   "source": [
    "np.sum(np.abs((Pxx_taum-Pxx_tau))**2)"
   ]
  },
  {
   "cell_type": "markdown",
   "metadata": {},
   "source": [
    "# ARMA est bip tau"
   ]
  },
  {
   "cell_type": "markdown",
   "metadata": {},
   "source": [
    "inno_scale mit robust_starting_point von matlab richtig"
   ]
  },
  {
   "cell_type": "code",
   "execution_count": 1,
   "metadata": {},
   "outputs": [],
   "source": [
    "import robustsp as rsp\n",
    "import numpy as np\n",
    "import scipy.io as sio\n",
    "ld = lambda x: sio.loadmat(x)[x].flatten()\n",
    "\n",
    "y = ld('y')\n",
    "\n",
    "p = 4\n",
    "\n",
    "q = 3\n",
    "\n",
    "meth= None\n",
    "from scipy.optimize import minimize\n",
    "y = y -np.median(y)"
   ]
  },
  {
   "cell_type": "code",
   "execution_count": 2,
   "metadata": {},
   "outputs": [
    {
     "data": {
      "text/plain": [
       "array([ 1.35251665, -1.50851952,  1.1431666 , -0.83287937, -0.03934287,\n",
       "       -0.8588762 , -0.0817226 ])"
      ]
     },
     "execution_count": 2,
     "metadata": {},
     "output_type": "execute_result"
    }
   ],
   "source": [
    "'''\n",
    "beta_initial =\n",
    "1.3678   -1.5214    1.1391   -0.8203   -0.0230   -0.8493   -0.0945\n",
    "'''\n",
    "# Robust starting point by BIP AR-tau approximation\n",
    "beta_initial = rsp.robust_starting_point(y,p,q)[0]\n",
    "beta_initial"
   ]
  },
  {
   "cell_type": "code",
   "execution_count": 13,
   "metadata": {},
   "outputs": [],
   "source": [
    "# from matlab\n",
    "beta_initial = \\\n",
    "np.array([1.3678   ,-1.5214    ,1.1391  , -0.8203   ,-0.0230  , -0.8493,-0.0945])"
   ]
  },
  {
   "cell_type": "code",
   "execution_count": 3,
   "metadata": {},
   "outputs": [],
   "source": [
    "F = lambda beta: rsp.arma_tau_resid_sc(y,beta,p,q)\n",
    "\n",
    "F_bip = lambda beta: rsp.bip_tau_resid_sc(y,beta,p,q)[0]"
   ]
  },
  {
   "cell_type": "code",
   "execution_count": 4,
   "metadata": {},
   "outputs": [
    {
     "data": {
      "text/plain": [
       "(10000000000, 3.8418493526882886)"
      ]
     },
     "execution_count": 4,
     "metadata": {},
     "output_type": "execute_result"
    }
   ],
   "source": [
    "beta_arma_m =\\\n",
    "np.array([1.4270 ,  -1.5565    ,1.0681  , -0.7705   ,-0.1118 ,  -0.6810 ,   0.0016])\n",
    "beta_arma = minimize(F, beta_initial, method='SLSQP')['x']\n",
    "# F(beta_arma) should be 10e10, is 10e10\n",
    "# F(beta_arma_m) should be 3.8418 is correct\n",
    "F(beta_arma), F(beta_arma_m)"
   ]
  },
  {
   "cell_type": "code",
   "execution_count": 10,
   "metadata": {},
   "outputs": [
    {
     "data": {
      "text/plain": [
       "array([-0.18758367, -0.19099155, -0.21314403,  0.93938803, -1.19338321,\n",
       "       -0.72645468,  0.19016781])"
      ]
     },
     "execution_count": 10,
     "metadata": {},
     "output_type": "execute_result"
    }
   ],
   "source": [
    "beta_arma"
   ]
  },
  {
   "cell_type": "code",
   "execution_count": 5,
   "metadata": {},
   "outputs": [
    {
     "data": {
      "text/plain": [
       "(1.1654267229534228, 1.1686097801345536)"
      ]
     },
     "execution_count": 5,
     "metadata": {},
     "output_type": "execute_result"
    }
   ],
   "source": [
    "beta_bip_m=np.array([1.3168,-1.4657,1.1267,-0.8317,-0.0967,-0.8777,-0.1608])\n",
    "beta_bip = minimize(F_bip, beta_initial, method='SLSQP')['x']\n",
    "F_bip(beta_bip), F_bip(beta_bip_m) # should be 1.1686"
   ]
  },
  {
   "cell_type": "code",
   "execution_count": 17,
   "metadata": {},
   "outputs": [
    {
     "ename": "NameError",
     "evalue": "name 'a_sc' is not defined",
     "output_type": "error",
     "traceback": [
      "\u001b[1;31m---------------------------------------------------------------------------\u001b[0m",
      "\u001b[1;31mNameError\u001b[0m                                 Traceback (most recent call last)",
      "\u001b[1;32m<ipython-input-17-1bd2dd9be412>\u001b[0m in \u001b[0;36m<module>\u001b[1;34m\u001b[0m\n\u001b[0;32m      1\u001b[0m \u001b[1;31m# final parameter estimate uses the model that provides smallest tau_scale\u001b[0m\u001b[1;33m\u001b[0m\u001b[1;33m\u001b[0m\u001b[1;33m\u001b[0m\u001b[0m\n\u001b[1;32m----> 2\u001b[1;33m \u001b[0mbeta_hat\u001b[0m \u001b[1;33m=\u001b[0m \u001b[0mbeta_arma\u001b[0m \u001b[1;32mif\u001b[0m \u001b[0ma_sc\u001b[0m\u001b[1;33m<\u001b[0m\u001b[0ma_bip_sc\u001b[0m \u001b[1;32melse\u001b[0m \u001b[0mbeta_bip\u001b[0m\u001b[1;33m\u001b[0m\u001b[1;33m\u001b[0m\u001b[0m\n\u001b[0m\u001b[0;32m      3\u001b[0m \u001b[1;33m\u001b[0m\u001b[0m\n\u001b[0;32m      4\u001b[0m \u001b[1;31m# final tau scale\u001b[0m\u001b[1;33m\u001b[0m\u001b[1;33m\u001b[0m\u001b[1;33m\u001b[0m\u001b[0m\n\u001b[0;32m      5\u001b[0m \u001b[0ma_tau_sc\u001b[0m \u001b[1;33m=\u001b[0m \u001b[0mmin\u001b[0m\u001b[1;33m(\u001b[0m\u001b[0ma_sc\u001b[0m\u001b[1;33m,\u001b[0m \u001b[0ma_bip_sc\u001b[0m\u001b[1;33m)\u001b[0m\u001b[1;33m\u001b[0m\u001b[1;33m\u001b[0m\u001b[0m\n",
      "\u001b[1;31mNameError\u001b[0m: name 'a_sc' is not defined"
     ]
    }
   ],
   "source": [
    "# final parameter estimate uses the model that provides smallest tau_scale\n",
    "beta_hat = beta_arma if a_sc<a_bip_sc else beta_bip\n",
    "\n",
    "# final tau scale\n",
    "a_tau_sc = min(a_sc, a_bip_sc)\n",
    "\n",
    "# Output the results..."
   ]
  },
  {
   "cell_type": "code",
   "execution_count": 18,
   "metadata": {},
   "outputs": [
    {
     "ename": "NameError",
     "evalue": "name 'beta_hat' is not defined",
     "output_type": "error",
     "traceback": [
      "\u001b[1;31m---------------------------------------------------------------------------\u001b[0m",
      "\u001b[1;31mNameError\u001b[0m                                 Traceback (most recent call last)",
      "\u001b[1;32m<ipython-input-18-17266d461373>\u001b[0m in \u001b[0;36m<module>\u001b[1;34m\u001b[0m\n\u001b[0;32m      1\u001b[0m \u001b[1;31m# -1.3168 1.4657 -1.1267 0.8317\u001b[0m\u001b[1;33m\u001b[0m\u001b[1;33m\u001b[0m\u001b[1;33m\u001b[0m\u001b[0m\n\u001b[1;32m----> 2\u001b[1;33m \u001b[1;33m-\u001b[0m\u001b[0mbeta_hat\u001b[0m\u001b[1;33m[\u001b[0m\u001b[1;33m:\u001b[0m\u001b[0mp\u001b[0m\u001b[1;33m]\u001b[0m\u001b[1;33m\u001b[0m\u001b[1;33m\u001b[0m\u001b[0m\n\u001b[0m",
      "\u001b[1;31mNameError\u001b[0m: name 'beta_hat' is not defined"
     ]
    }
   ],
   "source": [
    "# -1.3168 1.4657 -1.1267 0.8317\n",
    "-beta_hat[:p]"
   ]
  },
  {
   "cell_type": "code",
   "execution_count": null,
   "metadata": {},
   "outputs": [],
   "source": [
    "# 0.0967 0.8777 0.1608\n",
    "-beta_hat[p:]"
   ]
  },
  {
   "cell_type": "code",
   "execution_count": null,
   "metadata": {},
   "outputs": [],
   "source": [
    "#1.1686\n",
    "a_tau_sc"
   ]
  }
 ],
 "metadata": {
  "kernelspec": {
   "display_name": "Python 3",
   "language": "python",
   "name": "python3"
  },
  "language_info": {
   "codemirror_mode": {
    "name": "ipython",
    "version": 3
   },
   "file_extension": ".py",
   "mimetype": "text/x-python",
   "name": "python",
   "nbconvert_exporter": "python",
   "pygments_lexer": "ipython3",
   "version": "3.6.8"
  }
 },
 "nbformat": 4,
 "nbformat_minor": 2
}
