{
 "cells": [
  {
   "cell_type": "code",
   "execution_count": 110,
   "metadata": {},
   "outputs": [],
   "source": [
    "import numpy as np\n",
    "import robustsp as rsp\n",
    "\n",
    "def repeated_median_filter(x):\n",
    "    N = len(x)\n",
    "    \n",
    "    xFRM = np.zeros(N) # filter cleaned signal\n",
    "    \n",
    "    # Works for signals of prime length, therefore, signal is split into two\n",
    "    # overlapping segments which are of prime length\n",
    "    x_split = rsp.split_into_prime(x)\n",
    "    \n",
    "    # for each prime segment do repeated median filtering\n",
    "    for ii in range(len(x_split[0,:])):\n",
    "        x_part = x_split[:,ii]\n",
    "        \n",
    "        # Fourier frequencies in descending order\n",
    "        wr = rsp.order_wk(x_part)[0]\n",
    "\n",
    "        # Length of the prime time segment\n",
    "        N_prime = len(x_part)\n",
    "        \n",
    "        # time vector\n",
    "        t = range(N_prime)\n",
    "        \n",
    "        # number of fourier coefficients\n",
    "        K =(N_prime-1)/2\n",
    "\n",
    "        # Repeated median estimate of \n",
    "        # cosine coefficients at w(k)\n",
    "        ARM = np.zeros(int(K))\n",
    "        \n",
    "        # Repeated median estimate of sine\n",
    "        # coefficients at w(k)\n",
    "        BRM = np.zeros(int(K))\n",
    "        \n",
    "        # repeated median transform: estimate ARM and BRM starting with stongest\n",
    "        # w(k), subtract from time series, repeat M times\n",
    "        \n",
    "        # number of iterations, as recommended in the paper by Tatum and Hurvich\n",
    "        M = 2\n",
    "        \n",
    "        # remove a robust location estimate \n",
    "        # (the sample median)\n",
    "        xm = np.median(x_part)\n",
    "        xt = x_part - xm\n",
    "\n",
    "        Auv = np.zeros((N_prime, N_prime))\n",
    "        Buv = np.zeros((N_prime, N_prime))\n",
    "        \n",
    "        A = np.zeros(int(K))\n",
    "        B = np.zeros(int(K))\n",
    "        \n",
    "        for m in range(M):\n",
    "            for k in range(int(K)):\n",
    "                for u in range(N_prime):\n",
    "                    for v in range(N_prime):\n",
    "                        if u != v:\n",
    "                            Auv[u,v] =\\\n",
    "                            (xt[u]*np.sin(wr[k]*v)\\\n",
    "                            -xt[v]*np.sin(wr[k]*u))\\\n",
    "                            /np.sin(wr[k]*(v-u))\n",
    "                            \n",
    "                            Buv[u,v] =\\\n",
    "                            (xt[v]*np.cos(wr[k]*u)\\\n",
    "                            -xt[u]*np.cos(wr[k]*v))\\\n",
    "                            /np.sin(wr[k]*(v-u))\n",
    "                A[k] = np.median(np.median(Auv,axis=0))\n",
    "\n",
    "                B[k] = np.median(np.median(Buv,axis=0))\n",
    "                \n",
    "                xt -=  (A[k]*np.cos(wr[k]*t) + B[k]*np.sin(wr[k]*t))\n",
    "                \n",
    "                ARM[k] +=  A[k]\n",
    "                \n",
    "                BRM[k] +=  B[k]\n",
    "\n",
    "        # recover the core process by regression of the repeated median estimates\n",
    "        # onto the independent parameters\n",
    "\n",
    "        if ii == 0:\n",
    "            xFRM1 = np.array(xm)\n",
    "            for k in range(int(K)):\n",
    "                sumAB = ARM[k]*np.cos(wr[k]*t)+\\\n",
    "                BRM[k]*np.sin(wr[k]*t)\n",
    "\n",
    "                xFRM1 = xFRM1 + sumAB\n",
    "        elif ii == 1:\n",
    "            xFRM2 = np.array(xm)\n",
    "            for k in range(int(K)):\n",
    "                sumAB = ARM[k]*np.cos(wr[k]*t)+\\\n",
    "                BRM[k]*np.sin(wr[k]*t)\n",
    "\n",
    "                xFRM2 = xFRM2 + sumAB    \n",
    "    if ii==0:\n",
    "        xFRM=np.array(xFRM1)\n",
    "    elif ii==1:\n",
    "        xFRM[:N-N_prime] = xFRM1[:N-N_prime]\n",
    "        xFRM[N-N_prime:N_prime] =\\\n",
    "        (xFRM1[N-N_prime:N_prime]+ xFRM2[N-N_prime:N_prime])/2\n",
    "        xFRM[N_prime:] = xFRM2[::N-N_prime]\n",
    "    return xFRM, ARM, BRM"
   ]
  },
  {
   "cell_type": "code",
   "execution_count": 111,
   "metadata": {},
   "outputs": [
    {
     "data": {
      "text/plain": [
       "(array([ 0.86326317,  2.18309314,  4.43105324,  5.4864588 ,  4.8868801 ,\n",
       "         7.53042681,  8.61882474,  3.86326317,  6.9864588 , 10.11882474]),\n",
       " array([-1.72424986, -0.7530204 , -0.65946657]),\n",
       " array([-1.31051709, -0.08758488, -1.47372481]))"
      ]
     },
     "execution_count": 111,
     "metadata": {},
     "output_type": "execute_result"
    }
   ],
   "source": [
    "'''\n",
    "ans =\n",
    "\n",
    "    0.8633\n",
    "    2.1831\n",
    "    4.4311\n",
    "    3.9249\n",
    "    4.2850\n",
    "    6.7307\n",
    "    7.0526\n",
    "    6.3869\n",
    "    9.0304\n",
    "   10.1188\n",
    "   \n",
    "   b =\n",
    "\n",
    "   -1.7242   -0.7530   -0.6595\n",
    "\n",
    "\n",
    "c =\n",
    "\n",
    "   -1.3105   -0.0876   -1.4737\n",
    "'''\n",
    "\n",
    "repeated_median_filter([1,2,3,4,5,6,7,8,9,10])"
   ]
  },
  {
   "cell_type": "code",
   "execution_count": 109,
   "metadata": {},
   "outputs": [
    {
     "name": "stdout",
     "output_type": "stream",
     "text": [
      "k: 0\n",
      "-2.2469796037174663 1.7951958020513104\n",
      "[-0.7530204  -0.9205832  -3.72736527  0.13437493  3.6675628   0.67844793\n",
      "  0.9205832 ]\n",
      "k: 1\n"
     ]
    }
   ],
   "source": [
    "x = [1,2,3,4,5,6,7,8,9,10]\n",
    "\n",
    "N = len(x)\n",
    "\n",
    "xFRM = np.zeros(N) # filter cleaned signal\n",
    "\n",
    "# Works for signals of prime length, therefore, signal is split into two\n",
    "# overlapping segments which are of prime length\n",
    "x_split = rsp.split_into_prime(x)\n",
    "\n",
    "# for each prime segment do repeated median filtering\n",
    "ii=0\n",
    "x_part = x_split[:,ii]\n",
    "\n",
    "# Fourier frequencies in descending order\n",
    "wr = rsp.order_wk(x_part)[0]\n",
    "\n",
    "# Length of the prime time segment\n",
    "N_prime = len(x_part)\n",
    "\n",
    "# time vector\n",
    "t = np.arange(N_prime) # ok \n",
    "\n",
    "# number of fourier coefficients\n",
    "K =(N_prime-1)/2\n",
    "\n",
    "# Repeated median estimate of \n",
    "# cosine coefficients at w(k)\n",
    "ARM = np.zeros(int(K))\n",
    "\n",
    "# Repeated median estimate of sine\n",
    "# coefficients at w(k)\n",
    "BRM = np.zeros(int(K))\n",
    "\n",
    "# repeated median transform: estimate ARM and BRM starting with stongest\n",
    "# w(k), subtract from time series, repeat M times\n",
    "\n",
    "# number of iterations, as recommended in the paper by Tatum and Hurvich\n",
    "M = 2\n",
    "\n",
    "# remove a robust location estimate \n",
    "# (the sample median)\n",
    "xm = np.median(x_part)\n",
    "xt = x_part - xm\n",
    "# stimmt print(xt)\n",
    "Auv = np.zeros((N_prime, N_prime))\n",
    "Buv = np.zeros((N_prime, N_prime))\n",
    "\n",
    "A = np.zeros(int(K))\n",
    "B = np.zeros(int(K))\n",
    "M=1\n",
    "\n",
    "# ok print(xt)\n",
    "# ok print(wr)\n",
    "\n",
    "k = 0\n",
    "print('k: %i'% k)\n",
    "for u in range(N_prime):\n",
    "    for v in range(N_prime):\n",
    "        if u != v:\n",
    "            Auv[u,v] =\\\n",
    "            (xt[u]*np.sin(wr[k]*v)\\\n",
    "            -xt[v]*np.sin(wr[k]*u))\\\n",
    "            /np.sin(wr[k]*(v-u))\n",
    "\n",
    "            Buv[u,v] =\\\n",
    "            (xt[v]*np.cos(wr[k]*u)\\\n",
    "            -xt[u]*np.cos(wr[k]*v))\\\n",
    "            /np.sin(wr[k]*(v-u))\n",
    "A[k] = np.median(np.median(Auv,axis=0)) # ok\n",
    "\n",
    "B[k] = np.median(np.median(Buv,axis=0)) # ok\n",
    "print(A[k], wr[k])\n",
    "xt -=  (A[k]*np.cos(wr[k]*t) + B[k]*np.sin(wr[k]*t)) # false\n",
    "print(xt)\n",
    "ARM[k] +=  A[k] # ok\n",
    "\n",
    "BRM[k] +=  B[k] # ok\n",
    "\n",
    "k=1\n",
    "print('k: %i'% k)\n",
    "for u in range(N_prime):\n",
    "    for v in range(N_prime):\n",
    "        if u != v:\n",
    "            Auv[u,v] =\\\n",
    "            (xt[u]*np.sin(wr[k]*v)\\\n",
    "            -xt[v]*np.sin(wr[k]*u))\\\n",
    "            /np.sin(wr[k]*(v-u))\n",
    "\n",
    "            Buv[u,v] =\\\n",
    "            (xt[v]*np.cos(wr[k]*u)\\\n",
    "            -xt[u]*np.cos(wr[k]*v))\\\n",
    "            /np.sin(wr[k]*(v-u))\n",
    "A[k] = np.median(np.median(Auv,axis=0))\n",
    "\n",
    "B[k] = np.median(np.median(Buv,axis=0))\n",
    "\n",
    "xt -=  A[k]*np.cos(wr[k]*t) - B[k]*np.sin(wr[k]*t)\n",
    "\n",
    "ARM[k] +=  A[k]\n",
    "\n",
    "BRM[k] +=  B[k]\n"
   ]
  },
  {
   "cell_type": "code",
   "execution_count": 6,
   "metadata": {},
   "outputs": [
    {
     "name": "stdout",
     "output_type": "stream",
     "text": [
      "0\n",
      "0\n",
      "0\n",
      "0\n",
      "0\n",
      "0\n"
     ]
    },
    {
     "ename": "IndexError",
     "evalue": "index 6 is out of bounds for axis 1 with size 6",
     "output_type": "error",
     "traceback": [
      "\u001b[1;31m---------------------------------------------------------------------------\u001b[0m",
      "\u001b[1;31mIndexError\u001b[0m                                Traceback (most recent call last)",
      "\u001b[1;32m<ipython-input-6-ffbeb61aa277>\u001b[0m in \u001b[0;36m<module>\u001b[1;34m\u001b[0m\n\u001b[1;32m----> 1\u001b[1;33m \u001b[0mrepeated_median_filter\u001b[0m\u001b[1;33m(\u001b[0m\u001b[1;33m[\u001b[0m\u001b[1;36m1\u001b[0m\u001b[1;33m,\u001b[0m\u001b[1;36m2\u001b[0m\u001b[1;33m,\u001b[0m\u001b[1;36m3\u001b[0m\u001b[1;33m,\u001b[0m\u001b[1;36m4\u001b[0m\u001b[1;33m,\u001b[0m\u001b[1;36m5\u001b[0m\u001b[1;33m,\u001b[0m\u001b[1;36m6\u001b[0m\u001b[1;33m,\u001b[0m\u001b[1;36m7\u001b[0m\u001b[1;33m,\u001b[0m\u001b[1;36m8\u001b[0m\u001b[1;33m,\u001b[0m\u001b[1;36m9\u001b[0m\u001b[1;33m,\u001b[0m\u001b[1;36m10\u001b[0m\u001b[1;33m]\u001b[0m\u001b[1;33m)\u001b[0m\u001b[1;33m\u001b[0m\u001b[1;33m\u001b[0m\u001b[0m\n\u001b[0m",
      "\u001b[1;32m<ipython-input-5-71cf5c1cadde>\u001b[0m in \u001b[0;36mrepeated_median_filter\u001b[1;34m(x)\u001b[0m\n\u001b[0;32m     58\u001b[0m                             (xt[u]*np.sin(wr[k]*v)\\\n\u001b[0;32m     59\u001b[0m                             -xt[v]*np.sin(wr[k]*v))\\\n\u001b[1;32m---> 60\u001b[1;33m                             \u001b[1;33m/\u001b[0m\u001b[0mnp\u001b[0m\u001b[1;33m.\u001b[0m\u001b[0msin\u001b[0m\u001b[1;33m(\u001b[0m\u001b[0mwr\u001b[0m\u001b[1;33m[\u001b[0m\u001b[0mk\u001b[0m\u001b[1;33m]\u001b[0m\u001b[1;33m*\u001b[0m\u001b[1;33m(\u001b[0m\u001b[0mv\u001b[0m\u001b[1;33m-\u001b[0m\u001b[0mu\u001b[0m\u001b[1;33m)\u001b[0m\u001b[1;33m)\u001b[0m\u001b[1;33m\u001b[0m\u001b[1;33m\u001b[0m\u001b[0m\n\u001b[0m\u001b[0;32m     61\u001b[0m \u001b[1;33m\u001b[0m\u001b[0m\n\u001b[0;32m     62\u001b[0m                             \u001b[0mBuv\u001b[0m\u001b[1;33m[\u001b[0m\u001b[0mu\u001b[0m\u001b[1;33m,\u001b[0m\u001b[0mv\u001b[0m\u001b[1;33m]\u001b[0m \u001b[1;33m=\u001b[0m\u001b[0;31m\\\u001b[0m\u001b[1;33m\u001b[0m\u001b[1;33m\u001b[0m\u001b[0m\n",
      "\u001b[1;31mIndexError\u001b[0m: index 6 is out of bounds for axis 1 with size 6"
     ]
    }
   ],
   "source": []
  },
  {
   "cell_type": "code",
   "execution_count": 2,
   "metadata": {},
   "outputs": [],
   "source": [
    "import scipy.io as sio\n",
    "\n",
    "y = sio.loadmat('y')['y'].flatten()\n",
    "ARMm = sio.loadmat('rmf')['ARM'].flatten()\n",
    "xFRMm = sio.loadmat('rmf')['xFRM'].flatten()\n",
    "BRMm = sio.loadmat('rmf')['BRM'].flatten()"
   ]
  },
  {
   "cell_type": "code",
   "execution_count": 3,
   "metadata": {},
   "outputs": [
    {
     "ename": "KeyboardInterrupt",
     "evalue": "",
     "output_type": "error",
     "traceback": [
      "\u001b[1;31m---------------------------------------------------------------------------\u001b[0m",
      "\u001b[1;31mKeyboardInterrupt\u001b[0m                         Traceback (most recent call last)",
      "\u001b[1;32m<ipython-input-3-951dd7a64df3>\u001b[0m in \u001b[0;36m<module>\u001b[1;34m\u001b[0m\n\u001b[1;32m----> 1\u001b[1;33m \u001b[0mxFRM\u001b[0m\u001b[1;33m,\u001b[0m\u001b[0mARM\u001b[0m\u001b[1;33m,\u001b[0m\u001b[0mBRM\u001b[0m \u001b[1;33m=\u001b[0m \u001b[0mrepeated_median_filter\u001b[0m\u001b[1;33m(\u001b[0m\u001b[0my\u001b[0m\u001b[1;33m)\u001b[0m\u001b[1;33m\u001b[0m\u001b[1;33m\u001b[0m\u001b[0m\n\u001b[0m",
      "\u001b[1;32m<ipython-input-1-83567b321b6f>\u001b[0m in \u001b[0;36mrepeated_median_filter\u001b[1;34m(x)\u001b[0m\n\u001b[0;32m     16\u001b[0m \u001b[1;33m\u001b[0m\u001b[0m\n\u001b[0;32m     17\u001b[0m         \u001b[1;31m# Fourier frequencies in descending order\u001b[0m\u001b[1;33m\u001b[0m\u001b[1;33m\u001b[0m\u001b[1;33m\u001b[0m\u001b[0m\n\u001b[1;32m---> 18\u001b[1;33m         \u001b[0mwr\u001b[0m \u001b[1;33m=\u001b[0m \u001b[0mrsp\u001b[0m\u001b[1;33m.\u001b[0m\u001b[0morder_wk\u001b[0m\u001b[1;33m(\u001b[0m\u001b[0mx_part\u001b[0m\u001b[1;33m)\u001b[0m\u001b[1;33m[\u001b[0m\u001b[1;36m0\u001b[0m\u001b[1;33m]\u001b[0m\u001b[1;33m\u001b[0m\u001b[1;33m\u001b[0m\u001b[0m\n\u001b[0m\u001b[0;32m     19\u001b[0m \u001b[1;33m\u001b[0m\u001b[0m\n\u001b[0;32m     20\u001b[0m         \u001b[1;31m# Length of the prime time segment\u001b[0m\u001b[1;33m\u001b[0m\u001b[1;33m\u001b[0m\u001b[1;33m\u001b[0m\u001b[0m\n",
      "\u001b[1;32mc:\\users\\computer\\desktop\\robustsp\\robustsp\\SpectrumEstimation\\Auxiliary\\order_wk.py\u001b[0m in \u001b[0;36morder_wk\u001b[1;34m(y)\u001b[0m\n\u001b[0;32m     30\u001b[0m                 \u001b[1;32mif\u001b[0m \u001b[0mu\u001b[0m\u001b[1;33m!=\u001b[0m\u001b[0mv\u001b[0m\u001b[1;33m:\u001b[0m\u001b[1;33m\u001b[0m\u001b[1;33m\u001b[0m\u001b[0m\n\u001b[0;32m     31\u001b[0m                     \u001b[0mApuv\u001b[0m\u001b[1;33m[\u001b[0m\u001b[0mu\u001b[0m\u001b[1;33m,\u001b[0m\u001b[0mv\u001b[0m\u001b[1;33m]\u001b[0m \u001b[1;33m=\u001b[0m \u001b[1;33m(\u001b[0m\u001b[0myt\u001b[0m\u001b[1;33m[\u001b[0m\u001b[0mu\u001b[0m\u001b[1;33m]\u001b[0m\u001b[1;33m*\u001b[0m\u001b[0mnp\u001b[0m\u001b[1;33m.\u001b[0m\u001b[0msin\u001b[0m\u001b[1;33m(\u001b[0m\u001b[0mw\u001b[0m\u001b[1;33m*\u001b[0m\u001b[0mv\u001b[0m\u001b[1;33m)\u001b[0m\u001b[1;33m-\u001b[0m\u001b[0myt\u001b[0m\u001b[1;33m[\u001b[0m\u001b[0mv\u001b[0m\u001b[1;33m]\u001b[0m\u001b[1;33m*\u001b[0m\u001b[0mnp\u001b[0m\u001b[1;33m.\u001b[0m\u001b[0msin\u001b[0m\u001b[1;33m(\u001b[0m\u001b[0mw\u001b[0m\u001b[1;33m*\u001b[0m\u001b[0mu\u001b[0m\u001b[1;33m)\u001b[0m\u001b[1;33m)\u001b[0m\u001b[1;33m/\u001b[0m\u001b[0mnp\u001b[0m\u001b[1;33m.\u001b[0m\u001b[0msin\u001b[0m\u001b[1;33m(\u001b[0m\u001b[0mw\u001b[0m\u001b[1;33m*\u001b[0m\u001b[1;33m(\u001b[0m\u001b[0mv\u001b[0m\u001b[1;33m-\u001b[0m\u001b[0mu\u001b[0m\u001b[1;33m)\u001b[0m\u001b[1;33m)\u001b[0m\u001b[1;33m\u001b[0m\u001b[1;33m\u001b[0m\u001b[0m\n\u001b[1;32m---> 32\u001b[1;33m                     \u001b[0mBpuv\u001b[0m\u001b[1;33m[\u001b[0m\u001b[0mu\u001b[0m\u001b[1;33m,\u001b[0m\u001b[0mv\u001b[0m\u001b[1;33m]\u001b[0m \u001b[1;33m=\u001b[0m \u001b[1;33m(\u001b[0m\u001b[0myt\u001b[0m\u001b[1;33m[\u001b[0m\u001b[0mv\u001b[0m\u001b[1;33m]\u001b[0m\u001b[1;33m*\u001b[0m\u001b[0mnp\u001b[0m\u001b[1;33m.\u001b[0m\u001b[0mcos\u001b[0m\u001b[1;33m(\u001b[0m\u001b[0mw\u001b[0m\u001b[1;33m*\u001b[0m\u001b[0mu\u001b[0m\u001b[1;33m)\u001b[0m\u001b[1;33m-\u001b[0m\u001b[0myt\u001b[0m\u001b[1;33m[\u001b[0m\u001b[0mu\u001b[0m\u001b[1;33m]\u001b[0m\u001b[1;33m*\u001b[0m\u001b[0mnp\u001b[0m\u001b[1;33m.\u001b[0m\u001b[0mcos\u001b[0m\u001b[1;33m(\u001b[0m\u001b[0mw\u001b[0m\u001b[1;33m*\u001b[0m\u001b[0mv\u001b[0m\u001b[1;33m)\u001b[0m\u001b[1;33m)\u001b[0m\u001b[1;33m/\u001b[0m\u001b[0mnp\u001b[0m\u001b[1;33m.\u001b[0m\u001b[0msin\u001b[0m\u001b[1;33m(\u001b[0m\u001b[0mw\u001b[0m\u001b[1;33m*\u001b[0m\u001b[1;33m(\u001b[0m\u001b[0mv\u001b[0m\u001b[1;33m-\u001b[0m\u001b[0mu\u001b[0m\u001b[1;33m)\u001b[0m\u001b[1;33m)\u001b[0m\u001b[1;33m\u001b[0m\u001b[1;33m\u001b[0m\u001b[0m\n\u001b[0m\u001b[0;32m     33\u001b[0m \u001b[1;33m\u001b[0m\u001b[0m\n\u001b[0;32m     34\u001b[0m         \u001b[0mAp\u001b[0m\u001b[1;33m[\u001b[0m\u001b[0mk\u001b[0m\u001b[1;33m]\u001b[0m \u001b[1;33m=\u001b[0m \u001b[0mnp\u001b[0m\u001b[1;33m.\u001b[0m\u001b[0mmedian\u001b[0m\u001b[1;33m(\u001b[0m\u001b[0mnp\u001b[0m\u001b[1;33m.\u001b[0m\u001b[0mmedian\u001b[0m\u001b[1;33m(\u001b[0m\u001b[0mApuv\u001b[0m\u001b[1;33m,\u001b[0m\u001b[0maxis\u001b[0m\u001b[1;33m=\u001b[0m\u001b[1;36m1\u001b[0m\u001b[1;33m)\u001b[0m\u001b[1;33m)\u001b[0m\u001b[1;33m\u001b[0m\u001b[1;33m\u001b[0m\u001b[0m\n",
      "\u001b[1;31mKeyboardInterrupt\u001b[0m: "
     ]
    }
   ],
   "source": [
    "xFRM,ARM,BRM = repeated_median_filter(y)"
   ]
  },
  {
   "cell_type": "code",
   "execution_count": 4,
   "metadata": {},
   "outputs": [
    {
     "data": {
      "text/plain": [
       "5"
      ]
     },
     "execution_count": 4,
     "metadata": {},
     "output_type": "execute_result"
    }
   ],
   "source": [
    "int(5.7)"
   ]
  },
  {
   "cell_type": "code",
   "execution_count": null,
   "metadata": {},
   "outputs": [],
   "source": [
    "np.array_equal(xFRM,xFRMm), np.array_equal(ARM,ARMm), np.array_equal(BRM,BRMm)"
   ]
  },
  {
   "cell_type": "code",
   "execution_count": 4,
   "metadata": {},
   "outputs": [],
   "source": [
    "import numpy as np\n",
    "import robustsp as rsp\n",
    "import scipy.io as sio\n",
    "\n",
    "x = sio.loadmat('y')['y'].flatten()\n",
    "##########\n",
    "N = len(x)\n",
    "\n",
    "xFRM = np.zeros(N) # filter cleaned signal\n",
    "\n",
    "# Works for signals of prime length, therefore, signal is split into two\n",
    "# overlapping segments which are of prime length\n",
    "x_split = rsp.split_into_prime(x)"
   ]
  },
  {
   "cell_type": "code",
   "execution_count": null,
   "metadata": {},
   "outputs": [],
   "source": [
    "ii = 0\n",
    "x_part = np.array(x_split[:,ii])\n",
    "\n",
    "# Fourier frequencies in descending order\n",
    "\n",
    "wr = rsp.order_wk(x_part)[0]"
   ]
  },
  {
   "cell_type": "code",
   "execution_count": 7,
   "metadata": {},
   "outputs": [
    {
     "data": {
      "text/plain": [
       "array([0.64189712, 0.67892965, 0.69127383, 0.6048646 , 0.59252042,\n",
       "       0.703618  , 0.71596218, 0.72830635, 0.6542413 , 0.61720877,\n",
       "       0.76533888, 0.53079954, 0.74065053, 0.66658547, 0.19750681,\n",
       "       0.48142284, 0.62955295, 0.30860439, 0.54314372, 0.56783207,\n",
       "       1.97506807, 0.46907867, 2.29601663, 2.32070499, 0.23453933,\n",
       "       1.99975642, 1.9133472 , 0.79002723, 0.91346898, 2.93791376,\n",
       "       0.92581316, 2.07382148, 2.64165355, 0.82705976, 0.8023714 ,\n",
       "       2.30836081, 0.58017625, 1.74052874, 0.0493767 , 0.77768305,\n",
       "       0.87643646, 1.90100302, 1.86397049, 2.1602307 , 1.78990544,\n",
       "       1.95037972, 1.19738502, 1.49364523, 2.12319818, 0.83940393,\n",
       "       2.08616565, 0.40735779, 0.24688351, 2.48117927, 1.71584039,\n",
       "       0.20985098, 0.5554879 , 1.83928214, 2.03678895, 2.13554235,\n",
       "       2.40711421, 1.64177534, 0.98753404, 1.55536611, 0.06172088,\n",
       "       1.27145007, 0.0987534 , 0.43204614, 1.32082677, 0.85174811,\n",
       "       1.80224962, 0.45673449, 2.91322541, 2.110854  , 0.08640923,\n",
       "       2.0121006 , 1.04925491, 2.02444477, 1.17269667, 2.51821179,\n",
       "       1.98741225, 2.43180256, 1.08628744, 0.03703253, 1.87631467,\n",
       "       0.13578593, 0.07406505, 0.28391604, 1.53067776, 0.86409228,\n",
       "       0.16047428, 0.18516263, 2.49352344, 2.80212783, 2.19726323,\n",
       "       0.41970197, 1.16035249, 0.01234418, 1.62943116, 3.04901134,\n",
       "       3.01197881, 1.18504084, 3.06135551, 1.77756127, 1.92569137,\n",
       "       0.25922768, 1.54302193, 1.2591059 , 1.81459379, 0.97518986,\n",
       "       1.14800832, 1.02456656, 0.27157186, 1.75287291, 1.41958018,\n",
       "       0.37032526, 2.97494628, 0.7529947 , 2.17257488, 0.33329274,\n",
       "       3.11073221, 2.37008169, 2.18491906, 2.85150453, 2.7157186 ,\n",
       "       1.61708698, 0.50611119, 1.06159909, 2.87619288, 2.6663419 ,\n",
       "       2.09850983, 2.86384871, 2.96260211, 0.12344175, 2.88853706,\n",
       "       2.39477004, 1.29613842, 2.99963464, 1.03691074, 0.38266944,\n",
       "       1.12331997, 2.35773751, 1.59239863, 3.09838804, 1.58005446,\n",
       "       2.98729046, 1.28379425, 0.17281846, 2.56758849, 0.34563691,\n",
       "       2.55524432, 0.14813011, 1.34551512, 1.82693797, 2.90088123,\n",
       "       0.99987821, 3.02432299, 2.46883509, 2.75275113, 3.07369969,\n",
       "       1.33317095, 1.72818456, 1.43192435, 0.49376702, 2.27132828,\n",
       "       1.07394326, 2.33304916, 2.62930937, 1.60474281, 2.65399772,\n",
       "       2.83916035, 1.3084826 , 2.45649092, 0.44439032, 1.50598941,\n",
       "       1.01222239, 1.13566414, 2.82681618, 1.85162632, 1.09863162,\n",
       "       1.11097579, 0.22219516, 1.39489183, 2.67868607, 0.96284569,\n",
       "       0.51845537, 2.41945839, 1.3578593 , 2.72806278, 1.66646369,\n",
       "       1.67880786, 1.24676172, 2.14788653, 1.9627239 , 1.38254765,\n",
       "       2.50586762, 2.78978365, 1.20972919, 1.46895688, 2.54290014,\n",
       "       2.92556958, 2.70337442, 0.11109758, 3.13542057, 2.20960741,\n",
       "       1.51833358, 2.23429576, 1.70349621, 1.22207337, 0.39501361,\n",
       "       1.37020348, 2.95025793, 0.02468835, 3.03666716, 2.04913313,\n",
       "       2.24663993, 0.93815733, 1.65411951, 1.69115204, 2.25898411,\n",
       "       2.53055597, 0.35798109, 1.23441755, 1.93803555, 0.95050151,\n",
       "       2.7650953 , 0.88878063, 3.08604386, 0.81471558, 2.34539334,\n",
       "       2.69103025, 2.74040695, 2.44414674, 1.88865884, 2.60462102,\n",
       "       1.4566127 , 2.814472  , 2.0614773 , 2.6169652 , 2.38242586,\n",
       "       1.56771028, 1.48130105, 1.76521709, 2.59227685, 0.32094856,\n",
       "       2.77743948, 3.12307639, 2.28367246, 1.44426853, 0.90112481,\n",
       "       2.22195158, 2.57993267, 1.407236  , 0.29626021])"
      ]
     },
     "execution_count": 7,
     "metadata": {},
     "output_type": "execute_result"
    }
   ],
   "source": [
    "wr"
   ]
  },
  {
   "cell_type": "code",
   "execution_count": null,
   "metadata": {},
   "outputs": [],
   "source": [
    "# for each prime segment do repeated median filtering\n",
    "for ii in range(len(x_split[0,:])):\n",
    "    x_part = x_split[:,ii]\n",
    "\n",
    "    # Fourier frequencies in descending order\n",
    "    wr = rsp.order_wk(x_part)[0]\n",
    "\n",
    "    # Length of the prime time segment\n",
    "    N_prime = len(x_part)\n",
    "\n",
    "    # time vector\n",
    "    t = range(N_prime)\n",
    "\n",
    "    # number of fourier coefficients\n",
    "    K =(N_prime-1)/2\n",
    "\n",
    "    # Repeated median estimate of \n",
    "    # cosine coefficients at w(k)\n",
    "    ARM = np.zeros(int(K))\n",
    "\n",
    "    # Repeated median estimate of sine\n",
    "    # coefficients at w(k)\n",
    "    BRM = np.zeros(int(K))\n",
    "\n",
    "    # repeated median transform: estimate ARM and BRM starting with stongest\n",
    "    # w(k), subtract from time series, repeat M times\n",
    "\n",
    "    # number of iterations, as recommended in the paper by Tatum and Hurvich\n",
    "    M = 2\n",
    "\n",
    "    # remove a robust location estimate \n",
    "    # (the sample median)\n",
    "    xm = np.median(x_part)\n",
    "    xt = x_part - xm\n",
    "\n",
    "    Auv = np.zeros((N_prime-1, N_prime-1))\n",
    "    Buv = np.zeros((N_prime-1, N_prime-1))\n",
    "\n",
    "    for m in range(M):\n",
    "        for k in range(int(K)):\n",
    "            for u in range(N_prime):\n",
    "                for v in range(N_prime):\n",
    "                    if u != v:\n",
    "                        Auv[u,v] =\\\n",
    "                        (xt[u]*np.sin(wr[k]*v)\\\n",
    "                        -xt[v]*np.sin(wr[k]*v))\\\n",
    "                        /np.sin(wr[k]*(v-u))\n",
    "\n",
    "                        Buv[u,v] =\\\n",
    "                        (xt[u]*np.cos(wr[k]*v)\\\n",
    "                        -xt[v]*np.cos(wr[k]*v))\\\n",
    "                        /np.sin(wr[k]*(v-u))\n",
    "            A[k] = np.median(np.median(Auv,axis=0))\n",
    "\n",
    "            B[k] = np.median(np.median(Buv,axis=0))\n",
    "\n",
    "            xt = xt - A[k]*np.cos(wr[k]*t) - B[k]*np.sin(wr[k]*t)\n",
    "\n",
    "            ARM[k] = ARM[k] + A[k]\n",
    "\n",
    "            BRM[k] = BRM[k] + B[k]\n",
    "    # recover the core process by regression of the repeated median estimates\n",
    "    # onto the independent parameters\n",
    "\n",
    "    if ii == 0:\n",
    "        xFRM1 = np.array(xm)\n",
    "        for k in range(int(K)):\n",
    "            sumAB = ARM[k]*np.cos(wr[k]*t)+\\\n",
    "            BRM[k]*np.sin(wr[k]*t)\n",
    "\n",
    "            xFRM1 += sumAB\n",
    "    elif ii == 1:\n",
    "        xFRM2 = np.array(xm)\n",
    "        for k in range(int(K)):\n",
    "            sumAB = ARM[k]*np.cos(wr[k]*t)+\\\n",
    "            BRM[k]*np.sin(wr[k]*t)\n",
    "\n",
    "            xFRM2 += sumAB\n",
    "\n",
    "if ii==0:\n",
    "    xFRM=xFRM1\n",
    "elif ii==1:\n",
    "    xFRM[:N-N_prime] = xFRM1[:N-N_prime]\n",
    "    xFRM[N-N_prime+1:N_prime] =\\\n",
    "    (xFRM1[N-N_prime+1:N_prime]+ xFRM2[N-N_prime+1:N_prime])/2\n",
    "    xFRM[N_prime+1:] = xFRM2[::N-N_prime]"
   ]
  },
  {
   "cell_type": "code",
   "execution_count": 1,
   "metadata": {},
   "outputs": [
    {
     "data": {
      "text/plain": [
       "array([0.57119866, 0.        , 2.28479466, 1.71359599, 1.14239733])"
      ]
     },
     "execution_count": 1,
     "metadata": {},
     "output_type": "execute_result"
    }
   ],
   "source": [
    "import numpy as np\n",
    "import robustsp as rsp\n",
    "\n",
    "xxx = np.array([-0.2269  , -0.1625   , 0.6901  ,  0.5558  , -1.1203   ,-1.5327 ,  -1.0979,-1.4158 ,   0.0596,   -0.4113 ,  -0.3680])\n",
    "# should be 1.1424    0.5712    2.8560    2.2848    1.7136\n",
    "rsp.order_wk(xxx)[0]"
   ]
  },
  {
   "cell_type": "code",
   "execution_count": 15,
   "metadata": {},
   "outputs": [
    {
     "data": {
      "text/plain": [
       "array([1, 2, 0, 4, 3], dtype=int64)"
      ]
     },
     "execution_count": 15,
     "metadata": {},
     "output_type": "execute_result"
    }
   ],
   "source": [
    "np.array([3,1,2,5,4]).argsort()"
   ]
  }
 ],
 "metadata": {
  "kernelspec": {
   "display_name": "Python 3",
   "language": "python",
   "name": "python3"
  },
  "language_info": {
   "codemirror_mode": {
    "name": "ipython",
    "version": 3
   },
   "file_extension": ".py",
   "mimetype": "text/x-python",
   "name": "python",
   "nbconvert_exporter": "python",
   "pygments_lexer": "ipython3",
   "version": "3.6.8"
  }
 },
 "nbformat": 4,
 "nbformat_minor": 2
}
