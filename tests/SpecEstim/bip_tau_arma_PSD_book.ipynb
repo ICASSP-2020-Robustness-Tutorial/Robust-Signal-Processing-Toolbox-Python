{
 "cells": [
  {
   "cell_type": "markdown",
   "metadata": {},
   "source": [
    "  The function arma_est_bip_tau(x,p,q) comuptes BIP tau-estimates of the\n",
    "  ARMA model parameters. It also computes an outlier cleaned signal using BIP-ARMA(p,q) predictions\n",
    "\n",
    "INPUTS\n",
    " x: 1darray, dtype=float. data (observations/measurements/signal) \n",
    " p: int, autoregressive order\n",
    " q: int, moving-average order\n",
    "\n",
    "OUTPUTS\n",
    " PxxdB: spectral estimate in dB\n",
    " Pxx: spectral estimate"
   ]
  },
  {
   "cell_type": "code",
   "execution_count": null,
   "metadata": {},
   "outputs": [],
   "source": [
    "import numpy as np\n",
    "import robustsp as rsp\n",
    "\n",
    "def bip_tau_arma_PSD_book(x, p, q):\n",
    "    x = np.array(x)\n",
    "    x = x - np.median(x) # creates new x\n",
    "    \n",
    "    N = len(x)\n",
    "    \n",
    "    w = np.linspace(0,np.pi,int(N/2))\n",
    "    # Digital frequency must be used for this calculation\n",
    "    s = np.exp(1j*w)\n",
    "    \n",
    "    result = rsp.arma_est_bip_tau(x,p,q)\n",
    "    \n",
    "    beta_hat = np.zeros(p+q)\n",
    "    beta_hat[:p] = result['ar_coeffs']\n",
    "    beta_hat[p:] = result['ma_coeffs']\n",
    "    \n",
    "    Xx = np.polyval([1,*beta_hat[p:]],s)\\\n",
    "    / np.polyval([1,*beta_hat[:p]],s)\n",
    "    \n",
    "    # BIP-ARMA tau spectral estimate \n",
    "    Pxx = 1/(1*np.pi)*np.abs(XX)\n",
    "    \n",
    "    PxxdB = 10 *np.log10(Pxx)\n",
    "    return Pxxdb, Pxx"
   ]
  },
  {
   "cell_type": "code",
   "execution_count": 6,
   "metadata": {},
   "outputs": [
    {
     "name": "stdout",
     "output_type": "stream",
     "text": [
      "[-1.22888979 -0.18020636 -0.33041763 -0.23177745  0.34400755]\n",
      "True\n",
      "[-2.85760966  1.02611438 -0.21341976 -1.12642653  0.12678115]\n",
      "[-2.85760966  1.02611438 -0.21341976 -1.12642653  0.12678115]\n",
      "[-2.6441899   1.23953414  0.         -0.91300677  0.3402009 ]\n"
     ]
    },
    {
     "data": {
      "text/plain": [
       "False"
      ]
     },
     "execution_count": 6,
     "metadata": {},
     "output_type": "execute_result"
    }
   ],
   "source": [
    "# check if assignment is local\n",
    "import numpy as np\n",
    "\n",
    "x = np.random.randn(5)\n",
    "\n",
    "print(x)\n",
    "\n",
    "def sub_median(x):\n",
    "    x -= np.median(x)\n",
    "    return x\n",
    "\n",
    "# Aufruf von sub_median verändert input argument\n",
    "a = sub_median(x)\n",
    "\n",
    "print(np.array_equal(a,x))\n",
    "\n",
    "x = np.random.randn(5)\n",
    "\n",
    "print(x)\n",
    "\n",
    "def sub_median2(x):\n",
    "    x = x - np.median(x)\n",
    "    return x\n",
    "\n",
    "# Aufruf von sub_median2 behält original x\n",
    "a = sub_median2(x)\n",
    "print(x)\n",
    "print(a)\n",
    "np.array_equal(a,x)"
   ]
  },
  {
   "cell_type": "code",
   "execution_count": 7,
   "metadata": {},
   "outputs": [
    {
     "data": {
      "text/plain": [
       "4"
      ]
     },
     "execution_count": 7,
     "metadata": {},
     "output_type": "execute_result"
    }
   ],
   "source": [
    "int(4.5)"
   ]
  },
  {
   "cell_type": "code",
   "execution_count": 9,
   "metadata": {},
   "outputs": [
    {
     "data": {
      "text/plain": [
       "array([ 1.00000000e+00+0.00000000e+00j,  7.07106781e-01+7.07106781e-01j,\n",
       "        6.12323400e-17+1.00000000e+00j, -7.07106781e-01+7.07106781e-01j,\n",
       "       -1.00000000e+00+1.22464680e-16j])"
      ]
     },
     "execution_count": 9,
     "metadata": {},
     "output_type": "execute_result"
    }
   ],
   "source": [
    "N=11\n",
    "np.exp(1j*np.linspace(0,np.pi,int(N/2)))"
   ]
  },
  {
   "cell_type": "code",
   "execution_count": 16,
   "metadata": {},
   "outputs": [
    {
     "name": "stderr",
     "output_type": "stream",
     "text": [
      "c:\\users\\computer\\appdata\\local\\programs\\python\\python36\\lib\\site-packages\\ipykernel_launcher.py:3: RuntimeWarning: invalid value encountered in log10\n",
      "  This is separate from the ipykernel package so we can avoid doing imports until\n"
     ]
    },
    {
     "data": {
      "text/plain": [
       "array([ 0.        , -0.24095786,         nan])"
      ]
     },
     "execution_count": 16,
     "metadata": {},
     "output_type": "execute_result"
    }
   ],
   "source": [
    "a = np.random.randn(3)\n",
    "a\n",
    "np.log10([1,*a[:2]])"
   ]
  }
 ],
 "metadata": {
  "kernelspec": {
   "display_name": "Python 3",
   "language": "python",
   "name": "python3"
  },
  "language_info": {
   "codemirror_mode": {
    "name": "ipython",
    "version": 3
   },
   "file_extension": ".py",
   "mimetype": "text/x-python",
   "name": "python",
   "nbconvert_exporter": "python",
   "pygments_lexer": "ipython3",
   "version": "3.6.8"
  }
 },
 "nbformat": 4,
 "nbformat_minor": 2
}
