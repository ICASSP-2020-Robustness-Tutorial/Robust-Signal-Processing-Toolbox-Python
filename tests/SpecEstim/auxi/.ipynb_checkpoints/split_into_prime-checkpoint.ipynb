{
 "cells": [
  {
   "cell_type": "code",
   "execution_count": 29,
   "metadata": {},
   "outputs": [
    {
     "data": {
      "text/plain": [
       "array([[1],\n",
       "       [2],\n",
       "       [3],\n",
       "       [4],\n",
       "       [5]])"
      ]
     },
     "execution_count": 29,
     "metadata": {},
     "output_type": "execute_result"
    }
   ],
   "source": [
    "import numpy as np\n",
    "import scipy.io as sio\n",
    "import pkg_resources\n",
    "\n",
    "def split_into_prime(yx):\n",
    "    y = np.array(yx)\n",
    "    N = len(y)\n",
    "    # the first 1000 prime numbers in a 1darray\n",
    "    path = pkg_resources.resource_filename('robustsp', 'data/prime_numbers.mat')\n",
    "    primes = sio.loadmat(path)['prime_numbers'].flatten()\n",
    "    \n",
    "    kk = 1\n",
    "    while primes[kk-1]<=N and N<primes[-1]:\n",
    "        kk += 1\n",
    "        \n",
    "    if kk==1:\n",
    "        N_prime = 1\n",
    "    elif N<primes[-1]:\n",
    "        N_prime = primes[kk-2]\n",
    "    elif N==primes[-1]:\n",
    "        N_prime = primes[-1]\n",
    "    elif N>prime_numbers[-1]:\n",
    "        N_prime = primes[-1]\n",
    "        print('make a longer list of prime numbers')\n",
    "    \n",
    "    if N==N_prime:\n",
    "        return y[:,None]\n",
    "    else:\n",
    "        return np.hstack([y[:N_prime][:,None],y[N-N_prime:][:,None]])\n",
    "    \n",
    "split_into_prime([1,2,3,4,5])"
   ]
  },
  {
   "cell_type": "code",
   "execution_count": 12,
   "metadata": {},
   "outputs": [
    {
     "data": {
      "text/plain": [
       "array([[1, 4],\n",
       "       [2, 5],\n",
       "       [3, 6]])"
      ]
     },
     "execution_count": 12,
     "metadata": {},
     "output_type": "execute_result"
    }
   ],
   "source": [
    "a=np.array([1,2,3])\n",
    "b=np.array([4,5,6])\n",
    "c=np.hstack([a[:][:,None],b[:][:,None]])\n",
    "c"
   ]
  }
 ],
 "metadata": {
  "kernelspec": {
   "display_name": "Python 3",
   "language": "python",
   "name": "python3"
  },
  "language_info": {
   "codemirror_mode": {
    "name": "ipython",
    "version": 3
   },
   "file_extension": ".py",
   "mimetype": "text/x-python",
   "name": "python",
   "nbconvert_exporter": "python",
   "pygments_lexer": "ipython3",
   "version": "3.6.8"
  }
 },
 "nbformat": 4,
 "nbformat_minor": 2
}
