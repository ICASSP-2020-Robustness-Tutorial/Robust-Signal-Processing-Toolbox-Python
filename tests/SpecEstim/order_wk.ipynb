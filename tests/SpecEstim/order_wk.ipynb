{
 "cells": [
  {
   "cell_type": "code",
   "execution_count": 45,
   "metadata": {},
   "outputs": [
    {
     "name": "stdout",
     "output_type": "stream",
     "text": [
      "[ 0.         -0.61803399]\n",
      "[ 1.79769313e+308 -8.50650808e-001]\n",
      "[       inf 1.10557281]\n"
     ]
    },
    {
     "name": "stderr",
     "output_type": "stream",
     "text": [
      "c:\\users\\computer\\appdata\\local\\programs\\python\\python36\\lib\\site-packages\\ipykernel_launcher.py:28: RuntimeWarning: invalid value encountered in double_scalars\n",
      "c:\\users\\computer\\appdata\\local\\programs\\python\\python36\\lib\\site-packages\\ipykernel_launcher.py:29: RuntimeWarning: invalid value encountered in double_scalars\n",
      "c:\\users\\computer\\appdata\\local\\programs\\python\\python36\\lib\\site-packages\\ipykernel_launcher.py:29: RuntimeWarning: divide by zero encountered in double_scalars\n",
      "c:\\users\\computer\\appdata\\local\\programs\\python\\python36\\lib\\site-packages\\ipykernel_launcher.py:36: RuntimeWarning: overflow encountered in square\n"
     ]
    },
    {
     "data": {
      "text/plain": [
       "(array([       inf, 1.10557281]), array([1.25663706, 0.        ]))"
      ]
     },
     "execution_count": 45,
     "metadata": {},
     "output_type": "execute_result"
    }
   ],
   "source": [
    "import numpy as np\n",
    "import scipy as sp\n",
    "\n",
    "def order_wk(y):\n",
    "    # removing a robust location estimate (the sample median) from the\n",
    "    # contaminated time series\n",
    "    yt = y - np.median(y)\n",
    "    \n",
    "    # initializations for computing an initial robust periodogram, which is\n",
    "    # used to determine the order of fitting the sine and cosine coefficients\n",
    "    # in the repeated median transform\n",
    "    \n",
    "    N = len(y) # length of the time series\n",
    "    K = int(np.floor((N-1)/2)) # number of fourier coefficients\n",
    "    ARM = np.zeros(K) # repeated median estimate of cosine coefficients at w(k)\n",
    "    BRM = np.zeros(K) # repeated median estimate of sine coefficients at w(k)\n",
    "    \n",
    "    Apuv = np.zeros([N,N])\n",
    "    Bpuv = np.zeros([N,N])\n",
    "    \n",
    "    Ap = np.zeros(K)\n",
    "    Bp = np.zeros(K)\n",
    "    \n",
    "    for k in range(K):\n",
    "        w = 2*np.pi*k/N\n",
    "        for u in range(N):\n",
    "            for v in range(N):\n",
    "                Apuv[u,v] = (yt[u]*np.sin(w*v)-yt[v]*np.sin(w*u))/np.sin(w*(v-u))\n",
    "                Bpuv[u,v] = (yt[v]*np.cos(w*u)-yt[u]*np.cos(w*v))/np.sin(w*(v-u))\n",
    "        Apuv = np.nan_to_num(Apuv)\n",
    "        Bpuv = np.nan_to_num(Bpuv)\n",
    "        \n",
    "        Ap[k] = np.median(np.median(Apuv,axis=1))\n",
    "        Bp[k] = np.median(np.median(Bpuv,axis=1))\n",
    "        \n",
    "    PSD = Ap**2 + Bp**2 # robust periodogram for determine the order\n",
    "    print(Ap)\n",
    "    print(Bp)\n",
    "    print(PSD)\n",
    "    N_win= 3\n",
    "    Smoothing_Win = np.hanning(N_win)\n",
    "    PSD_smooth = np.convolve(PSD, Smoothing_Win)[N_win-1:len(PSD)-N_win+2]\n",
    "    \n",
    "    order = np.argsort(PSD)\n",
    "    wr = 2*np.pi*order/N # fourier frequencies in descending order\n",
    "    return PSD, wr\n",
    "        \n",
    "    \n",
    "order_wk([1,2,3,4,5])    "
   ]
  },
  {
   "cell_type": "code",
   "execution_count": 32,
   "metadata": {},
   "outputs": [
    {
     "name": "stderr",
     "output_type": "stream",
     "text": [
      "c:\\users\\computer\\appdata\\local\\programs\\python\\python36\\lib\\site-packages\\ipykernel_launcher.py:25: RuntimeWarning: invalid value encountered in true_divide\n"
     ]
    },
    {
     "data": {
      "text/plain": [
       "array([[        nan, -2.        , -2.        , -2.        , -2.        ],\n",
       "       [-2.        ,         nan, -0.61803399, -0.61803399,  1.61803399],\n",
       "       [-2.        , -0.61803399,         nan, -0.61803399, -2.        ],\n",
       "       [-2.        , -0.61803399, -0.61803399,         nan,  0.23606798],\n",
       "       [-2.        ,  1.61803399, -2.        ,  0.23606798,         nan]])"
      ]
     },
     "execution_count": 32,
     "metadata": {},
     "output_type": "execute_result"
    }
   ],
   "source": [
    "import numpy as np\n",
    "\n",
    "def order_wk(y):\n",
    "    # removing a robust location estimate (the sample median) from the\n",
    "    # contaminated time series\n",
    "    yt = y - np.median(y)\n",
    "    \n",
    "    # initializations for computing an initial robust periodogram, which is\n",
    "    # used to determine the order of fitting the sine and cosine coefficients\n",
    "    # in the repeated median transform\n",
    "    \n",
    "    N = len(y) # length of the time series\n",
    "    K = int(np.floor((N-1)/2)) # number of fourier coefficients\n",
    "    ARM = np.zeros(K) # repeated median estimate of cosine coefficients at w(k)\n",
    "    BRM = np.zeros(K) # repeated median estimate of sine coefficients at w(k)\n",
    "    PSD = np.zeros(K) # robust periodogram for determine the order\n",
    "    \n",
    "    wk = 2*np.pi*np.arange(1,K+1)/N\n",
    "    Apuv = np.zeros([N,N])\n",
    "    Bpuv = np.zeros([N,N])\n",
    "    \n",
    "    for k in range(K):\n",
    "        w = 2*np.pi*k/N\n",
    "        for u in range(N):\n",
    "            Apuv[u,:] = (yt[u]*np.sin(w*np.arange(N))-yt*np.sin(w*u))/np.sin(w*(np.arange(N)-u))\n",
    "                \n",
    "    return Apuv\n",
    "    \n",
    "    \n",
    "order_wk([1,2,3,4,5]) "
   ]
  },
  {
   "cell_type": "code",
   "execution_count": 37,
   "metadata": {},
   "outputs": [
    {
     "name": "stderr",
     "output_type": "stream",
     "text": [
      "c:\\users\\computer\\appdata\\local\\programs\\python\\python36\\lib\\site-packages\\ipykernel_launcher.py:25: RuntimeWarning: invalid value encountered in true_divide\n",
      "c:\\users\\computer\\appdata\\local\\programs\\python\\python36\\lib\\site-packages\\ipykernel_launcher.py:27: RuntimeWarning: divide by zero encountered in true_divide\n",
      "c:\\users\\computer\\appdata\\local\\programs\\python\\python36\\lib\\site-packages\\ipykernel_launcher.py:27: RuntimeWarning: invalid value encountered in true_divide\n"
     ]
    },
    {
     "data": {
      "text/plain": [
       "array([[ 0.        ,  0.40162283,  2.75276384, -1.05146222,  2.75276384],\n",
       "       [ 0.40162283,  0.        ,  0.85065081,  0.85065081,  1.57719334],\n",
       "       [ 2.75276384,  0.85065081,  0.        ,  0.85065081,  2.75276384],\n",
       "       [-1.05146222,  0.85065081,  0.85065081,  0.        ,  2.02622131],\n",
       "       [ 2.75276384,  1.57719334,  2.75276384,  2.02622131,  0.        ]])"
      ]
     },
     "execution_count": 37,
     "metadata": {},
     "output_type": "execute_result"
    }
   ],
   "source": [
    "import numpy as np\n",
    "\n",
    "def order_wk(y):\n",
    "    # removing a robust location estimate (the sample median) from the\n",
    "    # contaminated time series\n",
    "    yt = y - np.median(y)\n",
    "    \n",
    "    # initializations for computing an initial robust periodogram, which is\n",
    "    # used to determine the order of fitting the sine and cosine coefficients\n",
    "    # in the repeated median transform\n",
    "    \n",
    "    N = len(y) # length of the time series\n",
    "    K = int(np.floor((N-1)/2)) # number of fourier coefficients\n",
    "    ARM = np.zeros(K) # repeated median estimate of cosine coefficients at w(k)\n",
    "    BRM = np.zeros(K) # repeated median estimate of sine coefficients at w(k)\n",
    "    PSD = np.zeros(K) # robust periodogram for determine the order\n",
    "    \n",
    "    wk = 2*np.pi*np.arange(1,K+1)/N\n",
    "    Apuv = np.zeros([N,N])\n",
    "    Bpuv = np.zeros([N,N])\n",
    "    \n",
    "    for k in range(K):\n",
    "        w = 2*np.pi*k/N\n",
    "        for u in range(N):\n",
    "            Apuv[u,:] = (yt[u]*np.sin(w*np.arange(N))-yt*np.sin(w*u))/np.sin(w*(np.arange(N)-u))\n",
    "            Apuv[np.isnan(Apuv)] = 0\n",
    "            Bpuv[u,:] = (yt[u]*np.cos(w*np.arange(N))-yt*np.cos(w*u))/np.sin(w*(np.arange(N)-u))\n",
    "            Bpuv[np.isnan(Bpuv)] = 0\n",
    "    return Bpuv\n",
    "    \n",
    "    \n",
    "order_wk([1,2,3,4,5]) "
   ]
  },
  {
   "cell_type": "code",
   "execution_count": 25,
   "metadata": {},
   "outputs": [
    {
     "data": {
      "text/plain": [
       "0.0"
      ]
     },
     "execution_count": 25,
     "metadata": {},
     "output_type": "execute_result"
    }
   ],
   "source": [
    "import numpy as np\n",
    "\n",
    "def order_wk(y):\n",
    "    # removing a robust location estimate (the sample median) from the\n",
    "    # contaminated time series\n",
    "    yt = y - np.median(y)\n",
    "    \n",
    "    # initializations for computing an initial robust periodogram, which is\n",
    "    # used to determine the order of fitting the sine and cosine coefficients\n",
    "    # in the repeated median transform\n",
    "    \n",
    "    N = len(y) # length of the time series\n",
    "    K = int(np.floor((N-1)/2)) # number of fourier coefficients\n",
    "    ARM = np.zeros(K) # repeated median estimate of cosine coefficients at w(k)\n",
    "    BRM = np.zeros(K) # repeated median estimate of sine coefficients at w(k)\n",
    "    PSD = np.zeros(K) # robust periodogram for determine the order\n",
    "    \n",
    "    w = 2*np.pi*np.arange(1,K+1)/N\n",
    "    \n",
    "    Apuv = np.zeros([N,N])\n",
    "    Bpuv = np.zeros([N,N])\n",
    "\n",
    "\n",
    "    Apuv = np.sin(w*np.arange(N))@yt-np.sin(w*np.arange(N))@yt\n",
    "\n",
    "    return Apuv\n",
    "    \n",
    "    \n",
    "order_wk([1,2,3,4]) "
   ]
  },
  {
   "cell_type": "code",
   "execution_count": 16,
   "metadata": {},
   "outputs": [
    {
     "ename": "ValueError",
     "evalue": "matmul: Input operand 1 has a mismatch in its core dimension 0, with gufunc signature (n?,k),(k,m?)->(n?,m?) (size 4 is different from 1)",
     "output_type": "error",
     "traceback": [
      "\u001b[1;31m---------------------------------------------------------------------------\u001b[0m",
      "\u001b[1;31mValueError\u001b[0m                                Traceback (most recent call last)",
      "\u001b[1;32m<ipython-input-16-4eb93416afaf>\u001b[0m in \u001b[0;36m<module>\u001b[1;34m\u001b[0m\n\u001b[0;32m     17\u001b[0m \u001b[1;33m\u001b[0m\u001b[0m\n\u001b[0;32m     18\u001b[0m \u001b[1;33m\u001b[0m\u001b[0m\n\u001b[1;32m---> 19\u001b[1;33m \u001b[0morderTest\u001b[0m\u001b[1;33m(\u001b[0m\u001b[1;33m[\u001b[0m\u001b[1;36m1\u001b[0m\u001b[1;33m,\u001b[0m\u001b[1;36m2\u001b[0m\u001b[1;33m,\u001b[0m\u001b[1;36m3\u001b[0m\u001b[1;33m,\u001b[0m\u001b[1;36m4\u001b[0m\u001b[1;33m]\u001b[0m\u001b[1;33m)\u001b[0m\u001b[1;33m\u001b[0m\u001b[1;33m\u001b[0m\u001b[0m\n\u001b[0m",
      "\u001b[1;32m<ipython-input-16-4eb93416afaf>\u001b[0m in \u001b[0;36morderTest\u001b[1;34m(y)\u001b[0m\n\u001b[0;32m     12\u001b[0m \u001b[1;33m\u001b[0m\u001b[0m\n\u001b[0;32m     13\u001b[0m     \u001b[1;32mfor\u001b[0m \u001b[0mk\u001b[0m \u001b[1;32min\u001b[0m \u001b[0mrange\u001b[0m\u001b[1;33m(\u001b[0m\u001b[0mK\u001b[0m\u001b[1;33m)\u001b[0m\u001b[1;33m:\u001b[0m\u001b[1;33m\u001b[0m\u001b[1;33m\u001b[0m\u001b[0m\n\u001b[1;32m---> 14\u001b[1;33m         \u001b[0mApuv\u001b[0m \u001b[1;33m=\u001b[0m \u001b[0mnp\u001b[0m\u001b[1;33m.\u001b[0m\u001b[0msin\u001b[0m\u001b[1;33m(\u001b[0m\u001b[0mw\u001b[0m\u001b[1;33m@\u001b[0m\u001b[0mnp\u001b[0m\u001b[1;33m.\u001b[0m\u001b[0marange\u001b[0m\u001b[1;33m(\u001b[0m\u001b[0mN\u001b[0m\u001b[1;33m)\u001b[0m\u001b[1;33m)\u001b[0m\u001b[1;33m@\u001b[0m\u001b[0myt\u001b[0m\u001b[1;33m[\u001b[0m\u001b[1;33m:\u001b[0m\u001b[1;33m,\u001b[0m\u001b[1;32mNone\u001b[0m\u001b[1;33m]\u001b[0m\u001b[1;33m-\u001b[0m\u001b[0mnp\u001b[0m\u001b[1;33m.\u001b[0m\u001b[0msin\u001b[0m\u001b[1;33m(\u001b[0m\u001b[0mw\u001b[0m\u001b[1;33m@\u001b[0m\u001b[0mnp\u001b[0m\u001b[1;33m.\u001b[0m\u001b[0marange\u001b[0m\u001b[1;33m(\u001b[0m\u001b[0mN\u001b[0m\u001b[1;33m)\u001b[0m\u001b[1;33m)\u001b[0m\u001b[1;33m@\u001b[0m\u001b[0myt\u001b[0m\u001b[1;33m[\u001b[0m\u001b[1;33m:\u001b[0m\u001b[1;33m,\u001b[0m\u001b[1;32mNone\u001b[0m\u001b[1;33m]\u001b[0m\u001b[1;33m\u001b[0m\u001b[1;33m\u001b[0m\u001b[0m\n\u001b[0m\u001b[0;32m     15\u001b[0m \u001b[1;33m\u001b[0m\u001b[0m\n\u001b[0;32m     16\u001b[0m     \u001b[1;32mreturn\u001b[0m \u001b[0mApuv\u001b[0m\u001b[1;33m\u001b[0m\u001b[1;33m\u001b[0m\u001b[0m\n",
      "\u001b[1;31mValueError\u001b[0m: matmul: Input operand 1 has a mismatch in its core dimension 0, with gufunc signature (n?,k),(k,m?)->(n?,m?) (size 4 is different from 1)"
     ]
    }
   ],
   "source": [
    "import numpy as np\n",
    "\n",
    "def orderTest(y):\n",
    "    yt = y - np.median(y)\n",
    "    \n",
    "    N = len(y) # length of the time series\n",
    "    K = int(np.floor((N-1)/2)) # number of fourier coefficients\n",
    "\n",
    "    w = 2*np.pi*np.arange(1,K+1)/N    \n",
    "    Apuv = np.zeros([N,N])\n",
    "    Bpuv = np.zeros([N,N])\n",
    "    \n",
    "    for k in range(K):\n",
    "        Apuv = np.sin(w@np.arange(N))@yt[:,None]-np.sin(w@np.arange(N))@yt[:,None]\n",
    "                \n",
    "    return Apuv\n",
    "    \n",
    "    \n",
    "orderTest([1,2,3,4])   "
   ]
  },
  {
   "cell_type": "code",
   "execution_count": 4,
   "metadata": {},
   "outputs": [
    {
     "name": "stdout",
     "output_type": "stream",
     "text": [
      "3.6 ms ± 218 µs per loop (mean ± std. dev. of 7 runs, 100 loops each)\n"
     ]
    }
   ],
   "source": [
    "import numpy as np\n",
    "b = np.random.randint(1, 100, 1000000)\n",
    "%timeit b * b"
   ]
  }
 ],
 "metadata": {
  "kernelspec": {
   "display_name": "Python 3",
   "language": "python",
   "name": "python3"
  },
  "language_info": {
   "codemirror_mode": {
    "name": "ipython",
    "version": 3
   },
   "file_extension": ".py",
   "mimetype": "text/x-python",
   "name": "python",
   "nbconvert_exporter": "python",
   "pygments_lexer": "ipython3",
   "version": "3.6.8"
  }
 },
 "nbformat": 4,
 "nbformat_minor": 2
}
