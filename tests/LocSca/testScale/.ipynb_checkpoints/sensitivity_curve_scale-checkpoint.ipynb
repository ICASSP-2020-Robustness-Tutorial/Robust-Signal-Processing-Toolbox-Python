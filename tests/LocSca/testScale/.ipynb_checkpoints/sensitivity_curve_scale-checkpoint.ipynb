{
 "cells": [
  {
   "cell_type": "code",
   "execution_count": 1,
   "metadata": {},
   "outputs": [],
   "source": [
    "import random\n",
    "import numpy as np\n",
    "import matplotlib.pyplot as plt\n",
    "import scipy.io"
   ]
  },
  {
   "cell_type": "code",
   "execution_count": 2,
   "metadata": {},
   "outputs": [],
   "source": [
    "from robustsp.LocationScale.MscaleTUK import *\n",
    "from robustsp.LocationScale.MscaleHUB import *\n",
    "from robustsp.AuxiliaryFunctions.madn import madn"
   ]
  },
  {
   "cell_type": "code",
   "execution_count": 3,
   "metadata": {},
   "outputs": [
    {
     "data": {
      "text/plain": [
       "True"
      ]
     },
     "execution_count": 3,
     "metadata": {},
     "output_type": "execute_result"
    }
   ],
   "source": [
    "# fix seed of random number generator for reproducibility\n",
    "random.seed(2)\n",
    "\n",
    "# Number of measurements\n",
    "N = 100\n",
    "\n",
    "# DC voltage in AWGN\n",
    "# x_N_minus1 = np.random.randn(N-1,1)+5 . Not sure if matlab\n",
    "# uses same rng as python, thus load matlab generated samples for better\n",
    "# reproducibility\n",
    "x_N_minus1 = scipy.io.loadmat('x_N_minus1.mat',struct_as_record=False)\n",
    "x_N_minus1 = x_N_minus1['x_N_minus1']\n",
    "\n",
    "# outlier values\n",
    "delta_x = np.linspace(0,10,1000)\n",
    "\n",
    "mat = scipy.io.loadmat('delta_x.mat',struct_as_record=False)\n",
    "a=np.around(mat['delta_x'][0], decimals=8)\n",
    "b=np.around(delta_x, decimals=8)\n",
    "np.array_equal(a,b)"
   ]
  },
  {
   "cell_type": "code",
   "execution_count": 6,
   "metadata": {},
   "outputs": [
    {
     "data": {
      "text/plain": [
       "True"
      ]
     },
     "execution_count": 6,
     "metadata": {},
     "output_type": "execute_result"
    }
   ],
   "source": [
    "# sensitivity curve for standard deviation\n",
    "SC_std = np.zeros(delta_x.shape)\n",
    "std_hat = np.std(x_N_minus1, ddof=1) # 1.0551\n",
    "\n",
    "for ii in range(len(delta_x)):\n",
    "    SC_std[ii] = N*(np.std(np.append(x_N_minus1,delta_x[ii]), ddof=1) \n",
    "                     - std_hat)\n",
    "    \n",
    "mat = scipy.io.loadmat('SC_Std.mat',struct_as_record=False)\n",
    "a=np.around(mat['SC_std'][0], decimals=8)\n",
    "b=np.around(SC_std, decimals=8)\n",
    "np.array_equal(a,b)\n"
   ]
  },
  {
   "cell_type": "code",
   "execution_count": 8,
   "metadata": {},
   "outputs": [
    {
     "data": {
      "text/plain": [
       "True"
      ]
     },
     "execution_count": 8,
     "metadata": {},
     "output_type": "execute_result"
    }
   ],
   "source": [
    "# sensitivity curve for median absolute deviation\n",
    "# that does not coverge to IF\n",
    "SC_mad = np.zeros(delta_x.shape)\n",
    "std_hat = madn(x_N_minus1) # 0.8319\n",
    "\n",
    "for ii in range(len(delta_x)):\n",
    "    SC_mad[ii] = N*(madn(np.append(x_N_minus1,delta_x[ii])) \n",
    "                     - std_hat) \n",
    "\n",
    "mat = scipy.io.loadmat('SC_mad.mat',struct_as_record=False)\n",
    "a=np.around(mat['SC_mad'][0], decimals=8)\n",
    "b=np.around(SC_mad, decimals=8)\n",
    "np.array_equal(a,b)  "
   ]
  },
  {
   "cell_type": "code",
   "execution_count": 10,
   "metadata": {},
   "outputs": [
    {
     "data": {
      "text/plain": [
       "True"
      ]
     },
     "execution_count": 10,
     "metadata": {},
     "output_type": "execute_result"
    }
   ],
   "source": [
    "# Sensitivity Curve for mean absolute deviation\n",
    "# around the median\n",
    "SC_mead = np.zeros(delta_x.shape)\n",
    "std_hat = np.mean(np.abs(x_N_minus1-np.median(x_N_minus1))) # 0.7859\n",
    "\n",
    "for ii in range(len(delta_x)):\n",
    "    SC_mead[ii] = N*(np.mean(np.abs(np.append(x_N_minus1, delta_x[ii])\n",
    "                                         -np.median(x_N_minus1)))\n",
    "                     -std_hat)\n",
    "\n",
    "mat = scipy.io.loadmat('SC_mead.mat',struct_as_record=False)\n",
    "a=np.around(mat['SC_mead'][0], decimals=8)\n",
    "b=np.around(SC_mead, decimals=8)\n",
    "np.array_equal(a,b)"
   ]
  },
  {
   "cell_type": "code",
   "execution_count": null,
   "metadata": {},
   "outputs": [],
   "source": [
    "# Sensitivity Curve for Huber's scale estimate\n",
    "c =  1.3415\n",
    "SC_hub = np.zeros(delta_x.shape)\n",
    "std_hat = MscaleHUB(x_N_minus1,c) # 0.9000\n",
    "for ii in range(len(delta_x)):\n",
    "    SC_hub[ii] = N*(MscaleHUB(np.append(x_N_minus1, delta_x[ii]),c)-std_hat)\n",
    "\n",
    "mat = scipy.io.loadmat('SC_hub.mat',struct_as_record=False)\n",
    "a=np.around(mat['SC_hub'][0], decimals=8)\n",
    "b=np.around(SC_hub, decimals=8)\n",
    "print(np.array_equal(a,b))"
   ]
  },
  {
   "cell_type": "code",
   "execution_count": null,
   "metadata": {},
   "outputs": [],
   "source": [
    "# Sensitivity Curve for Tukey's scale estimate\n",
    "c = 4.68 \n",
    "SC_tuk = np.zeros(delta_x.shape)\n",
    "std_hat = MscaleTUK(x_N_minus1,c) # Soll: 0.8772\n",
    "# ist 0.9014037404504978\n",
    "\n",
    "for ii in range(len(delta_x)):\n",
    "    SC_tuk[ii] = N*(MscaleTUK(np.append(x_N_minus1, delta_x[ii]),c)-std_hat)"
   ]
  },
  {
   "cell_type": "code",
   "execution_count": null,
   "metadata": {},
   "outputs": [],
   "source": [
    "plt.rcParams.update({'font.size': 18})\n",
    "\n",
    "plt.plot(delta_x,SC_std-np.amin(SC_std), label ='Standard deviation', linewidth=2)\n",
    "plt.plot(delta_x,SC_mead-np.amin(SC_mead), label='madn', linewidth=2)\n",
    "plt.plot(delta_x,SC_hub-np.amin(SC_hub), label='Huber M', linewidth=2)\n",
    "plt.plot(delta_x,SC_tuk-np.amin(SC_tuk), label ='Tukey M', linewidth=2)\n",
    "\n",
    "plt.grid(True)\n",
    "\n",
    "plt.xlabel('Outlier value')\n",
    "plt.ylabel('Sensitivity curve')\n",
    "plt.legend()\n",
    "\n",
    "plt.show()"
   ]
  }
 ],
 "metadata": {
  "kernelspec": {
   "display_name": "Python 3",
   "language": "python",
   "name": "python3"
  },
  "language_info": {
   "codemirror_mode": {
    "name": "ipython",
    "version": 3
   },
   "file_extension": ".py",
   "mimetype": "text/x-python",
   "name": "python",
   "nbconvert_exporter": "python",
   "pygments_lexer": "ipython3",
   "version": "3.6.8"
  }
 },
 "nbformat": 4,
 "nbformat_minor": 2
}
