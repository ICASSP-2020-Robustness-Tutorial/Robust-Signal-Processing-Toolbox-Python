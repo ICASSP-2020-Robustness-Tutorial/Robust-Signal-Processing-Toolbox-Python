{
 "cells": [
  {
   "cell_type": "markdown",
   "metadata": {},
   "source": [
    "# TODO\n",
    "\n",
    "* th_hat only equal to th_hat.mat upto one significant number -> recheck rsp.m_param_est\n",
    "* number_it just zeros, same as matlab version\n",
    "* np.isclose(pMin.T,P_min,atol=1e-3).all() # False\n",
    "* np.isclose(pp.T,P,atol=1e-3).all() # False"
   ]
  },
  {
   "cell_type": "code",
   "execution_count": 1,
   "metadata": {},
   "outputs": [],
   "source": [
    "import numpy as np\n",
    "import robustsp as rsp\n",
    "import scipy.io as sio\n",
    "\n",
    "# rekf\n",
    "from robustsp.RobustFiltering.examples.Auxiliary.set_parameters_book import *\n",
    "from robustsp.RobustFiltering.examples.Auxiliary.create_environment_book import create_environment_book\n",
    "parameter['numbermc'] = 1\n",
    "parameter = create_environment_book(parameter,parameter['start'],parameter['sigma_v'])\n",
    "\n",
    "md = sio.loadmat('md')['md']\n",
    "bs = sio.loadmat('BS')['BS']\n",
    "theta_init = sio.loadmat('theta_init')['theta_init'].flatten()"
   ]
  },
  {
   "cell_type": "code",
   "execution_count": 30,
   "metadata": {},
   "outputs": [],
   "source": [
    "def ekf_toa_robust(r_ges, theta_init, BS, parameter={}):\n",
    "    # Base station coordinates    \n",
    "    x  = BS[:,0]\n",
    "    y  = BS[:,1]\n",
    "    M  = len(x) # M numer of BS, N number of samples\n",
    "    N  = len(r_ges[0,:])\n",
    "    \n",
    "    if len(parameter) == 0:\n",
    "        # use default parameters\n",
    "        print(\"parameters are set to default\")\n",
    "        sigma_v = 1\n",
    "        P0 = np.diag([100, 100, 10, 10]) # initial state covariance\n",
    "        R  = 150**2 * np.diag(np.ones(M)) # measurement covariance\n",
    "        Ts = 0.2 # sampling frequency\n",
    "        A  = np.array([[1, 0, Ts, 0], \\\n",
    "                       [0, 1, 0, Ts], \\\n",
    "                       [0, 0, 1,  0], \\\n",
    "                       [0, 0, 0,  1]])\n",
    "        Q  = sigma_v **2 *np.eye(2)\n",
    "        G  = np.vstack([Ts**2/2*np.eye(2), Ts*np.eye(2) ])\n",
    "    else:\n",
    "        P0 = parameter['P0']\n",
    "        R  = parameter['R']\n",
    "        Q  = parameter['Q']\n",
    "        G  = parameter['G']\n",
    "        A  = parameter['A']\n",
    "        \n",
    "    if 2*parameter['dim'] != len(theta_init) or 2*parameter['dim'] != P0.shape[0]:\n",
    "        raise Exception('State vector or state covariance do not match the dimensions of the BS')\n",
    "        \n",
    "    P = np.zeros((N,4,4))\n",
    "    P[0,:,:] = P0\n",
    "    th_hat = np.zeros((4,N))\n",
    "    th_hat[:,0] = theta_init.flatten()\n",
    "    th_hat_min = np.zeros([4,N])\n",
    "    P_min = np.zeros([N,4,4])\n",
    "    H = np.zeros((M,4))\n",
    "    h_min = np.zeros(M)\n",
    "    sigma2 = np.zeros(N)\n",
    "    numberit = np.zeros(N)\n",
    "    \n",
    "    for kk in range(1,N):\n",
    "        th_hat_min[:,kk] = A @ th_hat[:,kk-1]\n",
    "        \n",
    "        for ii in range(M):\n",
    "            H[ii,:] = [(th_hat_min[0,kk]-x[ii])/\\\n",
    "           np.sqrt((th_hat_min[0,kk]-x[ii])**2 + (th_hat_min[1,kk]-y[ii])**2) ,\\\n",
    "           (th_hat_min[1,kk]-y[ii])/np.sqrt((th_hat_min[0,kk]-x[ii])**2 \\\n",
    "                   + (th_hat_min[1,kk]-y[ii])**2)\\\n",
    "           ,0,0]\n",
    "            h_min[ii] = np.sqrt((th_hat_min[0,kk]-x[ii])**2 \\\n",
    "                               + (th_hat_min[1,kk]-y[ii])**2)\n",
    "\n",
    "        P_min[kk,:,:] = A@P[kk-1,:,:]@A.T + G@Q@G.T\n",
    "\n",
    "        # measurement residuals\n",
    "        vk = r_ges[:,kk] - h_min.T\n",
    "\n",
    "        Psi = sp.linalg.block_diag(P_min[kk,:,:],R)\n",
    "\n",
    "        try:\n",
    "            C = sp.linalg.cholesky(Psi)\n",
    "        except:\n",
    "            Psi += np.eye(M+4)*0.1\n",
    "            # Psi = Psi + np.eye(M+4)*0.1\n",
    "           \n",
    "        S  = np.linalg.inv(C.T) @ np.vstack([np.eye(4), H])\n",
    "        rk = np.linalg.inv(C.T) @ [*th_hat_min[:,kk],*(r_ges[:,kk]-h_min + H @ th_hat_min[:,kk])]\n",
    "        \n",
    "        th_hat[:,kk] = (np.linalg.pinv(S) @ rk[:,None]).flatten() \n",
    "        \n",
    "        th_hat[:,kk] = rsp.m_param_est(rk,S,th_hat[:,kk],parameter)[0]\n",
    "\n",
    "        # robust covariance estimate\n",
    "        if parameter['var_est'] == 1:\n",
    "            # update for robust covariance estimation\n",
    "            for ii in range(M):\n",
    "                h_min[ii] = np.sqrt( (th_hat[0,kk] - x[ii])**2 + \\\n",
    "                                   (th_hat[1,kk] - y[ii])**2)\n",
    "            dd = r_ges[:,kk] - h_min.T\n",
    "            sigma = 1.483*np.median(abs(dd-np.median(dd)))\n",
    "            sigma2[kk] = sigma**2\n",
    "            R = sigma2[kk] @ np.eye(M)\n",
    "            \n",
    "        K = P_min[kk,:,:] @ H.T @ np.linalg.inv(H@P_min[kk,:,:]@H.T+R)\n",
    "        P[kk,:,:] = (np.eye(4) - K@H) @ P_min[kk,:,:]\n",
    "        \n",
    "    parameter['Rest'] = sigma2\n",
    "    \n",
    "    return th_hat, P_min, P, numberit, parameter\n",
    "\n",
    "th_hat, P_min, P, numberit, param = ekf_toa_robust(md, theta_init, bs, rekf)"
   ]
  },
  {
   "cell_type": "code",
   "execution_count": null,
   "metadata": {},
   "outputs": [],
   "source": [
    "# load and compare results\n",
    "'''set_parameters_book\n",
    "\n",
    "parameter.numbermc = 1;\n",
    "    \n",
    "% generate measurements\n",
    "parameter = create_environment_book(parameter,parameter.start,parameter.sigma_v);\n",
    "\n",
    "load 'theta_init'\n",
    "load 'md'\n",
    "\n",
    "[th_hat, P_min, P, numberit, parameter] = ekf_toa_robust(md ,theta_init',parameter.BS,rekf);'''"
   ]
  },
  {
   "cell_type": "code",
   "execution_count": 31,
   "metadata": {},
   "outputs": [
    {
     "data": {
      "text/plain": [
       "array([0., 0., 0., ..., 0., 0., 0.])"
      ]
     },
     "execution_count": 31,
     "metadata": {},
     "output_type": "execute_result"
    }
   ],
   "source": [
    "th = sio.loadmat('th_hat')['th_hat']\n",
    "np.isclose(th,th_hat,atol=1e-02).all() # False\n",
    "np.isclose(th,th_hat,atol=1e-01).all() # True\n",
    "\n",
    "pMin = sio.loadmat('P_min')['P_min']\n",
    "np.isclose(pMin.T,P_min,atol=1e-2).all() # True\n",
    "np.isclose(pMin.T,P_min,atol=1e-3).all() # False\n",
    "\n",
    "pp = sio.loadmat('P')['P']\n",
    "np.isclose(pp.T,P,atol=1e-3).all() # False\n",
    "np.isclose(pp.T,P,atol=1e-2).all() # True\n",
    "\n",
    "numberit # zero for all\n",
    "param['Rest']"
   ]
  },
  {
   "cell_type": "code",
   "execution_count": 22,
   "metadata": {},
   "outputs": [
    {
     "data": {
      "text/plain": [
       "False"
      ]
     },
     "execution_count": 22,
     "metadata": {},
     "output_type": "execute_result"
    }
   ],
   "source": [
    "# old version\n",
    "def ekf_toa_robust(r_ges, theta_init, BS, parameter={}):\n",
    "    # Base station coordinates    \n",
    "    x  = BS[:,0]\n",
    "    y  = BS[:,1]\n",
    "    M  = len(x) # M numer of BS, N number of samples\n",
    "    N  = len(r_ges[0,:])\n",
    "    \n",
    "    if len(parameter) == 0:\n",
    "        # use default parameters\n",
    "        print(\"parameters are set to default\")\n",
    "        sigma_v = 1\n",
    "        P0 = np.diag([100, 100, 10, 10]) # initial state covariance\n",
    "        R  = 150**2 * np.diag(np.ones(M)) # measurement covariance\n",
    "        Ts = 0.2 # sampling frequency\n",
    "        A  = np.array([[1, 0, Ts, 0], \\\n",
    "                       [0, 1, 0, Ts], \\\n",
    "                       [0, 0, 1,  0], \\\n",
    "                       [0, 0, 0,  1]])\n",
    "        Q  = sigma_v **2 *np.eye(2)\n",
    "        G  = np.vstack([Ts**2/2*np.eye(2), Ts*np.eye(2) ])\n",
    "    else:\n",
    "        P0 = parameter['P0']\n",
    "        R  = parameter['R']\n",
    "        Q  = parameter['Q']\n",
    "        G  = parameter['G']\n",
    "        A  = parameter['A']\n",
    "        \n",
    "    if 2*parameter['dim'] != len(theta_init) or 2*parameter['dim'] != P0.shape[0]:\n",
    "        raise Exception('State vector or state covariance do not match the dimensions of the BS')\n",
    "        \n",
    "    P = np.zeros((N,4,4))\n",
    "    P[0,:,:] = P0\n",
    "    th_hat = np.zeros((4,N))\n",
    "    th_hat[:,0] = theta_init.flatten()\n",
    "    th_hat_min = np.zeros([4,N])\n",
    "    P_min = np.zeros([N,4,4])\n",
    "    H = np.zeros((M,4))\n",
    "    h_min = np.zeros(M)\n",
    "    sigma2 = np.zeros(N)\n",
    "    numberit = np.zeros(N)\n",
    "    \n",
    "    for kk in range(1,N):\n",
    "        th_hat_min[:,kk] = A @ th_hat[:,kk-1]\n",
    "        \n",
    "        for ii in range(M):\n",
    "            H[ii,:] = [(th_hat_min[0,kk]-x[ii])/\\\n",
    "           np.sqrt((th_hat_min[0,kk]-x[ii])**2 + (th_hat_min[1,kk]-y[ii])**2) ,\\\n",
    "           (th_hat_min[1,kk]-y[ii])/np.sqrt((th_hat_min[0,kk]-x[ii])**2 \\\n",
    "                   + (th_hat_min[1,kk]-y[ii])**2)\\\n",
    "           ,0,0]\n",
    "            h_min[ii] = np.sqrt((th_hat_min[0,kk]-x[ii])**2 \\\n",
    "                               + (th_hat_min[1,kk]-y[ii])**2)\n",
    "            \n",
    "        P_min[kk,:,:] = A@P[kk-1,:,:]@A.T + G@Q@G.T\n",
    "        \n",
    "        # measurement residuals\n",
    "        vk = r_ges[:,kk] - h_min.T\n",
    "        \n",
    "        Psi = sp.linalg.block_diag(P_min[kk,:,:],R)\n",
    "        try:\n",
    "            C = sp.linalg.cholesky(Psi)\n",
    "        except:\n",
    "            Psi = Psi + np.eye(M+4)*0.1\n",
    "           \n",
    "        S  = np.linalg.inv(C.T) @ np.vstack([np.eye(4), H])\n",
    "        rk = np.linalg.inv(C.T) @ [*th_hat_min[:,kk],*(r_ges[:,kk]-h_min + H @ th_hat_min[:,kk])]\n",
    "        th_hat[:,kk] = np.linalg.pinv(S) @ rk\n",
    "        \n",
    "        th_hat[:,kk],_,_,_ = rsp.m_param_est(rk,S,th_hat[:,kk],parameter)\n",
    "        \n",
    "        # robust covariance estimate\n",
    "        if parameter['var_est'] == 1:\n",
    "            # update for robust covariance estimation\n",
    "            for ii in range(M):\n",
    "                h_min[ii] = np.sqrt( (th_hat[0,kk] - x[ii])**2 + \\\n",
    "                                   (th_hat[1,kk] - y[ii])**2)\n",
    "            dd = r_ges[:,kk] - h_min.T\n",
    "            sigma = 1.483*np.median(abs(dd-np.median(dd)))\n",
    "            sigma2[kk] = sigma**2\n",
    "            R = sigma2[kk] @ np.eye(M)\n",
    "            \n",
    "        K = P_min[kk,:,:] @ H.T @ np.linalg.inv(H@P_min[kk,:,:]@H.T+R)\n",
    "        P[kk,:,:] = (np.eye(4) - K@H) @ P_min[kk,:,:]\n",
    "        \n",
    "    parameter['Rest'] = sigma2\n",
    "    \n",
    "    return th_hat, P_min, P, numberit, parameter"
   ]
  },
  {
   "cell_type": "code",
   "execution_count": 27,
   "metadata": {},
   "outputs": [
    {
     "data": {
      "text/plain": [
       "2"
      ]
     },
     "execution_count": 27,
     "metadata": {},
     "output_type": "execute_result"
    }
   ],
   "source": [
    "parameter['BS'] # 5 stück, stimmt\n",
    "len(theta_init) # 4\n",
    "theta_init\n",
    "rekf['dim']"
   ]
  },
  {
   "cell_type": "code",
   "execution_count": 13,
   "metadata": {},
   "outputs": [
    {
     "ename": "AttributeError",
     "evalue": "'numpy.ndarray' object has no attribute 'I'",
     "output_type": "error",
     "traceback": [
      "\u001b[1;31m---------------------------------------------------------------------------\u001b[0m",
      "\u001b[1;31mAttributeError\u001b[0m                            Traceback (most recent call last)",
      "\u001b[1;32m<ipython-input-13-38e6ba4c9a63>\u001b[0m in \u001b[0;36m<module>\u001b[1;34m\u001b[0m\n\u001b[0;32m      1\u001b[0m \u001b[0ma\u001b[0m \u001b[1;33m=\u001b[0m \u001b[0mnp\u001b[0m\u001b[1;33m.\u001b[0m\u001b[0marray\u001b[0m\u001b[1;33m(\u001b[0m\u001b[1;33m[\u001b[0m\u001b[1;33m[\u001b[0m\u001b[1;36m1\u001b[0m\u001b[1;33m,\u001b[0m\u001b[1;36m3\u001b[0m\u001b[1;33m,\u001b[0m\u001b[1;36m4\u001b[0m\u001b[1;33m]\u001b[0m\u001b[1;33m,\u001b[0m\u001b[1;33m[\u001b[0m\u001b[1;36m2\u001b[0m\u001b[1;33m,\u001b[0m\u001b[1;36m5\u001b[0m\u001b[1;33m,\u001b[0m\u001b[1;36m6\u001b[0m\u001b[1;33m]\u001b[0m\u001b[1;33m,\u001b[0m\u001b[1;33m[\u001b[0m\u001b[1;36m3\u001b[0m\u001b[1;33m,\u001b[0m\u001b[1;36m3\u001b[0m\u001b[1;33m,\u001b[0m\u001b[1;36m3\u001b[0m\u001b[1;33m]\u001b[0m\u001b[1;33m]\u001b[0m\u001b[1;33m)\u001b[0m\u001b[1;33m\u001b[0m\u001b[1;33m\u001b[0m\u001b[0m\n\u001b[1;32m----> 2\u001b[1;33m \u001b[0ma\u001b[0m\u001b[1;33m.\u001b[0m\u001b[0mI\u001b[0m\u001b[1;33m\u001b[0m\u001b[1;33m\u001b[0m\u001b[0m\n\u001b[0m",
      "\u001b[1;31mAttributeError\u001b[0m: 'numpy.ndarray' object has no attribute 'I'"
     ]
    }
   ],
   "source": [
    "a = np.array([[1,3,4],[2,5,6],[3,3,3]])\n",
    "a.I"
   ]
  },
  {
   "cell_type": "code",
   "execution_count": 20,
   "metadata": {},
   "outputs": [
    {
     "data": {
      "text/plain": [
       "0"
      ]
     },
     "execution_count": 20,
     "metadata": {},
     "output_type": "execute_result"
    }
   ],
   "source": [
    "i = {}\n",
    "len(i)"
   ]
  },
  {
   "cell_type": "code",
   "execution_count": 35,
   "metadata": {},
   "outputs": [
    {
     "name": "stdout",
     "output_type": "stream",
     "text": [
      "10\n",
      "4\n"
     ]
    },
    {
     "data": {
      "text/plain": [
       "array([[1],\n",
       "       [0],\n",
       "       [0],\n",
       "       [0]], dtype=uint8)"
      ]
     },
     "execution_count": 35,
     "metadata": {},
     "output_type": "execute_result"
    }
   ],
   "source": [
    "print(BS.shape[0])\n",
    "print(len(theta_init[:,0]))\n",
    "theta_init"
   ]
  },
  {
   "cell_type": "code",
   "execution_count": 51,
   "metadata": {},
   "outputs": [
    {
     "data": {
      "text/plain": [
       "[1.0, 1.0, 1.0, 1.0, 1.0]"
      ]
     },
     "execution_count": 51,
     "metadata": {},
     "output_type": "execute_result"
    }
   ],
   "source": [
    "a = np.ones(3)\n",
    "b = np.ones(2)\n",
    "\n",
    "c = [*a,*b]\n",
    "c"
   ]
  }
 ],
 "metadata": {
  "kernelspec": {
   "display_name": "Python 3",
   "language": "python",
   "name": "python3"
  },
  "language_info": {
   "codemirror_mode": {
    "name": "ipython",
    "version": 3
   },
   "file_extension": ".py",
   "mimetype": "text/x-python",
   "name": "python",
   "nbconvert_exporter": "python",
   "pygments_lexer": "ipython3",
   "version": "3.6.8"
  }
 },
 "nbformat": 4,
 "nbformat_minor": 2
}
