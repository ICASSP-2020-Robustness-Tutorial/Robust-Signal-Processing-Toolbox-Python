{
 "cells": [
  {
   "cell_type": "code",
   "execution_count": null,
   "metadata": {},
   "outputs": [],
   "source": [
    "function [th_hat, P_min, P, numberit, parameter] = ekf_toa_robust(r_ges,theta_init,BS,parameter)\n",
    "% The function computes the robust EKF with ToA estimates based on M-estimation. \n",
    "%\n",
    "%% INPUTS\n",
    "% r_ges:    measured distances (M x N)\n",
    "% theta_init:  initial state estimate\n",
    "% BS:   base station positions\n",
    "%\n",
    "%% OUTPUTS\n",
    "% th_hat:             state estimates\n",
    "% P_min:              apriori covariance\n",
    "% P:                  aposteriori covariance\n",
    "%%  created by Michael Muma\n",
    "%   Based on a function written by Ulrich Hammes, Signal Processing Group, TU Darmstadt, February 2009\n",
    "%   version 30 May 2018\n",
    "%   When using code, cite our work:\n",
    "%\n",
    "%   \"Robust Statistics for Signal Processing\"\n",
    "%   Zoubir, A.M. and Koivunen, V. and Ollila, E. and Muma, M.\n",
    "%   Cambridge University Press, 2018.\n",
    "%\n",
    "%   and \n",
    "%\n",
    "%  \"Robust Tracking and Geolocation for Wireless Networks in NLOS Environments.\" \n",
    "%   Hammes, U., Wolsztynski, E., and Zoubir, A.M.\n",
    "%   IEEE Journal on Selected Topics in Signal Processing, 3(5), 889-901, 2009.\n"
   ]
  },
  {
   "cell_type": "code",
   "execution_count": 8,
   "metadata": {},
   "outputs": [],
   "source": [
    "import scipy.io\n",
    "import scipy as sp\n",
    "import numpy as np\n",
    "\n",
    "r_ges = scipy.io.loadmat('r_ges.mat',struct_as_record=False)['r_ges']\n",
    "BS = scipy.io.loadmat('BS.mat',struct_as_record=False)['BS']\n",
    "theta_init = scipy.io.loadmat('theta_init.mat',struct_as_record=False)['theta_init']"
   ]
  },
  {
   "cell_type": "code",
   "execution_count": 30,
   "metadata": {},
   "outputs": [],
   "source": [
    "def ekf_toa_robust(r_ges, theta_init, BS, parameter={}):\n",
    "    \n",
    "    M  = len(BS) # M numer of BS, N number of samples\n",
    "    N  = len(r_ges[1,:])\n",
    "    \n",
    "    x  = BS[:,1]\n",
    "    y  = BS[:,1]\n",
    "    \n",
    "    if len(parameter) == 0:\n",
    "        # use default parameters\n",
    "        print(\"parameters are set to default\")\n",
    "        sigma_v = 1\n",
    "        P0 = np.diag([100, 100, 10, 10]) # initial state covariance\n",
    "        R  = 150**2 * np.diag(np.ones(M)) # measurement covariance\n",
    "        Ts = 0.2 # sampling frequency\n",
    "        A  = np.array([[1, 0, Ts, 0], \\\n",
    "                       [0, 1, 0, Ts], \\\n",
    "                       [0, 0, 1,  0], \\\n",
    "                       [0, 0, 0,  1]])\n",
    "        Q  = sigma_v **2 *np.eye(2)\n",
    "        G  = np.vstack([Ts**2/2*np.eye(2), Ts*np.eye(2) ])\n",
    "    else:\n",
    "        P0 = parameter['P0']\n",
    "        R  = parameter['R']\n",
    "        Q  = parameter['Q']\n",
    "        G  = parameter['G']\n",
    "        A  = parameter['A']\n",
    "    if len(BS) != len(theta_init[:,0]) or len(BS) != len(P0[:,0]):\n",
    "        raise Exception('State vector or state covariance do not match the dimensions of the BS')\n",
    "        \n",
    "    P = np.zeros((N,4,4))\n",
    "    P[0,:,:] = P0\n",
    "    th_hat = np.zeros((4,N))\n",
    "    th_hat[:,0] = theta_init.flatten()\n",
    "    th_hat_min = np.zeros([4,N])\n",
    "    P_min = np.zeros([N,4,4])\n",
    "    H = np.zeros((M,4))\n",
    "    h_min = np.zeros(M)\n",
    "    sigma2 = np.zeros(N)\n",
    "    # numberit = np.zeros(N)\n",
    "    \n",
    "    for kk in range(1,N+1):\n",
    "        th_hat_min[:,kk] = A @ th_hat[:,kk-1]\n",
    "        \n",
    "        for ii in range(M):\n",
    "            H[ii,:] = [(th_hat_min[0,kk]-x[ii])/\\\n",
    "           np.sqrt((th_hat_min[0,kk]-x[ii])**2 \\\n",
    "                   + (th_hat_min[1,kk]-y[ii])**2) ,\\\n",
    "           (th_hat_min[1,kk]-y[ii])/\\\n",
    "           np.sqrt((th_hat_min[0,kk]-x[ii])**2 \\\n",
    "                   + (th_hat_min[1,kk]-y[ii])**2)\\\n",
    "           ,0,0]\n",
    "            h_min[ii] = np.sqrt((th_hat_min[0,kk]-x[ii])**2 \\\n",
    "                               + (th_hat_min[1,kk]-y[ii])**2)\n",
    "            \n",
    "        P_min[kk,:,:] = A@P[kk-1,:,:]@A.T + G@Q@G.T\n",
    "        \n",
    "        # measurement residuals\n",
    "        vk = r_ges[:,kk] - h_min.T\n",
    "        \n",
    "        Psi = sp.linalg.block_diag(P_min[kk,:,:],R)\n",
    "        try:\n",
    "            C = sp.linalg.cholesky(Psi)\n",
    "        except:\n",
    "            Psi = Psi + np.eye(M+4)*0.1\n",
    "            \n",
    "        S  = np.linalg.inv(C.T) @ np.vstack([np.eye(4), H])\n",
    "        rk = np.linalg.inv(C.T) @ np.vstack([th_hat_min[:,kk],\\\n",
    "                                            r_ges[:,kk]-h_min.T + H @ th_hat_min[:,kk]])\n",
    "        th_hat[:,kk] = np.linalg.pinv(S) @ rk\n",
    "        \n",
    "        #Todo\n",
    "        th_hat[:,kk] = m_param_est(rk,S,th_hat[:,kk],parameter)\n",
    "        \n",
    "        # robust covariance estimate\n",
    "        if parameter['var_est'] == 1:\n",
    "            # update for robust covariance estimation\n",
    "            for ii in range(M):\n",
    "                h_min[ii] = np.sqrt( (th_hat[0,kk] - x[ii])**2 + \\\n",
    "                                   (th_hat[1,kk] - y[ii])**2)\n",
    "            dd = r_ges[:,kk] - h_min.T\n",
    "            sigma = 1.483*np.median(abs(dd-np.median(dd)))\n",
    "            sigma2[kk] = sigma**2\n",
    "            R = sigma2[kk] @ np.eye(M)\n",
    "            \n",
    "        K = P_min[kk,:,:] @ H.T @ np.linalg.inv(H@P_min[kk,:,:]@H.T+R)\n",
    "        P[kk,:,:] = (np.eye(4) - K@H) @ P_min[kk,:,:]\n",
    "        \n",
    "    parameter['Rest'] = sigma2"
   ]
  },
  {
   "cell_type": "code",
   "execution_count": 31,
   "metadata": {},
   "outputs": [
    {
     "name": "stdout",
     "output_type": "stream",
     "text": [
      "parameters are set to default\n",
      "10\n",
      "4\n",
      "4\n"
     ]
    },
    {
     "ename": "Exception",
     "evalue": "State vector or state covariance do not match the dimensions of the BS",
     "output_type": "error",
     "traceback": [
      "\u001b[1;31m---------------------------------------------------------------------------\u001b[0m",
      "\u001b[1;31mException\u001b[0m                                 Traceback (most recent call last)",
      "\u001b[1;32m<ipython-input-31-b833785595e6>\u001b[0m in \u001b[0;36m<module>\u001b[1;34m\u001b[0m\n\u001b[1;32m----> 1\u001b[1;33m \u001b[0mekf_toa_robust\u001b[0m\u001b[1;33m(\u001b[0m\u001b[0mr_ges\u001b[0m\u001b[1;33m,\u001b[0m \u001b[0mtheta_init\u001b[0m\u001b[1;33m,\u001b[0m \u001b[0mBS\u001b[0m\u001b[1;33m,\u001b[0m \u001b[0mparameter\u001b[0m\u001b[1;33m=\u001b[0m\u001b[1;33m{\u001b[0m\u001b[1;33m}\u001b[0m\u001b[1;33m)\u001b[0m\u001b[1;33m\u001b[0m\u001b[1;33m\u001b[0m\u001b[0m\n\u001b[0m",
      "\u001b[1;32m<ipython-input-30-b0a22aeaed1c>\u001b[0m in \u001b[0;36mekf_toa_robust\u001b[1;34m(r_ges, theta_init, BS, parameter)\u001b[0m\n\u001b[0;32m     30\u001b[0m     \u001b[0mprint\u001b[0m\u001b[1;33m(\u001b[0m\u001b[0mlen\u001b[0m\u001b[1;33m(\u001b[0m\u001b[0mP0\u001b[0m\u001b[1;33m[\u001b[0m\u001b[1;33m:\u001b[0m\u001b[1;33m,\u001b[0m\u001b[1;36m0\u001b[0m\u001b[1;33m]\u001b[0m\u001b[1;33m)\u001b[0m\u001b[1;33m)\u001b[0m\u001b[1;33m\u001b[0m\u001b[1;33m\u001b[0m\u001b[0m\n\u001b[0;32m     31\u001b[0m     \u001b[1;32mif\u001b[0m \u001b[0mlen\u001b[0m\u001b[1;33m(\u001b[0m\u001b[0mBS\u001b[0m\u001b[1;33m)\u001b[0m \u001b[1;33m!=\u001b[0m \u001b[0mlen\u001b[0m\u001b[1;33m(\u001b[0m\u001b[0mtheta_init\u001b[0m\u001b[1;33m[\u001b[0m\u001b[1;33m:\u001b[0m\u001b[1;33m,\u001b[0m\u001b[1;36m0\u001b[0m\u001b[1;33m]\u001b[0m\u001b[1;33m)\u001b[0m \u001b[1;32mor\u001b[0m \u001b[0mlen\u001b[0m\u001b[1;33m(\u001b[0m\u001b[0mBS\u001b[0m\u001b[1;33m)\u001b[0m \u001b[1;33m!=\u001b[0m \u001b[0mlen\u001b[0m\u001b[1;33m(\u001b[0m\u001b[0mP0\u001b[0m\u001b[1;33m[\u001b[0m\u001b[1;33m:\u001b[0m\u001b[1;33m,\u001b[0m\u001b[1;36m0\u001b[0m\u001b[1;33m]\u001b[0m\u001b[1;33m)\u001b[0m\u001b[1;33m:\u001b[0m\u001b[1;33m\u001b[0m\u001b[1;33m\u001b[0m\u001b[0m\n\u001b[1;32m---> 32\u001b[1;33m         \u001b[1;32mraise\u001b[0m \u001b[0mException\u001b[0m\u001b[1;33m(\u001b[0m\u001b[1;34m'State vector or state covariance do not match the dimensions of the BS'\u001b[0m\u001b[1;33m)\u001b[0m\u001b[1;33m\u001b[0m\u001b[1;33m\u001b[0m\u001b[0m\n\u001b[0m\u001b[0;32m     33\u001b[0m \u001b[1;33m\u001b[0m\u001b[0m\n\u001b[0;32m     34\u001b[0m     \u001b[0mP\u001b[0m \u001b[1;33m=\u001b[0m \u001b[0mnp\u001b[0m\u001b[1;33m.\u001b[0m\u001b[0mzeros\u001b[0m\u001b[1;33m(\u001b[0m\u001b[1;33m(\u001b[0m\u001b[0mN\u001b[0m\u001b[1;33m,\u001b[0m\u001b[1;36m4\u001b[0m\u001b[1;33m,\u001b[0m\u001b[1;36m4\u001b[0m\u001b[1;33m)\u001b[0m\u001b[1;33m)\u001b[0m\u001b[1;33m\u001b[0m\u001b[1;33m\u001b[0m\u001b[0m\n",
      "\u001b[1;31mException\u001b[0m: State vector or state covariance do not match the dimensions of the BS"
     ]
    }
   ],
   "source": [
    "ekf_toa_robust(r_ges, theta_init, BS, parameter={})"
   ]
  },
  {
   "cell_type": "code",
   "execution_count": 13,
   "metadata": {},
   "outputs": [
    {
     "ename": "AttributeError",
     "evalue": "'numpy.ndarray' object has no attribute 'I'",
     "output_type": "error",
     "traceback": [
      "\u001b[1;31m---------------------------------------------------------------------------\u001b[0m",
      "\u001b[1;31mAttributeError\u001b[0m                            Traceback (most recent call last)",
      "\u001b[1;32m<ipython-input-13-38e6ba4c9a63>\u001b[0m in \u001b[0;36m<module>\u001b[1;34m\u001b[0m\n\u001b[0;32m      1\u001b[0m \u001b[0ma\u001b[0m \u001b[1;33m=\u001b[0m \u001b[0mnp\u001b[0m\u001b[1;33m.\u001b[0m\u001b[0marray\u001b[0m\u001b[1;33m(\u001b[0m\u001b[1;33m[\u001b[0m\u001b[1;33m[\u001b[0m\u001b[1;36m1\u001b[0m\u001b[1;33m,\u001b[0m\u001b[1;36m3\u001b[0m\u001b[1;33m,\u001b[0m\u001b[1;36m4\u001b[0m\u001b[1;33m]\u001b[0m\u001b[1;33m,\u001b[0m\u001b[1;33m[\u001b[0m\u001b[1;36m2\u001b[0m\u001b[1;33m,\u001b[0m\u001b[1;36m5\u001b[0m\u001b[1;33m,\u001b[0m\u001b[1;36m6\u001b[0m\u001b[1;33m]\u001b[0m\u001b[1;33m,\u001b[0m\u001b[1;33m[\u001b[0m\u001b[1;36m3\u001b[0m\u001b[1;33m,\u001b[0m\u001b[1;36m3\u001b[0m\u001b[1;33m,\u001b[0m\u001b[1;36m3\u001b[0m\u001b[1;33m]\u001b[0m\u001b[1;33m]\u001b[0m\u001b[1;33m)\u001b[0m\u001b[1;33m\u001b[0m\u001b[1;33m\u001b[0m\u001b[0m\n\u001b[1;32m----> 2\u001b[1;33m \u001b[0ma\u001b[0m\u001b[1;33m.\u001b[0m\u001b[0mI\u001b[0m\u001b[1;33m\u001b[0m\u001b[1;33m\u001b[0m\u001b[0m\n\u001b[0m",
      "\u001b[1;31mAttributeError\u001b[0m: 'numpy.ndarray' object has no attribute 'I'"
     ]
    }
   ],
   "source": [
    "a = np.array([[1,3,4],[2,5,6],[3,3,3]])\n",
    "a.I"
   ]
  },
  {
   "cell_type": "code",
   "execution_count": 20,
   "metadata": {},
   "outputs": [
    {
     "data": {
      "text/plain": [
       "0"
      ]
     },
     "execution_count": 20,
     "metadata": {},
     "output_type": "execute_result"
    }
   ],
   "source": [
    "i = {}\n",
    "len(i)"
   ]
  },
  {
   "cell_type": "code",
   "execution_count": 35,
   "metadata": {},
   "outputs": [
    {
     "name": "stdout",
     "output_type": "stream",
     "text": [
      "10\n",
      "4\n"
     ]
    },
    {
     "data": {
      "text/plain": [
       "array([[1],\n",
       "       [0],\n",
       "       [0],\n",
       "       [0]], dtype=uint8)"
      ]
     },
     "execution_count": 35,
     "metadata": {},
     "output_type": "execute_result"
    }
   ],
   "source": [
    "print(BS.shape[0])\n",
    "print(len(theta_init[:,0]))\n",
    "theta_init"
   ]
  }
 ],
 "metadata": {
  "kernelspec": {
   "display_name": "Python 3",
   "language": "python",
   "name": "python3"
  },
  "language_info": {
   "codemirror_mode": {
    "name": "ipython",
    "version": 3
   },
   "file_extension": ".py",
   "mimetype": "text/x-python",
   "name": "python",
   "nbconvert_exporter": "python",
   "pygments_lexer": "ipython3",
   "version": "3.6.8"
  }
 },
 "nbformat": 4,
 "nbformat_minor": 2
}
