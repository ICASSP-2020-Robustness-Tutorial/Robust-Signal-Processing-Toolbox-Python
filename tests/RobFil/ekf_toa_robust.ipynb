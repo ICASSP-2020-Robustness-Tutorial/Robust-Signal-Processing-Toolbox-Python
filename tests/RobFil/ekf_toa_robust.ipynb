{
 "cells": [
  {
   "cell_type": "code",
   "execution_count": null,
   "metadata": {},
   "outputs": [],
   "source": [
    "function [th_hat, P_min, P, numberit, parameter] = ekf_toa_robust(r_ges,theta_init,BS,parameter)\n",
    "% The function computes the robust EKF with ToA estimates based on M-estimation. \n",
    "%\n",
    "%% INPUTS\n",
    "% r_ges:    measured distances (M x N)\n",
    "% theta_init:  initial state estimate\n",
    "% BS:   base station positions\n",
    "%\n",
    "%% OUTPUTS\n",
    "% th_hat:             state estimates\n",
    "% P_min:              apriori covariance\n",
    "% P:                  aposteriori covariance\n",
    "%%  created by Michael Muma\n",
    "%   Based on a function written by Ulrich Hammes, Signal Processing Group, TU Darmstadt, February 2009\n",
    "%   version 30 May 2018\n",
    "%   When using code, cite our work:\n",
    "%\n",
    "%   \"Robust Statistics for Signal Processing\"\n",
    "%   Zoubir, A.M. and Koivunen, V. and Ollila, E. and Muma, M.\n",
    "%   Cambridge University Press, 2018.\n",
    "%\n",
    "%   and \n",
    "%\n",
    "%  \"Robust Tracking and Geolocation for Wireless Networks in NLOS Environments.\" \n",
    "%   Hammes, U., Wolsztynski, E., and Zoubir, A.M.\n",
    "%   IEEE Journal on Selected Topics in Signal Processing, 3(5), 889-901, 2009.\n"
   ]
  },
  {
   "cell_type": "code",
   "execution_count": 1,
   "metadata": {},
   "outputs": [],
   "source": [
    "import numpy as np\n",
    "import robustsp as rsp\n",
    "from robustsp.RobustFiltering.examples.Auxiliary.set_parameters_book import *\n",
    "from robustsp.RobustFiltering.examples.Auxiliary.create_environment_book import create_environment_book\n",
    "parameter['numbermc'] = 1\n",
    "parameter = create_environment_book(parameter,parameter['start'],parameter['sigma_v'])\n",
    "# generate random starting point\n",
    "randnvector = parameter['initial_sigma']*np.random.randn(4)\n",
    "theta_init  = parameter['start']+ randnvector"
   ]
  },
  {
   "cell_type": "code",
   "execution_count": 18,
   "metadata": {},
   "outputs": [],
   "source": [
    "def ekf_toa_robust(r_ges, theta_init, BS, parameter={}):\n",
    "    \n",
    "    M  = len(BS) # M numer of BS, N number of samples\n",
    "    N  = len(r_ges[1,:])\n",
    "    \n",
    "    x  = BS[:,1]\n",
    "    y  = BS[:,1]\n",
    "    \n",
    "    if len(parameter) == 0:\n",
    "        # use default parameters\n",
    "        print(\"parameters are set to default\")\n",
    "        sigma_v = 1\n",
    "        P0 = np.diag([100, 100, 10, 10]) # initial state covariance\n",
    "        R  = 150**2 * np.diag(np.ones(M)) # measurement covariance\n",
    "        Ts = 0.2 # sampling frequency\n",
    "        A  = np.array([[1, 0, Ts, 0], \\\n",
    "                       [0, 1, 0, Ts], \\\n",
    "                       [0, 0, 1,  0], \\\n",
    "                       [0, 0, 0,  1]])\n",
    "        Q  = sigma_v **2 *np.eye(2)\n",
    "        G  = np.vstack([Ts**2/2*np.eye(2), Ts*np.eye(2) ])\n",
    "    else:\n",
    "        P0 = parameter['P0']\n",
    "        R  = parameter['R']\n",
    "        Q  = parameter['Q']\n",
    "        G  = parameter['G']\n",
    "        A  = parameter['A']\n",
    "        \n",
    "    if 2*parameter['dim'] != len(theta_init) or 2*parameter['dim'] != P0.shape[0]:\n",
    "        raise Exception('State vector or state covariance do not match the dimensions of the BS')\n",
    "        \n",
    "    P = np.zeros((N,4,4))\n",
    "    P[0,:,:] = P0\n",
    "    th_hat = np.zeros((4,N))\n",
    "    th_hat[:,0] = theta_init.flatten()\n",
    "    th_hat_min = np.zeros([4,N])\n",
    "    P_min = np.zeros([N,4,4])\n",
    "    H = np.zeros((M,4))\n",
    "    h_min = np.zeros(M)\n",
    "    sigma2 = np.zeros(N)\n",
    "    numberit = np.zeros(N)\n",
    "    \n",
    "    for kk in range(1,N):\n",
    "        th_hat_min[:,kk] = A @ th_hat[:,kk-1]\n",
    "        \n",
    "        for ii in range(M):\n",
    "            H[ii,:] = [(th_hat_min[0,kk]-x[ii])/\\\n",
    "           np.sqrt((th_hat_min[0,kk]-x[ii])**2 \\\n",
    "                   + (th_hat_min[1,kk]-y[ii])**2) ,\\\n",
    "           (th_hat_min[1,kk]-y[ii])/\\\n",
    "           np.sqrt((th_hat_min[0,kk]-x[ii])**2 \\\n",
    "                   + (th_hat_min[1,kk]-y[ii])**2)\\\n",
    "           ,0,0]\n",
    "            h_min[ii] = np.sqrt((th_hat_min[0,kk]-x[ii])**2 \\\n",
    "                               + (th_hat_min[1,kk]-y[ii])**2)\n",
    "            \n",
    "        P_min[kk,:,:] = A@P[kk-1,:,:]@A.T + G@Q@G.T\n",
    "        \n",
    "        # measurement residuals\n",
    "        vk = r_ges[:,kk] - h_min.T\n",
    "        \n",
    "        Psi = sp.linalg.block_diag(P_min[kk,:,:],R)\n",
    "        try:\n",
    "            C = sp.linalg.cholesky(Psi)\n",
    "        except:\n",
    "            Psi = Psi + np.eye(M+4)*0.1\n",
    "           \n",
    "        S  = np.linalg.inv(C.T) @ np.vstack([np.eye(4), H])\n",
    "        rk = np.linalg.inv(C.T) @ [*th_hat_min[:,kk],*(r_ges[:,kk]-h_min + H @ th_hat_min[:,kk])]\n",
    "        th_hat[:,kk] = np.linalg.pinv(S) @ rk\n",
    "        \n",
    "        th_hat[:,kk],_,_,_ = rsp.m_param_est(rk,S,th_hat[:,kk],parameter)\n",
    "        \n",
    "        # robust covariance estimate\n",
    "        if parameter['var_est'] == 1:\n",
    "            # update for robust covariance estimation\n",
    "            for ii in range(M):\n",
    "                h_min[ii] = np.sqrt( (th_hat[0,kk] - x[ii])**2 + \\\n",
    "                                   (th_hat[1,kk] - y[ii])**2)\n",
    "            dd = r_ges[:,kk] - h_min.T\n",
    "            sigma = 1.483*np.median(abs(dd-np.median(dd)))\n",
    "            sigma2[kk] = sigma**2\n",
    "            R = sigma2[kk] @ np.eye(M)\n",
    "            \n",
    "        K = P_min[kk,:,:] @ H.T @ np.linalg.inv(H@P_min[kk,:,:]@H.T+R)\n",
    "        P[kk,:,:] = (np.eye(4) - K@H) @ P_min[kk,:,:]\n",
    "        \n",
    "    parameter['Rest'] = sigma2\n",
    "    \n",
    "    return th_hat, P_min, P, numberit, parameter"
   ]
  },
  {
   "cell_type": "code",
   "execution_count": 19,
   "metadata": {},
   "outputs": [
    {
     "data": {
      "text/plain": [
       "(array([[4337.80484178,    0.        ,    0.        , ...,    0.        ,\n",
       "            0.        ,    0.        ],\n",
       "        [4285.76235747,    0.        ,    0.        , ...,    0.        ,\n",
       "            0.        ,    0.        ],\n",
       "        [  10.05103309,    0.        ,    0.        , ...,    0.        ,\n",
       "            0.        ,    0.        ],\n",
       "        [  12.12367163,    0.        ,    0.        , ...,    0.        ,\n",
       "            0.        ,    0.        ]]),\n",
       " array([[[ 0.00000000e+00,  0.00000000e+00,  0.00000000e+00,\n",
       "           0.00000000e+00],\n",
       "         [ 0.00000000e+00,  0.00000000e+00,  0.00000000e+00,\n",
       "           0.00000000e+00],\n",
       "         [ 0.00000000e+00,  0.00000000e+00,  0.00000000e+00,\n",
       "           0.00000000e+00],\n",
       "         [ 0.00000000e+00,  0.00000000e+00,  0.00000000e+00,\n",
       "           0.00000000e+00]],\n",
       " \n",
       "        [[ 2.50144040e+03,  0.00000000e+00,  7.20400000e+00,\n",
       "           0.00000000e+00],\n",
       "         [ 0.00000000e+00,  2.50144040e+03,  0.00000000e+00,\n",
       "           7.20400000e+00],\n",
       "         [ 7.20400000e+00,  0.00000000e+00,  3.60400000e+01,\n",
       "           0.00000000e+00],\n",
       "         [ 0.00000000e+00,  7.20400000e+00,  0.00000000e+00,\n",
       "           3.60400000e+01]],\n",
       " \n",
       "        [[ 2.06213520e+03, -4.47286484e+02,  1.31391108e+01,\n",
       "          -1.28741701e+00],\n",
       "         [-4.47286484e+02,  2.05460759e+03, -1.28741701e+00,\n",
       "           1.31174443e+01],\n",
       "         [ 1.31391108e+01, -1.28741701e+00,  3.60763248e+01,\n",
       "          -3.70555028e-03],\n",
       "         [-1.28741701e+00,  1.31174443e+01, -3.70555028e-03,\n",
       "           3.60762624e+01]],\n",
       " \n",
       "        ...,\n",
       " \n",
       "        [[ 1.36467965e+07, -1.36466384e+07,  2.87600426e+04,\n",
       "          -2.87463925e+04],\n",
       "         [-1.36466384e+07,  1.36467965e+07, -2.87463925e+04,\n",
       "           2.87600426e+04],\n",
       "         [ 2.87600426e+04, -2.87463925e+04,  7.91083349e+01,\n",
       "          -7.67716642e+01],\n",
       "         [-2.87463925e+04,  2.87600426e+04, -7.67716642e+01,\n",
       "           7.91083349e+01]],\n",
       " \n",
       "        [[ 1.36583009e+07, -1.36581428e+07,  2.87756326e+04,\n",
       "          -2.87619825e+04],\n",
       "         [-1.36581428e+07,  1.36583009e+07, -2.87619825e+04,\n",
       "           2.87756326e+04],\n",
       "         [ 2.87756326e+04, -2.87619825e+04,  7.91283349e+01,\n",
       "          -7.67916642e+01],\n",
       "         [-2.87619825e+04,  2.87756326e+04, -7.67916642e+01,\n",
       "           7.91283349e+01]],\n",
       " \n",
       "        [[ 1.36698116e+07, -1.36696534e+07,  2.87912266e+04,\n",
       "          -2.87775765e+04],\n",
       "         [-1.36696534e+07,  1.36698116e+07, -2.87775765e+04,\n",
       "           2.87912266e+04],\n",
       "         [ 2.87912266e+04, -2.87775765e+04,  7.91483349e+01,\n",
       "          -7.68116642e+01],\n",
       "         [-2.87775765e+04,  2.87912266e+04, -7.68116642e+01,\n",
       "           7.91483349e+01]]]),\n",
       " array([[[ 2.50000000e+03,  0.00000000e+00,  0.00000000e+00,\n",
       "           0.00000000e+00],\n",
       "         [ 0.00000000e+00,  2.50000000e+03,  0.00000000e+00,\n",
       "           0.00000000e+00],\n",
       "         [ 0.00000000e+00,  0.00000000e+00,  3.60000000e+01,\n",
       "           0.00000000e+00],\n",
       "         [ 0.00000000e+00,  0.00000000e+00,  0.00000000e+00,\n",
       "           3.60000000e+01]],\n",
       " \n",
       "        [[ 2.05832221e+03, -4.46771665e+02,  5.92784590e+00,\n",
       "          -1.28667590e+00],\n",
       "         [-4.46771665e+02,  2.05080327e+03, -1.28667590e+00,\n",
       "           5.90619178e+00],\n",
       "         [ 5.92784590e+00, -1.28667590e+00,  3.60363248e+01,\n",
       "          -3.70555028e-03],\n",
       "         [-1.28667590e+00,  5.90619178e+00, -3.70555028e-03,\n",
       "           3.60362624e+01]],\n",
       " \n",
       "        [[ 1.84877404e+03, -6.59653066e+02,  1.15732111e+01,\n",
       "          -2.85045407e+00],\n",
       "         [-6.59653066e+02,  1.84323096e+03, -2.84601732e+00,\n",
       "           1.15616933e+01],\n",
       "         [ 1.15732111e+01, -2.84601732e+00,  3.60648323e+01,\n",
       "          -1.51769881e-02],\n",
       "         [-2.85045407e+00,  1.15616933e+01, -1.51769881e-02,\n",
       "           3.60648119e+01]],\n",
       " \n",
       "        ...,\n",
       " \n",
       "        [[ 1.36467938e+07, -1.36466411e+07,  2.87598109e+04,\n",
       "          -2.87466242e+04],\n",
       "         [-1.36466411e+07,  1.36467938e+07, -2.87466242e+04,\n",
       "           2.87598109e+04],\n",
       "         [ 2.87598109e+04, -2.87466242e+04,  7.90883349e+01,\n",
       "          -7.67916642e+01],\n",
       "         [-2.87466242e+04,  2.87598109e+04, -7.67916642e+01,\n",
       "           7.90883349e+01]],\n",
       " \n",
       "        [[ 1.36582982e+07, -1.36581455e+07,  2.87754009e+04,\n",
       "          -2.87622142e+04],\n",
       "         [-1.36581455e+07,  1.36582982e+07, -2.87622142e+04,\n",
       "           2.87754009e+04],\n",
       "         [ 2.87754009e+04, -2.87622142e+04,  7.91083349e+01,\n",
       "          -7.68116642e+01],\n",
       "         [-2.87622142e+04,  2.87754009e+04, -7.68116642e+01,\n",
       "           7.91083349e+01]],\n",
       " \n",
       "        [[ 1.36698089e+07, -1.36696561e+07,  2.87909949e+04,\n",
       "          -2.87778082e+04],\n",
       "         [-1.36696561e+07,  1.36698089e+07, -2.87778082e+04,\n",
       "           2.87909949e+04],\n",
       "         [ 2.87909949e+04, -2.87778082e+04,  7.91283349e+01,\n",
       "          -7.68316642e+01],\n",
       "         [-2.87778082e+04,  2.87909949e+04, -7.68316642e+01,\n",
       "           7.91283349e+01]]]),\n",
       " array([0., 0., 0., ..., 0., 0., 0.]),\n",
       " {'R': array([[22500.,     0.,     0.,     0.,     0.],\n",
       "         [    0., 22500.,     0.,     0.,     0.],\n",
       "         [    0.,     0., 22500.,     0.,     0.],\n",
       "         [    0.,     0.,     0., 22500.,     0.],\n",
       "         [    0.,     0.,     0.,     0., 22500.]]), 'Q': array([[1., 0.],\n",
       "         [0., 1.]]), 'G': array([[0.02, 0.  ],\n",
       "         [0.  , 0.02],\n",
       "         [0.2 , 0.  ],\n",
       "         [0.  , 0.2 ]]), 'A': array([[1. , 0. , 0.2, 0. ],\n",
       "         [0. , 1. , 0. , 0.2],\n",
       "         [0. , 0. , 1. , 0. ],\n",
       "         [0. , 0. , 0. , 1. ]]), 'X0': [30,\n",
       "   0,\n",
       "   4,\n",
       "   10], 'P0': array([[2500,    0,    0,    0],\n",
       "         [   0, 2500,    0,    0],\n",
       "         [   0,    0,   36,    0],\n",
       "         [   0,    0,    0,   36]], dtype=int32), 'dim': 2, 'break': 0.0001, 'max_iters': 25, 'singescore': 'asymmetric', 'c1': 1.5, 'c2': 3, 'var_est': 0, 'x1': array([1.73863863]), 'numberit': array([[0., 0., 0., ..., 0., 0., 0.]]), 'Rest': array([0., 0., 0., ..., 0., 0., 0.])})"
      ]
     },
     "execution_count": 19,
     "metadata": {},
     "output_type": "execute_result"
    }
   ],
   "source": [
    "ekf_toa_robust(parameter['MeasuredDistances'], theta_init, parameter['BS'], rekf)"
   ]
  },
  {
   "cell_type": "code",
   "execution_count": 27,
   "metadata": {},
   "outputs": [
    {
     "data": {
      "text/plain": [
       "2"
      ]
     },
     "execution_count": 27,
     "metadata": {},
     "output_type": "execute_result"
    }
   ],
   "source": [
    "parameter['BS'] # 5 stück, stimmt\n",
    "len(theta_init) # 4\n",
    "theta_init\n",
    "rekf['dim']"
   ]
  },
  {
   "cell_type": "code",
   "execution_count": 13,
   "metadata": {},
   "outputs": [
    {
     "ename": "AttributeError",
     "evalue": "'numpy.ndarray' object has no attribute 'I'",
     "output_type": "error",
     "traceback": [
      "\u001b[1;31m---------------------------------------------------------------------------\u001b[0m",
      "\u001b[1;31mAttributeError\u001b[0m                            Traceback (most recent call last)",
      "\u001b[1;32m<ipython-input-13-38e6ba4c9a63>\u001b[0m in \u001b[0;36m<module>\u001b[1;34m\u001b[0m\n\u001b[0;32m      1\u001b[0m \u001b[0ma\u001b[0m \u001b[1;33m=\u001b[0m \u001b[0mnp\u001b[0m\u001b[1;33m.\u001b[0m\u001b[0marray\u001b[0m\u001b[1;33m(\u001b[0m\u001b[1;33m[\u001b[0m\u001b[1;33m[\u001b[0m\u001b[1;36m1\u001b[0m\u001b[1;33m,\u001b[0m\u001b[1;36m3\u001b[0m\u001b[1;33m,\u001b[0m\u001b[1;36m4\u001b[0m\u001b[1;33m]\u001b[0m\u001b[1;33m,\u001b[0m\u001b[1;33m[\u001b[0m\u001b[1;36m2\u001b[0m\u001b[1;33m,\u001b[0m\u001b[1;36m5\u001b[0m\u001b[1;33m,\u001b[0m\u001b[1;36m6\u001b[0m\u001b[1;33m]\u001b[0m\u001b[1;33m,\u001b[0m\u001b[1;33m[\u001b[0m\u001b[1;36m3\u001b[0m\u001b[1;33m,\u001b[0m\u001b[1;36m3\u001b[0m\u001b[1;33m,\u001b[0m\u001b[1;36m3\u001b[0m\u001b[1;33m]\u001b[0m\u001b[1;33m]\u001b[0m\u001b[1;33m)\u001b[0m\u001b[1;33m\u001b[0m\u001b[1;33m\u001b[0m\u001b[0m\n\u001b[1;32m----> 2\u001b[1;33m \u001b[0ma\u001b[0m\u001b[1;33m.\u001b[0m\u001b[0mI\u001b[0m\u001b[1;33m\u001b[0m\u001b[1;33m\u001b[0m\u001b[0m\n\u001b[0m",
      "\u001b[1;31mAttributeError\u001b[0m: 'numpy.ndarray' object has no attribute 'I'"
     ]
    }
   ],
   "source": [
    "a = np.array([[1,3,4],[2,5,6],[3,3,3]])\n",
    "a.I"
   ]
  },
  {
   "cell_type": "code",
   "execution_count": 20,
   "metadata": {},
   "outputs": [
    {
     "data": {
      "text/plain": [
       "0"
      ]
     },
     "execution_count": 20,
     "metadata": {},
     "output_type": "execute_result"
    }
   ],
   "source": [
    "i = {}\n",
    "len(i)"
   ]
  },
  {
   "cell_type": "code",
   "execution_count": 35,
   "metadata": {},
   "outputs": [
    {
     "name": "stdout",
     "output_type": "stream",
     "text": [
      "10\n",
      "4\n"
     ]
    },
    {
     "data": {
      "text/plain": [
       "array([[1],\n",
       "       [0],\n",
       "       [0],\n",
       "       [0]], dtype=uint8)"
      ]
     },
     "execution_count": 35,
     "metadata": {},
     "output_type": "execute_result"
    }
   ],
   "source": [
    "print(BS.shape[0])\n",
    "print(len(theta_init[:,0]))\n",
    "theta_init"
   ]
  },
  {
   "cell_type": "code",
   "execution_count": 51,
   "metadata": {},
   "outputs": [
    {
     "data": {
      "text/plain": [
       "[1.0, 1.0, 1.0, 1.0, 1.0]"
      ]
     },
     "execution_count": 51,
     "metadata": {},
     "output_type": "execute_result"
    }
   ],
   "source": [
    "a = np.ones(3)\n",
    "b = np.ones(2)\n",
    "\n",
    "c = [*a,*b]\n",
    "c"
   ]
  }
 ],
 "metadata": {
  "kernelspec": {
   "display_name": "Python 3",
   "language": "python",
   "name": "python3"
  },
  "language_info": {
   "codemirror_mode": {
    "name": "ipython",
    "version": 3
   },
   "file_extension": ".py",
   "mimetype": "text/x-python",
   "name": "python",
   "nbconvert_exporter": "python",
   "pygments_lexer": "ipython3",
   "version": "3.6.8"
  }
 },
 "nbformat": 4,
 "nbformat_minor": 2
}
