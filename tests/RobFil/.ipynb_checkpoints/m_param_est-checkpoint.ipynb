{
 "cells": [
  {
   "cell_type": "code",
   "execution_count": null,
   "metadata": {},
   "outputs": [],
   "source": [
    "import numpy as np\n",
    "import robustsp as rsp\n",
    "\n",
    "def m_param_est(receive, C, Theta, parameter):\n",
    "    Pseudoinv = np.linalg.pinv(C)\n",
    "    residuals = receive - C@Theta\n",
    "    Theta = [*np.zeros(len(Theta[:,0])), *Theta , *np.zeros(len(Theta[:,0]))]\n",
    "    kk = 0\n",
    "    mad = lambda x: np.mean(np.abs(x-np.mean(x)))\n",
    "    noisescale = 1.483 *mad(residuals)\n",
    "    \n",
    "    thresh = np.sum(np.abs((Theta[:,kk+1]-Theta[:,kk])/Theta[:,kk+1]))\n",
    "    while thresh>parameter['break']:\n",
    "        \n",
    "        z, Phi_point = rsp.asymmetric_tanh(residuals/noisescale,parameter['c1'],parameter['c2'],parameter['x1'])\n",
    "        kk += 1\n",
    "        muu = 1.25* np.max(np.abs(Phi_point))\n",
    "        \n",
    "        # update parameter estimate\n",
    "        Theta[:,kk+1] = Theta[:,kk] + 1/muu * Pseudoinv * z * noisescale\n",
    "        \n",
    "        residuals = receive - C @ Theta[:,kk+1]\n",
    "        noisescale = 1.483*mad(residuals)\n",
    "        \n",
    "        if kk >parameter['max_iters']:\n",
    "            break\n",
    "        \n",
    "    th2 = Theta[:,kk+1]\n",
    "    \n",
    "    return th2, Theta, kk, residuals"
   ]
  }
 ],
 "metadata": {
  "kernelspec": {
   "display_name": "Python 3",
   "language": "python",
   "name": "python3"
  },
  "language_info": {
   "codemirror_mode": {
    "name": "ipython",
    "version": 3
   },
   "file_extension": ".py",
   "mimetype": "text/x-python",
   "name": "python",
   "nbconvert_exporter": "python",
   "pygments_lexer": "ipython3",
   "version": "3.6.8"
  }
 },
 "nbformat": 4,
 "nbformat_minor": 2
}
