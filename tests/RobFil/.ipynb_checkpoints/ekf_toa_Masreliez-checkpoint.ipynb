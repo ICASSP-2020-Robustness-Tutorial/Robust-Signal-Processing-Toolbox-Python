{
 "cells": [
  {
   "cell_type": "markdown",
   "metadata": {},
   "source": [
    "Cannot implement because fun Huber_score_unscaled not found"
   ]
  },
  {
   "cell_type": "code",
   "execution_count": 10,
   "metadata": {},
   "outputs": [],
   "source": [
    "import scipy.io\n",
    "import numpy as np\n",
    "\n",
    "BS = scipy.io.loadmat('BS.mat',struct_as_record=False)['BS']\n",
    "theta_init = scipy.io.loadmat('theta_init_mas')['theta_init'].flatten()\n",
    "rekf = scipy.io.loadmat('rekf_mas.mat',struct_as_record=False)['rekf']\n",
    "from robustsp.RobustFiltering.examples.Auxiliary.set_parameters_book import *\n",
    "from robustsp.RobustFiltering.examples.Auxiliary.create_environment_book import create_environment_book\n",
    "parameter['numbermc'] = 1\n",
    "parameter = create_environment_book(parameter,parameter['start'],parameter['sigma_v'])"
   ]
  },
  {
   "cell_type": "code",
   "execution_count": 22,
   "metadata": {},
   "outputs": [],
   "source": [
    "import numpy as np\n",
    "import robustsp as rsp\n",
    "\n",
    "def ekf_toa_Masreliez(r_ges, theta_init, BS, parameter=None):\n",
    "    if parameter == None:\n",
    "        # use default parameters\n",
    "        print(\"parameters are set to default\")\n",
    "        sigma_v = 1\n",
    "        M  = len(BS) # M numer of BS, N number of samples\n",
    "        P0 = np.diag([100, 100, 10, 10]) # initial state covariance\n",
    "        R  = 150**2 * np.diag(np.ones(M)) # measurement covariance\n",
    "        Ts = 0.2 # sampling frequency\n",
    "        A  = np.array([[1, 0, Ts, 0], \\\n",
    "                       [0, 1, 0, Ts], \\\n",
    "                       [0, 0, 1,  0], \\\n",
    "                       [0, 0, 0,  1]])\n",
    "        Q  = sigma_v **2 *np.eye(2)\n",
    "        G  = np.vstack([Ts**2/2*np.eye(2), Ts*np.eye(2) ])\n",
    "    else:\n",
    "        P0 = parameter['P0']\n",
    "        R  = parameter['R']\n",
    "        Q  = parameter['Q']\n",
    "        G  = parameter['G']\n",
    "        A  = parameter['A']\n",
    "    x = BS[:,0]\n",
    "    y = BS[:,1]\n",
    "    \n",
    "    M = len(x)\n",
    "    N = len(r_ges[0,:])\n",
    "    \n",
    "    P = np.zeros((N,4,4))\n",
    "    P[0,:,:] = P0\n",
    "    th_hat = np.zeros((4,N))\n",
    "    th_hat[:,0] = theta_init.flatten()\n",
    "    th_hat_min = np.zeros([4,N])\n",
    "    P_min = np.zeros([N,4,4])\n",
    "    H = np.zeros((M,4))\n",
    "    h_min = np.zeros(M)\n",
    "    \n",
    "    for kk in range(1,N):\n",
    "        th_hat_min[:,kk] = A @ th_hat[:,kk-1]\n",
    "        \n",
    "        P_min[kk,:,:] = A@P[kk-1,:,:]@A.T + G@Q@G.T\n",
    "        \n",
    "        for ii in range(M):\n",
    "            H[ii,:] = [(th_hat_min[0,kk]-x[ii])/\\\n",
    "           np.sqrt((th_hat_min[0,kk]-x[ii])**2 + (th_hat_min[1,kk]-y[ii])**2) ,\\\n",
    "           (th_hat_min[1,kk]-y[ii])/np.sqrt((th_hat_min[0,kk]-x[ii])**2 \\\n",
    "                   + (th_hat_min[1,kk]-y[ii])**2)\\\n",
    "           ,0,0]\n",
    "            h_min[ii] = np.sqrt((th_hat_min[0,kk]-x[ii])**2 \\\n",
    "                               + (th_hat_min[1,kk]-y[ii])**2)\n",
    "\n",
    "        S = H@P_min[kk,:,:]@H.T + R\n",
    "        # ok if kk==1: print(S)\n",
    "            \n",
    "        try:\n",
    "            C = np.linalg.cholesky(S)\n",
    "        except:\n",
    "            print('matrix modified in Masreliez filter')\n",
    "            S += 500000*np.eye(M)\n",
    "            C = np.linalg.cholesky(S)\n",
    "        C = C.T   \n",
    "            \n",
    "        nu = np.linalg.inv(C)@(r_ges[:,kk]-h_min)\n",
    "        \n",
    "        K = P_min[kk,:,:] @ H.T @ np.linalg.inv(C.T)\n",
    "        \n",
    "        if parameter['singlescore']:\n",
    "            v, vp = rsp.asymmetric_tanh(nu, parameter['c1'], parameter['c2'], parameter['x1'])\n",
    "        \n",
    "        th_hat[:,kk] = th_hat_min[:, kk] + K@v\n",
    "        \n",
    "        P[kk,:,:] = (np.eye(4) - K@np.linalg.inv(C)@H*np.mean(vp)) @ P_min[kk,:,:]\n",
    "            \n",
    "    return th_hat, P_min, P, parameter"
   ]
  },
  {
   "cell_type": "code",
   "execution_count": 23,
   "metadata": {},
   "outputs": [
    {
     "name": "stdout",
     "output_type": "stream",
     "text": [
      "[[158.11843789  -5.33564882   8.22354672 -15.53737001   1.78614317]\n",
      " [  0.         158.02838749  10.23259638   7.52307607  14.26385901]\n",
      " [  0.           0.         157.57254726  -5.2300636   13.38699249]\n",
      " [  0.           0.           0.         157.0862193    1.15113328]\n",
      " [  0.           0.           0.           0.         156.88931048]]\n"
     ]
    }
   ],
   "source": [
    "a, b, c, d = ekf_toa_Masreliez(parameter['MeasuredDistances'], theta_init, BS, rekf)\n"
   ]
  },
  {
   "cell_type": "code",
   "execution_count": 15,
   "metadata": {},
   "outputs": [
    {
     "data": {
      "text/plain": [
       "array([ 4.02500263e+03,  4.72961180e+03, -1.52614946e-01, -8.45722736e-03])"
      ]
     },
     "execution_count": 15,
     "metadata": {},
     "output_type": "execute_result"
    }
   ],
   "source": [
    "a[:,-2]"
   ]
  }
 ],
 "metadata": {
  "kernelspec": {
   "display_name": "Python 3",
   "language": "python",
   "name": "python3"
  },
  "language_info": {
   "codemirror_mode": {
    "name": "ipython",
    "version": 3
   },
   "file_extension": ".py",
   "mimetype": "text/x-python",
   "name": "python",
   "nbconvert_exporter": "python",
   "pygments_lexer": "ipython3",
   "version": "3.6.8"
  }
 },
 "nbformat": 4,
 "nbformat_minor": 2
}
