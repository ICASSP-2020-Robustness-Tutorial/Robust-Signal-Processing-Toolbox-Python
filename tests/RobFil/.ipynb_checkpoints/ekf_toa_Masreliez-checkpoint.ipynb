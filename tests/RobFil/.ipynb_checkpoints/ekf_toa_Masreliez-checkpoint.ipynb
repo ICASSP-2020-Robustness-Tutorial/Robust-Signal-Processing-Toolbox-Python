{
 "cells": [
  {
   "cell_type": "markdown",
   "metadata": {},
   "source": [
    "Cannot implement because fun Huber_score_unscaled not found"
   ]
  },
  {
   "cell_type": "code",
   "execution_count": null,
   "metadata": {},
   "outputs": [],
   "source": [
    "import scipy.io\n",
    "import numpy as np\n",
    "\n",
    "r_ges = scipy.io.loadmat('r_ges.mat',struct_as_record=False)['r_ges']\n",
    "BS = scipy.io.loadmat('BS.mat',struct_as_record=False)['BS']\n",
    "theta_init = scipy.io.loadmat('theta_init.mat',struct_as_record=False)['theta_init']\n",
    "\n",
    "from robustsp.RobustFiltering.examples.Auxiliary.set_parameters_book import *\n",
    "from robustsp.RobustFiltering.examples.Auxiliary.create_environment_book import create_environment_book\n",
    "parameter['numbermc'] = 1\n",
    "parameter = create_environment_book(parameter,parameter['start'],parameter['sigma_v'])"
   ]
  },
  {
   "cell_type": "code",
   "execution_count": 7,
   "metadata": {},
   "outputs": [],
   "source": [
    "def ekf_toa_Masreliez(r_ges, theta_init, BS, parameter=None):\n",
    "    if parameter == None:\n",
    "        # use default parameters\n",
    "        print(\"parameters are set to default\")\n",
    "        sigma_v = 1\n",
    "        M  = len(BS) # M numer of BS, N number of samples\n",
    "        P0 = np.diag([100, 100, 10, 10]) # initial state covariance\n",
    "        R  = 150**2 * np.diag(np.ones(M)) # measurement covariance\n",
    "        Ts = 0.2 # sampling frequency\n",
    "        A  = np.array([[1, 0, Ts, 0], \\\n",
    "                       [0, 1, 0, Ts], \\\n",
    "                       [0, 0, 1,  0], \\\n",
    "                       [0, 0, 0,  1]])\n",
    "        Q  = sigma_v **2 *np.eye(2)\n",
    "        G  = np.vstack([Ts**2/2*np.eye(2), Ts*np.eye(2) ])"
   ]
  },
  {
   "cell_type": "code",
   "execution_count": 8,
   "metadata": {},
   "outputs": [
    {
     "name": "stdout",
     "output_type": "stream",
     "text": [
      "parameters are set to default\n"
     ]
    }
   ],
   "source": [
    "ekf_toa_Masreliez(r_ges, theta_init, BS)"
   ]
  }
 ],
 "metadata": {
  "kernelspec": {
   "display_name": "Python 3",
   "language": "python",
   "name": "python3"
  },
  "language_info": {
   "codemirror_mode": {
    "name": "ipython",
    "version": 3
   },
   "file_extension": ".py",
   "mimetype": "text/x-python",
   "name": "python",
   "nbconvert_exporter": "python",
   "pygments_lexer": "ipython3",
   "version": "3.6.8"
  }
 },
 "nbformat": 4,
 "nbformat_minor": 2
}
