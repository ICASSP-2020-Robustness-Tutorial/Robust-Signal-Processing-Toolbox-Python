{
 "cells": [
  {
   "cell_type": "markdown",
   "metadata": {},
   "source": [
    "% Masreliez type EKF for tracking with time-of-arrival (ToA) estimates.\n",
    "% \n",
    "%% INPUTS\n",
    "% r_ges:    measured distances (M x N)\n",
    "% theta_init:  initial state estimate\n",
    "% BS:   base station positions\n",
    "%\n",
    "%% OUTPUTS\n",
    "% th_hat:             state estimates\n",
    "% P_min:              apriori covariance\n",
    "% P:                  aposteriori covariance\n",
    "%%  created by Michael Muma\n",
    "%   Based on a function written by Ulrich Hammes, Signal Processing Group, TU Darmstadt, February 2009\n",
    "%   version 30 May 2018\n",
    "%   When using code, cite our work:\n",
    "%\n",
    "%   \"Robust Statistics for Signal Processing\"\n",
    "%   Zoubir, A.M. and Koivunen, V. and Ollila, E. and Muma, M.\n",
    "%   Cambridge University Press, 2018.\n",
    "%\n",
    "%   and \n",
    "%\n",
    "%  \"Robust Tracking and Geolocation for Wireless Networks in NLOS Environments.\" \n",
    "%   Hammes, U., Wolsztynski, E., and Zoubir, A.M.\n",
    "%   IEEE Journal on Selected Topics in Signal Processing, 3(5), 889-901, 2009."
   ]
  },
  {
   "cell_type": "code",
   "execution_count": 5,
   "metadata": {},
   "outputs": [],
   "source": [
    "import scipy.io\n",
    "import numpy as np\n",
    "\n",
    "r_ges = scipy.io.loadmat('r_ges.mat',struct_as_record=False)['r_ges']\n",
    "BS = scipy.io.loadmat('BS.mat',struct_as_record=False)['BS']\n",
    "theta_init = scipy.io.loadmat('theta_init.mat',struct_as_record=False)['theta_init']"
   ]
  },
  {
   "cell_type": "code",
   "execution_count": 7,
   "metadata": {},
   "outputs": [],
   "source": [
    "def ekf_toa_Masreliez(r_ges, theta_init, BS, parameter=None):\n",
    "    if parameter == None:\n",
    "        # use default parameters\n",
    "        print(\"parameters are set to default\")\n",
    "        sigma_v = 1\n",
    "        M  = len(BS) # M numer of BS, N number of samples\n",
    "        P0 = np.diag([100, 100, 10, 10]) # initial state covariance\n",
    "        R  = 150**2 * np.diag(np.ones(M)) # measurement covariance\n",
    "        Ts = 0.2 # sampling frequency\n",
    "        A  = np.array([[1, 0, Ts, 0], \\\n",
    "                       [0, 1, 0, Ts], \\\n",
    "                       [0, 0, 1,  0], \\\n",
    "                       [0, 0, 0,  1]])\n",
    "        Q  = sigma_v **2 *np.eye(2)\n",
    "        G  = np.vstack([Ts**2/2*np.eye(2), Ts*np.eye(2) ])"
   ]
  },
  {
   "cell_type": "code",
   "execution_count": 8,
   "metadata": {},
   "outputs": [
    {
     "name": "stdout",
     "output_type": "stream",
     "text": [
      "parameters are set to default\n"
     ]
    }
   ],
   "source": [
    "ekf_toa_Masreliez(r_ges, theta_init, BS)"
   ]
  }
 ],
 "metadata": {
  "kernelspec": {
   "display_name": "Python 3",
   "language": "python",
   "name": "python3"
  },
  "language_info": {
   "codemirror_mode": {
    "name": "ipython",
    "version": 3
   },
   "file_extension": ".py",
   "mimetype": "text/x-python",
   "name": "python",
   "nbconvert_exporter": "python",
   "pygments_lexer": "ipython3",
   "version": "3.6.8"
  }
 },
 "nbformat": 4,
 "nbformat_minor": 2
}
