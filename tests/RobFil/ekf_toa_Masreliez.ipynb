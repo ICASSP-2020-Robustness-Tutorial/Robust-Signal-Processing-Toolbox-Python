{
 "cells": [
  {
   "cell_type": "markdown",
   "metadata": {},
   "source": [
    "Cannot implement because fun Huber_score_unscaled not found"
   ]
  },
  {
   "cell_type": "code",
   "execution_count": 111,
   "metadata": {},
   "outputs": [],
   "source": [
    "import scipy.io\n",
    "import numpy as np\n",
    "\n",
    "BS = scipy.io.loadmat('BS.mat',struct_as_record=False)['BS']\n",
    "theta_init = scipy.io.loadmat('theta_init_mas')['theta_init'].flatten()\n",
    "rekf = scipy.io.loadmat('rekf.mat',struct_as_record=False)['rekf']\n",
    "parameter = scipy.io.loadmat('params_mas')['parameter']"
   ]
  },
  {
   "cell_type": "code",
   "execution_count": 112,
   "metadata": {},
   "outputs": [
    {
     "ename": "IndexError",
     "evalue": "only integers, slices (`:`), ellipsis (`...`), numpy.newaxis (`None`) and integer or boolean arrays are valid indices",
     "output_type": "error",
     "traceback": [
      "\u001b[1;31m---------------------------------------------------------------------------\u001b[0m",
      "\u001b[1;31mIndexError\u001b[0m                                Traceback (most recent call last)",
      "\u001b[1;32m<ipython-input-112-bf86211d0783>\u001b[0m in \u001b[0;36m<module>\u001b[1;34m\u001b[0m\n\u001b[1;32m----> 1\u001b[1;33m \u001b[0mrekf\u001b[0m\u001b[1;33m[\u001b[0m\u001b[1;34m'P0'\u001b[0m\u001b[1;33m]\u001b[0m\u001b[1;33m\u001b[0m\u001b[1;33m\u001b[0m\u001b[0m\n\u001b[0m",
      "\u001b[1;31mIndexError\u001b[0m: only integers, slices (`:`), ellipsis (`...`), numpy.newaxis (`None`) and integer or boolean arrays are valid indices"
     ]
    }
   ],
   "source": [
    "rekf['P0']"
   ]
  },
  {
   "cell_type": "code",
   "execution_count": 94,
   "metadata": {},
   "outputs": [
    {
     "data": {
      "text/plain": [
       "[[(array([[22500,     0,     0,     0,     0],\n",
       "          [    0, 22500,     0,     0,     0],\n",
       "          [    0,     0, 22500,     0,     0],\n",
       "          [    0,     0,     0, 22500,     0],\n",
       "          [    0,     0,     0,     0, 22500]], dtype=uint16), array([[1, 0],\n",
       "          [0, 1]], dtype=uint8), array([[0.02, 0.  ],\n",
       "          [0.  , 0.02],\n",
       "          [0.2 , 0.  ],\n",
       "          [0.  , 0.2 ]]), array([[1. , 0. , 0.2, 0. ],\n",
       "          [0. , 1. , 0. , 0.2],\n",
       "          [0. , 0. , 1. , 0. ],\n",
       "          [0. , 0. , 0. , 1. ]]), array([[30,  0,  4, 10]], dtype=uint8), array([[2500,    0,    0,    0],\n",
       "          [   0, 2500,    0,    0],\n",
       "          [   0,    0,   36,    0],\n",
       "          [   0,    0,    0,   36]], dtype=uint16), array([[2]], dtype=uint8), array([[0.0001]]), array([[25]], dtype=uint8), array(['asymmetric'], dtype='<U10'), array([[1.5]]), array([[3]], dtype=uint8), array([[0]], dtype=uint8), array([[1.73863863]]), array([[0, 0, 0, ..., 0, 0, 0]], dtype=uint8))]]"
      ]
     },
     "execution_count": 94,
     "metadata": {},
     "output_type": "execute_result"
    }
   ],
   "source": [
    "rekf[0][0][0]\n",
    "len(rekf[0][0])\n",
    "rekf.tolist()"
   ]
  },
  {
   "cell_type": "code",
   "execution_count": 108,
   "metadata": {},
   "outputs": [],
   "source": [
    "import numpy as np\n",
    "import robustsp as rsp\n",
    "\n",
    "def ekf_toa_Masreliez(r_ges, theta_init, BS, parameter=None):\n",
    "    if parameter == None:\n",
    "        # use default parameters\n",
    "        print(\"parameters are set to default\")\n",
    "        sigma_v = 1\n",
    "        M  = len(BS) # M numer of BS, N number of samples\n",
    "        P0 = np.diag([100, 100, 10, 10]) # initial state covariance\n",
    "        R  = 150**2 * np.diag(np.ones(M)) # measurement covariance\n",
    "        Ts = 0.2 # sampling frequency\n",
    "        A  = np.array([[1, 0, Ts, 0], \\\n",
    "                       [0, 1, 0, Ts], \\\n",
    "                       [0, 0, 1,  0], \\\n",
    "                       [0, 0, 0,  1]])\n",
    "        Q  = sigma_v **2 *np.eye(2)\n",
    "        G  = np.vstack([Ts**2/2*np.eye(2), Ts*np.eye(2) ])\n",
    "    else:\n",
    "        P0 = parameter['P0']\n",
    "        R  = parameter['R']\n",
    "        Q  = parameter['Q']\n",
    "        G  = parameter['G']\n",
    "        A  = parameter['A']\n",
    "    x = BS[:,0]\n",
    "    y = BS[:,1]\n",
    "    \n",
    "    M = len(x)\n",
    "    N = len(r_ges[0,:])\n",
    "    \n",
    "    P = np.zeros((N,4,4))\n",
    "    P[0,:,:] = P0\n",
    "    th_hat = np.zeros((4,N))\n",
    "    th_hat[:,0] = theta_init.flatten()\n",
    "    th_hat_min = np.zeros([4,N])\n",
    "    P_min = np.zeros([N,4,4])\n",
    "    H = np.zeros((M,4))\n",
    "    h_min = np.zeros(M)\n",
    "    \n",
    "    for kk in range(1,N):\n",
    "        th_hat_min[:,kk] = A @ th_hat[:,kk-1]\n",
    "        \n",
    "        P_min[kk,:,:] = A@P[kk-1,:,:]@A.T + G@Q@G.T\n",
    "        \n",
    "        for ii in range(M):\n",
    "            H[ii,:] = [(th_hat_min[0,kk]-x[ii])/\\\n",
    "           np.sqrt((th_hat_min[0,kk]-x[ii])**2 + (th_hat_min[1,kk]-y[ii])**2) ,\\\n",
    "           (th_hat_min[1,kk]-y[ii])/np.sqrt((th_hat_min[0,kk]-x[ii])**2 \\\n",
    "                   + (th_hat_min[1,kk]-y[ii])**2)\\\n",
    "           ,0,0]\n",
    "            h_min[ii] = \\\n",
    "            np.sqrt((th_hat_min[0,kk]-x[ii])**2 \\\n",
    "                + (th_hat_min[1,kk]-y[ii])**2)\n",
    "\n",
    "        S = H@P_min[kk,:,:]@H.T + R\n",
    "            \n",
    "        try:\n",
    "            C = np.linalg.cholesky(S)\n",
    "        except:\n",
    "            print('matrix modified in Masreliez filter')\n",
    "            S += 500000*np.eye(M)\n",
    "            C = np.linalg.cholesky(S)\n",
    "        C = C.T   \n",
    "\n",
    "        nu = np.linalg.inv(C)@(r_ges[:,kk]-h_min)\n",
    "        \n",
    "        K = P_min[kk,:,:] @ H.T @ np.linalg.inv(C.T)\n",
    "        \n",
    "        if parameter['singlescore']:\n",
    "            v, vp = rsp.asymmetric_tanh(nu, parameter['c1'], parameter['c2'], parameter['x1'])\n",
    "        \n",
    "        th_hat[:,kk] = th_hat_min[:, kk] + K@v\n",
    "        \n",
    "        P[kk,:,:] = (np.eye(4) - K@np.linalg.inv(C)@H*np.mean(vp)) @ P_min[kk,:,:]\n",
    "            \n",
    "    return th_hat, P_min, P, parameter"
   ]
  },
  {
   "cell_type": "code",
   "execution_count": 109,
   "metadata": {},
   "outputs": [
    {
     "name": "stderr",
     "output_type": "stream",
     "text": [
      "c:\\users\\computer\\appdata\\local\\programs\\python\\python36\\lib\\site-packages\\ipykernel_launcher.py:5: FutureWarning: elementwise == comparison failed and returning scalar instead; this will raise an error or perform elementwise comparison in the future.\n",
      "  \"\"\"\n"
     ]
    },
    {
     "ename": "ValueError",
     "evalue": "setting an array element with a sequence.",
     "output_type": "error",
     "traceback": [
      "\u001b[1;31m---------------------------------------------------------------------------\u001b[0m",
      "\u001b[1;31mValueError\u001b[0m                                Traceback (most recent call last)",
      "\u001b[1;32m<ipython-input-109-c2434170ed1d>\u001b[0m in \u001b[0;36m<module>\u001b[1;34m\u001b[0m\n\u001b[1;32m----> 1\u001b[1;33m \u001b[0ma\u001b[0m\u001b[1;33m,\u001b[0m \u001b[0mb\u001b[0m\u001b[1;33m,\u001b[0m \u001b[0mc\u001b[0m\u001b[1;33m,\u001b[0m \u001b[0md\u001b[0m \u001b[1;33m=\u001b[0m \u001b[0mekf_toa_Masreliez\u001b[0m\u001b[1;33m(\u001b[0m\u001b[0mparameter\u001b[0m\u001b[1;33m[\u001b[0m\u001b[1;34m'measureddistances'\u001b[0m\u001b[1;33m]\u001b[0m\u001b[1;33m[\u001b[0m\u001b[1;36m0\u001b[0m\u001b[1;33m,\u001b[0m\u001b[1;36m0\u001b[0m\u001b[1;33m]\u001b[0m\u001b[1;33m,\u001b[0m \u001b[0mtheta_init\u001b[0m\u001b[1;33m,\u001b[0m \u001b[0mBS\u001b[0m\u001b[1;33m,\u001b[0m \u001b[0mrekf\u001b[0m\u001b[1;33m)\u001b[0m\u001b[1;33m\u001b[0m\u001b[1;33m\u001b[0m\u001b[0m\n\u001b[0m",
      "\u001b[1;32m<ipython-input-108-435a8ab3e5f9>\u001b[0m in \u001b[0;36mekf_toa_Masreliez\u001b[1;34m(r_ges, theta_init, BS, parameter)\u001b[0m\n\u001b[0;32m     30\u001b[0m \u001b[1;33m\u001b[0m\u001b[0m\n\u001b[0;32m     31\u001b[0m     \u001b[0mP\u001b[0m \u001b[1;33m=\u001b[0m \u001b[0mnp\u001b[0m\u001b[1;33m.\u001b[0m\u001b[0mzeros\u001b[0m\u001b[1;33m(\u001b[0m\u001b[1;33m(\u001b[0m\u001b[0mN\u001b[0m\u001b[1;33m,\u001b[0m\u001b[1;36m4\u001b[0m\u001b[1;33m,\u001b[0m\u001b[1;36m4\u001b[0m\u001b[1;33m)\u001b[0m\u001b[1;33m)\u001b[0m\u001b[1;33m\u001b[0m\u001b[1;33m\u001b[0m\u001b[0m\n\u001b[1;32m---> 32\u001b[1;33m     \u001b[0mP\u001b[0m\u001b[1;33m[\u001b[0m\u001b[1;36m0\u001b[0m\u001b[1;33m,\u001b[0m\u001b[1;33m:\u001b[0m\u001b[1;33m,\u001b[0m\u001b[1;33m:\u001b[0m\u001b[1;33m]\u001b[0m \u001b[1;33m=\u001b[0m \u001b[0mP0\u001b[0m\u001b[1;33m\u001b[0m\u001b[1;33m\u001b[0m\u001b[0m\n\u001b[0m\u001b[0;32m     33\u001b[0m     \u001b[0mth_hat\u001b[0m \u001b[1;33m=\u001b[0m \u001b[0mnp\u001b[0m\u001b[1;33m.\u001b[0m\u001b[0mzeros\u001b[0m\u001b[1;33m(\u001b[0m\u001b[1;33m(\u001b[0m\u001b[1;36m4\u001b[0m\u001b[1;33m,\u001b[0m\u001b[0mN\u001b[0m\u001b[1;33m)\u001b[0m\u001b[1;33m)\u001b[0m\u001b[1;33m\u001b[0m\u001b[1;33m\u001b[0m\u001b[0m\n\u001b[0;32m     34\u001b[0m     \u001b[0mth_hat\u001b[0m\u001b[1;33m[\u001b[0m\u001b[1;33m:\u001b[0m\u001b[1;33m,\u001b[0m\u001b[1;36m0\u001b[0m\u001b[1;33m]\u001b[0m \u001b[1;33m=\u001b[0m \u001b[0mtheta_init\u001b[0m\u001b[1;33m.\u001b[0m\u001b[0mflatten\u001b[0m\u001b[1;33m(\u001b[0m\u001b[1;33m)\u001b[0m\u001b[1;33m\u001b[0m\u001b[1;33m\u001b[0m\u001b[0m\n",
      "\u001b[1;31mValueError\u001b[0m: setting an array element with a sequence."
     ]
    }
   ],
   "source": [
    "a, b, c, d = ekf_toa_Masreliez(parameter['measureddistances'][0,0], theta_init, BS, rekf)\n"
   ]
  },
  {
   "cell_type": "code",
   "execution_count": 95,
   "metadata": {},
   "outputs": [
    {
     "data": {
      "text/plain": [
       "array([[[ 0.00000000e+00,  0.00000000e+00,  0.00000000e+00,\n",
       "          0.00000000e+00],\n",
       "        [ 0.00000000e+00,  0.00000000e+00,  0.00000000e+00,\n",
       "          0.00000000e+00],\n",
       "        [ 0.00000000e+00,  0.00000000e+00,  0.00000000e+00,\n",
       "          0.00000000e+00],\n",
       "        [ 0.00000000e+00,  0.00000000e+00,  0.00000000e+00,\n",
       "          0.00000000e+00]],\n",
       "\n",
       "       [[ 2.50144040e+03,  0.00000000e+00,  7.20400000e+00,\n",
       "          0.00000000e+00],\n",
       "        [ 0.00000000e+00,  2.50144040e+03,  0.00000000e+00,\n",
       "          7.20400000e+00],\n",
       "        [ 7.20400000e+00,  0.00000000e+00,  3.60400000e+01,\n",
       "          0.00000000e+00],\n",
       "        [ 0.00000000e+00,  7.20400000e+00,  0.00000000e+00,\n",
       "          3.60400000e+01]],\n",
       "\n",
       "       [[ 1.96569153e+03, -2.50472236e+01,  1.28615187e+01,\n",
       "         -7.20929938e-02],\n",
       "        [-2.50472236e+01,  1.95589811e+03, -7.20929938e-02,\n",
       "          1.28333304e+01],\n",
       "        [ 1.28615187e+01, -7.20929938e-02,  3.60755258e+01,\n",
       "         -2.07504027e-04],\n",
       "        [-7.20929938e-02,  1.28333304e+01, -2.07504027e-04,\n",
       "          3.60754446e+01]],\n",
       "\n",
       "       ...,\n",
       "\n",
       "       [[ 3.11286373e+02, -1.01516830e+01,  2.14351668e+01,\n",
       "         -4.57784266e-01],\n",
       "        [-1.01516830e+01,  3.47488801e+02, -4.58130987e-01,\n",
       "          2.30720535e+01],\n",
       "        [ 2.14351668e+01, -4.58130987e-01,  2.92506770e+00,\n",
       "         -3.02837244e-02],\n",
       "        [-4.57784266e-01,  2.30720535e+01, -3.02837244e-02,\n",
       "          3.03497519e+00]],\n",
       "\n",
       "       [[ 3.08517634e+02, -1.00805569e+01,  2.12456727e+01,\n",
       "         -4.54850362e-01],\n",
       "        [-1.00805569e+01,  3.44565472e+02, -4.55117762e-01,\n",
       "          2.28787122e+01],\n",
       "        [ 2.12456727e+01, -4.55117762e-01,  2.91217702e+00,\n",
       "         -3.02162158e-02],\n",
       "        [-4.54850362e-01,  2.28787122e+01, -3.02162158e-02,\n",
       "          3.02226018e+00]],\n",
       "\n",
       "       [[ 3.10129476e+02, -1.01068438e+01,  2.13563379e+01,\n",
       "         -4.55352287e-01],\n",
       "        [-1.01068438e+01,  3.46325260e+02, -4.55577863e-01,\n",
       "          2.29948072e+01],\n",
       "        [ 2.13563379e+01, -4.55577863e-01,  2.91985213e+00,\n",
       "         -3.01725486e-02],\n",
       "        [-4.55352287e-01,  2.29948072e+01, -3.01725486e-02,\n",
       "          3.02999078e+00]]])"
      ]
     },
     "execution_count": 95,
     "metadata": {},
     "output_type": "execute_result"
    }
   ],
   "source": [
    "b"
   ]
  }
 ],
 "metadata": {
  "kernelspec": {
   "display_name": "Python 3",
   "language": "python",
   "name": "python3"
  },
  "language_info": {
   "codemirror_mode": {
    "name": "ipython",
    "version": 3
   },
   "file_extension": ".py",
   "mimetype": "text/x-python",
   "name": "python",
   "nbconvert_exporter": "python",
   "pygments_lexer": "ipython3",
   "version": "3.6.8"
  }
 },
 "nbformat": 4,
 "nbformat_minor": 2
}
