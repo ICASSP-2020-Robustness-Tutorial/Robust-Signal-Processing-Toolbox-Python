{
 "cells": [
  {
   "cell_type": "markdown",
   "metadata": {},
   "source": [
    "% The function computes the smoothed assymetric tanh score function and its\n",
    "% derivative.\n",
    "%\n",
    "%% INPUTS\n",
    "% c1: first clipping point\n",
    "% c2: second clipping point\n",
    "% x1 smoothing parameter to make the score function continuous;  %\n",
    "% x1 =  fzero(@(x1)  c1-x1*tanh(0.5*x1*(c2-c1)),1);\n",
    "\n",
    "%% OUTPUTS\n",
    "% phi: assymetric tanh score function\n",
    "% phi_point: derivative of assymetric tanh score function\n",
    "%%  created by Michael Muma\n",
    "%   Based on a function written by Ulrich Hammes, Signal Processing Group, TU Darmstadt, February 2009\n",
    "%   version 30 May 2018\n",
    "%   When using code, cite our work:\n",
    "%\n",
    "%   \"Robust Statistics for Signal Processing\"\n",
    "%   Zoubir, A.M. and Koivunen, V. and Ollila, E. and Muma, M.\n",
    "%   Cambridge University Press, 2018.\n",
    "%\n",
    "%   and \n",
    "%\n",
    "%  \"Robust Tracking and Geolocation for Wireless Networks in NLOS Environments.\" \n",
    "%   Hammes, U., Wolsztynski, E., and Zoubir, A.M.\n",
    "%   IEEE Journal on Selected Topics in Signal Processing, 3(5), 889-901, 2009.   \n",
    "\n",
    "a =\n",
    "\n",
    "    0.5377    0.8622   -0.4336    2.7694    0.7254\n",
    "    1.8339    0.3188    0.3426   -1.3499   -0.0631\n",
    "   -2.2588   -1.3077    3.5784    3.0349    0.7147\n",
    "\n",
    " a =  [0.5377,    0.8622,   -0.4336,    2.7694,    0.7254;1.8339  ,  0.3188 ,   0.3426  , -1.3499,   -0.0631;-2.2588 ,  -1.3077 ,   3.5784  ,  3.0349 ,   0.7147]\n",
    " \n",
    ">> [r,b]=asymmetric_tanh(a,1,3,2)\n",
    "\n",
    "r =\n",
    "\n",
    "  Columns 1 through 7\n",
    "\n",
    "    0.5377    1.6460   -1.2597    0.8622    0.3188   -1.8689   -0.4336\n",
    "\n",
    "  Columns 8 through 14\n",
    "\n",
    "    0.3426         0    0.4531   -1.8577         0    0.7254   -0.0631\n",
    "\n",
    "  Column 15\n",
    "\n",
    "    0.7147\n",
    "\n",
    "\n",
    "b =\n",
    "\n",
    "  Columns 1 through 7\n",
    "\n",
    "    1.0000   -0.6453   -1.2066    1.0000    1.0000   -0.2536    1.0000\n",
    "\n",
    "  Columns 8 through 14\n",
    "\n",
    "    1.0000         0   -1.8973   -0.2744         0    1.0000    1.0000\n",
    "\n",
    "  Column 15\n",
    "\n",
    "    1.0000"
   ]
  },
  {
   "cell_type": "code",
   "execution_count": 82,
   "metadata": {},
   "outputs": [
    {
     "data": {
      "text/plain": [
       "(array([ 0.5377    ,  1.6460358 , -1.25973925,  0.8622    ,  0.3188    ,\n",
       "        -1.86887906, -0.4336    ,  0.3426    ,  0.        ,  0.45319524,\n",
       "        -1.85774269,  0.        ,  0.7254    , -0.0631    ,  0.7147    ]),\n",
       " array([ 1.        , -0.64528307, -1.20652851,  1.        ,  1.        ,\n",
       "        -0.25364553,  1.        ,  1.        ,  0.        , -1.89730704,\n",
       "        -0.27439606,  0.        ,  1.        ,  1.        ,  1.        ]))"
      ]
     },
     "execution_count": 82,
     "metadata": {},
     "output_type": "execute_result"
    }
   ],
   "source": [
    "import numpy as np\n",
    "\n",
    "a =  [[0.5377,    0.8622,   -0.4336,    2.7694,    0.7254],\n",
    "    [1.8339  ,  0.3188 ,   0.3426  , -1.3499,   -0.0631],\n",
    "   [-2.2588 ,  -1.3077 ,   3.5784  ,  3.0349 ,   0.7147]]\n",
    "\n",
    "# r,b = asymmetric_tanh(a,1,3,2)\n",
    "import numpy as np\n",
    "\n",
    "Sig = np.asarray(a)\n",
    "c1 = 1\n",
    "c2 = 3\n",
    "x1 = 2\n",
    "\n",
    "def asymmetric_tanh(Sigx,c1,c2,x1):\n",
    "    Sig = np.asarray(Sigx)\n",
    "    phi = np.zeros(np.shape(Sig))\n",
    "    phi_point = np.zeros(np.shape(Sig))\n",
    "    \n",
    "    phi[np.abs(Sig)<=c1] = Sig[np.abs(Sig)<c1]\n",
    "    phi[np.abs(Sig)>c1] = x1*np.sign(Sig[np.abs(Sig)>c1])\\\n",
    "            *np.tanh(x1*0.5*(c2-np.abs(Sig[np.abs(Sig)>c1])))\n",
    "    phi[np.abs(Sig)>c2] = 0\n",
    "    \n",
    "    phi_point[np.abs(Sig)<=c1] = 1\n",
    "    phi_point[np.abs(Sig)>c1] = -0.5*x1**2 /np.cosh(x1*0.5*(c2-np.abs(Sig[np.abs(Sig)>c1])))**2\n",
    "    phi_point[np.abs(Sig)>c2] = 0\n",
    "    \n",
    "    return phi.flatten(order='F'), phi_point.flatten(order='F')\n",
    "\n",
    "asymmetric_tanh(Sig,c1,c2,x1)"
   ]
  },
  {
   "cell_type": "markdown",
   "metadata": {},
   "source": [
    "r =\n",
    "    0.5377    1.6460   -1.2597    0.8622    0.3188   -1.8689   -0.4336\n",
    "    0.3426         0    0.4531   -1.8577         0    0.7254   -0.0631\n",
    "    0.7147\n",
    "\n",
    "b =\n",
    "    1.0000   -0.6453   -1.2066    1.0000    1.0000   -0.2536    1.0000\n",
    "    1.0000         0   -1.8973   -0.2744         0    1.0000    1.0000\n",
    "    1.0000"
   ]
  },
  {
   "cell_type": "code",
   "execution_count": 1,
   "metadata": {},
   "outputs": [
    {
     "data": {
      "text/plain": [
       "(array([ 0.5377    ,  1.6460358 , -1.25973925,  0.8622    ,  0.3188    ,\n",
       "        -1.86887906, -0.4336    ,  0.3426    ,  0.        ,  0.45319524,\n",
       "        -1.85774269,  0.        ,  0.7254    , -0.0631    ,  0.7147    ]),\n",
       " array([ 1.        , -0.64528307, -1.20652851,  1.        ,  1.        ,\n",
       "        -0.25364553,  1.        ,  1.        ,  0.        , -1.89730704,\n",
       "        -0.27439606,  0.        ,  1.        ,  1.        ,  1.        ]))"
      ]
     },
     "execution_count": 1,
     "metadata": {},
     "output_type": "execute_result"
    }
   ],
   "source": [
    "a =  [[0.5377,    0.8622,   -0.4336,    2.7694,    0.7254],\n",
    "    [1.8339  ,  0.3188 ,   0.3426  , -1.3499,   -0.0631],\n",
    "   [-2.2588 ,  -1.3077 ,   3.5784  ,  3.0349 ,   0.7147]]\n",
    "\n",
    "# r,b = asymmetric_tanh(a,1,3,2)\n",
    "import numpy as np\n",
    "import robustsp as rsp\n",
    "\n",
    "Sig = np.asarray(a)\n",
    "c1 = 1\n",
    "c2 = 3\n",
    "x1 = 2\n",
    "#phi[]  = a[np.abs(a)<1]\n",
    "nu = np.zeros(np.shape(Sig))\n",
    "nu[np.abs(Sig)<=1] = Sig[np.abs(Sig)<1]\n",
    "d0 = x1*np.sign(Sig[np.abs(Sig)>c1])\n",
    "d1 = np.tanh(x1*0.5*(c2-np.abs(Sig[np.abs(Sig)>c1])),order='K')\n",
    "\n",
    "rsp.asymmetric_tanh(Sig,c1,c2,x1)"
   ]
  }
 ],
 "metadata": {
  "kernelspec": {
   "display_name": "Python 3",
   "language": "python",
   "name": "python3"
  },
  "language_info": {
   "codemirror_mode": {
    "name": "ipython",
    "version": 3
   },
   "file_extension": ".py",
   "mimetype": "text/x-python",
   "name": "python",
   "nbconvert_exporter": "python",
   "pygments_lexer": "ipython3",
   "version": "3.6.8"
  }
 },
 "nbformat": 4,
 "nbformat_minor": 2
}
