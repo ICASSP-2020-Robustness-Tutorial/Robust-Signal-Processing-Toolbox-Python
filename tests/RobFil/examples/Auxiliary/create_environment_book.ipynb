{
 "cells": [
  {
   "cell_type": "code",
   "execution_count": null,
   "metadata": {},
   "outputs": [],
   "source": [
    "        "
   ]
  },
  {
   "cell_type": "code",
   "execution_count": null,
   "metadata": {},
   "outputs": [],
   "source": [
    "def create_environment_book(parameter, start, sigma_v):\n",
    "    x = parameter['BS']\n",
    "    y = parameter['BS']\n",
    "    parameter['sigma_v'] = sigma_v\n",
    "    d = np.zeros((parameter['M'],parameter['N']))\n",
    "    \n",
    "    # random force motion model\n",
    "    xx = np.zeros([parameter['dim']*2,parameter['N']])\n",
    "    xx[:,0] = start\n",
    "    for ii in range(parameter['N']-1):\n",
    "        xx[:,ii+1] = parameter['A']*xx[:,ii] + parameter['G']*parameter['sigma_v']*np.random.randn(2,1)\n",
    "        \n",
    "    parameter['TrueTrajectory'] = xx\n",
    "        \n",
    "    for jj in range(parameter['M']):\n",
    "        for ii in range(parameter['N']):\n",
    "            d[jj,ii] = sqrt((x[jj]-xx[0,ii])**2 + (y[jj]-xx[1,ii])**2)\n",
    "    \n",
    "    parameter['TrueDistances'] = d\n",
    "    \n",
    "    # create noise\n",
    "    nn = np.zeros([parameter['M'],parameter['N']])\n",
    "    index = np.zeros([parameter['M'],parameter['N']])\n",
    "    \n",
    "    for ii in range(parameter['m']):\n",
    "        nn[ii,:], index[ii,:] = rsp.markov_chain_book(parameter['MarkovChain'][ii],\n",
    "                                                      parameter['sigma_los'],\n",
    "                                                      parameter['sigma_nlos'],\n",
    "                                                      parameter['mu_nlos'],\n",
    "                                                      parameter['N'])\n",
    "    # alignment of variables\n",
    "    parameter['start'] = start\n",
    "    parameter['TrueTrajectory'] = xx\n",
    "    parameter['TrueDistances'] = d\n",
    "    parameter['NoiseIndices'] = index\n",
    "    parameter['MeasuredDistances'] = d + nn\n",
    "    \n",
    "    ii = parameter['numbermc']\n",
    "    "
   ]
  }
 ],
 "metadata": {
  "kernelspec": {
   "display_name": "Python 3",
   "language": "python",
   "name": "python3"
  },
  "language_info": {
   "codemirror_mode": {
    "name": "ipython",
    "version": 3
   },
   "file_extension": ".py",
   "mimetype": "text/x-python",
   "name": "python",
   "nbconvert_exporter": "python",
   "pygments_lexer": "ipython3",
   "version": "3.6.8"
  }
 },
 "nbformat": 4,
 "nbformat_minor": 2
}
