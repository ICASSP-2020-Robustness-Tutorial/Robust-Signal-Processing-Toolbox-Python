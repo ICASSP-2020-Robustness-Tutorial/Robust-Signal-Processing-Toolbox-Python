{
 "cells": [
  {
   "cell_type": "markdown",
   "metadata": {},
   "source": [
    "markov_chain_book(parameter.MarkovChain{1},parameter.sigma_los,\n",
    "                  parameter.sigma_nlos,parameter.mu_nlos,parameter.N)\n",
    "\n",
    "pt_losnlos =\n",
    "\n",
    "     0\n",
    "\n",
    "\n",
    "pt_nloslos =\n",
    "\n",
    "     1\n",
    "     \n",
    "output y.mat and h.mat"
   ]
  },
  {
   "cell_type": "code",
   "execution_count": 3,
   "metadata": {},
   "outputs": [],
   "source": [
    "# load parameter.mat\n",
    "import scipy.io as sio\n",
    "import numpy as np\n",
    "\n",
    "loadmat = lambda x: sio.loadmat(x)[x]\n",
    "\n",
    "def matStruct2Dict(x):\n",
    "    struct  = loadmat(x)\n",
    "    dic     = {}\n",
    "    for i in struct.dtype.names:\n",
    "        dic[i] = struct[i][0][0]\n",
    "    return dic\n",
    "\n",
    "parameter = matStruct2Dict('parameter')\n"
   ]
  },
  {
   "cell_type": "code",
   "execution_count": 17,
   "metadata": {},
   "outputs": [],
   "source": [
    "def markov_chain_book(MC,sigma_los, sigma_nlos, mu_nlos, N):\n",
    "    # transition probabilities, 2d-arrays with 1 element\n",
    "    pt_losnlos = MC[0][0][1][0][0] # from LOS->NLOS \n",
    "    pt_nloslos = MC[0][1][0][0][0] # from NLOS->LOS\n",
    "\n",
    "    m=1\n",
    "  \n",
    "    h = np.zeros(N[0,0]+100)\n",
    "    y = np.zeros(N[0,0]+100)\n",
    "    pp = np.random.rand() \n",
    "    \n",
    "    # initialisation\n",
    "    state = 0 if pp<0.5 else 1\n",
    "\n",
    "    while m < N[0,0]+100:\n",
    "        if state == 0:\n",
    "            # LOS\n",
    "            p=np.random.rand()\n",
    "            if m>100:\n",
    "                y[m] = sigma_los*np.random.randn()\n",
    "                h[m] = 0\n",
    "            if p<pt_losnlos:\n",
    "                state = 1\n",
    "        else:\n",
    "            q = np.random.rand()\n",
    "            if m>100:\n",
    "                y[m] = sigma_los*np.random.randn() \\\n",
    "                + mu_nlos + sigma_nlos*np.random.randn()\n",
    "                h[m] = 1\n",
    "            if q<pt_nloslos:\n",
    "                state = 0\n",
    "        m += 1\n",
    "        \n",
    "    # Discard first 100 samples the ensure thate the Markov Chain is\n",
    "    # in the steady state\n",
    "    y = y[100:]\n",
    "    h = h[100:]\n",
    "    \n",
    "    return y,h"
   ]
  },
  {
   "cell_type": "code",
   "execution_count": 27,
   "metadata": {},
   "outputs": [
    {
     "data": {
      "text/plain": [
       "3000"
      ]
     },
     "execution_count": 27,
     "metadata": {},
     "output_type": "execute_result"
    }
   ],
   "source": [
    "y,h= markov_chain_book(parameter['MarkovChain'][0],parameter['sigma_los'],\\\n",
    "                  parameter['sigma_nlos'],parameter['mu_nlos'],parameter['N'])\n",
    "\n",
    "y2= loadmat('y')[0]\n",
    "len(y2)\n",
    "len(y)"
   ]
  },
  {
   "cell_type": "code",
   "execution_count": 33,
   "metadata": {},
   "outputs": [
    {
     "data": {
      "text/plain": [
       "array([0.30722047])"
      ]
     },
     "execution_count": 33,
     "metadata": {},
     "output_type": "execute_result"
    }
   ],
   "source": [
    "np.random.rand(1)"
   ]
  }
 ],
 "metadata": {
  "kernelspec": {
   "display_name": "Python 3",
   "language": "python",
   "name": "python3"
  },
  "language_info": {
   "codemirror_mode": {
    "name": "ipython",
    "version": 3
   },
   "file_extension": ".py",
   "mimetype": "text/x-python",
   "name": "python",
   "nbconvert_exporter": "python",
   "pygments_lexer": "ipython3",
   "version": "3.6.8"
  }
 },
 "nbformat": 4,
 "nbformat_minor": 2
}
